{
 "cells": [
  {
   "cell_type": "code",
   "execution_count": 1,
   "id": "c9ca1957",
   "metadata": {
    "execution": {
     "iopub.execute_input": "2024-07-07T13:08:42.424572Z",
     "iopub.status.busy": "2024-07-07T13:08:42.424263Z",
     "iopub.status.idle": "2024-07-07T13:08:44.716008Z",
     "shell.execute_reply": "2024-07-07T13:08:44.715072Z"
    },
    "papermill": {
     "duration": 2.307114,
     "end_time": "2024-07-07T13:08:44.718391",
     "exception": false,
     "start_time": "2024-07-07T13:08:42.411277",
     "status": "completed"
    },
    "tags": []
   },
   "outputs": [],
   "source": [
    "# Import packages and modules\n",
    "import pandas as pd\n",
    "import numpy as np \n",
    "from sklearn.ensemble import RandomForestRegressor\n",
    "from sklearn.model_selection import train_test_split\n",
    "from sklearn.metrics import mean_absolute_error, mean_squared_error, r2_score\n",
    "import matplotlib.pyplot as plt\n",
    "import seaborn as sns"
   ]
  },
  {
   "cell_type": "code",
   "execution_count": 2,
   "id": "d3b6d5b7",
   "metadata": {
    "execution": {
     "iopub.execute_input": "2024-07-07T13:08:44.743766Z",
     "iopub.status.busy": "2024-07-07T13:08:44.742870Z",
     "iopub.status.idle": "2024-07-07T13:09:20.350867Z",
     "shell.execute_reply": "2024-07-07T13:09:20.349871Z"
    },
    "papermill": {
     "duration": 35.622941,
     "end_time": "2024-07-07T13:09:20.353180",
     "exception": false,
     "start_time": "2024-07-07T13:08:44.730239",
     "status": "completed"
    },
    "tags": []
   },
   "outputs": [],
   "source": [
    "df  = pd.read_csv(\"/kaggle/input/dataset-dk3619-preprocessed-v1/dataset_dk3619_preprocessed_v1.csv\")"
   ]
  },
  {
   "cell_type": "code",
   "execution_count": 3,
   "id": "061c2814",
   "metadata": {
    "execution": {
     "iopub.execute_input": "2024-07-07T13:09:20.377742Z",
     "iopub.status.busy": "2024-07-07T13:09:20.377385Z",
     "iopub.status.idle": "2024-07-07T13:09:23.254754Z",
     "shell.execute_reply": "2024-07-07T13:09:23.253805Z"
    },
    "papermill": {
     "duration": 2.892305,
     "end_time": "2024-07-07T13:09:23.257408",
     "exception": false,
     "start_time": "2024-07-07T13:09:20.365103",
     "status": "completed"
    },
    "tags": []
   },
   "outputs": [
    {
     "name": "stdout",
     "output_type": "stream",
     "text": [
      "<class 'pandas.core.frame.DataFrame'>\n",
      "RangeIndex: 3323747 entries, 0 to 3323746\n",
      "Data columns (total 44 columns):\n",
      " #   Column           Non-Null Count    Dtype  \n",
      "---  ------           --------------    -----  \n",
      " 0   HourUTC          3323747 non-null  object \n",
      " 1   HourDK           3323747 non-null  object \n",
      " 2   DK3619Code       3323747 non-null  object \n",
      " 3   hour             3323747 non-null  int64  \n",
      " 4   day_of_week      3323747 non-null  int64  \n",
      " 5   weekday_name     3323747 non-null  object \n",
      " 6   quarter          3323747 non-null  int64  \n",
      " 7   month            3323747 non-null  int64  \n",
      " 8   year             3323747 non-null  int64  \n",
      " 9   day_of_year      3323747 non-null  int64  \n",
      " 10  day_of_month     3323747 non-null  int64  \n",
      " 11  week_of_year     3323747 non-null  int64  \n",
      " 12  season           3323747 non-null  object \n",
      " 13  holiday          3323747 non-null  int64  \n",
      " 14  DK36Code         3323747 non-null  object \n",
      " 15  DK36Title        3323747 non-null  object \n",
      " 16  DK19Code         3323747 non-null  object \n",
      " 17  DK19Title        3323747 non-null  object \n",
      " 18  Consumption_MWh  3323747 non-null  float64\n",
      " 19  lag_24           3322979 non-null  float64\n",
      " 20  lag_25           3322947 non-null  float64\n",
      " 21  lag_26           3322915 non-null  float64\n",
      " 22  lag_27           3322883 non-null  float64\n",
      " 23  lag_28           3322851 non-null  float64\n",
      " 24  lag_29           3322819 non-null  float64\n",
      " 25  lag_30           3322787 non-null  float64\n",
      " 26  lag_31           3322755 non-null  float64\n",
      " 27  lag_32           3322723 non-null  float64\n",
      " 28  lag_33           3322691 non-null  float64\n",
      " 29  lag_34           3322659 non-null  float64\n",
      " 30  lag_35           3322627 non-null  float64\n",
      " 31  lag_36           3322595 non-null  float64\n",
      " 32  lag_37           3322563 non-null  float64\n",
      " 33  lag_38           3322531 non-null  float64\n",
      " 34  lag_39           3322499 non-null  float64\n",
      " 35  lag_40           3322467 non-null  float64\n",
      " 36  lag_41           3322435 non-null  float64\n",
      " 37  lag_42           3322403 non-null  float64\n",
      " 38  lag_43           3322371 non-null  float64\n",
      " 39  lag_44           3322339 non-null  float64\n",
      " 40  lag_45           3322307 non-null  float64\n",
      " 41  lag_46           3322275 non-null  float64\n",
      " 42  lag_47           3322243 non-null  float64\n",
      " 43  lag_48           3322211 non-null  float64\n",
      "dtypes: float64(26), int64(9), object(9)\n",
      "memory usage: 1.1+ GB\n"
     ]
    }
   ],
   "source": [
    "df.info(show_counts = True)"
   ]
  },
  {
   "cell_type": "code",
   "execution_count": 4,
   "id": "17d2cd9e",
   "metadata": {
    "execution": {
     "iopub.execute_input": "2024-07-07T13:09:23.283925Z",
     "iopub.status.busy": "2024-07-07T13:09:23.283397Z",
     "iopub.status.idle": "2024-07-07T13:09:29.667830Z",
     "shell.execute_reply": "2024-07-07T13:09:29.666773Z"
    },
    "papermill": {
     "duration": 6.400341,
     "end_time": "2024-07-07T13:09:29.670187",
     "exception": false,
     "start_time": "2024-07-07T13:09:23.269846",
     "status": "completed"
    },
    "tags": []
   },
   "outputs": [
    {
     "name": "stdout",
     "output_type": "stream",
     "text": [
      "<class 'pandas.core.frame.DataFrame'>\n",
      "Index: 3322211 entries, 1467 to 3323746\n",
      "Data columns (total 44 columns):\n",
      " #   Column           Non-Null Count    Dtype  \n",
      "---  ------           --------------    -----  \n",
      " 0   HourUTC          3322211 non-null  object \n",
      " 1   HourDK           3322211 non-null  object \n",
      " 2   DK3619Code       3322211 non-null  object \n",
      " 3   hour             3322211 non-null  int64  \n",
      " 4   day_of_week      3322211 non-null  int64  \n",
      " 5   weekday_name     3322211 non-null  object \n",
      " 6   quarter          3322211 non-null  int64  \n",
      " 7   month            3322211 non-null  int64  \n",
      " 8   year             3322211 non-null  int64  \n",
      " 9   day_of_year      3322211 non-null  int64  \n",
      " 10  day_of_month     3322211 non-null  int64  \n",
      " 11  week_of_year     3322211 non-null  int64  \n",
      " 12  season           3322211 non-null  object \n",
      " 13  holiday          3322211 non-null  int64  \n",
      " 14  DK36Code         3322211 non-null  object \n",
      " 15  DK36Title        3322211 non-null  object \n",
      " 16  DK19Code         3322211 non-null  object \n",
      " 17  DK19Title        3322211 non-null  object \n",
      " 18  Consumption_MWh  3322211 non-null  float64\n",
      " 19  lag_24           3322211 non-null  float64\n",
      " 20  lag_25           3322211 non-null  float64\n",
      " 21  lag_26           3322211 non-null  float64\n",
      " 22  lag_27           3322211 non-null  float64\n",
      " 23  lag_28           3322211 non-null  float64\n",
      " 24  lag_29           3322211 non-null  float64\n",
      " 25  lag_30           3322211 non-null  float64\n",
      " 26  lag_31           3322211 non-null  float64\n",
      " 27  lag_32           3322211 non-null  float64\n",
      " 28  lag_33           3322211 non-null  float64\n",
      " 29  lag_34           3322211 non-null  float64\n",
      " 30  lag_35           3322211 non-null  float64\n",
      " 31  lag_36           3322211 non-null  float64\n",
      " 32  lag_37           3322211 non-null  float64\n",
      " 33  lag_38           3322211 non-null  float64\n",
      " 34  lag_39           3322211 non-null  float64\n",
      " 35  lag_40           3322211 non-null  float64\n",
      " 36  lag_41           3322211 non-null  float64\n",
      " 37  lag_42           3322211 non-null  float64\n",
      " 38  lag_43           3322211 non-null  float64\n",
      " 39  lag_44           3322211 non-null  float64\n",
      " 40  lag_45           3322211 non-null  float64\n",
      " 41  lag_46           3322211 non-null  float64\n",
      " 42  lag_47           3322211 non-null  float64\n",
      " 43  lag_48           3322211 non-null  float64\n",
      "dtypes: float64(26), int64(9), object(9)\n",
      "memory usage: 1.1+ GB\n",
      "None\n"
     ]
    }
   ],
   "source": [
    "import pandas as pd\n",
    "\n",
    "# Giả sử dữ liệu của bạn được đọc vào một DataFrame có tên là df\n",
    "# df = pd.read_csv('file_path.csv')  # Đọc dữ liệu từ file CSV nếu cần\n",
    "\n",
    "# Xóa tất cả các hàng có giá trị null\n",
    "df_cleaned = df.dropna()\n",
    "\n",
    "# Kiểm tra lại kết quả\n",
    "print(df_cleaned.info(show_counts = True))\n"
   ]
  },
  {
   "cell_type": "code",
   "execution_count": 5,
   "id": "340d733a",
   "metadata": {
    "execution": {
     "iopub.execute_input": "2024-07-07T13:09:29.696047Z",
     "iopub.status.busy": "2024-07-07T13:09:29.695256Z",
     "iopub.status.idle": "2024-07-07T13:09:30.820437Z",
     "shell.execute_reply": "2024-07-07T13:09:30.819467Z"
    },
    "papermill": {
     "duration": 1.13997,
     "end_time": "2024-07-07T13:09:30.822498",
     "exception": false,
     "start_time": "2024-07-07T13:09:29.682528",
     "status": "completed"
    },
    "tags": []
   },
   "outputs": [
    {
     "data": {
      "text/html": [
       "<div>\n",
       "<style scoped>\n",
       "    .dataframe tbody tr th:only-of-type {\n",
       "        vertical-align: middle;\n",
       "    }\n",
       "\n",
       "    .dataframe tbody tr th {\n",
       "        vertical-align: top;\n",
       "    }\n",
       "\n",
       "    .dataframe thead th {\n",
       "        text-align: right;\n",
       "    }\n",
       "</style>\n",
       "<table border=\"1\" class=\"dataframe\">\n",
       "  <thead>\n",
       "    <tr style=\"text-align: right;\">\n",
       "      <th></th>\n",
       "      <th>HourUTC</th>\n",
       "      <th>HourDK</th>\n",
       "      <th>DK3619Code</th>\n",
       "      <th>hour</th>\n",
       "      <th>day_of_week</th>\n",
       "      <th>weekday_name</th>\n",
       "      <th>quarter</th>\n",
       "      <th>month</th>\n",
       "      <th>year</th>\n",
       "      <th>day_of_year</th>\n",
       "      <th>...</th>\n",
       "      <th>lag_39</th>\n",
       "      <th>lag_40</th>\n",
       "      <th>lag_41</th>\n",
       "      <th>lag_42</th>\n",
       "      <th>lag_43</th>\n",
       "      <th>lag_44</th>\n",
       "      <th>lag_45</th>\n",
       "      <th>lag_46</th>\n",
       "      <th>lag_47</th>\n",
       "      <th>lag_48</th>\n",
       "    </tr>\n",
       "  </thead>\n",
       "  <tbody>\n",
       "    <tr>\n",
       "      <th>0</th>\n",
       "      <td>2012-06-01T23:00:00</td>\n",
       "      <td>2012-06-02 01:00:00</td>\n",
       "      <td>M_MA</td>\n",
       "      <td>1</td>\n",
       "      <td>5</td>\n",
       "      <td>Saturday</td>\n",
       "      <td>2</td>\n",
       "      <td>6</td>\n",
       "      <td>2012</td>\n",
       "      <td>154</td>\n",
       "      <td>...</td>\n",
       "      <td>NaN</td>\n",
       "      <td>NaN</td>\n",
       "      <td>NaN</td>\n",
       "      <td>NaN</td>\n",
       "      <td>NaN</td>\n",
       "      <td>NaN</td>\n",
       "      <td>NaN</td>\n",
       "      <td>NaN</td>\n",
       "      <td>NaN</td>\n",
       "      <td>NaN</td>\n",
       "    </tr>\n",
       "    <tr>\n",
       "      <th>1</th>\n",
       "      <td>2012-06-01T23:00:00</td>\n",
       "      <td>2012-06-02 01:00:00</td>\n",
       "      <td>C_CE_CF_CD</td>\n",
       "      <td>1</td>\n",
       "      <td>5</td>\n",
       "      <td>Saturday</td>\n",
       "      <td>2</td>\n",
       "      <td>6</td>\n",
       "      <td>2012</td>\n",
       "      <td>154</td>\n",
       "      <td>...</td>\n",
       "      <td>NaN</td>\n",
       "      <td>NaN</td>\n",
       "      <td>NaN</td>\n",
       "      <td>NaN</td>\n",
       "      <td>NaN</td>\n",
       "      <td>NaN</td>\n",
       "      <td>NaN</td>\n",
       "      <td>NaN</td>\n",
       "      <td>NaN</td>\n",
       "      <td>NaN</td>\n",
       "    </tr>\n",
       "    <tr>\n",
       "      <th>2</th>\n",
       "      <td>2012-06-02T00:00:00</td>\n",
       "      <td>2012-06-02 02:00:00</td>\n",
       "      <td>G_G</td>\n",
       "      <td>2</td>\n",
       "      <td>5</td>\n",
       "      <td>Saturday</td>\n",
       "      <td>2</td>\n",
       "      <td>6</td>\n",
       "      <td>2012</td>\n",
       "      <td>154</td>\n",
       "      <td>...</td>\n",
       "      <td>NaN</td>\n",
       "      <td>NaN</td>\n",
       "      <td>NaN</td>\n",
       "      <td>NaN</td>\n",
       "      <td>NaN</td>\n",
       "      <td>NaN</td>\n",
       "      <td>NaN</td>\n",
       "      <td>NaN</td>\n",
       "      <td>NaN</td>\n",
       "      <td>NaN</td>\n",
       "    </tr>\n",
       "    <tr>\n",
       "      <th>3</th>\n",
       "      <td>2012-06-02T00:00:00</td>\n",
       "      <td>2012-06-02 02:00:00</td>\n",
       "      <td>Q_QA</td>\n",
       "      <td>2</td>\n",
       "      <td>5</td>\n",
       "      <td>Saturday</td>\n",
       "      <td>2</td>\n",
       "      <td>6</td>\n",
       "      <td>2012</td>\n",
       "      <td>154</td>\n",
       "      <td>...</td>\n",
       "      <td>NaN</td>\n",
       "      <td>NaN</td>\n",
       "      <td>NaN</td>\n",
       "      <td>NaN</td>\n",
       "      <td>NaN</td>\n",
       "      <td>NaN</td>\n",
       "      <td>NaN</td>\n",
       "      <td>NaN</td>\n",
       "      <td>NaN</td>\n",
       "      <td>NaN</td>\n",
       "    </tr>\n",
       "    <tr>\n",
       "      <th>4</th>\n",
       "      <td>2012-06-02T00:00:00</td>\n",
       "      <td>2012-06-02 02:00:00</td>\n",
       "      <td>P_P</td>\n",
       "      <td>2</td>\n",
       "      <td>5</td>\n",
       "      <td>Saturday</td>\n",
       "      <td>2</td>\n",
       "      <td>6</td>\n",
       "      <td>2012</td>\n",
       "      <td>154</td>\n",
       "      <td>...</td>\n",
       "      <td>NaN</td>\n",
       "      <td>NaN</td>\n",
       "      <td>NaN</td>\n",
       "      <td>NaN</td>\n",
       "      <td>NaN</td>\n",
       "      <td>NaN</td>\n",
       "      <td>NaN</td>\n",
       "      <td>NaN</td>\n",
       "      <td>NaN</td>\n",
       "      <td>NaN</td>\n",
       "    </tr>\n",
       "    <tr>\n",
       "      <th>...</th>\n",
       "      <td>...</td>\n",
       "      <td>...</td>\n",
       "      <td>...</td>\n",
       "      <td>...</td>\n",
       "      <td>...</td>\n",
       "      <td>...</td>\n",
       "      <td>...</td>\n",
       "      <td>...</td>\n",
       "      <td>...</td>\n",
       "      <td>...</td>\n",
       "      <td>...</td>\n",
       "      <td>...</td>\n",
       "      <td>...</td>\n",
       "      <td>...</td>\n",
       "      <td>...</td>\n",
       "      <td>...</td>\n",
       "      <td>...</td>\n",
       "      <td>...</td>\n",
       "      <td>...</td>\n",
       "      <td>...</td>\n",
       "      <td>...</td>\n",
       "    </tr>\n",
       "    <tr>\n",
       "      <th>3323742</th>\n",
       "      <td>2024-06-21T21:00:00</td>\n",
       "      <td>2024-06-21 23:00:00</td>\n",
       "      <td>E_E</td>\n",
       "      <td>23</td>\n",
       "      <td>4</td>\n",
       "      <td>Friday</td>\n",
       "      <td>2</td>\n",
       "      <td>6</td>\n",
       "      <td>2024</td>\n",
       "      <td>173</td>\n",
       "      <td>...</td>\n",
       "      <td>87.618240</td>\n",
       "      <td>82.821385</td>\n",
       "      <td>70.622805</td>\n",
       "      <td>61.690048</td>\n",
       "      <td>62.361953</td>\n",
       "      <td>65.590067</td>\n",
       "      <td>64.432311</td>\n",
       "      <td>68.518896</td>\n",
       "      <td>72.014153</td>\n",
       "      <td>75.413964</td>\n",
       "    </tr>\n",
       "    <tr>\n",
       "      <th>3323743</th>\n",
       "      <td>2024-06-21T21:00:00</td>\n",
       "      <td>2024-06-21 23:00:00</td>\n",
       "      <td>F_F</td>\n",
       "      <td>23</td>\n",
       "      <td>4</td>\n",
       "      <td>Friday</td>\n",
       "      <td>2</td>\n",
       "      <td>6</td>\n",
       "      <td>2024</td>\n",
       "      <td>173</td>\n",
       "      <td>...</td>\n",
       "      <td>37.126816</td>\n",
       "      <td>36.460320</td>\n",
       "      <td>29.888800</td>\n",
       "      <td>23.870010</td>\n",
       "      <td>22.132825</td>\n",
       "      <td>25.656644</td>\n",
       "      <td>25.505458</td>\n",
       "      <td>25.846402</td>\n",
       "      <td>26.237788</td>\n",
       "      <td>27.272171</td>\n",
       "    </tr>\n",
       "    <tr>\n",
       "      <th>3323744</th>\n",
       "      <td>2024-06-21T21:00:00</td>\n",
       "      <td>2024-06-21 23:00:00</td>\n",
       "      <td>I_I</td>\n",
       "      <td>23</td>\n",
       "      <td>4</td>\n",
       "      <td>Friday</td>\n",
       "      <td>2</td>\n",
       "      <td>6</td>\n",
       "      <td>2024</td>\n",
       "      <td>173</td>\n",
       "      <td>...</td>\n",
       "      <td>85.969801</td>\n",
       "      <td>76.281388</td>\n",
       "      <td>66.476163</td>\n",
       "      <td>57.967190</td>\n",
       "      <td>52.255899</td>\n",
       "      <td>51.656221</td>\n",
       "      <td>52.373241</td>\n",
       "      <td>54.961426</td>\n",
       "      <td>60.072132</td>\n",
       "      <td>67.941572</td>\n",
       "    </tr>\n",
       "    <tr>\n",
       "      <th>3323745</th>\n",
       "      <td>2024-06-21T21:00:00</td>\n",
       "      <td>2024-06-21 23:00:00</td>\n",
       "      <td>H_H</td>\n",
       "      <td>23</td>\n",
       "      <td>4</td>\n",
       "      <td>Friday</td>\n",
       "      <td>2</td>\n",
       "      <td>6</td>\n",
       "      <td>2024</td>\n",
       "      <td>173</td>\n",
       "      <td>...</td>\n",
       "      <td>151.689095</td>\n",
       "      <td>145.202948</td>\n",
       "      <td>134.877695</td>\n",
       "      <td>120.354189</td>\n",
       "      <td>105.771501</td>\n",
       "      <td>108.005934</td>\n",
       "      <td>111.028472</td>\n",
       "      <td>125.453933</td>\n",
       "      <td>132.191272</td>\n",
       "      <td>130.828517</td>\n",
       "    </tr>\n",
       "    <tr>\n",
       "      <th>3323746</th>\n",
       "      <td>2024-06-21T21:00:00</td>\n",
       "      <td>2024-06-21 23:00:00</td>\n",
       "      <td>A_A</td>\n",
       "      <td>23</td>\n",
       "      <td>4</td>\n",
       "      <td>Friday</td>\n",
       "      <td>2</td>\n",
       "      <td>6</td>\n",
       "      <td>2024</td>\n",
       "      <td>173</td>\n",
       "      <td>...</td>\n",
       "      <td>176.666877</td>\n",
       "      <td>175.606096</td>\n",
       "      <td>162.931701</td>\n",
       "      <td>151.749271</td>\n",
       "      <td>143.842031</td>\n",
       "      <td>132.787458</td>\n",
       "      <td>129.682408</td>\n",
       "      <td>135.514861</td>\n",
       "      <td>135.588157</td>\n",
       "      <td>144.276350</td>\n",
       "    </tr>\n",
       "  </tbody>\n",
       "</table>\n",
       "<p>3323747 rows × 44 columns</p>\n",
       "</div>"
      ],
      "text/plain": [
       "                     HourUTC               HourDK  DK3619Code  hour  \\\n",
       "0        2012-06-01T23:00:00  2012-06-02 01:00:00        M_MA     1   \n",
       "1        2012-06-01T23:00:00  2012-06-02 01:00:00  C_CE_CF_CD     1   \n",
       "2        2012-06-02T00:00:00  2012-06-02 02:00:00         G_G     2   \n",
       "3        2012-06-02T00:00:00  2012-06-02 02:00:00        Q_QA     2   \n",
       "4        2012-06-02T00:00:00  2012-06-02 02:00:00         P_P     2   \n",
       "...                      ...                  ...         ...   ...   \n",
       "3323742  2024-06-21T21:00:00  2024-06-21 23:00:00         E_E    23   \n",
       "3323743  2024-06-21T21:00:00  2024-06-21 23:00:00         F_F    23   \n",
       "3323744  2024-06-21T21:00:00  2024-06-21 23:00:00         I_I    23   \n",
       "3323745  2024-06-21T21:00:00  2024-06-21 23:00:00         H_H    23   \n",
       "3323746  2024-06-21T21:00:00  2024-06-21 23:00:00         A_A    23   \n",
       "\n",
       "         day_of_week weekday_name  quarter  month  year  day_of_year  ...  \\\n",
       "0                  5     Saturday        2      6  2012          154  ...   \n",
       "1                  5     Saturday        2      6  2012          154  ...   \n",
       "2                  5     Saturday        2      6  2012          154  ...   \n",
       "3                  5     Saturday        2      6  2012          154  ...   \n",
       "4                  5     Saturday        2      6  2012          154  ...   \n",
       "...              ...          ...      ...    ...   ...          ...  ...   \n",
       "3323742            4       Friday        2      6  2024          173  ...   \n",
       "3323743            4       Friday        2      6  2024          173  ...   \n",
       "3323744            4       Friday        2      6  2024          173  ...   \n",
       "3323745            4       Friday        2      6  2024          173  ...   \n",
       "3323746            4       Friday        2      6  2024          173  ...   \n",
       "\n",
       "             lag_39      lag_40      lag_41      lag_42      lag_43  \\\n",
       "0               NaN         NaN         NaN         NaN         NaN   \n",
       "1               NaN         NaN         NaN         NaN         NaN   \n",
       "2               NaN         NaN         NaN         NaN         NaN   \n",
       "3               NaN         NaN         NaN         NaN         NaN   \n",
       "4               NaN         NaN         NaN         NaN         NaN   \n",
       "...             ...         ...         ...         ...         ...   \n",
       "3323742   87.618240   82.821385   70.622805   61.690048   62.361953   \n",
       "3323743   37.126816   36.460320   29.888800   23.870010   22.132825   \n",
       "3323744   85.969801   76.281388   66.476163   57.967190   52.255899   \n",
       "3323745  151.689095  145.202948  134.877695  120.354189  105.771501   \n",
       "3323746  176.666877  175.606096  162.931701  151.749271  143.842031   \n",
       "\n",
       "             lag_44      lag_45      lag_46      lag_47      lag_48  \n",
       "0               NaN         NaN         NaN         NaN         NaN  \n",
       "1               NaN         NaN         NaN         NaN         NaN  \n",
       "2               NaN         NaN         NaN         NaN         NaN  \n",
       "3               NaN         NaN         NaN         NaN         NaN  \n",
       "4               NaN         NaN         NaN         NaN         NaN  \n",
       "...             ...         ...         ...         ...         ...  \n",
       "3323742   65.590067   64.432311   68.518896   72.014153   75.413964  \n",
       "3323743   25.656644   25.505458   25.846402   26.237788   27.272171  \n",
       "3323744   51.656221   52.373241   54.961426   60.072132   67.941572  \n",
       "3323745  108.005934  111.028472  125.453933  132.191272  130.828517  \n",
       "3323746  132.787458  129.682408  135.514861  135.588157  144.276350  \n",
       "\n",
       "[3323747 rows x 44 columns]"
      ]
     },
     "execution_count": 5,
     "metadata": {},
     "output_type": "execute_result"
    }
   ],
   "source": [
    "df"
   ]
  },
  {
   "cell_type": "code",
   "execution_count": 6,
   "id": "0ed574ab",
   "metadata": {
    "execution": {
     "iopub.execute_input": "2024-07-07T13:09:30.848814Z",
     "iopub.status.busy": "2024-07-07T13:09:30.848523Z",
     "iopub.status.idle": "2024-07-07T13:09:31.982162Z",
     "shell.execute_reply": "2024-07-07T13:09:31.980997Z"
    },
    "papermill": {
     "duration": 1.149008,
     "end_time": "2024-07-07T13:09:31.984322",
     "exception": false,
     "start_time": "2024-07-07T13:09:30.835314",
     "status": "completed"
    },
    "tags": []
   },
   "outputs": [
    {
     "data": {
      "text/html": [
       "<div>\n",
       "<style scoped>\n",
       "    .dataframe tbody tr th:only-of-type {\n",
       "        vertical-align: middle;\n",
       "    }\n",
       "\n",
       "    .dataframe tbody tr th {\n",
       "        vertical-align: top;\n",
       "    }\n",
       "\n",
       "    .dataframe thead th {\n",
       "        text-align: right;\n",
       "    }\n",
       "</style>\n",
       "<table border=\"1\" class=\"dataframe\">\n",
       "  <thead>\n",
       "    <tr style=\"text-align: right;\">\n",
       "      <th></th>\n",
       "      <th>HourUTC</th>\n",
       "      <th>HourDK</th>\n",
       "      <th>DK3619Code</th>\n",
       "      <th>hour</th>\n",
       "      <th>day_of_week</th>\n",
       "      <th>weekday_name</th>\n",
       "      <th>quarter</th>\n",
       "      <th>month</th>\n",
       "      <th>year</th>\n",
       "      <th>day_of_year</th>\n",
       "      <th>...</th>\n",
       "      <th>lag_39</th>\n",
       "      <th>lag_40</th>\n",
       "      <th>lag_41</th>\n",
       "      <th>lag_42</th>\n",
       "      <th>lag_43</th>\n",
       "      <th>lag_44</th>\n",
       "      <th>lag_45</th>\n",
       "      <th>lag_46</th>\n",
       "      <th>lag_47</th>\n",
       "      <th>lag_48</th>\n",
       "    </tr>\n",
       "  </thead>\n",
       "  <tbody>\n",
       "    <tr>\n",
       "      <th>1467</th>\n",
       "      <td>2012-06-03T23:00:00</td>\n",
       "      <td>2012-06-04 01:00:00</td>\n",
       "      <td>M_MA</td>\n",
       "      <td>1</td>\n",
       "      <td>0</td>\n",
       "      <td>Monday</td>\n",
       "      <td>2</td>\n",
       "      <td>6</td>\n",
       "      <td>2012</td>\n",
       "      <td>156</td>\n",
       "      <td>...</td>\n",
       "      <td>13.824711</td>\n",
       "      <td>13.694861</td>\n",
       "      <td>12.922770</td>\n",
       "      <td>12.553444</td>\n",
       "      <td>12.089538</td>\n",
       "      <td>12.042611</td>\n",
       "      <td>12.151106</td>\n",
       "      <td>12.189308</td>\n",
       "      <td>11.898054</td>\n",
       "      <td>0.068992</td>\n",
       "    </tr>\n",
       "    <tr>\n",
       "      <th>1489</th>\n",
       "      <td>2012-06-03T23:00:00</td>\n",
       "      <td>2012-06-04 01:00:00</td>\n",
       "      <td>C_CE_CF_CD</td>\n",
       "      <td>1</td>\n",
       "      <td>0</td>\n",
       "      <td>Monday</td>\n",
       "      <td>2</td>\n",
       "      <td>6</td>\n",
       "      <td>2012</td>\n",
       "      <td>156</td>\n",
       "      <td>...</td>\n",
       "      <td>97.184364</td>\n",
       "      <td>97.093674</td>\n",
       "      <td>96.370445</td>\n",
       "      <td>95.223534</td>\n",
       "      <td>94.855904</td>\n",
       "      <td>94.575890</td>\n",
       "      <td>94.900558</td>\n",
       "      <td>94.214874</td>\n",
       "      <td>94.382088</td>\n",
       "      <td>8.836999</td>\n",
       "    </tr>\n",
       "    <tr>\n",
       "      <th>1490</th>\n",
       "      <td>2012-06-04T00:00:00</td>\n",
       "      <td>2012-06-04 02:00:00</td>\n",
       "      <td>O_O</td>\n",
       "      <td>2</td>\n",
       "      <td>0</td>\n",
       "      <td>Monday</td>\n",
       "      <td>2</td>\n",
       "      <td>6</td>\n",
       "      <td>2012</td>\n",
       "      <td>156</td>\n",
       "      <td>...</td>\n",
       "      <td>62.669842</td>\n",
       "      <td>62.773857</td>\n",
       "      <td>60.122555</td>\n",
       "      <td>56.666725</td>\n",
       "      <td>53.761436</td>\n",
       "      <td>49.608936</td>\n",
       "      <td>45.899372</td>\n",
       "      <td>46.200718</td>\n",
       "      <td>46.865311</td>\n",
       "      <td>47.197079</td>\n",
       "    </tr>\n",
       "    <tr>\n",
       "      <th>1491</th>\n",
       "      <td>2012-06-04T00:00:00</td>\n",
       "      <td>2012-06-04 02:00:00</td>\n",
       "      <td>H_H</td>\n",
       "      <td>2</td>\n",
       "      <td>0</td>\n",
       "      <td>Monday</td>\n",
       "      <td>2</td>\n",
       "      <td>6</td>\n",
       "      <td>2012</td>\n",
       "      <td>156</td>\n",
       "      <td>...</td>\n",
       "      <td>26.120724</td>\n",
       "      <td>31.994280</td>\n",
       "      <td>26.535959</td>\n",
       "      <td>25.718319</td>\n",
       "      <td>25.528309</td>\n",
       "      <td>24.415733</td>\n",
       "      <td>26.221659</td>\n",
       "      <td>26.492964</td>\n",
       "      <td>26.954473</td>\n",
       "      <td>26.933138</td>\n",
       "    </tr>\n",
       "    <tr>\n",
       "      <th>1492</th>\n",
       "      <td>2012-06-04T00:00:00</td>\n",
       "      <td>2012-06-04 02:00:00</td>\n",
       "      <td>R_R</td>\n",
       "      <td>2</td>\n",
       "      <td>0</td>\n",
       "      <td>Monday</td>\n",
       "      <td>2</td>\n",
       "      <td>6</td>\n",
       "      <td>2012</td>\n",
       "      <td>156</td>\n",
       "      <td>...</td>\n",
       "      <td>15.675517</td>\n",
       "      <td>14.210869</td>\n",
       "      <td>11.825861</td>\n",
       "      <td>9.973243</td>\n",
       "      <td>8.043448</td>\n",
       "      <td>6.853898</td>\n",
       "      <td>6.383632</td>\n",
       "      <td>6.311064</td>\n",
       "      <td>6.546678</td>\n",
       "      <td>6.785315</td>\n",
       "    </tr>\n",
       "    <tr>\n",
       "      <th>...</th>\n",
       "      <td>...</td>\n",
       "      <td>...</td>\n",
       "      <td>...</td>\n",
       "      <td>...</td>\n",
       "      <td>...</td>\n",
       "      <td>...</td>\n",
       "      <td>...</td>\n",
       "      <td>...</td>\n",
       "      <td>...</td>\n",
       "      <td>...</td>\n",
       "      <td>...</td>\n",
       "      <td>...</td>\n",
       "      <td>...</td>\n",
       "      <td>...</td>\n",
       "      <td>...</td>\n",
       "      <td>...</td>\n",
       "      <td>...</td>\n",
       "      <td>...</td>\n",
       "      <td>...</td>\n",
       "      <td>...</td>\n",
       "      <td>...</td>\n",
       "    </tr>\n",
       "    <tr>\n",
       "      <th>3323742</th>\n",
       "      <td>2024-06-21T21:00:00</td>\n",
       "      <td>2024-06-21 23:00:00</td>\n",
       "      <td>E_E</td>\n",
       "      <td>23</td>\n",
       "      <td>4</td>\n",
       "      <td>Friday</td>\n",
       "      <td>2</td>\n",
       "      <td>6</td>\n",
       "      <td>2024</td>\n",
       "      <td>173</td>\n",
       "      <td>...</td>\n",
       "      <td>87.618240</td>\n",
       "      <td>82.821385</td>\n",
       "      <td>70.622805</td>\n",
       "      <td>61.690048</td>\n",
       "      <td>62.361953</td>\n",
       "      <td>65.590067</td>\n",
       "      <td>64.432311</td>\n",
       "      <td>68.518896</td>\n",
       "      <td>72.014153</td>\n",
       "      <td>75.413964</td>\n",
       "    </tr>\n",
       "    <tr>\n",
       "      <th>3323743</th>\n",
       "      <td>2024-06-21T21:00:00</td>\n",
       "      <td>2024-06-21 23:00:00</td>\n",
       "      <td>F_F</td>\n",
       "      <td>23</td>\n",
       "      <td>4</td>\n",
       "      <td>Friday</td>\n",
       "      <td>2</td>\n",
       "      <td>6</td>\n",
       "      <td>2024</td>\n",
       "      <td>173</td>\n",
       "      <td>...</td>\n",
       "      <td>37.126816</td>\n",
       "      <td>36.460320</td>\n",
       "      <td>29.888800</td>\n",
       "      <td>23.870010</td>\n",
       "      <td>22.132825</td>\n",
       "      <td>25.656644</td>\n",
       "      <td>25.505458</td>\n",
       "      <td>25.846402</td>\n",
       "      <td>26.237788</td>\n",
       "      <td>27.272171</td>\n",
       "    </tr>\n",
       "    <tr>\n",
       "      <th>3323744</th>\n",
       "      <td>2024-06-21T21:00:00</td>\n",
       "      <td>2024-06-21 23:00:00</td>\n",
       "      <td>I_I</td>\n",
       "      <td>23</td>\n",
       "      <td>4</td>\n",
       "      <td>Friday</td>\n",
       "      <td>2</td>\n",
       "      <td>6</td>\n",
       "      <td>2024</td>\n",
       "      <td>173</td>\n",
       "      <td>...</td>\n",
       "      <td>85.969801</td>\n",
       "      <td>76.281388</td>\n",
       "      <td>66.476163</td>\n",
       "      <td>57.967190</td>\n",
       "      <td>52.255899</td>\n",
       "      <td>51.656221</td>\n",
       "      <td>52.373241</td>\n",
       "      <td>54.961426</td>\n",
       "      <td>60.072132</td>\n",
       "      <td>67.941572</td>\n",
       "    </tr>\n",
       "    <tr>\n",
       "      <th>3323745</th>\n",
       "      <td>2024-06-21T21:00:00</td>\n",
       "      <td>2024-06-21 23:00:00</td>\n",
       "      <td>H_H</td>\n",
       "      <td>23</td>\n",
       "      <td>4</td>\n",
       "      <td>Friday</td>\n",
       "      <td>2</td>\n",
       "      <td>6</td>\n",
       "      <td>2024</td>\n",
       "      <td>173</td>\n",
       "      <td>...</td>\n",
       "      <td>151.689095</td>\n",
       "      <td>145.202948</td>\n",
       "      <td>134.877695</td>\n",
       "      <td>120.354189</td>\n",
       "      <td>105.771501</td>\n",
       "      <td>108.005934</td>\n",
       "      <td>111.028472</td>\n",
       "      <td>125.453933</td>\n",
       "      <td>132.191272</td>\n",
       "      <td>130.828517</td>\n",
       "    </tr>\n",
       "    <tr>\n",
       "      <th>3323746</th>\n",
       "      <td>2024-06-21T21:00:00</td>\n",
       "      <td>2024-06-21 23:00:00</td>\n",
       "      <td>A_A</td>\n",
       "      <td>23</td>\n",
       "      <td>4</td>\n",
       "      <td>Friday</td>\n",
       "      <td>2</td>\n",
       "      <td>6</td>\n",
       "      <td>2024</td>\n",
       "      <td>173</td>\n",
       "      <td>...</td>\n",
       "      <td>176.666877</td>\n",
       "      <td>175.606096</td>\n",
       "      <td>162.931701</td>\n",
       "      <td>151.749271</td>\n",
       "      <td>143.842031</td>\n",
       "      <td>132.787458</td>\n",
       "      <td>129.682408</td>\n",
       "      <td>135.514861</td>\n",
       "      <td>135.588157</td>\n",
       "      <td>144.276350</td>\n",
       "    </tr>\n",
       "  </tbody>\n",
       "</table>\n",
       "<p>3322211 rows × 44 columns</p>\n",
       "</div>"
      ],
      "text/plain": [
       "                     HourUTC               HourDK  DK3619Code  hour  \\\n",
       "1467     2012-06-03T23:00:00  2012-06-04 01:00:00        M_MA     1   \n",
       "1489     2012-06-03T23:00:00  2012-06-04 01:00:00  C_CE_CF_CD     1   \n",
       "1490     2012-06-04T00:00:00  2012-06-04 02:00:00         O_O     2   \n",
       "1491     2012-06-04T00:00:00  2012-06-04 02:00:00         H_H     2   \n",
       "1492     2012-06-04T00:00:00  2012-06-04 02:00:00         R_R     2   \n",
       "...                      ...                  ...         ...   ...   \n",
       "3323742  2024-06-21T21:00:00  2024-06-21 23:00:00         E_E    23   \n",
       "3323743  2024-06-21T21:00:00  2024-06-21 23:00:00         F_F    23   \n",
       "3323744  2024-06-21T21:00:00  2024-06-21 23:00:00         I_I    23   \n",
       "3323745  2024-06-21T21:00:00  2024-06-21 23:00:00         H_H    23   \n",
       "3323746  2024-06-21T21:00:00  2024-06-21 23:00:00         A_A    23   \n",
       "\n",
       "         day_of_week weekday_name  quarter  month  year  day_of_year  ...  \\\n",
       "1467               0       Monday        2      6  2012          156  ...   \n",
       "1489               0       Monday        2      6  2012          156  ...   \n",
       "1490               0       Monday        2      6  2012          156  ...   \n",
       "1491               0       Monday        2      6  2012          156  ...   \n",
       "1492               0       Monday        2      6  2012          156  ...   \n",
       "...              ...          ...      ...    ...   ...          ...  ...   \n",
       "3323742            4       Friday        2      6  2024          173  ...   \n",
       "3323743            4       Friday        2      6  2024          173  ...   \n",
       "3323744            4       Friday        2      6  2024          173  ...   \n",
       "3323745            4       Friday        2      6  2024          173  ...   \n",
       "3323746            4       Friday        2      6  2024          173  ...   \n",
       "\n",
       "             lag_39      lag_40      lag_41      lag_42      lag_43  \\\n",
       "1467      13.824711   13.694861   12.922770   12.553444   12.089538   \n",
       "1489      97.184364   97.093674   96.370445   95.223534   94.855904   \n",
       "1490      62.669842   62.773857   60.122555   56.666725   53.761436   \n",
       "1491      26.120724   31.994280   26.535959   25.718319   25.528309   \n",
       "1492      15.675517   14.210869   11.825861    9.973243    8.043448   \n",
       "...             ...         ...         ...         ...         ...   \n",
       "3323742   87.618240   82.821385   70.622805   61.690048   62.361953   \n",
       "3323743   37.126816   36.460320   29.888800   23.870010   22.132825   \n",
       "3323744   85.969801   76.281388   66.476163   57.967190   52.255899   \n",
       "3323745  151.689095  145.202948  134.877695  120.354189  105.771501   \n",
       "3323746  176.666877  175.606096  162.931701  151.749271  143.842031   \n",
       "\n",
       "             lag_44      lag_45      lag_46      lag_47      lag_48  \n",
       "1467      12.042611   12.151106   12.189308   11.898054    0.068992  \n",
       "1489      94.575890   94.900558   94.214874   94.382088    8.836999  \n",
       "1490      49.608936   45.899372   46.200718   46.865311   47.197079  \n",
       "1491      24.415733   26.221659   26.492964   26.954473   26.933138  \n",
       "1492       6.853898    6.383632    6.311064    6.546678    6.785315  \n",
       "...             ...         ...         ...         ...         ...  \n",
       "3323742   65.590067   64.432311   68.518896   72.014153   75.413964  \n",
       "3323743   25.656644   25.505458   25.846402   26.237788   27.272171  \n",
       "3323744   51.656221   52.373241   54.961426   60.072132   67.941572  \n",
       "3323745  108.005934  111.028472  125.453933  132.191272  130.828517  \n",
       "3323746  132.787458  129.682408  135.514861  135.588157  144.276350  \n",
       "\n",
       "[3322211 rows x 44 columns]"
      ]
     },
     "execution_count": 6,
     "metadata": {},
     "output_type": "execute_result"
    }
   ],
   "source": [
    "df_cleaned"
   ]
  },
  {
   "cell_type": "markdown",
   "id": "544ee630",
   "metadata": {
    "papermill": {
     "duration": 0.01277,
     "end_time": "2024-07-07T13:09:32.010207",
     "exception": false,
     "start_time": "2024-07-07T13:09:31.997437",
     "status": "completed"
    },
    "tags": []
   },
   "source": [
    "### Choose Feauture will use for Model"
   ]
  },
  {
   "cell_type": "code",
   "execution_count": 7,
   "id": "2b52f999",
   "metadata": {
    "execution": {
     "iopub.execute_input": "2024-07-07T13:09:32.037118Z",
     "iopub.status.busy": "2024-07-07T13:09:32.036827Z",
     "iopub.status.idle": "2024-07-07T13:09:32.046325Z",
     "shell.execute_reply": "2024-07-07T13:09:32.045544Z"
    },
    "papermill": {
     "duration": 0.025691,
     "end_time": "2024-07-07T13:09:32.048733",
     "exception": false,
     "start_time": "2024-07-07T13:09:32.023042",
     "status": "completed"
    },
    "tags": []
   },
   "outputs": [
    {
     "name": "stdout",
     "output_type": "stream",
     "text": [
      "<class 'pandas.core.frame.DataFrame'>\n",
      "Index: 3322211 entries, 1467 to 3323746\n",
      "Data columns (total 44 columns):\n",
      " #   Column           Dtype  \n",
      "---  ------           -----  \n",
      " 0   HourUTC          object \n",
      " 1   HourDK           object \n",
      " 2   DK3619Code       object \n",
      " 3   hour             int64  \n",
      " 4   day_of_week      int64  \n",
      " 5   weekday_name     object \n",
      " 6   quarter          int64  \n",
      " 7   month            int64  \n",
      " 8   year             int64  \n",
      " 9   day_of_year      int64  \n",
      " 10  day_of_month     int64  \n",
      " 11  week_of_year     int64  \n",
      " 12  season           object \n",
      " 13  holiday          int64  \n",
      " 14  DK36Code         object \n",
      " 15  DK36Title        object \n",
      " 16  DK19Code         object \n",
      " 17  DK19Title        object \n",
      " 18  Consumption_MWh  float64\n",
      " 19  lag_24           float64\n",
      " 20  lag_25           float64\n",
      " 21  lag_26           float64\n",
      " 22  lag_27           float64\n",
      " 23  lag_28           float64\n",
      " 24  lag_29           float64\n",
      " 25  lag_30           float64\n",
      " 26  lag_31           float64\n",
      " 27  lag_32           float64\n",
      " 28  lag_33           float64\n",
      " 29  lag_34           float64\n",
      " 30  lag_35           float64\n",
      " 31  lag_36           float64\n",
      " 32  lag_37           float64\n",
      " 33  lag_38           float64\n",
      " 34  lag_39           float64\n",
      " 35  lag_40           float64\n",
      " 36  lag_41           float64\n",
      " 37  lag_42           float64\n",
      " 38  lag_43           float64\n",
      " 39  lag_44           float64\n",
      " 40  lag_45           float64\n",
      " 41  lag_46           float64\n",
      " 42  lag_47           float64\n",
      " 43  lag_48           float64\n",
      "dtypes: float64(26), int64(9), object(9)\n",
      "memory usage: 1.1+ GB\n"
     ]
    }
   ],
   "source": [
    "df_cleaned.info()"
   ]
  },
  {
   "cell_type": "code",
   "execution_count": 8,
   "id": "ad239fe2",
   "metadata": {
    "execution": {
     "iopub.execute_input": "2024-07-07T13:09:32.075586Z",
     "iopub.status.busy": "2024-07-07T13:09:32.075290Z",
     "iopub.status.idle": "2024-07-07T13:09:32.314382Z",
     "shell.execute_reply": "2024-07-07T13:09:32.313521Z"
    },
    "papermill": {
     "duration": 0.254755,
     "end_time": "2024-07-07T13:09:32.316461",
     "exception": false,
     "start_time": "2024-07-07T13:09:32.061706",
     "status": "completed"
    },
    "tags": []
   },
   "outputs": [
    {
     "data": {
      "text/plain": [
       "array(['M_MA', 'C_CE_CF_CD', 'O_O', 'H_H', 'R_R', 'Q_QB', 'Q_QA', 'N_N',\n",
       "       'I_I', 'M_MB', 'L_L', 'K_K', 'J_JB_JC', 'J_JA', 'S_S', 'P_P',\n",
       "       'M_MC', 'C_CI', 'C_CK', 'E_E', 'D_D', 'C_CM_CB', 'C_CL', 'C_CJ',\n",
       "       'G_G', 'C_CH', 'C_CG', 'C_CC', 'C_CA', 'F_F', 'A_A', 'PR_PR'],\n",
       "      dtype=object)"
      ]
     },
     "execution_count": 8,
     "metadata": {},
     "output_type": "execute_result"
    }
   ],
   "source": [
    "df_cleaned['DK3619Code'].unique()"
   ]
  },
  {
   "cell_type": "code",
   "execution_count": 9,
   "id": "68b4cb97",
   "metadata": {
    "execution": {
     "iopub.execute_input": "2024-07-07T13:09:32.343775Z",
     "iopub.status.busy": "2024-07-07T13:09:32.343464Z",
     "iopub.status.idle": "2024-07-07T13:09:33.039416Z",
     "shell.execute_reply": "2024-07-07T13:09:33.038469Z"
    },
    "papermill": {
     "duration": 0.712446,
     "end_time": "2024-07-07T13:09:33.042174",
     "exception": false,
     "start_time": "2024-07-07T13:09:32.329728",
     "status": "completed"
    },
    "tags": []
   },
   "outputs": [],
   "source": [
    "columns = ['HourUTC', 'HourDK', 'hour', 'day_of_week',\n",
    "           'quarter', 'month', 'year', 'day_of_year',\n",
    "           'day_of_month', 'week_of_year', 'season', 'holiday', \n",
    "           'lag_24','lag_25','lag_26','lag_27','lag_28','lag_29',\n",
    "           'lag_30','lag_31','lag_32','lag_33','lag_34','lag_35','lag_36',\n",
    "           'lag_37','lag_38','lag_39','lag_40','lag_41','lag_42','lag_43',\n",
    "           'lag_44','lag_45','lag_46','lag_47','lag_48','Consumption_MWh']\n",
    "\n",
    "df_filter = df_cleaned[df_cleaned['DK3619Code'] == 'M_MA']\n",
    "\n",
    "df_corr = df_filter[columns]\n",
    "#df_corr = pd.get_dummies(df_corr, columns=['DK3619Code'], prefix=['DK3619Code'])\n"
   ]
  },
  {
   "cell_type": "code",
   "execution_count": 10,
   "id": "5bbfc83c",
   "metadata": {
    "execution": {
     "iopub.execute_input": "2024-07-07T13:09:33.074350Z",
     "iopub.status.busy": "2024-07-07T13:09:33.073523Z",
     "iopub.status.idle": "2024-07-07T13:09:33.124306Z",
     "shell.execute_reply": "2024-07-07T13:09:33.123314Z"
    },
    "papermill": {
     "duration": 0.067661,
     "end_time": "2024-07-07T13:09:33.126819",
     "exception": false,
     "start_time": "2024-07-07T13:09:33.059158",
     "status": "completed"
    },
    "tags": []
   },
   "outputs": [
    {
     "name": "stdout",
     "output_type": "stream",
     "text": [
      "<class 'pandas.core.frame.DataFrame'>\n",
      "Index: 105623 entries, 1467 to 3323719\n",
      "Data columns (total 38 columns):\n",
      " #   Column           Non-Null Count   Dtype  \n",
      "---  ------           --------------   -----  \n",
      " 0   HourUTC          105623 non-null  object \n",
      " 1   HourDK           105623 non-null  object \n",
      " 2   hour             105623 non-null  int64  \n",
      " 3   day_of_week      105623 non-null  int64  \n",
      " 4   quarter          105623 non-null  int64  \n",
      " 5   month            105623 non-null  int64  \n",
      " 6   year             105623 non-null  int64  \n",
      " 7   day_of_year      105623 non-null  int64  \n",
      " 8   day_of_month     105623 non-null  int64  \n",
      " 9   week_of_year     105623 non-null  int64  \n",
      " 10  season           105623 non-null  object \n",
      " 11  holiday          105623 non-null  int64  \n",
      " 12  lag_24           105623 non-null  float64\n",
      " 13  lag_25           105623 non-null  float64\n",
      " 14  lag_26           105623 non-null  float64\n",
      " 15  lag_27           105623 non-null  float64\n",
      " 16  lag_28           105623 non-null  float64\n",
      " 17  lag_29           105623 non-null  float64\n",
      " 18  lag_30           105623 non-null  float64\n",
      " 19  lag_31           105623 non-null  float64\n",
      " 20  lag_32           105623 non-null  float64\n",
      " 21  lag_33           105623 non-null  float64\n",
      " 22  lag_34           105623 non-null  float64\n",
      " 23  lag_35           105623 non-null  float64\n",
      " 24  lag_36           105623 non-null  float64\n",
      " 25  lag_37           105623 non-null  float64\n",
      " 26  lag_38           105623 non-null  float64\n",
      " 27  lag_39           105623 non-null  float64\n",
      " 28  lag_40           105623 non-null  float64\n",
      " 29  lag_41           105623 non-null  float64\n",
      " 30  lag_42           105623 non-null  float64\n",
      " 31  lag_43           105623 non-null  float64\n",
      " 32  lag_44           105623 non-null  float64\n",
      " 33  lag_45           105623 non-null  float64\n",
      " 34  lag_46           105623 non-null  float64\n",
      " 35  lag_47           105623 non-null  float64\n",
      " 36  lag_48           105623 non-null  float64\n",
      " 37  Consumption_MWh  105623 non-null  float64\n",
      "dtypes: float64(26), int64(9), object(3)\n",
      "memory usage: 31.4+ MB\n"
     ]
    }
   ],
   "source": [
    "df_corr.info()"
   ]
  },
  {
   "cell_type": "code",
   "execution_count": 11,
   "id": "aa14f1a1",
   "metadata": {
    "execution": {
     "iopub.execute_input": "2024-07-07T13:09:33.160360Z",
     "iopub.status.busy": "2024-07-07T13:09:33.159615Z",
     "iopub.status.idle": "2024-07-07T13:09:33.182653Z",
     "shell.execute_reply": "2024-07-07T13:09:33.181833Z"
    },
    "papermill": {
     "duration": 0.040378,
     "end_time": "2024-07-07T13:09:33.185204",
     "exception": false,
     "start_time": "2024-07-07T13:09:33.144826",
     "status": "completed"
    },
    "tags": []
   },
   "outputs": [
    {
     "name": "stderr",
     "output_type": "stream",
     "text": [
      "/tmp/ipykernel_23/3343511339.py:10: SettingWithCopyWarning: \n",
      "A value is trying to be set on a copy of a slice from a DataFrame.\n",
      "Try using .loc[row_indexer,col_indexer] = value instead\n",
      "\n",
      "See the caveats in the documentation: https://pandas.pydata.org/pandas-docs/stable/user_guide/indexing.html#returning-a-view-versus-a-copy\n",
      "  df_corr['season'] = df_corr['season'].map(seasons_mapping)\n"
     ]
    }
   ],
   "source": [
    "### Season mapping \n",
    "\n",
    "seasons_mapping = {\n",
    "    'Spring': 0,\n",
    "    'Summer': 1,\n",
    "    'Autumn': 2,\n",
    "    'Winter': 3\n",
    "}\n",
    "\n",
    "df_corr['season'] = df_corr['season'].map(seasons_mapping)"
   ]
  },
  {
   "cell_type": "code",
   "execution_count": 12,
   "id": "47264d97",
   "metadata": {
    "execution": {
     "iopub.execute_input": "2024-07-07T13:09:33.217234Z",
     "iopub.status.busy": "2024-07-07T13:09:33.216537Z",
     "iopub.status.idle": "2024-07-07T13:09:33.304814Z",
     "shell.execute_reply": "2024-07-07T13:09:33.303785Z"
    },
    "papermill": {
     "duration": 0.10495,
     "end_time": "2024-07-07T13:09:33.307285",
     "exception": false,
     "start_time": "2024-07-07T13:09:33.202335",
     "status": "completed"
    },
    "tags": []
   },
   "outputs": [
    {
     "name": "stderr",
     "output_type": "stream",
     "text": [
      "/tmp/ipykernel_23/3026962626.py:2: SettingWithCopyWarning: \n",
      "A value is trying to be set on a copy of a slice from a DataFrame.\n",
      "Try using .loc[row_indexer,col_indexer] = value instead\n",
      "\n",
      "See the caveats in the documentation: https://pandas.pydata.org/pandas-docs/stable/user_guide/indexing.html#returning-a-view-versus-a-copy\n",
      "  df_corr['holiday'] = df_corr['holiday'].apply(lambda x: 0 if x == 0 else 1)\n"
     ]
    }
   ],
   "source": [
    "# Convert holiday to binary indicator\n",
    "df_corr['holiday'] = df_corr['holiday'].apply(lambda x: 0 if x == 0 else 1)"
   ]
  },
  {
   "cell_type": "code",
   "execution_count": 13,
   "id": "f22025a9",
   "metadata": {
    "execution": {
     "iopub.execute_input": "2024-07-07T13:09:33.345117Z",
     "iopub.status.busy": "2024-07-07T13:09:33.344375Z",
     "iopub.status.idle": "2024-07-07T13:09:33.431104Z",
     "shell.execute_reply": "2024-07-07T13:09:33.430090Z"
    },
    "papermill": {
     "duration": 0.108322,
     "end_time": "2024-07-07T13:09:33.433129",
     "exception": false,
     "start_time": "2024-07-07T13:09:33.324807",
     "status": "completed"
    },
    "tags": []
   },
   "outputs": [
    {
     "name": "stderr",
     "output_type": "stream",
     "text": [
      "/tmp/ipykernel_23/1245307159.py:1: SettingWithCopyWarning: \n",
      "A value is trying to be set on a copy of a slice from a DataFrame.\n",
      "Try using .loc[row_indexer,col_indexer] = value instead\n",
      "\n",
      "See the caveats in the documentation: https://pandas.pydata.org/pandas-docs/stable/user_guide/indexing.html#returning-a-view-versus-a-copy\n",
      "  df_corr['HourUTC'] = pd.to_datetime(df_corr['HourUTC'])\n",
      "/tmp/ipykernel_23/1245307159.py:2: SettingWithCopyWarning: \n",
      "A value is trying to be set on a copy of a slice from a DataFrame.\n",
      "Try using .loc[row_indexer,col_indexer] = value instead\n",
      "\n",
      "See the caveats in the documentation: https://pandas.pydata.org/pandas-docs/stable/user_guide/indexing.html#returning-a-view-versus-a-copy\n",
      "  df_corr['HourDK'] = pd.to_datetime(df_corr['HourDK'])\n"
     ]
    }
   ],
   "source": [
    "df_corr['HourUTC'] = pd.to_datetime(df_corr['HourUTC'])\n",
    "df_corr['HourDK'] = pd.to_datetime(df_corr['HourDK'])"
   ]
  },
  {
   "cell_type": "code",
   "execution_count": 14,
   "id": "722c6b03",
   "metadata": {
    "execution": {
     "iopub.execute_input": "2024-07-07T13:09:33.460988Z",
     "iopub.status.busy": "2024-07-07T13:09:33.460721Z",
     "iopub.status.idle": "2024-07-07T13:09:33.479140Z",
     "shell.execute_reply": "2024-07-07T13:09:33.477688Z"
    },
    "papermill": {
     "duration": 0.034905,
     "end_time": "2024-07-07T13:09:33.481192",
     "exception": false,
     "start_time": "2024-07-07T13:09:33.446287",
     "status": "completed"
    },
    "tags": []
   },
   "outputs": [
    {
     "name": "stdout",
     "output_type": "stream",
     "text": [
      "<class 'pandas.core.frame.DataFrame'>\n",
      "Index: 105623 entries, 1467 to 3323719\n",
      "Data columns (total 38 columns):\n",
      " #   Column           Non-Null Count   Dtype         \n",
      "---  ------           --------------   -----         \n",
      " 0   HourUTC          105623 non-null  datetime64[ns]\n",
      " 1   HourDK           105623 non-null  datetime64[ns]\n",
      " 2   hour             105623 non-null  int64         \n",
      " 3   day_of_week      105623 non-null  int64         \n",
      " 4   quarter          105623 non-null  int64         \n",
      " 5   month            105623 non-null  int64         \n",
      " 6   year             105623 non-null  int64         \n",
      " 7   day_of_year      105623 non-null  int64         \n",
      " 8   day_of_month     105623 non-null  int64         \n",
      " 9   week_of_year     105623 non-null  int64         \n",
      " 10  season           105623 non-null  int64         \n",
      " 11  holiday          105623 non-null  int64         \n",
      " 12  lag_24           105623 non-null  float64       \n",
      " 13  lag_25           105623 non-null  float64       \n",
      " 14  lag_26           105623 non-null  float64       \n",
      " 15  lag_27           105623 non-null  float64       \n",
      " 16  lag_28           105623 non-null  float64       \n",
      " 17  lag_29           105623 non-null  float64       \n",
      " 18  lag_30           105623 non-null  float64       \n",
      " 19  lag_31           105623 non-null  float64       \n",
      " 20  lag_32           105623 non-null  float64       \n",
      " 21  lag_33           105623 non-null  float64       \n",
      " 22  lag_34           105623 non-null  float64       \n",
      " 23  lag_35           105623 non-null  float64       \n",
      " 24  lag_36           105623 non-null  float64       \n",
      " 25  lag_37           105623 non-null  float64       \n",
      " 26  lag_38           105623 non-null  float64       \n",
      " 27  lag_39           105623 non-null  float64       \n",
      " 28  lag_40           105623 non-null  float64       \n",
      " 29  lag_41           105623 non-null  float64       \n",
      " 30  lag_42           105623 non-null  float64       \n",
      " 31  lag_43           105623 non-null  float64       \n",
      " 32  lag_44           105623 non-null  float64       \n",
      " 33  lag_45           105623 non-null  float64       \n",
      " 34  lag_46           105623 non-null  float64       \n",
      " 35  lag_47           105623 non-null  float64       \n",
      " 36  lag_48           105623 non-null  float64       \n",
      " 37  Consumption_MWh  105623 non-null  float64       \n",
      "dtypes: datetime64[ns](2), float64(26), int64(10)\n",
      "memory usage: 31.4 MB\n"
     ]
    }
   ],
   "source": [
    "df_corr.info()"
   ]
  },
  {
   "cell_type": "markdown",
   "id": "48869b6d",
   "metadata": {
    "papermill": {
     "duration": 0.01432,
     "end_time": "2024-07-07T13:09:33.510050",
     "exception": false,
     "start_time": "2024-07-07T13:09:33.495730",
     "status": "completed"
    },
    "tags": []
   },
   "source": [
    "### Split data"
   ]
  },
  {
   "cell_type": "code",
   "execution_count": 15,
   "id": "1f4ff045",
   "metadata": {
    "execution": {
     "iopub.execute_input": "2024-07-07T13:09:33.538789Z",
     "iopub.status.busy": "2024-07-07T13:09:33.538382Z",
     "iopub.status.idle": "2024-07-07T13:09:33.578977Z",
     "shell.execute_reply": "2024-07-07T13:09:33.577974Z"
    },
    "papermill": {
     "duration": 0.058276,
     "end_time": "2024-07-07T13:09:33.581599",
     "exception": false,
     "start_time": "2024-07-07T13:09:33.523323",
     "status": "completed"
    },
    "tags": []
   },
   "outputs": [],
   "source": [
    "df_corr = df_corr.sort_values(by='HourDK')\n",
    "\n",
    "# Split function\n",
    "def split_train_test(df, split_time):\n",
    "    df_train = df.loc[df['HourDK'] < split_time]\n",
    "    df_test = df.loc[df['HourDK'] >= split_time]\n",
    "    return df_train, df_test\n",
    "\n",
    "# Split the data\n",
    "split_time = pd.Timestamp(\"2020-02-01\")\n",
    "df_train, df_temp = split_train_test(df_corr, split_time)\n",
    "split_time_valid = pd.Timestamp(\"2020-03-01\")\n",
    "df_valid, df_test = split_train_test(df_temp, split_time_valid)"
   ]
  },
  {
   "cell_type": "code",
   "execution_count": 16,
   "id": "04e54ea7",
   "metadata": {
    "execution": {
     "iopub.execute_input": "2024-07-07T13:09:33.611790Z",
     "iopub.status.busy": "2024-07-07T13:09:33.611098Z",
     "iopub.status.idle": "2024-07-07T13:09:33.636416Z",
     "shell.execute_reply": "2024-07-07T13:09:33.635583Z"
    },
    "papermill": {
     "duration": 0.042206,
     "end_time": "2024-07-07T13:09:33.638399",
     "exception": false,
     "start_time": "2024-07-07T13:09:33.596193",
     "status": "completed"
    },
    "tags": []
   },
   "outputs": [],
   "source": [
    "# Drop datetime columns after splitting\n",
    "df_train = df_train.drop(['HourUTC', 'HourDK'], axis=1)\n",
    "df_valid = df_valid.drop(['HourUTC', 'HourDK'], axis=1)\n",
    "df_test = df_test.drop(['HourUTC', 'HourDK'], axis=1)\n",
    "\n",
    "# Define target and features\n",
    "y_train = df_train[['Consumption_MWh']]  # Target variable\n",
    "x_train = df_train.drop(columns=['Consumption_MWh'])  # Features\n",
    "\n",
    "y_valid = df_valid[['Consumption_MWh']]\n",
    "x_valid = df_valid.drop(columns=['Consumption_MWh'])\n",
    "\n",
    "y_test = df_test[['Consumption_MWh']]\n",
    "x_test = df_test.drop(columns=['Consumption_MWh'])"
   ]
  },
  {
   "cell_type": "code",
   "execution_count": 17,
   "id": "2d01e58d",
   "metadata": {
    "execution": {
     "iopub.execute_input": "2024-07-07T13:09:33.667145Z",
     "iopub.status.busy": "2024-07-07T13:09:33.666869Z",
     "iopub.status.idle": "2024-07-07T13:09:33.682093Z",
     "shell.execute_reply": "2024-07-07T13:09:33.680857Z"
    },
    "papermill": {
     "duration": 0.032365,
     "end_time": "2024-07-07T13:09:33.684381",
     "exception": false,
     "start_time": "2024-07-07T13:09:33.652016",
     "status": "completed"
    },
    "tags": []
   },
   "outputs": [
    {
     "name": "stdout",
     "output_type": "stream",
     "text": [
      "<class 'pandas.core.frame.DataFrame'>\n",
      "Index: 67152 entries, 1467 to 2092649\n",
      "Data columns (total 36 columns):\n",
      " #   Column           Non-Null Count  Dtype  \n",
      "---  ------           --------------  -----  \n",
      " 0   hour             67152 non-null  int64  \n",
      " 1   day_of_week      67152 non-null  int64  \n",
      " 2   quarter          67152 non-null  int64  \n",
      " 3   month            67152 non-null  int64  \n",
      " 4   year             67152 non-null  int64  \n",
      " 5   day_of_year      67152 non-null  int64  \n",
      " 6   day_of_month     67152 non-null  int64  \n",
      " 7   week_of_year     67152 non-null  int64  \n",
      " 8   season           67152 non-null  int64  \n",
      " 9   holiday          67152 non-null  int64  \n",
      " 10  lag_24           67152 non-null  float64\n",
      " 11  lag_25           67152 non-null  float64\n",
      " 12  lag_26           67152 non-null  float64\n",
      " 13  lag_27           67152 non-null  float64\n",
      " 14  lag_28           67152 non-null  float64\n",
      " 15  lag_29           67152 non-null  float64\n",
      " 16  lag_30           67152 non-null  float64\n",
      " 17  lag_31           67152 non-null  float64\n",
      " 18  lag_32           67152 non-null  float64\n",
      " 19  lag_33           67152 non-null  float64\n",
      " 20  lag_34           67152 non-null  float64\n",
      " 21  lag_35           67152 non-null  float64\n",
      " 22  lag_36           67152 non-null  float64\n",
      " 23  lag_37           67152 non-null  float64\n",
      " 24  lag_38           67152 non-null  float64\n",
      " 25  lag_39           67152 non-null  float64\n",
      " 26  lag_40           67152 non-null  float64\n",
      " 27  lag_41           67152 non-null  float64\n",
      " 28  lag_42           67152 non-null  float64\n",
      " 29  lag_43           67152 non-null  float64\n",
      " 30  lag_44           67152 non-null  float64\n",
      " 31  lag_45           67152 non-null  float64\n",
      " 32  lag_46           67152 non-null  float64\n",
      " 33  lag_47           67152 non-null  float64\n",
      " 34  lag_48           67152 non-null  float64\n",
      " 35  Consumption_MWh  67152 non-null  float64\n",
      "dtypes: float64(26), int64(10)\n",
      "memory usage: 19.0 MB\n"
     ]
    }
   ],
   "source": [
    "df_train.info(show_counts = True)"
   ]
  },
  {
   "cell_type": "code",
   "execution_count": 18,
   "id": "0aa61084",
   "metadata": {
    "execution": {
     "iopub.execute_input": "2024-07-07T13:09:33.713472Z",
     "iopub.status.busy": "2024-07-07T13:09:33.713212Z",
     "iopub.status.idle": "2024-07-07T13:09:33.727446Z",
     "shell.execute_reply": "2024-07-07T13:09:33.725897Z"
    },
    "papermill": {
     "duration": 0.030738,
     "end_time": "2024-07-07T13:09:33.729603",
     "exception": false,
     "start_time": "2024-07-07T13:09:33.698865",
     "status": "completed"
    },
    "tags": []
   },
   "outputs": [
    {
     "name": "stdout",
     "output_type": "stream",
     "text": [
      "<class 'pandas.core.frame.DataFrame'>\n",
      "Index: 37775 entries, 2114953 to 3323719\n",
      "Data columns (total 36 columns):\n",
      " #   Column           Non-Null Count  Dtype  \n",
      "---  ------           --------------  -----  \n",
      " 0   hour             37775 non-null  int64  \n",
      " 1   day_of_week      37775 non-null  int64  \n",
      " 2   quarter          37775 non-null  int64  \n",
      " 3   month            37775 non-null  int64  \n",
      " 4   year             37775 non-null  int64  \n",
      " 5   day_of_year      37775 non-null  int64  \n",
      " 6   day_of_month     37775 non-null  int64  \n",
      " 7   week_of_year     37775 non-null  int64  \n",
      " 8   season           37775 non-null  int64  \n",
      " 9   holiday          37775 non-null  int64  \n",
      " 10  lag_24           37775 non-null  float64\n",
      " 11  lag_25           37775 non-null  float64\n",
      " 12  lag_26           37775 non-null  float64\n",
      " 13  lag_27           37775 non-null  float64\n",
      " 14  lag_28           37775 non-null  float64\n",
      " 15  lag_29           37775 non-null  float64\n",
      " 16  lag_30           37775 non-null  float64\n",
      " 17  lag_31           37775 non-null  float64\n",
      " 18  lag_32           37775 non-null  float64\n",
      " 19  lag_33           37775 non-null  float64\n",
      " 20  lag_34           37775 non-null  float64\n",
      " 21  lag_35           37775 non-null  float64\n",
      " 22  lag_36           37775 non-null  float64\n",
      " 23  lag_37           37775 non-null  float64\n",
      " 24  lag_38           37775 non-null  float64\n",
      " 25  lag_39           37775 non-null  float64\n",
      " 26  lag_40           37775 non-null  float64\n",
      " 27  lag_41           37775 non-null  float64\n",
      " 28  lag_42           37775 non-null  float64\n",
      " 29  lag_43           37775 non-null  float64\n",
      " 30  lag_44           37775 non-null  float64\n",
      " 31  lag_45           37775 non-null  float64\n",
      " 32  lag_46           37775 non-null  float64\n",
      " 33  lag_47           37775 non-null  float64\n",
      " 34  lag_48           37775 non-null  float64\n",
      " 35  Consumption_MWh  37775 non-null  float64\n",
      "dtypes: float64(26), int64(10)\n",
      "memory usage: 10.7 MB\n"
     ]
    }
   ],
   "source": [
    "df_test.info(show_counts = True)"
   ]
  },
  {
   "cell_type": "markdown",
   "id": "776ce717",
   "metadata": {
    "papermill": {
     "duration": 0.014947,
     "end_time": "2024-07-07T13:09:33.760247",
     "exception": false,
     "start_time": "2024-07-07T13:09:33.745300",
     "status": "completed"
    },
    "tags": []
   },
   "source": [
    "### Train data"
   ]
  },
  {
   "cell_type": "code",
   "execution_count": 19,
   "id": "f8b00ecc",
   "metadata": {
    "execution": {
     "iopub.execute_input": "2024-07-07T13:09:33.789034Z",
     "iopub.status.busy": "2024-07-07T13:09:33.788749Z",
     "iopub.status.idle": "2024-07-07T13:47:12.299240Z",
     "shell.execute_reply": "2024-07-07T13:47:12.298347Z"
    },
    "papermill": {
     "duration": 2258.541603,
     "end_time": "2024-07-07T13:47:12.315522",
     "exception": false,
     "start_time": "2024-07-07T13:09:33.773919",
     "status": "completed"
    },
    "tags": []
   },
   "outputs": [
    {
     "name": "stderr",
     "output_type": "stream",
     "text": [
      "/tmp/ipykernel_23/3321662033.py:2: DataConversionWarning: A column-vector y was passed when a 1d array was expected. Please change the shape of y to (n_samples,), for example using ravel().\n",
      "  rf_model.fit(x_train, y_train)\n"
     ]
    },
    {
     "data": {
      "text/html": [
       "<style>#sk-container-id-1 {color: black;background-color: white;}#sk-container-id-1 pre{padding: 0;}#sk-container-id-1 div.sk-toggleable {background-color: white;}#sk-container-id-1 label.sk-toggleable__label {cursor: pointer;display: block;width: 100%;margin-bottom: 0;padding: 0.3em;box-sizing: border-box;text-align: center;}#sk-container-id-1 label.sk-toggleable__label-arrow:before {content: \"▸\";float: left;margin-right: 0.25em;color: #696969;}#sk-container-id-1 label.sk-toggleable__label-arrow:hover:before {color: black;}#sk-container-id-1 div.sk-estimator:hover label.sk-toggleable__label-arrow:before {color: black;}#sk-container-id-1 div.sk-toggleable__content {max-height: 0;max-width: 0;overflow: hidden;text-align: left;background-color: #f0f8ff;}#sk-container-id-1 div.sk-toggleable__content pre {margin: 0.2em;color: black;border-radius: 0.25em;background-color: #f0f8ff;}#sk-container-id-1 input.sk-toggleable__control:checked~div.sk-toggleable__content {max-height: 200px;max-width: 100%;overflow: auto;}#sk-container-id-1 input.sk-toggleable__control:checked~label.sk-toggleable__label-arrow:before {content: \"▾\";}#sk-container-id-1 div.sk-estimator input.sk-toggleable__control:checked~label.sk-toggleable__label {background-color: #d4ebff;}#sk-container-id-1 div.sk-label input.sk-toggleable__control:checked~label.sk-toggleable__label {background-color: #d4ebff;}#sk-container-id-1 input.sk-hidden--visually {border: 0;clip: rect(1px 1px 1px 1px);clip: rect(1px, 1px, 1px, 1px);height: 1px;margin: -1px;overflow: hidden;padding: 0;position: absolute;width: 1px;}#sk-container-id-1 div.sk-estimator {font-family: monospace;background-color: #f0f8ff;border: 1px dotted black;border-radius: 0.25em;box-sizing: border-box;margin-bottom: 0.5em;}#sk-container-id-1 div.sk-estimator:hover {background-color: #d4ebff;}#sk-container-id-1 div.sk-parallel-item::after {content: \"\";width: 100%;border-bottom: 1px solid gray;flex-grow: 1;}#sk-container-id-1 div.sk-label:hover label.sk-toggleable__label {background-color: #d4ebff;}#sk-container-id-1 div.sk-serial::before {content: \"\";position: absolute;border-left: 1px solid gray;box-sizing: border-box;top: 0;bottom: 0;left: 50%;z-index: 0;}#sk-container-id-1 div.sk-serial {display: flex;flex-direction: column;align-items: center;background-color: white;padding-right: 0.2em;padding-left: 0.2em;position: relative;}#sk-container-id-1 div.sk-item {position: relative;z-index: 1;}#sk-container-id-1 div.sk-parallel {display: flex;align-items: stretch;justify-content: center;background-color: white;position: relative;}#sk-container-id-1 div.sk-item::before, #sk-container-id-1 div.sk-parallel-item::before {content: \"\";position: absolute;border-left: 1px solid gray;box-sizing: border-box;top: 0;bottom: 0;left: 50%;z-index: -1;}#sk-container-id-1 div.sk-parallel-item {display: flex;flex-direction: column;z-index: 1;position: relative;background-color: white;}#sk-container-id-1 div.sk-parallel-item:first-child::after {align-self: flex-end;width: 50%;}#sk-container-id-1 div.sk-parallel-item:last-child::after {align-self: flex-start;width: 50%;}#sk-container-id-1 div.sk-parallel-item:only-child::after {width: 0;}#sk-container-id-1 div.sk-dashed-wrapped {border: 1px dashed gray;margin: 0 0.4em 0.5em 0.4em;box-sizing: border-box;padding-bottom: 0.4em;background-color: white;}#sk-container-id-1 div.sk-label label {font-family: monospace;font-weight: bold;display: inline-block;line-height: 1.2em;}#sk-container-id-1 div.sk-label-container {text-align: center;}#sk-container-id-1 div.sk-container {/* jupyter's `normalize.less` sets `[hidden] { display: none; }` but bootstrap.min.css set `[hidden] { display: none !important; }` so we also need the `!important` here to be able to override the default hidden behavior on the sphinx rendered scikit-learn.org. See: https://github.com/scikit-learn/scikit-learn/issues/21755 */display: inline-block !important;position: relative;}#sk-container-id-1 div.sk-text-repr-fallback {display: none;}</style><div id=\"sk-container-id-1\" class=\"sk-top-container\"><div class=\"sk-text-repr-fallback\"><pre>RandomForestRegressor(n_estimators=1000, random_state=10)</pre><b>In a Jupyter environment, please rerun this cell to show the HTML representation or trust the notebook. <br />On GitHub, the HTML representation is unable to render, please try loading this page with nbviewer.org.</b></div><div class=\"sk-container\" hidden><div class=\"sk-item\"><div class=\"sk-estimator sk-toggleable\"><input class=\"sk-toggleable__control sk-hidden--visually\" id=\"sk-estimator-id-1\" type=\"checkbox\" checked><label for=\"sk-estimator-id-1\" class=\"sk-toggleable__label sk-toggleable__label-arrow\">RandomForestRegressor</label><div class=\"sk-toggleable__content\"><pre>RandomForestRegressor(n_estimators=1000, random_state=10)</pre></div></div></div></div></div>"
      ],
      "text/plain": [
       "RandomForestRegressor(n_estimators=1000, random_state=10)"
      ]
     },
     "execution_count": 19,
     "metadata": {},
     "output_type": "execute_result"
    }
   ],
   "source": [
    "rf_model = RandomForestRegressor(n_estimators=1000, random_state=10)\n",
    "rf_model.fit(x_train, y_train)"
   ]
  },
  {
   "cell_type": "markdown",
   "id": "69bb5f74",
   "metadata": {
    "papermill": {
     "duration": 0.01384,
     "end_time": "2024-07-07T13:47:12.343991",
     "exception": false,
     "start_time": "2024-07-07T13:47:12.330151",
     "status": "completed"
    },
    "tags": []
   },
   "source": [
    "## Predict"
   ]
  },
  {
   "cell_type": "code",
   "execution_count": 20,
   "id": "394db75f",
   "metadata": {
    "execution": {
     "iopub.execute_input": "2024-07-07T13:47:12.373342Z",
     "iopub.status.busy": "2024-07-07T13:47:12.373046Z",
     "iopub.status.idle": "2024-07-07T13:47:21.071439Z",
     "shell.execute_reply": "2024-07-07T13:47:21.070618Z"
    },
    "papermill": {
     "duration": 8.715716,
     "end_time": "2024-07-07T13:47:21.073604",
     "exception": false,
     "start_time": "2024-07-07T13:47:12.357888",
     "status": "completed"
    },
    "tags": []
   },
   "outputs": [
    {
     "data": {
      "text/plain": [
       "array([32.13057231, 32.10455037, 31.87595018, ..., 35.96342163,\n",
       "       35.21402232, 34.78945496])"
      ]
     },
     "execution_count": 20,
     "metadata": {},
     "output_type": "execute_result"
    }
   ],
   "source": [
    "y_pred = rf_model.predict(x_test)\n",
    "y_pred"
   ]
  },
  {
   "cell_type": "code",
   "execution_count": 21,
   "id": "a297fb0d",
   "metadata": {
    "execution": {
     "iopub.execute_input": "2024-07-07T13:47:21.103659Z",
     "iopub.status.busy": "2024-07-07T13:47:21.103029Z",
     "iopub.status.idle": "2024-07-07T13:47:21.114507Z",
     "shell.execute_reply": "2024-07-07T13:47:21.113454Z"
    },
    "papermill": {
     "duration": 0.028645,
     "end_time": "2024-07-07T13:47:21.116641",
     "exception": false,
     "start_time": "2024-07-07T13:47:21.087996",
     "status": "completed"
    },
    "tags": []
   },
   "outputs": [
    {
     "name": "stdout",
     "output_type": "stream",
     "text": [
      "Mean Absolute Error (MAE): 2.4809684531911045\n",
      "Mean Squared Error (MSE): 17.162789507596415\n",
      "Root Mean Squared Error (RMSE): 4.142799718499123\n",
      "R-squared (R²): 0.8072614735288652\n"
     ]
    }
   ],
   "source": [
    "# Calculate evaluation metrics\n",
    "mae = mean_absolute_error(y_test, y_pred)\n",
    "mse = mean_squared_error(y_test, y_pred)\n",
    "rmse = np.sqrt(mse)\n",
    "r2 = r2_score(y_test, y_pred)\n",
    "\n",
    "print(f'Mean Absolute Error (MAE): {mae}')\n",
    "print(f'Mean Squared Error (MSE): {mse}')\n",
    "print(f'Root Mean Squared Error (RMSE): {rmse}')\n",
    "print(f'R-squared (R²): {r2}')"
   ]
  },
  {
   "cell_type": "code",
   "execution_count": 22,
   "id": "1b6557f3",
   "metadata": {
    "execution": {
     "iopub.execute_input": "2024-07-07T13:47:21.150548Z",
     "iopub.status.busy": "2024-07-07T13:47:21.149541Z",
     "iopub.status.idle": "2024-07-07T13:47:22.236350Z",
     "shell.execute_reply": "2024-07-07T13:47:22.235287Z"
    },
    "papermill": {
     "duration": 1.105819,
     "end_time": "2024-07-07T13:47:22.238370",
     "exception": false,
     "start_time": "2024-07-07T13:47:21.132551",
     "status": "completed"
    },
    "tags": []
   },
   "outputs": [
    {
     "name": "stdout",
     "output_type": "stream",
     "text": [
      "Number of features: 35\n",
      "Number of importances: 35\n"
     ]
    }
   ],
   "source": [
    "# Check the lengths of features and feature importances\n",
    "features = x_train.columns\n",
    "feature_importances = rf_model.feature_importances_\n",
    "print(f'Number of features: {len(features)}')\n",
    "print(f'Number of importances: {len(feature_importances)}')"
   ]
  },
  {
   "cell_type": "code",
   "execution_count": 23,
   "id": "9110b315",
   "metadata": {
    "execution": {
     "iopub.execute_input": "2024-07-07T13:47:22.268432Z",
     "iopub.status.busy": "2024-07-07T13:47:22.268148Z",
     "iopub.status.idle": "2024-07-07T13:47:22.273484Z",
     "shell.execute_reply": "2024-07-07T13:47:22.272664Z"
    },
    "papermill": {
     "duration": 0.022533,
     "end_time": "2024-07-07T13:47:22.275340",
     "exception": false,
     "start_time": "2024-07-07T13:47:22.252807",
     "status": "completed"
    },
    "tags": []
   },
   "outputs": [],
   "source": [
    "# Create a DataFrame for visualization\n",
    "importance_df = pd.DataFrame({'Feature': features, 'Importance': feature_importances})\n",
    "importance_df = importance_df.sort_values(by='Importance', ascending=False)"
   ]
  },
  {
   "cell_type": "code",
   "execution_count": 24,
   "id": "98bbc104",
   "metadata": {
    "execution": {
     "iopub.execute_input": "2024-07-07T13:47:22.304912Z",
     "iopub.status.busy": "2024-07-07T13:47:22.304661Z",
     "iopub.status.idle": "2024-07-07T13:47:22.316141Z",
     "shell.execute_reply": "2024-07-07T13:47:22.315347Z"
    },
    "papermill": {
     "duration": 0.02838,
     "end_time": "2024-07-07T13:47:22.318125",
     "exception": false,
     "start_time": "2024-07-07T13:47:22.289745",
     "status": "completed"
    },
    "tags": []
   },
   "outputs": [
    {
     "data": {
      "text/html": [
       "<div>\n",
       "<style scoped>\n",
       "    .dataframe tbody tr th:only-of-type {\n",
       "        vertical-align: middle;\n",
       "    }\n",
       "\n",
       "    .dataframe tbody tr th {\n",
       "        vertical-align: top;\n",
       "    }\n",
       "\n",
       "    .dataframe thead th {\n",
       "        text-align: right;\n",
       "    }\n",
       "</style>\n",
       "<table border=\"1\" class=\"dataframe\">\n",
       "  <thead>\n",
       "    <tr style=\"text-align: right;\">\n",
       "      <th></th>\n",
       "      <th>Feature</th>\n",
       "      <th>Importance</th>\n",
       "    </tr>\n",
       "  </thead>\n",
       "  <tbody>\n",
       "    <tr>\n",
       "      <th>10</th>\n",
       "      <td>lag_24</td>\n",
       "      <td>0.713356</td>\n",
       "    </tr>\n",
       "    <tr>\n",
       "      <th>1</th>\n",
       "      <td>day_of_week</td>\n",
       "      <td>0.136258</td>\n",
       "    </tr>\n",
       "    <tr>\n",
       "      <th>0</th>\n",
       "      <td>hour</td>\n",
       "      <td>0.045354</td>\n",
       "    </tr>\n",
       "    <tr>\n",
       "      <th>4</th>\n",
       "      <td>year</td>\n",
       "      <td>0.020159</td>\n",
       "    </tr>\n",
       "    <tr>\n",
       "      <th>33</th>\n",
       "      <td>lag_47</td>\n",
       "      <td>0.013031</td>\n",
       "    </tr>\n",
       "    <tr>\n",
       "      <th>9</th>\n",
       "      <td>holiday</td>\n",
       "      <td>0.007538</td>\n",
       "    </tr>\n",
       "    <tr>\n",
       "      <th>34</th>\n",
       "      <td>lag_48</td>\n",
       "      <td>0.007461</td>\n",
       "    </tr>\n",
       "    <tr>\n",
       "      <th>5</th>\n",
       "      <td>day_of_year</td>\n",
       "      <td>0.006326</td>\n",
       "    </tr>\n",
       "    <tr>\n",
       "      <th>11</th>\n",
       "      <td>lag_25</td>\n",
       "      <td>0.003575</td>\n",
       "    </tr>\n",
       "    <tr>\n",
       "      <th>19</th>\n",
       "      <td>lag_33</td>\n",
       "      <td>0.003417</td>\n",
       "    </tr>\n",
       "    <tr>\n",
       "      <th>32</th>\n",
       "      <td>lag_46</td>\n",
       "      <td>0.003308</td>\n",
       "    </tr>\n",
       "    <tr>\n",
       "      <th>20</th>\n",
       "      <td>lag_34</td>\n",
       "      <td>0.003257</td>\n",
       "    </tr>\n",
       "    <tr>\n",
       "      <th>6</th>\n",
       "      <td>day_of_month</td>\n",
       "      <td>0.003155</td>\n",
       "    </tr>\n",
       "    <tr>\n",
       "      <th>7</th>\n",
       "      <td>week_of_year</td>\n",
       "      <td>0.002419</td>\n",
       "    </tr>\n",
       "    <tr>\n",
       "      <th>22</th>\n",
       "      <td>lag_36</td>\n",
       "      <td>0.002339</td>\n",
       "    </tr>\n",
       "    <tr>\n",
       "      <th>21</th>\n",
       "      <td>lag_35</td>\n",
       "      <td>0.002329</td>\n",
       "    </tr>\n",
       "    <tr>\n",
       "      <th>18</th>\n",
       "      <td>lag_32</td>\n",
       "      <td>0.002161</td>\n",
       "    </tr>\n",
       "    <tr>\n",
       "      <th>31</th>\n",
       "      <td>lag_45</td>\n",
       "      <td>0.002013</td>\n",
       "    </tr>\n",
       "    <tr>\n",
       "      <th>12</th>\n",
       "      <td>lag_26</td>\n",
       "      <td>0.001953</td>\n",
       "    </tr>\n",
       "    <tr>\n",
       "      <th>23</th>\n",
       "      <td>lag_37</td>\n",
       "      <td>0.001864</td>\n",
       "    </tr>\n",
       "    <tr>\n",
       "      <th>17</th>\n",
       "      <td>lag_31</td>\n",
       "      <td>0.001721</td>\n",
       "    </tr>\n",
       "    <tr>\n",
       "      <th>16</th>\n",
       "      <td>lag_30</td>\n",
       "      <td>0.001543</td>\n",
       "    </tr>\n",
       "    <tr>\n",
       "      <th>30</th>\n",
       "      <td>lag_44</td>\n",
       "      <td>0.001517</td>\n",
       "    </tr>\n",
       "    <tr>\n",
       "      <th>13</th>\n",
       "      <td>lag_27</td>\n",
       "      <td>0.001507</td>\n",
       "    </tr>\n",
       "    <tr>\n",
       "      <th>24</th>\n",
       "      <td>lag_38</td>\n",
       "      <td>0.001487</td>\n",
       "    </tr>\n",
       "    <tr>\n",
       "      <th>15</th>\n",
       "      <td>lag_29</td>\n",
       "      <td>0.001393</td>\n",
       "    </tr>\n",
       "    <tr>\n",
       "      <th>14</th>\n",
       "      <td>lag_28</td>\n",
       "      <td>0.001390</td>\n",
       "    </tr>\n",
       "    <tr>\n",
       "      <th>27</th>\n",
       "      <td>lag_41</td>\n",
       "      <td>0.001365</td>\n",
       "    </tr>\n",
       "    <tr>\n",
       "      <th>25</th>\n",
       "      <td>lag_39</td>\n",
       "      <td>0.001352</td>\n",
       "    </tr>\n",
       "    <tr>\n",
       "      <th>26</th>\n",
       "      <td>lag_40</td>\n",
       "      <td>0.001289</td>\n",
       "    </tr>\n",
       "    <tr>\n",
       "      <th>29</th>\n",
       "      <td>lag_43</td>\n",
       "      <td>0.001238</td>\n",
       "    </tr>\n",
       "    <tr>\n",
       "      <th>28</th>\n",
       "      <td>lag_42</td>\n",
       "      <td>0.001221</td>\n",
       "    </tr>\n",
       "    <tr>\n",
       "      <th>8</th>\n",
       "      <td>season</td>\n",
       "      <td>0.000747</td>\n",
       "    </tr>\n",
       "    <tr>\n",
       "      <th>3</th>\n",
       "      <td>month</td>\n",
       "      <td>0.000606</td>\n",
       "    </tr>\n",
       "    <tr>\n",
       "      <th>2</th>\n",
       "      <td>quarter</td>\n",
       "      <td>0.000352</td>\n",
       "    </tr>\n",
       "  </tbody>\n",
       "</table>\n",
       "</div>"
      ],
      "text/plain": [
       "         Feature  Importance\n",
       "10        lag_24    0.713356\n",
       "1    day_of_week    0.136258\n",
       "0           hour    0.045354\n",
       "4           year    0.020159\n",
       "33        lag_47    0.013031\n",
       "9        holiday    0.007538\n",
       "34        lag_48    0.007461\n",
       "5    day_of_year    0.006326\n",
       "11        lag_25    0.003575\n",
       "19        lag_33    0.003417\n",
       "32        lag_46    0.003308\n",
       "20        lag_34    0.003257\n",
       "6   day_of_month    0.003155\n",
       "7   week_of_year    0.002419\n",
       "22        lag_36    0.002339\n",
       "21        lag_35    0.002329\n",
       "18        lag_32    0.002161\n",
       "31        lag_45    0.002013\n",
       "12        lag_26    0.001953\n",
       "23        lag_37    0.001864\n",
       "17        lag_31    0.001721\n",
       "16        lag_30    0.001543\n",
       "30        lag_44    0.001517\n",
       "13        lag_27    0.001507\n",
       "24        lag_38    0.001487\n",
       "15        lag_29    0.001393\n",
       "14        lag_28    0.001390\n",
       "27        lag_41    0.001365\n",
       "25        lag_39    0.001352\n",
       "26        lag_40    0.001289\n",
       "29        lag_43    0.001238\n",
       "28        lag_42    0.001221\n",
       "8         season    0.000747\n",
       "3          month    0.000606\n",
       "2        quarter    0.000352"
      ]
     },
     "execution_count": 24,
     "metadata": {},
     "output_type": "execute_result"
    }
   ],
   "source": [
    "importance_df"
   ]
  },
  {
   "cell_type": "code",
   "execution_count": 25,
   "id": "1468a0b3",
   "metadata": {
    "execution": {
     "iopub.execute_input": "2024-07-07T13:47:22.348617Z",
     "iopub.status.busy": "2024-07-07T13:47:22.348174Z",
     "iopub.status.idle": "2024-07-07T13:47:22.351635Z",
     "shell.execute_reply": "2024-07-07T13:47:22.350835Z"
    },
    "papermill": {
     "duration": 0.020433,
     "end_time": "2024-07-07T13:47:22.353432",
     "exception": false,
     "start_time": "2024-07-07T13:47:22.332999",
     "status": "completed"
    },
    "tags": []
   },
   "outputs": [],
   "source": [
    "#importance_df = importance_df.drop(importance_df[importance_df['Feature'] == 'weekday_name'].index)"
   ]
  },
  {
   "cell_type": "code",
   "execution_count": 26,
   "id": "59a6d19c",
   "metadata": {
    "execution": {
     "iopub.execute_input": "2024-07-07T13:47:22.383500Z",
     "iopub.status.busy": "2024-07-07T13:47:22.383232Z",
     "iopub.status.idle": "2024-07-07T13:47:22.972041Z",
     "shell.execute_reply": "2024-07-07T13:47:22.971182Z"
    },
    "papermill": {
     "duration": 0.606499,
     "end_time": "2024-07-07T13:47:22.974525",
     "exception": false,
     "start_time": "2024-07-07T13:47:22.368026",
     "status": "completed"
    },
    "tags": []
   },
   "outputs": [
    {
     "data": {
      "image/png": "[encoded data removed]",
      "text/plain": [
       "<Figure size 1000x800 with 1 Axes>"
      ]
     },
     "metadata": {},
     "output_type": "display_data"
    }
   ],
   "source": [
    "# Plot the feature importances\n",
    "plt.figure(figsize=(10, 8))\n",
    "sns.barplot(x='Importance', y='Feature', data=importance_df)\n",
    "plt.title('Feature Importances on DK3619Code = M_MA')\n",
    "plt.xlabel('Importance')\n",
    "plt.ylabel('Feature')\n",
    "plt.show()"
   ]
  },
  {
   "cell_type": "markdown",
   "id": "03b81c86",
   "metadata": {
    "papermill": {
     "duration": 0.015308,
     "end_time": "2024-07-07T13:47:23.005648",
     "exception": false,
     "start_time": "2024-07-07T13:47:22.990340",
     "status": "completed"
    },
    "tags": []
   },
   "source": [
    "# Sau khi đã chọn được feature"
   ]
  },
  {
   "cell_type": "code",
   "execution_count": 27,
   "id": "ee8900c0",
   "metadata": {
    "execution": {
     "iopub.execute_input": "2024-07-07T13:47:23.039182Z",
     "iopub.status.busy": "2024-07-07T13:47:23.038897Z",
     "iopub.status.idle": "2024-07-07T13:47:23.722058Z",
     "shell.execute_reply": "2024-07-07T13:47:23.721257Z"
    },
    "papermill": {
     "duration": 0.702258,
     "end_time": "2024-07-07T13:47:23.724431",
     "exception": false,
     "start_time": "2024-07-07T13:47:23.022173",
     "status": "completed"
    },
    "tags": []
   },
   "outputs": [],
   "source": [
    "columns = ['HourUTC', 'HourDK', \n",
    "           'hour', \n",
    "           'day_of_week',\n",
    "           'year', \n",
    "           'lag_24',\n",
    "           'lag_47',\n",
    "           'Consumption_MWh']\n",
    "\n",
    "\n",
    "df_filter = df_cleaned[df_cleaned['DK3619Code'] == 'M_MA']\n",
    "\n",
    "df_corr = df_filter[columns]\n",
    "#df_corr = pd.get_dummies(df_corr, columns=['DK3619Code'], prefix=['DK3619Code'])\n",
    "\n",
    "# Convert holiday to binary indicator\n",
    "#df_corr['holiday'] = df_corr['holiday'].apply(lambda x: 0 if x == 0 else 1)"
   ]
  },
  {
   "cell_type": "code",
   "execution_count": 28,
   "id": "1bdca91e",
   "metadata": {
    "execution": {
     "iopub.execute_input": "2024-07-07T13:47:23.757475Z",
     "iopub.status.busy": "2024-07-07T13:47:23.757161Z",
     "iopub.status.idle": "2024-07-07T13:47:23.787413Z",
     "shell.execute_reply": "2024-07-07T13:47:23.786364Z"
    },
    "papermill": {
     "duration": 0.04868,
     "end_time": "2024-07-07T13:47:23.789372",
     "exception": false,
     "start_time": "2024-07-07T13:47:23.740692",
     "status": "completed"
    },
    "tags": []
   },
   "outputs": [
    {
     "name": "stdout",
     "output_type": "stream",
     "text": [
      "<class 'pandas.core.frame.DataFrame'>\n",
      "Index: 105623 entries, 1467 to 3323719\n",
      "Data columns (total 8 columns):\n",
      " #   Column           Non-Null Count   Dtype  \n",
      "---  ------           --------------   -----  \n",
      " 0   HourUTC          105623 non-null  object \n",
      " 1   HourDK           105623 non-null  object \n",
      " 2   hour             105623 non-null  int64  \n",
      " 3   day_of_week      105623 non-null  int64  \n",
      " 4   year             105623 non-null  int64  \n",
      " 5   lag_24           105623 non-null  float64\n",
      " 6   lag_47           105623 non-null  float64\n",
      " 7   Consumption_MWh  105623 non-null  float64\n",
      "dtypes: float64(3), int64(3), object(2)\n",
      "memory usage: 7.3+ MB\n"
     ]
    }
   ],
   "source": [
    "df_corr.info()"
   ]
  },
  {
   "cell_type": "code",
   "execution_count": 29,
   "id": "35c2f6da",
   "metadata": {
    "execution": {
     "iopub.execute_input": "2024-07-07T13:47:23.822296Z",
     "iopub.status.busy": "2024-07-07T13:47:23.822042Z",
     "iopub.status.idle": "2024-07-07T13:47:23.920667Z",
     "shell.execute_reply": "2024-07-07T13:47:23.919847Z"
    },
    "papermill": {
     "duration": 0.117328,
     "end_time": "2024-07-07T13:47:23.922845",
     "exception": false,
     "start_time": "2024-07-07T13:47:23.805517",
     "status": "completed"
    },
    "tags": []
   },
   "outputs": [
    {
     "name": "stderr",
     "output_type": "stream",
     "text": [
      "/tmp/ipykernel_23/2224914049.py:1: SettingWithCopyWarning: \n",
      "A value is trying to be set on a copy of a slice from a DataFrame.\n",
      "Try using .loc[row_indexer,col_indexer] = value instead\n",
      "\n",
      "See the caveats in the documentation: https://pandas.pydata.org/pandas-docs/stable/user_guide/indexing.html#returning-a-view-versus-a-copy\n",
      "  df_corr['HourUTC'] = pd.to_datetime(df_corr['HourUTC'])\n",
      "/tmp/ipykernel_23/2224914049.py:2: SettingWithCopyWarning: \n",
      "A value is trying to be set on a copy of a slice from a DataFrame.\n",
      "Try using .loc[row_indexer,col_indexer] = value instead\n",
      "\n",
      "See the caveats in the documentation: https://pandas.pydata.org/pandas-docs/stable/user_guide/indexing.html#returning-a-view-versus-a-copy\n",
      "  df_corr['HourDK'] = pd.to_datetime(df_corr['HourDK'])\n"
     ]
    }
   ],
   "source": [
    "df_corr['HourUTC'] = pd.to_datetime(df_corr['HourUTC'])\n",
    "df_corr['HourDK'] = pd.to_datetime(df_corr['HourDK'])\n",
    "\n",
    "df_corr = df_corr.sort_values(by='HourDK')\n",
    "\n",
    "# Split function\n",
    "def split_train_test(df, split_time):\n",
    "    df_train = df.loc[df['HourDK'] < split_time]\n",
    "    df_test = df.loc[df['HourDK'] >= split_time]\n",
    "    return df_train, df_test\n",
    "\n",
    "# Split the data\n",
    "split_time = pd.Timestamp(\"2020-02-01\")\n",
    "df_train, df_temp = split_train_test(df_corr, split_time)\n",
    "split_time_valid = pd.Timestamp(\"2020-03-01\")\n",
    "df_valid, df_test = split_train_test(df_temp, split_time_valid)\n",
    "\n",
    "# Drop datetime columns after splitting\n",
    "df_train = df_train.drop(['HourUTC', 'HourDK'], axis=1)\n",
    "df_valid = df_valid.drop(['HourUTC', 'HourDK'], axis=1)\n",
    "df_test = df_test.drop(['HourUTC', 'HourDK'], axis=1)\n",
    "\n",
    "# Define target and features\n",
    "y_train = df_train[['Consumption_MWh']]  # Target variable\n",
    "x_train = df_train.drop(columns=['Consumption_MWh'])  # Features\n",
    "\n",
    "y_valid = df_valid[['Consumption_MWh']]\n",
    "x_valid = df_valid.drop(columns=['Consumption_MWh'])\n",
    "\n",
    "y_test = df_test[['Consumption_MWh']]\n",
    "x_test = df_test.drop(columns=['Consumption_MWh'])"
   ]
  },
  {
   "cell_type": "code",
   "execution_count": 30,
   "id": "93e58719",
   "metadata": {
    "execution": {
     "iopub.execute_input": "2024-07-07T13:47:23.956809Z",
     "iopub.status.busy": "2024-07-07T13:47:23.956542Z",
     "iopub.status.idle": "2024-07-07T13:47:23.966325Z",
     "shell.execute_reply": "2024-07-07T13:47:23.965159Z"
    },
    "papermill": {
     "duration": 0.028282,
     "end_time": "2024-07-07T13:47:23.968189",
     "exception": false,
     "start_time": "2024-07-07T13:47:23.939907",
     "status": "completed"
    },
    "tags": []
   },
   "outputs": [
    {
     "name": "stdout",
     "output_type": "stream",
     "text": [
      "<class 'pandas.core.frame.DataFrame'>\n",
      "Index: 67152 entries, 1467 to 2092649\n",
      "Data columns (total 6 columns):\n",
      " #   Column           Non-Null Count  Dtype  \n",
      "---  ------           --------------  -----  \n",
      " 0   hour             67152 non-null  int64  \n",
      " 1   day_of_week      67152 non-null  int64  \n",
      " 2   year             67152 non-null  int64  \n",
      " 3   lag_24           67152 non-null  float64\n",
      " 4   lag_47           67152 non-null  float64\n",
      " 5   Consumption_MWh  67152 non-null  float64\n",
      "dtypes: float64(3), int64(3)\n",
      "memory usage: 3.6 MB\n"
     ]
    }
   ],
   "source": [
    "df_train.info(show_counts = True)"
   ]
  },
  {
   "cell_type": "code",
   "execution_count": 31,
   "id": "464ac1ab",
   "metadata": {
    "execution": {
     "iopub.execute_input": "2024-07-07T13:47:24.000879Z",
     "iopub.status.busy": "2024-07-07T13:47:24.000630Z",
     "iopub.status.idle": "2024-07-07T13:51:18.574279Z",
     "shell.execute_reply": "2024-07-07T13:51:18.573387Z"
    },
    "papermill": {
     "duration": 234.609479,
     "end_time": "2024-07-07T13:51:18.593343",
     "exception": false,
     "start_time": "2024-07-07T13:47:23.983864",
     "status": "completed"
    },
    "tags": []
   },
   "outputs": [
    {
     "name": "stderr",
     "output_type": "stream",
     "text": [
      "/tmp/ipykernel_23/1427580338.py:2: DataConversionWarning: A column-vector y was passed when a 1d array was expected. Please change the shape of y to (n_samples,), for example using ravel().\n",
      "  rf_feature_model.fit(x_train, y_train)\n"
     ]
    },
    {
     "data": {
      "text/html": [
       "<style>#sk-container-id-2 {color: black;background-color: white;}#sk-container-id-2 pre{padding: 0;}#sk-container-id-2 div.sk-toggleable {background-color: white;}#sk-container-id-2 label.sk-toggleable__label {cursor: pointer;display: block;width: 100%;margin-bottom: 0;padding: 0.3em;box-sizing: border-box;text-align: center;}#sk-container-id-2 label.sk-toggleable__label-arrow:before {content: \"▸\";float: left;margin-right: 0.25em;color: #696969;}#sk-container-id-2 label.sk-toggleable__label-arrow:hover:before {color: black;}#sk-container-id-2 div.sk-estimator:hover label.sk-toggleable__label-arrow:before {color: black;}#sk-container-id-2 div.sk-toggleable__content {max-height: 0;max-width: 0;overflow: hidden;text-align: left;background-color: #f0f8ff;}#sk-container-id-2 div.sk-toggleable__content pre {margin: 0.2em;color: black;border-radius: 0.25em;background-color: #f0f8ff;}#sk-container-id-2 input.sk-toggleable__control:checked~div.sk-toggleable__content {max-height: 200px;max-width: 100%;overflow: auto;}#sk-container-id-2 input.sk-toggleable__control:checked~label.sk-toggleable__label-arrow:before {content: \"▾\";}#sk-container-id-2 div.sk-estimator input.sk-toggleable__control:checked~label.sk-toggleable__label {background-color: #d4ebff;}#sk-container-id-2 div.sk-label input.sk-toggleable__control:checked~label.sk-toggleable__label {background-color: #d4ebff;}#sk-container-id-2 input.sk-hidden--visually {border: 0;clip: rect(1px 1px 1px 1px);clip: rect(1px, 1px, 1px, 1px);height: 1px;margin: -1px;overflow: hidden;padding: 0;position: absolute;width: 1px;}#sk-container-id-2 div.sk-estimator {font-family: monospace;background-color: #f0f8ff;border: 1px dotted black;border-radius: 0.25em;box-sizing: border-box;margin-bottom: 0.5em;}#sk-container-id-2 div.sk-estimator:hover {background-color: #d4ebff;}#sk-container-id-2 div.sk-parallel-item::after {content: \"\";width: 100%;border-bottom: 1px solid gray;flex-grow: 1;}#sk-container-id-2 div.sk-label:hover label.sk-toggleable__label {background-color: #d4ebff;}#sk-container-id-2 div.sk-serial::before {content: \"\";position: absolute;border-left: 1px solid gray;box-sizing: border-box;top: 0;bottom: 0;left: 50%;z-index: 0;}#sk-container-id-2 div.sk-serial {display: flex;flex-direction: column;align-items: center;background-color: white;padding-right: 0.2em;padding-left: 0.2em;position: relative;}#sk-container-id-2 div.sk-item {position: relative;z-index: 1;}#sk-container-id-2 div.sk-parallel {display: flex;align-items: stretch;justify-content: center;background-color: white;position: relative;}#sk-container-id-2 div.sk-item::before, #sk-container-id-2 div.sk-parallel-item::before {content: \"\";position: absolute;border-left: 1px solid gray;box-sizing: border-box;top: 0;bottom: 0;left: 50%;z-index: -1;}#sk-container-id-2 div.sk-parallel-item {display: flex;flex-direction: column;z-index: 1;position: relative;background-color: white;}#sk-container-id-2 div.sk-parallel-item:first-child::after {align-self: flex-end;width: 50%;}#sk-container-id-2 div.sk-parallel-item:last-child::after {align-self: flex-start;width: 50%;}#sk-container-id-2 div.sk-parallel-item:only-child::after {width: 0;}#sk-container-id-2 div.sk-dashed-wrapped {border: 1px dashed gray;margin: 0 0.4em 0.5em 0.4em;box-sizing: border-box;padding-bottom: 0.4em;background-color: white;}#sk-container-id-2 div.sk-label label {font-family: monospace;font-weight: bold;display: inline-block;line-height: 1.2em;}#sk-container-id-2 div.sk-label-container {text-align: center;}#sk-container-id-2 div.sk-container {/* jupyter's `normalize.less` sets `[hidden] { display: none; }` but bootstrap.min.css set `[hidden] { display: none !important; }` so we also need the `!important` here to be able to override the default hidden behavior on the sphinx rendered scikit-learn.org. See: https://github.com/scikit-learn/scikit-learn/issues/21755 */display: inline-block !important;position: relative;}#sk-container-id-2 div.sk-text-repr-fallback {display: none;}</style><div id=\"sk-container-id-2\" class=\"sk-top-container\"><div class=\"sk-text-repr-fallback\"><pre>RandomForestRegressor(n_estimators=1000, random_state=10)</pre><b>In a Jupyter environment, please rerun this cell to show the HTML representation or trust the notebook. <br />On GitHub, the HTML representation is unable to render, please try loading this page with nbviewer.org.</b></div><div class=\"sk-container\" hidden><div class=\"sk-item\"><div class=\"sk-estimator sk-toggleable\"><input class=\"sk-toggleable__control sk-hidden--visually\" id=\"sk-estimator-id-2\" type=\"checkbox\" checked><label for=\"sk-estimator-id-2\" class=\"sk-toggleable__label sk-toggleable__label-arrow\">RandomForestRegressor</label><div class=\"sk-toggleable__content\"><pre>RandomForestRegressor(n_estimators=1000, random_state=10)</pre></div></div></div></div></div>"
      ],
      "text/plain": [
       "RandomForestRegressor(n_estimators=1000, random_state=10)"
      ]
     },
     "execution_count": 31,
     "metadata": {},
     "output_type": "execute_result"
    }
   ],
   "source": [
    "rf_feature_model = RandomForestRegressor(n_estimators=1000, random_state=10)\n",
    "rf_feature_model.fit(x_train, y_train)"
   ]
  },
  {
   "cell_type": "code",
   "execution_count": 32,
   "id": "1c558474",
   "metadata": {
    "execution": {
     "iopub.execute_input": "2024-07-07T13:51:18.626330Z",
     "iopub.status.busy": "2024-07-07T13:51:18.626064Z",
     "iopub.status.idle": "2024-07-07T13:51:25.927373Z",
     "shell.execute_reply": "2024-07-07T13:51:25.926451Z"
    },
    "papermill": {
     "duration": 7.320448,
     "end_time": "2024-07-07T13:51:25.929576",
     "exception": false,
     "start_time": "2024-07-07T13:51:18.609128",
     "status": "completed"
    },
    "tags": []
   },
   "outputs": [
    {
     "data": {
      "text/plain": [
       "array([31.4515703 , 31.38074251, 31.5997587 , ..., 36.34767187,\n",
       "       36.39367252, 34.2907103 ])"
      ]
     },
     "execution_count": 32,
     "metadata": {},
     "output_type": "execute_result"
    }
   ],
   "source": [
    "y_pred = rf_feature_model.predict(x_test)\n",
    "y_pred"
   ]
  },
  {
   "cell_type": "code",
   "execution_count": 33,
   "id": "38d2260b",
   "metadata": {
    "execution": {
     "iopub.execute_input": "2024-07-07T13:51:25.965216Z",
     "iopub.status.busy": "2024-07-07T13:51:25.964922Z",
     "iopub.status.idle": "2024-07-07T13:51:25.976022Z",
     "shell.execute_reply": "2024-07-07T13:51:25.975020Z"
    },
    "papermill": {
     "duration": 0.030067,
     "end_time": "2024-07-07T13:51:25.977840",
     "exception": false,
     "start_time": "2024-07-07T13:51:25.947773",
     "status": "completed"
    },
    "tags": []
   },
   "outputs": [
    {
     "name": "stdout",
     "output_type": "stream",
     "text": [
      "Mean Absolute Error (MAE): 2.8798786673714365\n",
      "Mean Squared Error (MSE): 20.865642953200005\n",
      "Root Mean Squared Error (RMSE): 4.567892616207172\n",
      "R-squared (R²): 0.7656783429702624\n"
     ]
    }
   ],
   "source": [
    "# Calculate evaluation metrics\n",
    "mae = mean_absolute_error(y_test, y_pred)\n",
    "mse = mean_squared_error(y_test, y_pred)\n",
    "rmse = np.sqrt(mse)\n",
    "r2 = r2_score(y_test, y_pred)\n",
    "\n",
    "print(f'Mean Absolute Error (MAE): {mae}')\n",
    "print(f'Mean Squared Error (MSE): {mse}')\n",
    "print(f'Root Mean Squared Error (RMSE): {rmse}')\n",
    "print(f'R-squared (R²): {r2}')"
   ]
  },
  {
   "cell_type": "code",
   "execution_count": 34,
   "id": "3374cf8e",
   "metadata": {
    "execution": {
     "iopub.execute_input": "2024-07-07T13:51:26.011299Z",
     "iopub.status.busy": "2024-07-07T13:51:26.011003Z",
     "iopub.status.idle": "2024-07-07T13:51:33.230701Z",
     "shell.execute_reply": "2024-07-07T13:51:33.229720Z"
    },
    "papermill": {
     "duration": 7.239135,
     "end_time": "2024-07-07T13:51:33.233035",
     "exception": false,
     "start_time": "2024-07-07T13:51:25.993900",
     "status": "completed"
    },
    "tags": []
   },
   "outputs": [
    {
     "data": {
      "text/html": [
       "<div>\n",
       "<style scoped>\n",
       "    .dataframe tbody tr th:only-of-type {\n",
       "        vertical-align: middle;\n",
       "    }\n",
       "\n",
       "    .dataframe tbody tr th {\n",
       "        vertical-align: top;\n",
       "    }\n",
       "\n",
       "    .dataframe thead th {\n",
       "        text-align: right;\n",
       "    }\n",
       "</style>\n",
       "<table border=\"1\" class=\"dataframe\">\n",
       "  <thead>\n",
       "    <tr style=\"text-align: right;\">\n",
       "      <th></th>\n",
       "      <th>actual</th>\n",
       "      <th>prediction</th>\n",
       "      <th>squared_error</th>\n",
       "    </tr>\n",
       "  </thead>\n",
       "  <tbody>\n",
       "    <tr>\n",
       "      <th>2114953</th>\n",
       "      <td>32.316631</td>\n",
       "      <td>31.451570</td>\n",
       "      <td>0.748330</td>\n",
       "    </tr>\n",
       "    <tr>\n",
       "      <th>2114986</th>\n",
       "      <td>31.509554</td>\n",
       "      <td>31.380743</td>\n",
       "      <td>0.016592</td>\n",
       "    </tr>\n",
       "    <tr>\n",
       "      <th>2115020</th>\n",
       "      <td>31.603830</td>\n",
       "      <td>31.599759</td>\n",
       "      <td>0.000017</td>\n",
       "    </tr>\n",
       "    <tr>\n",
       "      <th>2115051</th>\n",
       "      <td>31.697868</td>\n",
       "      <td>31.450101</td>\n",
       "      <td>0.061389</td>\n",
       "    </tr>\n",
       "    <tr>\n",
       "      <th>2115082</th>\n",
       "      <td>31.886505</td>\n",
       "      <td>30.913752</td>\n",
       "      <td>0.946249</td>\n",
       "    </tr>\n",
       "  </tbody>\n",
       "</table>\n",
       "</div>"
      ],
      "text/plain": [
       "            actual  prediction  squared_error\n",
       "2114953  32.316631   31.451570       0.748330\n",
       "2114986  31.509554   31.380743       0.016592\n",
       "2115020  31.603830   31.599759       0.000017\n",
       "2115051  31.697868   31.450101       0.061389\n",
       "2115082  31.886505   30.913752       0.946249"
      ]
     },
     "execution_count": 34,
     "metadata": {},
     "output_type": "execute_result"
    }
   ],
   "source": [
    "def compute_predictions_df(model, X, y):\n",
    "    y_pred = model.predict(X)\n",
    "    df = pd.DataFrame({'actual': y.values.flatten(), 'prediction': y_pred.flatten()}, index=X.index)\n",
    "    df[\"squared_error\"] = (df[\"actual\"] - df[\"prediction\"])**2\n",
    "    return df\n",
    "\n",
    "pred_df = compute_predictions_df(rf_feature_model, x_test, y_test)\n",
    "pred_df.head()"
   ]
  },
  {
   "cell_type": "code",
   "execution_count": 35,
   "id": "787d66b9",
   "metadata": {
    "execution": {
     "iopub.execute_input": "2024-07-07T13:51:33.271190Z",
     "iopub.status.busy": "2024-07-07T13:51:33.270880Z",
     "iopub.status.idle": "2024-07-07T13:51:33.319185Z",
     "shell.execute_reply": "2024-07-07T13:51:33.318516Z"
    },
    "papermill": {
     "duration": 0.069572,
     "end_time": "2024-07-07T13:51:33.321214",
     "exception": false,
     "start_time": "2024-07-07T13:51:33.251642",
     "status": "completed"
    },
    "tags": []
   },
   "outputs": [],
   "source": [
    "df_corr['HourUTC'] = pd.to_datetime(df_corr['HourUTC'])\n",
    "df_corr['HourDK'] = pd.to_datetime(df_corr['HourDK'])\n",
    "\n",
    "df_corr = df_corr.sort_values(by='HourDK')\n",
    "\n",
    "# Split function\n",
    "def split_train_test(df, split_time):\n",
    "    df_train = df.loc[df['HourDK'] < split_time]\n",
    "    df_test = df.loc[df['HourDK'] >= split_time]\n",
    "    return df_train, df_test\n",
    "\n",
    "# Split the data\n",
    "split_time = pd.Timestamp(\"2020-02-01\")\n",
    "df_train, df_temp = split_train_test(df_corr, split_time)\n",
    "split_time_valid = pd.Timestamp(\"2020-03-01\")\n",
    "df_valid, df_test = split_train_test(df_temp, split_time_valid)"
   ]
  },
  {
   "cell_type": "code",
   "execution_count": 36,
   "id": "e5a3d2cb",
   "metadata": {
    "execution": {
     "iopub.execute_input": "2024-07-07T13:51:33.356824Z",
     "iopub.status.busy": "2024-07-07T13:51:33.356555Z",
     "iopub.status.idle": "2024-07-07T13:51:33.367001Z",
     "shell.execute_reply": "2024-07-07T13:51:33.365775Z"
    },
    "papermill": {
     "duration": 0.030209,
     "end_time": "2024-07-07T13:51:33.369108",
     "exception": false,
     "start_time": "2024-07-07T13:51:33.338899",
     "status": "completed"
    },
    "tags": []
   },
   "outputs": [
    {
     "name": "stdout",
     "output_type": "stream",
     "text": [
      "<class 'pandas.core.frame.DataFrame'>\n",
      "Index: 37775 entries, 2114953 to 3323719\n",
      "Data columns (total 8 columns):\n",
      " #   Column           Non-Null Count  Dtype         \n",
      "---  ------           --------------  -----         \n",
      " 0   HourUTC          37775 non-null  datetime64[ns]\n",
      " 1   HourDK           37775 non-null  datetime64[ns]\n",
      " 2   hour             37775 non-null  int64         \n",
      " 3   day_of_week      37775 non-null  int64         \n",
      " 4   year             37775 non-null  int64         \n",
      " 5   lag_24           37775 non-null  float64       \n",
      " 6   lag_47           37775 non-null  float64       \n",
      " 7   Consumption_MWh  37775 non-null  float64       \n",
      "dtypes: datetime64[ns](2), float64(3), int64(3)\n",
      "memory usage: 2.6 MB\n"
     ]
    }
   ],
   "source": [
    "df_test.info(show_counts = True)"
   ]
  },
  {
   "cell_type": "code",
   "execution_count": 37,
   "id": "6088e2dd",
   "metadata": {
    "execution": {
     "iopub.execute_input": "2024-07-07T13:51:33.403638Z",
     "iopub.status.busy": "2024-07-07T13:51:33.403127Z",
     "iopub.status.idle": "2024-07-07T13:51:33.423646Z",
     "shell.execute_reply": "2024-07-07T13:51:33.422490Z"
    },
    "papermill": {
     "duration": 0.039674,
     "end_time": "2024-07-07T13:51:33.425583",
     "exception": false,
     "start_time": "2024-07-07T13:51:33.385909",
     "status": "completed"
    },
    "tags": []
   },
   "outputs": [
    {
     "name": "stdout",
     "output_type": "stream",
     "text": [
      "<class 'pandas.core.frame.DataFrame'>\n",
      "Index: 37775 entries, 2114953 to 3323719\n",
      "Data columns (total 11 columns):\n",
      " #   Column           Non-Null Count  Dtype         \n",
      "---  ------           --------------  -----         \n",
      " 0   HourUTC          37775 non-null  datetime64[ns]\n",
      " 1   HourDK           37775 non-null  datetime64[ns]\n",
      " 2   hour             37775 non-null  int64         \n",
      " 3   day_of_week      37775 non-null  int64         \n",
      " 4   year             37775 non-null  int64         \n",
      " 5   lag_24           37775 non-null  float64       \n",
      " 6   lag_47           37775 non-null  float64       \n",
      " 7   Consumption_MWh  37775 non-null  float64       \n",
      " 8   actual           37775 non-null  float64       \n",
      " 9   prediction       37775 non-null  float64       \n",
      " 10  squared_error    37775 non-null  float64       \n",
      "dtypes: datetime64[ns](2), float64(6), int64(3)\n",
      "memory usage: 3.5 MB\n"
     ]
    }
   ],
   "source": [
    "# Assume 'data' is the additional DataFrame you want to merge into df_corr\n",
    "# Merge data into df_corr\n",
    "pred_df = pd.merge(df_test, pred_df, left_index=True, right_index=True)\n",
    "pred_df.info(show_counts = True)"
   ]
  },
  {
   "cell_type": "code",
   "execution_count": 38,
   "id": "28c806b1",
   "metadata": {
    "execution": {
     "iopub.execute_input": "2024-07-07T13:51:33.473619Z",
     "iopub.status.busy": "2024-07-07T13:51:33.472819Z",
     "iopub.status.idle": "2024-07-07T13:51:34.142059Z",
     "shell.execute_reply": "2024-07-07T13:51:34.141010Z"
    },
    "papermill": {
     "duration": 0.695102,
     "end_time": "2024-07-07T13:51:34.144388",
     "exception": false,
     "start_time": "2024-07-07T13:51:33.449286",
     "status": "completed"
    },
    "tags": []
   },
   "outputs": [
    {
     "data": {
      "image/png": "[encoded data removed]",
      "text/plain": [
       "<Figure size 1200x500 with 1 Axes>"
      ]
     },
     "metadata": {},
     "output_type": "display_data"
    }
   ],
   "source": [
    "plt.figure(figsize=(12, 5))\n",
    "start = pred_df['HourDK'].min()\n",
    "end = pred_df['HourDK'].max()\n",
    "plt.plot(pred_df['HourDK'], pred_df['actual'], label='Actual')\n",
    "plt.plot(pred_df['HourDK'], pred_df['prediction'], label='Prediction')\n",
    "plt.title('Predictions on test set')\n",
    "plt.xlabel('Index')\n",
    "plt.ylabel('MW')\n",
    "plt.legend()\n",
    "plt.grid()\n",
    "plt.show()"
   ]
  },
  {
   "cell_type": "code",
   "execution_count": 39,
   "id": "a65859ef",
   "metadata": {
    "execution": {
     "iopub.execute_input": "2024-07-07T13:51:34.182357Z",
     "iopub.status.busy": "2024-07-07T13:51:34.182057Z",
     "iopub.status.idle": "2024-07-07T13:51:34.620857Z",
     "shell.execute_reply": "2024-07-07T13:51:34.619941Z"
    },
    "papermill": {
     "duration": 0.461237,
     "end_time": "2024-07-07T13:51:34.623693",
     "exception": false,
     "start_time": "2024-07-07T13:51:34.162456",
     "status": "completed"
    },
    "tags": []
   },
   "outputs": [
    {
     "data": {
      "image/png": "[encoded data removed]",
      "text/plain": [
       "<Figure size 1200x500 with 1 Axes>"
      ]
     },
     "metadata": {},
     "output_type": "display_data"
    }
   ],
   "source": [
    "# Filter pred_df based on the desired timeframe (assuming HourDK is a datetime column)\n",
    "pred_df_filtered = pred_df[(pred_df['HourDK'] >= '2020-01-01') & (pred_df['HourDK'] <= '2020-12-31')]\n",
    "\n",
    "plt.figure(figsize=(12, 5))\n",
    "plt.plot(pred_df_filtered['HourDK'], pred_df_filtered['actual'], label='Actual')\n",
    "plt.plot(pred_df_filtered['HourDK'], pred_df_filtered['prediction'], label='Prediction')\n",
    "plt.title('Predictions on test set (2020-2022)')\n",
    "plt.xlabel('Time')\n",
    "plt.ylabel('MW')\n",
    "plt.legend()\n",
    "plt.grid()\n",
    "plt.show()"
   ]
  },
  {
   "cell_type": "code",
   "execution_count": 40,
   "id": "e58fded5",
   "metadata": {
    "execution": {
     "iopub.execute_input": "2024-07-07T13:51:34.663868Z",
     "iopub.status.busy": "2024-07-07T13:51:34.663352Z",
     "iopub.status.idle": "2024-07-07T13:51:35.011115Z",
     "shell.execute_reply": "2024-07-07T13:51:35.010177Z"
    },
    "papermill": {
     "duration": 0.37107,
     "end_time": "2024-07-07T13:51:35.014298",
     "exception": false,
     "start_time": "2024-07-07T13:51:34.643228",
     "status": "completed"
    },
    "tags": []
   },
   "outputs": [
    {
     "data": {
      "image/png": "[encoded data removed]",
      "text/plain": [
       "<Figure size 1200x500 with 1 Axes>"
      ]
     },
     "metadata": {},
     "output_type": "display_data"
    }
   ],
   "source": [
    "# Filter pred_df based on the desired timeframe (assuming HourDK is a datetime column)\n",
    "pred_df_filtered = pred_df[(pred_df['HourDK'] >= '2020-01-01') & (pred_df['HourDK'] <= '2020-05-31')]\n",
    "\n",
    "plt.figure(figsize=(12, 5))\n",
    "plt.plot(pred_df_filtered['HourDK'], pred_df_filtered['actual'], label='Actual')\n",
    "plt.plot(pred_df_filtered['HourDK'], pred_df_filtered['prediction'], label='Prediction')\n",
    "plt.title('Predictions on test set (2020-2022)')\n",
    "plt.xlabel('Time')\n",
    "plt.ylabel('MW')\n",
    "plt.legend()\n",
    "plt.grid()\n",
    "plt.show()"
   ]
  },
  {
   "cell_type": "code",
   "execution_count": null,
   "id": "7235f7ad",
   "metadata": {
    "papermill": {
     "duration": 0.021233,
     "end_time": "2024-07-07T13:51:35.056679",
     "exception": false,
     "start_time": "2024-07-07T13:51:35.035446",
     "status": "completed"
    },
    "tags": []
   },
   "outputs": [],
   "source": []
  }
 ],
 "metadata": {
  "kaggle": {
   "accelerator": "nvidiaTeslaT4",
   "dataSources": [
    {
     "datasetId": 5327803,
     "sourceId": 8851167,
     "sourceType": "datasetVersion"
    }
   ],
   "dockerImageVersionId": 30733,
   "isGpuEnabled": true,
   "isInternetEnabled": true,
   "language": "python",
   "sourceType": "notebook"
  },
  "kernelspec": {
   "display_name": "Python 3",
   "language": "python",
   "name": "python3"
  },
  "language_info": {
   "codemirror_mode": {
    "name": "ipython",
    "version": 3
   },
   "file_extension": ".py",
   "mimetype": "text/x-python",
   "name": "python",
   "nbconvert_exporter": "python",
   "pygments_lexer": "ipython3",
   "version": "3.10.13"
  },
  "papermill": {
   "default_parameters": {},
   "duration": 2576.648965,
   "end_time": "2024-07-07T13:51:36.405070",
   "environment_variables": {},
   "exception": null,
   "input_path": "__notebook__.ipynb",
   "output_path": "__notebook__.ipynb",
   "parameters": {},
   "start_time": "2024-07-07T13:08:39.756105",
   "version": "2.5.0"
  }
 },
 "nbformat": 4,
 "nbformat_minor": 5
}
