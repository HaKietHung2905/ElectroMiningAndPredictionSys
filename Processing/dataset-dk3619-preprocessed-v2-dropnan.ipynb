{
 "cells": [
  {
   "cell_type": "code",
   "execution_count": 1,
   "id": "02b6136e",
   "metadata": {
    "_cell_guid": "b1076dfc-b9ad-4769-8c92-a6c4dae69d19",
    "_uuid": "8f2839f25d086af736a60e9eeb907d3b93b6e0e5",
    "execution": {
     "iopub.execute_input": "2024-07-08T15:18:35.370225Z",
     "iopub.status.busy": "2024-07-08T15:18:35.369683Z",
     "iopub.status.idle": "2024-07-08T15:18:38.227731Z",
     "shell.execute_reply": "2024-07-08T15:18:38.226253Z"
    },
    "papermill": {
     "duration": 2.867093,
     "end_time": "2024-07-08T15:18:38.230715",
     "exception": false,
     "start_time": "2024-07-08T15:18:35.363622",
     "status": "completed"
    },
    "tags": []
   },
   "outputs": [],
   "source": [
    "# Import packages and modules\n",
    "import pandas as pd\n",
    "import numpy as np \n",
    "import seaborn as sns"
   ]
  },
  {
   "cell_type": "code",
   "execution_count": 2,
   "id": "4c693669",
   "metadata": {
    "execution": {
     "iopub.execute_input": "2024-07-08T15:18:38.239498Z",
     "iopub.status.busy": "2024-07-08T15:18:38.238972Z",
     "iopub.status.idle": "2024-07-08T15:19:28.264714Z",
     "shell.execute_reply": "2024-07-08T15:19:28.263508Z"
    },
    "papermill": {
     "duration": 50.03367,
     "end_time": "2024-07-08T15:19:28.267699",
     "exception": false,
     "start_time": "2024-07-08T15:18:38.234029",
     "status": "completed"
    },
    "tags": []
   },
   "outputs": [],
   "source": [
    "df  = pd.read_csv(\"/kaggle/input/dataset-dk3619-preprocessed-v1/dataset_dk3619_preprocessed_v1.csv\")"
   ]
  },
  {
   "cell_type": "code",
   "execution_count": 3,
   "id": "b76324f0",
   "metadata": {
    "execution": {
     "iopub.execute_input": "2024-07-08T15:19:28.275499Z",
     "iopub.status.busy": "2024-07-08T15:19:28.275095Z",
     "iopub.status.idle": "2024-07-08T15:19:31.308003Z",
     "shell.execute_reply": "2024-07-08T15:19:31.306498Z"
    },
    "papermill": {
     "duration": 3.040381,
     "end_time": "2024-07-08T15:19:31.311153",
     "exception": false,
     "start_time": "2024-07-08T15:19:28.270772",
     "status": "completed"
    },
    "tags": []
   },
   "outputs": [
    {
     "name": "stdout",
     "output_type": "stream",
     "text": [
      "<class 'pandas.core.frame.DataFrame'>\n",
      "RangeIndex: 3323747 entries, 0 to 3323746\n",
      "Data columns (total 43 columns):\n",
      " #   Column           Non-Null Count    Dtype  \n",
      "---  ------           --------------    -----  \n",
      " 0   HourUTC          3323747 non-null  object \n",
      " 1   HourDK           3323747 non-null  object \n",
      " 2   Consumption_MWh  3323747 non-null  float64\n",
      " 3   DK3619Code       3323747 non-null  object \n",
      " 4   hour             3323747 non-null  int64  \n",
      " 5   day_of_week      3323747 non-null  int64  \n",
      " 6   quarter          3323747 non-null  int64  \n",
      " 7   month            3323747 non-null  int64  \n",
      " 8   year             3323747 non-null  int64  \n",
      " 9   day_of_year      3323747 non-null  int64  \n",
      " 10  day_of_month     3323747 non-null  int64  \n",
      " 11  week_of_year     3323747 non-null  int64  \n",
      " 12  season           3323747 non-null  object \n",
      " 13  holiday          3323747 non-null  int64  \n",
      " 14  DK36Code         3323747 non-null  object \n",
      " 15  DK36Title        3323747 non-null  object \n",
      " 16  DK19Code         3323747 non-null  object \n",
      " 17  DK19Title        3323747 non-null  object \n",
      " 18  lag_24           3322979 non-null  float64\n",
      " 19  lag_25           3322947 non-null  float64\n",
      " 20  lag_26           3322915 non-null  float64\n",
      " 21  lag_27           3322883 non-null  float64\n",
      " 22  lag_28           3322851 non-null  float64\n",
      " 23  lag_29           3322819 non-null  float64\n",
      " 24  lag_30           3322787 non-null  float64\n",
      " 25  lag_31           3322755 non-null  float64\n",
      " 26  lag_32           3322723 non-null  float64\n",
      " 27  lag_33           3322691 non-null  float64\n",
      " 28  lag_34           3322659 non-null  float64\n",
      " 29  lag_35           3322627 non-null  float64\n",
      " 30  lag_36           3322595 non-null  float64\n",
      " 31  lag_37           3322563 non-null  float64\n",
      " 32  lag_38           3322531 non-null  float64\n",
      " 33  lag_39           3322499 non-null  float64\n",
      " 34  lag_40           3322467 non-null  float64\n",
      " 35  lag_41           3322435 non-null  float64\n",
      " 36  lag_42           3322403 non-null  float64\n",
      " 37  lag_43           3322371 non-null  float64\n",
      " 38  lag_44           3322339 non-null  float64\n",
      " 39  lag_45           3322307 non-null  float64\n",
      " 40  lag_46           3322275 non-null  float64\n",
      " 41  lag_47           3322243 non-null  float64\n",
      " 42  lag_48           3322211 non-null  float64\n",
      "dtypes: float64(26), int64(9), object(8)\n",
      "memory usage: 1.1+ GB\n",
      "None\n"
     ]
    }
   ],
   "source": [
    "# Kiểm tra lại kết quả\n",
    "print(df.info(show_counts = True))"
   ]
  },
  {
   "cell_type": "code",
   "execution_count": 4,
   "id": "4c634783",
   "metadata": {
    "execution": {
     "iopub.execute_input": "2024-07-08T15:19:31.319918Z",
     "iopub.status.busy": "2024-07-08T15:19:31.319433Z",
     "iopub.status.idle": "2024-07-08T15:19:35.055128Z",
     "shell.execute_reply": "2024-07-08T15:19:35.053838Z"
    },
    "papermill": {
     "duration": 3.743635,
     "end_time": "2024-07-08T15:19:35.058261",
     "exception": false,
     "start_time": "2024-07-08T15:19:31.314626",
     "status": "completed"
    },
    "tags": []
   },
   "outputs": [],
   "source": [
    "# Xóa tất cả các hàng có giá trị null\n",
    "df_cleaned = df.dropna()"
   ]
  },
  {
   "cell_type": "code",
   "execution_count": 5,
   "id": "27feec38",
   "metadata": {
    "execution": {
     "iopub.execute_input": "2024-07-08T15:19:35.066708Z",
     "iopub.status.busy": "2024-07-08T15:19:35.066296Z",
     "iopub.status.idle": "2024-07-08T15:19:38.055375Z",
     "shell.execute_reply": "2024-07-08T15:19:38.053514Z"
    },
    "papermill": {
     "duration": 2.996691,
     "end_time": "2024-07-08T15:19:38.058355",
     "exception": false,
     "start_time": "2024-07-08T15:19:35.061664",
     "status": "completed"
    },
    "tags": []
   },
   "outputs": [
    {
     "name": "stdout",
     "output_type": "stream",
     "text": [
      "<class 'pandas.core.frame.DataFrame'>\n",
      "Index: 3322211 entries, 1536 to 3323746\n",
      "Data columns (total 43 columns):\n",
      " #   Column           Non-Null Count    Dtype  \n",
      "---  ------           --------------    -----  \n",
      " 0   HourUTC          3322211 non-null  object \n",
      " 1   HourDK           3322211 non-null  object \n",
      " 2   Consumption_MWh  3322211 non-null  float64\n",
      " 3   DK3619Code       3322211 non-null  object \n",
      " 4   hour             3322211 non-null  int64  \n",
      " 5   day_of_week      3322211 non-null  int64  \n",
      " 6   quarter          3322211 non-null  int64  \n",
      " 7   month            3322211 non-null  int64  \n",
      " 8   year             3322211 non-null  int64  \n",
      " 9   day_of_year      3322211 non-null  int64  \n",
      " 10  day_of_month     3322211 non-null  int64  \n",
      " 11  week_of_year     3322211 non-null  int64  \n",
      " 12  season           3322211 non-null  object \n",
      " 13  holiday          3322211 non-null  int64  \n",
      " 14  DK36Code         3322211 non-null  object \n",
      " 15  DK36Title        3322211 non-null  object \n",
      " 16  DK19Code         3322211 non-null  object \n",
      " 17  DK19Title        3322211 non-null  object \n",
      " 18  lag_24           3322211 non-null  float64\n",
      " 19  lag_25           3322211 non-null  float64\n",
      " 20  lag_26           3322211 non-null  float64\n",
      " 21  lag_27           3322211 non-null  float64\n",
      " 22  lag_28           3322211 non-null  float64\n",
      " 23  lag_29           3322211 non-null  float64\n",
      " 24  lag_30           3322211 non-null  float64\n",
      " 25  lag_31           3322211 non-null  float64\n",
      " 26  lag_32           3322211 non-null  float64\n",
      " 27  lag_33           3322211 non-null  float64\n",
      " 28  lag_34           3322211 non-null  float64\n",
      " 29  lag_35           3322211 non-null  float64\n",
      " 30  lag_36           3322211 non-null  float64\n",
      " 31  lag_37           3322211 non-null  float64\n",
      " 32  lag_38           3322211 non-null  float64\n",
      " 33  lag_39           3322211 non-null  float64\n",
      " 34  lag_40           3322211 non-null  float64\n",
      " 35  lag_41           3322211 non-null  float64\n",
      " 36  lag_42           3322211 non-null  float64\n",
      " 37  lag_43           3322211 non-null  float64\n",
      " 38  lag_44           3322211 non-null  float64\n",
      " 39  lag_45           3322211 non-null  float64\n",
      " 40  lag_46           3322211 non-null  float64\n",
      " 41  lag_47           3322211 non-null  float64\n",
      " 42  lag_48           3322211 non-null  float64\n",
      "dtypes: float64(26), int64(9), object(8)\n",
      "memory usage: 1.1+ GB\n",
      "None\n"
     ]
    }
   ],
   "source": [
    "# Kiểm tra lại kết quả\n",
    "print(df_cleaned.info(show_counts = True))"
   ]
  },
  {
   "cell_type": "code",
   "execution_count": 6,
   "id": "42b602c9",
   "metadata": {
    "execution": {
     "iopub.execute_input": "2024-07-08T15:19:38.067381Z",
     "iopub.status.busy": "2024-07-08T15:19:38.066977Z",
     "iopub.status.idle": "2024-07-08T15:22:31.366758Z",
     "shell.execute_reply": "2024-07-08T15:22:31.365379Z"
    },
    "papermill": {
     "duration": 173.30794,
     "end_time": "2024-07-08T15:22:31.369973",
     "exception": false,
     "start_time": "2024-07-08T15:19:38.062033",
     "status": "completed"
    },
    "tags": []
   },
   "outputs": [],
   "source": [
    "df_cleaned.to_csv('/kaggle/working/dataset_dk3619_preprocessed_v2_dropnan.csv', index=False)"
   ]
  }
 ],
 "metadata": {
  "kaggle": {
   "accelerator": "none",
   "dataSources": [
    {
     "datasetId": 5351983,
     "sourceId": 8902444,
     "sourceType": "datasetVersion"
    }
   ],
   "dockerImageVersionId": 30732,
   "isGpuEnabled": false,
   "isInternetEnabled": true,
   "language": "python",
   "sourceType": "notebook"
  },
  "kernelspec": {
   "display_name": "Python 3",
   "language": "python",
   "name": "python3"
  },
  "language_info": {
   "codemirror_mode": {
    "name": "ipython",
    "version": 3
   },
   "file_extension": ".py",
   "mimetype": "text/x-python",
   "name": "python",
   "nbconvert_exporter": "python",
   "pygments_lexer": "ipython3",
   "version": "3.10.13"
  },
  "papermill": {
   "default_parameters": {},
   "duration": 240.503184,
   "end_time": "2024-07-08T15:22:32.298423",
   "environment_variables": {},
   "exception": null,
   "input_path": "__notebook__.ipynb",
   "output_path": "__notebook__.ipynb",
   "parameters": {},
   "start_time": "2024-07-08T15:18:31.795239",
   "version": "2.5.0"
  }
 },
 "nbformat": 4,
 "nbformat_minor": 5
}
