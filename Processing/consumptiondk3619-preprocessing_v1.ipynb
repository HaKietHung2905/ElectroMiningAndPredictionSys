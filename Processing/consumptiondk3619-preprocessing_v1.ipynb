{
 "cells": [
  {
   "cell_type": "code",
   "execution_count": 1,
   "id": "4dded5e0",
   "metadata": {
    "execution": {
     "iopub.execute_input": "2024-07-03T13:23:54.966124Z",
     "iopub.status.busy": "2024-07-03T13:23:54.965712Z",
     "iopub.status.idle": "2024-07-03T13:23:56.908777Z",
     "shell.execute_reply": "2024-07-03T13:23:56.907848Z"
    },
    "papermill": {
     "duration": 1.955597,
     "end_time": "2024-07-03T13:23:56.911254",
     "exception": false,
     "start_time": "2024-07-03T13:23:54.955657",
     "status": "completed"
    },
    "tags": []
   },
   "outputs": [],
   "source": [
    "# import the libraries\n",
    "import pandas as pd\n",
    "import numpy as np\n",
    "import matplotlib.pyplot as plt\n",
    "import seaborn as sns"
   ]
  },
  {
   "cell_type": "markdown",
   "id": "f2ca113e",
   "metadata": {
    "papermill": {
     "duration": 0.007583,
     "end_time": "2024-07-03T13:23:56.927121",
     "exception": false,
     "start_time": "2024-07-03T13:23:56.919538",
     "status": "completed"
    },
    "tags": []
   },
   "source": [
    "## Get data ConsumptionDE35Hour full 2.994.932 rows"
   ]
  },
  {
   "cell_type": "code",
   "execution_count": 2,
   "id": "f265210b",
   "metadata": {
    "execution": {
     "iopub.execute_input": "2024-07-03T13:23:56.944637Z",
     "iopub.status.busy": "2024-07-03T13:23:56.944163Z",
     "iopub.status.idle": "2024-07-03T13:23:56.949162Z",
     "shell.execute_reply": "2024-07-03T13:23:56.948199Z"
    },
    "papermill": {
     "duration": 0.01613,
     "end_time": "2024-07-03T13:23:56.951253",
     "exception": false,
     "start_time": "2024-07-03T13:23:56.935123",
     "status": "completed"
    },
    "tags": []
   },
   "outputs": [],
   "source": [
    "# import requests\n",
    "# import csv\n",
    "\n",
    "# # Fetch the data from the API\n",
    "# response = requests.get(\n",
    "#     url='https://api.energidataservice.dk/dataset/ConsumptionDE35Hour?limit=2994932'\n",
    "# )\n",
    "# result = response.json()\n",
    "\n",
    "# # Extract records from the response\n",
    "# records = result.get('records', [])\n",
    "\n",
    "# # Define the CSV file path\n",
    "# csv_file_path = '/kaggle/working/ConsumptionDE35Hour.csv'\n",
    "\n",
    "# # Write records to the CSV file\n",
    "# with open(csv_file_path, mode='w', newline='') as file:\n",
    "#     writer = csv.writer(file)\n",
    "    \n",
    "#     # Write the header\n",
    "#     if records:\n",
    "#         header = records[0].keys()\n",
    "#         writer.writerow(header)\n",
    "    \n",
    "#     # Write the data\n",
    "#     for record in records:\n",
    "#         writer.writerow(record.values())\n",
    "\n",
    "# print(f'Data has been written to {csv_file_path}')"
   ]
  },
  {
   "cell_type": "markdown",
   "id": "65b261c6",
   "metadata": {
    "papermill": {
     "duration": 0.007498,
     "end_time": "2024-07-03T13:23:56.966699",
     "exception": false,
     "start_time": "2024-07-03T13:23:56.959201",
     "status": "completed"
    },
    "tags": []
   },
   "source": [
    "## Get data ConsumptionDK3619codehour full 3.533.984 rows"
   ]
  },
  {
   "cell_type": "code",
   "execution_count": 3,
   "id": "b836176a",
   "metadata": {
    "execution": {
     "iopub.execute_input": "2024-07-03T13:23:56.985164Z",
     "iopub.status.busy": "2024-07-03T13:23:56.984782Z",
     "iopub.status.idle": "2024-07-03T13:23:56.990066Z",
     "shell.execute_reply": "2024-07-03T13:23:56.989078Z"
    },
    "papermill": {
     "duration": 0.017249,
     "end_time": "2024-07-03T13:23:56.992033",
     "exception": false,
     "start_time": "2024-07-03T13:23:56.974784",
     "status": "completed"
    },
    "tags": []
   },
   "outputs": [],
   "source": [
    "# import requests\n",
    "# import csv\n",
    "\n",
    "# # Fetch the data from the API\n",
    "# response = requests.get(\n",
    "#     url='https://api.energidataservice.dk/dataset/ConsumptionDK3619codehour?limit=3533984'\n",
    "# )\n",
    "# result = response.json()\n",
    "\n",
    "# # Extract records from the response\n",
    "# records = result.get('records', [])\n",
    "\n",
    "# # Define the CSV file path\n",
    "# csv_file_path = '/kaggle/working/ConsumptionDK3619codehour.csv'\n",
    "\n",
    "# # Write records to the CSV file\n",
    "# with open(csv_file_path, mode='w', newline='') as file:\n",
    "#     writer = csv.writer(file)\n",
    "    \n",
    "#     # Write the header\n",
    "#     if records:\n",
    "#         header = records[0].keys()\n",
    "#         writer.writerow(header)\n",
    "    \n",
    "#     # Write the data\n",
    "#     for record in records:\n",
    "#         writer.writerow(record.values())\n",
    "\n",
    "# print(f'Data has been written to {csv_file_path}')"
   ]
  },
  {
   "cell_type": "code",
   "execution_count": 4,
   "id": "a9ce11fb",
   "metadata": {
    "execution": {
     "iopub.execute_input": "2024-07-03T13:23:57.009808Z",
     "iopub.status.busy": "2024-07-03T13:23:57.009192Z",
     "iopub.status.idle": "2024-07-03T13:24:05.575030Z",
     "shell.execute_reply": "2024-07-03T13:24:05.573882Z"
    },
    "papermill": {
     "duration": 8.577928,
     "end_time": "2024-07-03T13:24:05.578028",
     "exception": false,
     "start_time": "2024-07-03T13:23:57.000100",
     "status": "completed"
    },
    "tags": []
   },
   "outputs": [],
   "source": [
    "# # load the data\n",
    "# filepath = '/kaggle/input/consumption-energy-denmark/Dataset_ConsumptionDE35Hour.csv'\n",
    "# df_full_de35 = pd.read_csv(filepath, delimiter=',')\n",
    "\n",
    "# load the data\n",
    "filepath = '/kaggle/input/consumption-energy-denmark/Dataset_ConsumptionDK3619codehour.csv'\n",
    "df_full_dk3619 = pd.read_csv(filepath, delimiter=',')"
   ]
  },
  {
   "cell_type": "code",
   "execution_count": 5,
   "id": "c453fe2c",
   "metadata": {
    "execution": {
     "iopub.execute_input": "2024-07-03T13:24:05.602110Z",
     "iopub.status.busy": "2024-07-03T13:24:05.601171Z",
     "iopub.status.idle": "2024-07-03T13:24:05.606605Z",
     "shell.execute_reply": "2024-07-03T13:24:05.605558Z"
    },
    "papermill": {
     "duration": 0.017865,
     "end_time": "2024-07-03T13:24:05.608745",
     "exception": false,
     "start_time": "2024-07-03T13:24:05.590880",
     "status": "completed"
    },
    "tags": []
   },
   "outputs": [],
   "source": [
    "# import pandas as pd\n",
    "\n",
    "# # Kiểm tra dữ liệu trùng lặp\n",
    "# duplicates = df_full_de35[df_full_de35.duplicated()]\n",
    "# print(\"Duplicate rows:\")\n",
    "# print(duplicates)\n",
    "\n",
    "# # Kiểm tra các giá trị thiếu trong cột 'HourDK'\n",
    "# missing_hourdk = df_full_de35[df_full_de35['HourDK'].isnull()]\n",
    "# print(\"Rows with missing HourDK:\")\n",
    "# print(missing_hourdk)\n",
    "\n",
    "# # Kiểm tra các giá trị NaN trong toàn bộ DataFrame\n",
    "# nan_values = df_full_de35.isnull().sum()\n",
    "# print(\"Number of NaN values in each column:\")\n",
    "# print(nan_values)"
   ]
  },
  {
   "cell_type": "code",
   "execution_count": 6,
   "id": "d57946df",
   "metadata": {
    "execution": {
     "iopub.execute_input": "2024-07-03T13:24:05.627023Z",
     "iopub.status.busy": "2024-07-03T13:24:05.626045Z",
     "iopub.status.idle": "2024-07-03T13:24:06.628068Z",
     "shell.execute_reply": "2024-07-03T13:24:06.627080Z"
    },
    "papermill": {
     "duration": 1.014084,
     "end_time": "2024-07-03T13:24:06.630795",
     "exception": false,
     "start_time": "2024-07-03T13:24:05.616711",
     "status": "completed"
    },
    "tags": []
   },
   "outputs": [
    {
     "name": "stdout",
     "output_type": "stream",
     "text": [
      "                     HourUTC               HourDK  DK36Code  \\\n",
      "0        2024-06-21T21:00:00  2024-06-21T23:00:00         A   \n",
      "1        2024-06-21T21:00:00  2024-06-21T23:00:00         B   \n",
      "2        2024-06-21T21:00:00  2024-06-21T23:00:00        CA   \n",
      "3        2024-06-21T21:00:00  2024-06-21T23:00:00        CC   \n",
      "4        2024-06-21T21:00:00  2024-06-21T23:00:00  CE_CF_CD   \n",
      "...                      ...                  ...       ...   \n",
      "3533979  2012-06-02T00:00:00  2012-06-02T02:00:00         S   \n",
      "3533980  2012-06-02T00:00:00  2012-06-02T02:00:00         X   \n",
      "3533981  2012-06-01T23:00:00  2012-06-02T01:00:00       NaN   \n",
      "3533982  2012-06-01T23:00:00  2012-06-02T01:00:00  CE_CF_CD   \n",
      "3533983  2012-06-01T23:00:00  2012-06-02T01:00:00        MA   \n",
      "\n",
      "                                                 DK36Title DK19Code  \\\n",
      "0                            Landbrug, skovbrug og fiskeri        A   \n",
      "1                                         Råstofindvinding        B   \n",
      "2                     Føde-, drikke- og tobaksvareindustri        C   \n",
      "3                        Træ- og papirindustri, trykkerier        C   \n",
      "4        Kemiskindustri, Olieraffinaderier og Medicinal...        C   \n",
      "...                                                    ...      ...   \n",
      "3533979                          Andre serviceydelser  mv.        S   \n",
      "3533980                                  Uoplyst aktivitet        X   \n",
      "3533981                                                NaN      NaN   \n",
      "3533982  Kemiskindustri, Olieraffinaderier og Medicinal...        C   \n",
      "3533983                                     Rådgivning mv.        M   \n",
      "\n",
      "                             DK19Title  Consumption_MWh  \n",
      "0        Landbrug, skovbrug og fiskeri       145.018660  \n",
      "1                     Råstofindvinding         8.750818  \n",
      "2                             Industri       189.913841  \n",
      "3                             Industri        27.199219  \n",
      "4                             Industri       174.295128  \n",
      "...                                ...              ...  \n",
      "3533979        Andre serviceydelser mv         4.623429  \n",
      "3533980              Uoplyst aktivitet         0.068760  \n",
      "3533981                            NaN         0.002220  \n",
      "3533982                       Industri         8.836999  \n",
      "3533983                   Videnservice         0.068992  \n",
      "\n",
      "[3533984 rows x 7 columns]\n",
      "<class 'pandas.core.frame.DataFrame'>\n",
      "RangeIndex: 3533984 entries, 0 to 3533983\n",
      "Data columns (total 7 columns):\n",
      " #   Column           Non-Null Count    Dtype  \n",
      "---  ------           --------------    -----  \n",
      " 0   HourUTC          3533984 non-null  object \n",
      " 1   HourDK           3533984 non-null  object \n",
      " 2   DK36Code         3458744 non-null  object \n",
      " 3   DK36Title        3458744 non-null  object \n",
      " 4   DK19Code         3458744 non-null  object \n",
      " 5   DK19Title        3458744 non-null  object \n",
      " 6   Consumption_MWh  3533984 non-null  float64\n",
      "dtypes: float64(1), object(6)\n",
      "memory usage: 188.7+ MB\n",
      "None\n"
     ]
    }
   ],
   "source": [
    "# # Show the first few rows of the dataframe\n",
    "# print(df_full_de35.head())\n",
    "# # Display the dataframe info to confirm\n",
    "# print(df_full_de35.info())\n",
    "\n",
    "# Show the first few rows of the dataframe\n",
    "print(df_full_dk3619)\n",
    "# Display the dataframe info to confirm\n",
    "print(df_full_dk3619.info(show_counts = True))"
   ]
  },
  {
   "cell_type": "code",
   "execution_count": 7,
   "id": "ec63dde4",
   "metadata": {
    "execution": {
     "iopub.execute_input": "2024-07-03T13:24:06.649222Z",
     "iopub.status.busy": "2024-07-03T13:24:06.648370Z",
     "iopub.status.idle": "2024-07-03T13:24:06.652673Z",
     "shell.execute_reply": "2024-07-03T13:24:06.651766Z"
    },
    "papermill": {
     "duration": 0.01549,
     "end_time": "2024-07-03T13:24:06.654737",
     "exception": false,
     "start_time": "2024-07-03T13:24:06.639247",
     "status": "completed"
    },
    "tags": []
   },
   "outputs": [],
   "source": [
    "df = df_full_dk3619"
   ]
  },
  {
   "cell_type": "code",
   "execution_count": 8,
   "id": "fdc5c2e7",
   "metadata": {
    "execution": {
     "iopub.execute_input": "2024-07-03T13:24:06.672811Z",
     "iopub.status.busy": "2024-07-03T13:24:06.672461Z",
     "iopub.status.idle": "2024-07-03T13:24:08.213577Z",
     "shell.execute_reply": "2024-07-03T13:24:08.212194Z"
    },
    "papermill": {
     "duration": 1.553065,
     "end_time": "2024-07-03T13:24:08.215853",
     "exception": false,
     "start_time": "2024-07-03T13:24:06.662788",
     "status": "completed"
    },
    "tags": []
   },
   "outputs": [
    {
     "name": "stdout",
     "output_type": "stream",
     "text": [
      "<class 'pandas.core.frame.DataFrame'>\n",
      "Index: 3323747 entries, 0 to 3533983\n",
      "Data columns (total 7 columns):\n",
      " #   Column           Non-Null Count    Dtype  \n",
      "---  ------           --------------    -----  \n",
      " 0   HourUTC          3323747 non-null  object \n",
      " 1   HourDK           3323747 non-null  object \n",
      " 2   DK36Code         3323747 non-null  object \n",
      " 3   DK36Title        3323747 non-null  object \n",
      " 4   DK19Code         3323747 non-null  object \n",
      " 5   DK19Title        3323747 non-null  object \n",
      " 6   Consumption_MWh  3323747 non-null  float64\n",
      "dtypes: float64(1), object(6)\n",
      "memory usage: 202.9+ MB\n",
      "None\n"
     ]
    }
   ],
   "source": [
    "import pandas as pd\n",
    "\n",
    "# Giả sử df đã được tải và có sẵn trong biến df\n",
    "\n",
    "# Giá trị cần loại bỏ\n",
    "values_to_remove = ['X', 'B']\n",
    "\n",
    "# Xóa các hàng có giá trị ở cột DK36Code là 'X', 'B' hoặc NaN\n",
    "df_cleaned = df[~df['DK36Code'].isin(values_to_remove) & df['DK36Code'].notna()]\n",
    "\n",
    "# In ra 30 dòng đầu tiên để kiểm tra\n",
    "print(df_cleaned.info(show_counts = True))\n"
   ]
  },
  {
   "cell_type": "code",
   "execution_count": 9,
   "id": "778b8af1",
   "metadata": {
    "execution": {
     "iopub.execute_input": "2024-07-03T13:24:08.234261Z",
     "iopub.status.busy": "2024-07-03T13:24:08.233389Z",
     "iopub.status.idle": "2024-07-03T13:24:08.237804Z",
     "shell.execute_reply": "2024-07-03T13:24:08.236901Z"
    },
    "papermill": {
     "duration": 0.016079,
     "end_time": "2024-07-03T13:24:08.240086",
     "exception": false,
     "start_time": "2024-07-03T13:24:08.224007",
     "status": "completed"
    },
    "tags": []
   },
   "outputs": [],
   "source": [
    "df = df_cleaned"
   ]
  },
  {
   "cell_type": "code",
   "execution_count": 10,
   "id": "470fb43d",
   "metadata": {
    "execution": {
     "iopub.execute_input": "2024-07-03T13:24:08.258799Z",
     "iopub.status.busy": "2024-07-03T13:24:08.257966Z",
     "iopub.status.idle": "2024-07-03T13:24:09.367216Z",
     "shell.execute_reply": "2024-07-03T13:24:09.365916Z"
    },
    "papermill": {
     "duration": 1.121159,
     "end_time": "2024-07-03T13:24:09.369713",
     "exception": false,
     "start_time": "2024-07-03T13:24:08.248554",
     "status": "completed"
    },
    "tags": []
   },
   "outputs": [
    {
     "name": "stdout",
     "output_type": "stream",
     "text": [
      "['A_A' 'C_CA' 'C_CC' 'C_CE_CF_CD' 'C_CG' 'C_CH' 'C_CI' 'C_CJ' 'C_CK'\n",
      " 'C_CL' 'C_CM_CB' 'D_D' 'E_E' 'F_F' 'G_G' 'H_H' 'I_I' 'J_JA' 'J_JB_JC'\n",
      " 'K_K' 'L_L' 'M_MA' 'M_MB' 'M_MC' 'N_N' 'O_O' 'P_P' 'PR_PR' 'Q_QA' 'Q_QB'\n",
      " 'R_R' 'S_S']\n"
     ]
    },
    {
     "name": "stderr",
     "output_type": "stream",
     "text": [
      "/tmp/ipykernel_18/4084715484.py:6: SettingWithCopyWarning: \n",
      "A value is trying to be set on a copy of a slice from a DataFrame.\n",
      "Try using .loc[row_indexer,col_indexer] = value instead\n",
      "\n",
      "See the caveats in the documentation: https://pandas.pydata.org/pandas-docs/stable/user_guide/indexing.html#returning-a-view-versus-a-copy\n",
      "  df['DK3619Code'] = df['DK19Code'].astype(str) + '_' + df['DK36Code'].astype(str)\n"
     ]
    }
   ],
   "source": [
    "import pandas as pd\n",
    "\n",
    "# Giả sử df đã được tải và có sẵn trong biến df\n",
    "\n",
    "# Tạo cột DK3619Code bằng cách gộp các giá trị từ các cột DK36Code và DK19Code với dấu gạch dưới '_'\n",
    "df['DK3619Code'] = df['DK19Code'].astype(str) + '_' + df['DK36Code'].astype(str)\n",
    "\n",
    "# In ra các giá trị duy nhất trong cột DK3619Code để kiểm tra\n",
    "print(df['DK3619Code'].unique())"
   ]
  },
  {
   "cell_type": "code",
   "execution_count": 11,
   "id": "d93b7221",
   "metadata": {
    "execution": {
     "iopub.execute_input": "2024-07-03T13:24:09.388208Z",
     "iopub.status.busy": "2024-07-03T13:24:09.387500Z",
     "iopub.status.idle": "2024-07-03T13:24:10.456755Z",
     "shell.execute_reply": "2024-07-03T13:24:10.455770Z"
    },
    "papermill": {
     "duration": 1.081403,
     "end_time": "2024-07-03T13:24:10.459377",
     "exception": false,
     "start_time": "2024-07-03T13:24:09.377974",
     "status": "completed"
    },
    "tags": []
   },
   "outputs": [
    {
     "name": "stdout",
     "output_type": "stream",
     "text": [
      "<class 'pandas.core.frame.DataFrame'>\n",
      "Index: 3323747 entries, 0 to 3533983\n",
      "Data columns (total 8 columns):\n",
      " #   Column           Non-Null Count    Dtype  \n",
      "---  ------           --------------    -----  \n",
      " 0   HourUTC          3323747 non-null  object \n",
      " 1   HourDK           3323747 non-null  object \n",
      " 2   DK36Code         3323747 non-null  object \n",
      " 3   DK36Title        3323747 non-null  object \n",
      " 4   DK19Code         3323747 non-null  object \n",
      " 5   DK19Title        3323747 non-null  object \n",
      " 6   Consumption_MWh  3323747 non-null  float64\n",
      " 7   DK3619Code       3323747 non-null  object \n",
      "dtypes: float64(1), object(7)\n",
      "memory usage: 228.2+ MB\n",
      "None\n"
     ]
    }
   ],
   "source": [
    "print(df.info(show_counts = True))"
   ]
  },
  {
   "cell_type": "code",
   "execution_count": 12,
   "id": "b4802a09",
   "metadata": {
    "execution": {
     "iopub.execute_input": "2024-07-03T13:24:10.477974Z",
     "iopub.status.busy": "2024-07-03T13:24:10.477623Z",
     "iopub.status.idle": "2024-07-03T13:24:10.482399Z",
     "shell.execute_reply": "2024-07-03T13:24:10.481590Z"
    },
    "papermill": {
     "duration": 0.016581,
     "end_time": "2024-07-03T13:24:10.484532",
     "exception": false,
     "start_time": "2024-07-03T13:24:10.467951",
     "status": "completed"
    },
    "tags": []
   },
   "outputs": [],
   "source": [
    "# import pandas as pd\n",
    "\n",
    "# # Giả sử df đã được tải và có sẵn trong biến df\n",
    "\n",
    "# # Đảm bảo cột HourDK đã được chuyển sang định dạng datetime\n",
    "# df['HourDK'] = pd.to_datetime(df['HourDK'])\n",
    "\n",
    "# # Định nghĩa khoảng thời gian cần lọc\n",
    "# start_date = '2020-12-31T00:00:00'\n",
    "# end_date = '2021-01-01T23:00:00'\n",
    "\n",
    "# # Lọc dữ liệu trong khoảng thời gian\n",
    "# filtered_df = df[(df['HourDK'] >= start_date) & (df['HourDK'] <= end_date)]\n",
    "\n",
    "# # Xuất dữ liệu đã lọc ra file CSV\n",
    "# filtered_df.to_csv('filtered_data.csv', index=False)\n",
    "\n",
    "# print(\"Dữ liệu đã được xuất ra file filtered_data.csv\")\n"
   ]
  },
  {
   "cell_type": "code",
   "execution_count": 13,
   "id": "d531ea18",
   "metadata": {
    "execution": {
     "iopub.execute_input": "2024-07-03T13:24:10.502950Z",
     "iopub.status.busy": "2024-07-03T13:24:10.502588Z",
     "iopub.status.idle": "2024-07-03T13:24:10.507062Z",
     "shell.execute_reply": "2024-07-03T13:24:10.506057Z"
    },
    "papermill": {
     "duration": 0.016221,
     "end_time": "2024-07-03T13:24:10.509219",
     "exception": false,
     "start_time": "2024-07-03T13:24:10.492998",
     "status": "completed"
    },
    "tags": []
   },
   "outputs": [],
   "source": [
    "# # Đếm số lần xuất hiện của các giá trị trong cột find_null_data\n",
    "# value_counts = filtered_df['find_null_data'].value_counts()\n",
    "\n",
    "# # In kết quả\n",
    "# print(value_counts)"
   ]
  },
  {
   "cell_type": "code",
   "execution_count": 14,
   "id": "b99b7049",
   "metadata": {
    "execution": {
     "iopub.execute_input": "2024-07-03T13:24:10.527461Z",
     "iopub.status.busy": "2024-07-03T13:24:10.527095Z",
     "iopub.status.idle": "2024-07-03T13:24:10.531678Z",
     "shell.execute_reply": "2024-07-03T13:24:10.530729Z"
    },
    "papermill": {
     "duration": 0.016202,
     "end_time": "2024-07-03T13:24:10.533768",
     "exception": false,
     "start_time": "2024-07-03T13:24:10.517566",
     "status": "completed"
    },
    "tags": []
   },
   "outputs": [],
   "source": [
    "# # Các giá trị cụ thể cần lọc\n",
    "# values_to_filter = [\n",
    "#     #'X_Uoplyst aktivitet_X_Uoplyst aktivitet',\n",
    "#     #'B_Råstofindvinding_B_Råstofindvinding',\n",
    "#     'nan_nan_nan_nan'\n",
    "# ]\n",
    "\n",
    "# # Lọc các hàng có giá trị trong cột find_null_data thuộc danh sách values_to_filter\n",
    "# filtered_values_df = filtered_df[filtered_df['find_null_data'].isin(values_to_filter)]\n",
    "\n",
    "# # In ra các hàng đã lọc\n",
    "# print(filtered_values_df)"
   ]
  },
  {
   "cell_type": "code",
   "execution_count": 15,
   "id": "0316daaa",
   "metadata": {
    "execution": {
     "iopub.execute_input": "2024-07-03T13:24:10.552361Z",
     "iopub.status.busy": "2024-07-03T13:24:10.552002Z",
     "iopub.status.idle": "2024-07-03T13:24:10.556609Z",
     "shell.execute_reply": "2024-07-03T13:24:10.555611Z"
    },
    "papermill": {
     "duration": 0.016386,
     "end_time": "2024-07-03T13:24:10.558674",
     "exception": false,
     "start_time": "2024-07-03T13:24:10.542288",
     "status": "completed"
    },
    "tags": []
   },
   "outputs": [],
   "source": [
    "# # Các giá trị cụ thể cần lọc\n",
    "# values_to_filter = [\n",
    "#     'X_Uoplyst aktivitet_X_Uoplyst aktivitet',\n",
    "#     #'B_Råstofindvinding_B_Råstofindvinding',\n",
    "#     #'nan_nan_nan_nan'\n",
    "# ]\n",
    "\n",
    "# # Lọc các hàng có giá trị trong cột find_null_data thuộc danh sách values_to_filter\n",
    "# filtered_values_df = filtered_df[filtered_df['find_null_data'].isin(values_to_filter)]\n",
    "\n",
    "# filtered_values_df['Consumption_MWh'].describe()"
   ]
  },
  {
   "cell_type": "code",
   "execution_count": 16,
   "id": "af508d09",
   "metadata": {
    "execution": {
     "iopub.execute_input": "2024-07-03T13:24:10.577651Z",
     "iopub.status.busy": "2024-07-03T13:24:10.577281Z",
     "iopub.status.idle": "2024-07-03T13:24:10.581845Z",
     "shell.execute_reply": "2024-07-03T13:24:10.580839Z"
    },
    "papermill": {
     "duration": 0.016838,
     "end_time": "2024-07-03T13:24:10.584054",
     "exception": false,
     "start_time": "2024-07-03T13:24:10.567216",
     "status": "completed"
    },
    "tags": []
   },
   "outputs": [],
   "source": [
    "# # Các giá trị cụ thể cần lọc\n",
    "# values_to_filter = [\n",
    "#     #'X_Uoplyst aktivitet_X_Uoplyst aktivitet',\n",
    "#     'B_Råstofindvinding_B_Råstofindvinding',\n",
    "#     #'nan_nan_nan_nan'\n",
    "# ]\n",
    "\n",
    "# # Lọc các hàng có giá trị trong cột find_null_data thuộc danh sách values_to_filter\n",
    "# filtered_values_df = filtered_df[filtered_df['find_null_data'].isin(values_to_filter)]\n",
    "\n",
    "# filtered_values_df['Consumption_MWh'].describe()"
   ]
  },
  {
   "cell_type": "code",
   "execution_count": 17,
   "id": "a6868c33",
   "metadata": {
    "execution": {
     "iopub.execute_input": "2024-07-03T13:24:10.604353Z",
     "iopub.status.busy": "2024-07-03T13:24:10.603393Z",
     "iopub.status.idle": "2024-07-03T13:24:10.608241Z",
     "shell.execute_reply": "2024-07-03T13:24:10.607148Z"
    },
    "papermill": {
     "duration": 0.017191,
     "end_time": "2024-07-03T13:24:10.610346",
     "exception": false,
     "start_time": "2024-07-03T13:24:10.593155",
     "status": "completed"
    },
    "tags": []
   },
   "outputs": [],
   "source": [
    "# # Các giá trị cụ thể cần lọc\n",
    "# values_to_filter = [\n",
    "#     #'X_Uoplyst aktivitet_X_Uoplyst aktivitet',\n",
    "#     #'B_Råstofindvinding_B_Råstofindvinding',\n",
    "#     'nan_nan_nan_nan'\n",
    "# ]\n",
    "\n",
    "# # Lọc các hàng có giá trị trong cột find_null_data thuộc danh sách values_to_filter\n",
    "# filtered_values_df = filtered_df[filtered_df['find_null_data'].isin(values_to_filter)]\n",
    "\n",
    "# filtered_values_df['Consumption_MWh'].describe()"
   ]
  },
  {
   "cell_type": "code",
   "execution_count": 18,
   "id": "72f8c5e0",
   "metadata": {
    "execution": {
     "iopub.execute_input": "2024-07-03T13:24:10.629667Z",
     "iopub.status.busy": "2024-07-03T13:24:10.628536Z",
     "iopub.status.idle": "2024-07-03T13:24:11.675515Z",
     "shell.execute_reply": "2024-07-03T13:24:11.674456Z"
    },
    "papermill": {
     "duration": 1.059396,
     "end_time": "2024-07-03T13:24:11.678263",
     "exception": false,
     "start_time": "2024-07-03T13:24:10.618867",
     "status": "completed"
    },
    "tags": []
   },
   "outputs": [
    {
     "name": "stderr",
     "output_type": "stream",
     "text": [
      "/tmp/ipykernel_18/2137082412.py:4: SettingWithCopyWarning: \n",
      "A value is trying to be set on a copy of a slice from a DataFrame.\n",
      "Try using .loc[row_indexer,col_indexer] = value instead\n",
      "\n",
      "See the caveats in the documentation: https://pandas.pydata.org/pandas-docs/stable/user_guide/indexing.html#returning-a-view-versus-a-copy\n",
      "  df['HourDK'] = pd.to_datetime(df['HourDK'])\n"
     ]
    },
    {
     "name": "stdout",
     "output_type": "stream",
     "text": [
      "                     HourUTC              HourDK  DK36Code  \\\n",
      "3533983  2012-06-01T23:00:00 2012-06-02 01:00:00        MA   \n",
      "3533982  2012-06-01T23:00:00 2012-06-02 01:00:00  CE_CF_CD   \n",
      "3533978  2012-06-02T00:00:00 2012-06-02 02:00:00         R   \n",
      "3533979  2012-06-02T00:00:00 2012-06-02 02:00:00         S   \n",
      "3533949  2012-06-02T00:00:00 2012-06-02 02:00:00         A   \n",
      "3533950  2012-06-02T00:00:00 2012-06-02 02:00:00        CA   \n",
      "3533951  2012-06-02T00:00:00 2012-06-02 02:00:00        CC   \n",
      "3533952  2012-06-02T00:00:00 2012-06-02 02:00:00  CE_CF_CD   \n",
      "3533953  2012-06-02T00:00:00 2012-06-02 02:00:00        CG   \n",
      "3533954  2012-06-02T00:00:00 2012-06-02 02:00:00        CH   \n",
      "3533955  2012-06-02T00:00:00 2012-06-02 02:00:00        CI   \n",
      "3533957  2012-06-02T00:00:00 2012-06-02 02:00:00        CK   \n",
      "3533958  2012-06-02T00:00:00 2012-06-02 02:00:00        CL   \n",
      "3533959  2012-06-02T00:00:00 2012-06-02 02:00:00     CM_CB   \n",
      "3533960  2012-06-02T00:00:00 2012-06-02 02:00:00         D   \n",
      "3533961  2012-06-02T00:00:00 2012-06-02 02:00:00         E   \n",
      "3533962  2012-06-02T00:00:00 2012-06-02 02:00:00         F   \n",
      "3533956  2012-06-02T00:00:00 2012-06-02 02:00:00        CJ   \n",
      "3533964  2012-06-02T00:00:00 2012-06-02 02:00:00         H   \n",
      "3533963  2012-06-02T00:00:00 2012-06-02 02:00:00         G   \n",
      "3533976  2012-06-02T00:00:00 2012-06-02 02:00:00        QA   \n",
      "3533975  2012-06-02T00:00:00 2012-06-02 02:00:00         P   \n",
      "3533974  2012-06-02T00:00:00 2012-06-02 02:00:00         O   \n",
      "3533973  2012-06-02T00:00:00 2012-06-02 02:00:00         N   \n",
      "3533972  2012-06-02T00:00:00 2012-06-02 02:00:00        MC   \n",
      "3533971  2012-06-02T00:00:00 2012-06-02 02:00:00        MB   \n",
      "3533977  2012-06-02T00:00:00 2012-06-02 02:00:00        QB   \n",
      "3533969  2012-06-02T00:00:00 2012-06-02 02:00:00         L   \n",
      "3533968  2012-06-02T00:00:00 2012-06-02 02:00:00         K   \n",
      "3533967  2012-06-02T00:00:00 2012-06-02 02:00:00     JB_JC   \n",
      "\n",
      "                                                 DK36Title DK19Code  \\\n",
      "3533983                                     Rådgivning mv.        M   \n",
      "3533982  Kemiskindustri, Olieraffinaderier og Medicinal...        C   \n",
      "3533978                                   Kultur og fritid        R   \n",
      "3533979                          Andre serviceydelser  mv.        S   \n",
      "3533949                      Landbrug, skovbrug og fiskeri        A   \n",
      "3533950               Føde-, drikke- og tobaksvareindustri        C   \n",
      "3533951                  Træ- og papirindustri, trykkerier        C   \n",
      "3533952  Kemiskindustri, Olieraffinaderier og Medicinal...        C   \n",
      "3533953                     Plast-, glas- og betonindustri        C   \n",
      "3533954                                      Metalindustri        C   \n",
      "3533955                                 Elektronikindustri        C   \n",
      "3533957                                     Maskinindustri        C   \n",
      "3533958                            Transportmiddelindustri        C   \n",
      "3533959  Tekstil - og læderindustri & Møbel og anden in...        C   \n",
      "3533960                                    Energiforsyning        D   \n",
      "3533961                        Vandforsyning og renovation        E   \n",
      "3533962                                     Bygge og anlæg        F   \n",
      "3533956                        Fremst. af elektrisk udstyr        C   \n",
      "3533964                                          Transport        H   \n",
      "3533963                                             Handel        G   \n",
      "3533976                                      Sundhedsvæsen        Q   \n",
      "3533975                                       Undervisning        P   \n",
      "3533974        Offentlig administration, forsvar og politi        O   \n",
      "3533973  Rejsebureauer, rengøring og anden operationel ...        N   \n",
      "3533972                   Reklame og øvrig erhvervsservice        M   \n",
      "3533971                             Forskning og udvikling        M   \n",
      "3533977                              Sociale institutioner        Q   \n",
      "3533969                        Ejendomshandel og udlejning        L   \n",
      "3533968                         Finansiering og forsikring        K   \n",
      "3533967   Telekommunikation &It - og informationstjenester        J   \n",
      "\n",
      "                                                 DK19Title  Consumption_MWh  \\\n",
      "3533983                                       Videnservice         0.068992   \n",
      "3533982                                           Industri         8.836999   \n",
      "3533978                                   Kultur og fritid         6.785315   \n",
      "3533979                            Andre serviceydelser mv         4.623429   \n",
      "3533949                      Landbrug, skovbrug og fiskeri        14.979990   \n",
      "3533950                                           Industri        43.254902   \n",
      "3533951                                           Industri        11.714446   \n",
      "3533952                                           Industri        94.382088   \n",
      "3533953                                           Industri        25.987783   \n",
      "3533954                                           Industri         6.844286   \n",
      "3533955                                           Industri         2.794191   \n",
      "3533957                                           Industri         5.611399   \n",
      "3533958                                           Industri         1.101195   \n",
      "3533959                                           Industri         4.743089   \n",
      "3533960                                    Energiforsyning        13.730202   \n",
      "3533961                        Vandforsyning og renovation        30.020416   \n",
      "3533962                                     Bygge og anlæg         1.999063   \n",
      "3533956                                           Industri         3.237742   \n",
      "3533964                                          Transport        26.933138   \n",
      "3533963                                             Handel        74.687279   \n",
      "3533976                             Sundhed og socialvæsen         0.565844   \n",
      "3533975                                       Undervisning        22.456516   \n",
      "3533974        Offentlig administration, forsvar og politi        47.197079   \n",
      "3533973  Rejsebureauer, rengøring og anden operationel ...         5.423246   \n",
      "3533972                                       Videnservice         0.587600   \n",
      "3533971                                       Videnservice         5.864562   \n",
      "3533977                             Sundhed og socialvæsen         2.438383   \n",
      "3533969                        Ejendomshandel og udlejning        32.480518   \n",
      "3533968                         Finansiering og forsikring        32.152351   \n",
      "3533967                       Information og kommunikation        35.337223   \n",
      "\n",
      "         DK3619Code  \n",
      "3533983        M_MA  \n",
      "3533982  C_CE_CF_CD  \n",
      "3533978         R_R  \n",
      "3533979         S_S  \n",
      "3533949         A_A  \n",
      "3533950        C_CA  \n",
      "3533951        C_CC  \n",
      "3533952  C_CE_CF_CD  \n",
      "3533953        C_CG  \n",
      "3533954        C_CH  \n",
      "3533955        C_CI  \n",
      "3533957        C_CK  \n",
      "3533958        C_CL  \n",
      "3533959     C_CM_CB  \n",
      "3533960         D_D  \n",
      "3533961         E_E  \n",
      "3533962         F_F  \n",
      "3533956        C_CJ  \n",
      "3533964         H_H  \n",
      "3533963         G_G  \n",
      "3533976        Q_QA  \n",
      "3533975         P_P  \n",
      "3533974         O_O  \n",
      "3533973         N_N  \n",
      "3533972        M_MC  \n",
      "3533971        M_MB  \n",
      "3533977        Q_QB  \n",
      "3533969         L_L  \n",
      "3533968         K_K  \n",
      "3533967     J_JB_JC  \n"
     ]
    }
   ],
   "source": [
    "import pandas as pd\n",
    "\n",
    "# Đảm bảo cột HourDK đã được chuyển sang định dạng datetime\n",
    "df['HourDK'] = pd.to_datetime(df['HourDK'])\n",
    "\n",
    "# Sắp xếp dataframe ngược lại theo cột HourDK\n",
    "df = df.sort_values(by='HourDK')\n",
    "\n",
    "# In ra 30 dòng đầu tiên để kiểm tra\n",
    "print(df.head(30))"
   ]
  },
  {
   "cell_type": "code",
   "execution_count": 19,
   "id": "84c9441d",
   "metadata": {
    "execution": {
     "iopub.execute_input": "2024-07-03T13:24:11.697759Z",
     "iopub.status.busy": "2024-07-03T13:24:11.697080Z",
     "iopub.status.idle": "2024-07-03T13:24:11.945018Z",
     "shell.execute_reply": "2024-07-03T13:24:11.943973Z"
    },
    "papermill": {
     "duration": 0.26035,
     "end_time": "2024-07-03T13:24:11.947462",
     "exception": false,
     "start_time": "2024-07-03T13:24:11.687112",
     "status": "completed"
    },
    "tags": []
   },
   "outputs": [
    {
     "name": "stdout",
     "output_type": "stream",
     "text": [
      "(datetime.date(2024, 1, 1), 'Nytårsdag')\n",
      "(datetime.date(2024, 3, 28), 'Skærtorsdag')\n",
      "(datetime.date(2024, 3, 29), 'Langfredag')\n",
      "(datetime.date(2024, 3, 31), 'Påskedag')\n",
      "(datetime.date(2024, 4, 1), 'Anden påskedag')\n",
      "(datetime.date(2024, 5, 9), 'Kristi himmelfartsdag')\n",
      "(datetime.date(2024, 5, 19), 'Pinsedag')\n",
      "(datetime.date(2024, 5, 20), 'Anden pinsedag')\n",
      "(datetime.date(2024, 12, 25), 'Juledag')\n",
      "(datetime.date(2024, 12, 26), 'Anden juledag')\n"
     ]
    }
   ],
   "source": [
    "#Test holidays function\n",
    "from datetime import date \n",
    "import holidays \n",
    "  \n",
    "# Select country \n",
    "uk_holidays = holidays.Denmark() \n",
    "  \n",
    "# Print all the holidays in UnitedKingdom in year 2018 \n",
    "for ptr in holidays.Denmark(years = 2024).items(): \n",
    "    print(ptr) "
   ]
  },
  {
   "cell_type": "code",
   "execution_count": 20,
   "id": "ee1005e7",
   "metadata": {
    "execution": {
     "iopub.execute_input": "2024-07-03T13:24:11.967007Z",
     "iopub.status.busy": "2024-07-03T13:24:11.966652Z",
     "iopub.status.idle": "2024-07-03T13:24:11.977119Z",
     "shell.execute_reply": "2024-07-03T13:24:11.976097Z"
    },
    "papermill": {
     "duration": 0.02276,
     "end_time": "2024-07-03T13:24:11.979295",
     "exception": false,
     "start_time": "2024-07-03T13:24:11.956535",
     "status": "completed"
    },
    "tags": []
   },
   "outputs": [],
   "source": [
    "import pandas as pd\n",
    "import holidays\n",
    "\n",
    "def process_df(df):\n",
    "    # Convert HourDK to datetime format\n",
    "    df['HourDK'] = pd.to_datetime(df['HourDK'])\n",
    "\n",
    "    # Thêm các biến thời gian\n",
    "    df['hour'] = df['HourDK'].dt.hour\n",
    "    df['day_of_week'] = df['HourDK'].dt.dayofweek\n",
    "    df['weekday_name'] = df['HourDK'].dt.day_name()\n",
    "    df['quarter'] = df['HourDK'].dt.quarter\n",
    "    df['month'] = df['HourDK'].dt.month\n",
    "    df['year'] = df['HourDK'].dt.year\n",
    "    df['day_of_year'] = df['HourDK'].dt.dayofyear\n",
    "    df['day_of_month'] = df['HourDK'].dt.day\n",
    "    df['week_of_year'] = df['HourDK'].dt.isocalendar().week\n",
    "\n",
    "    # Định nghĩa hàm để gom nhóm các tháng thành mùa\n",
    "    def season_group(month):\n",
    "        if month in [3, 4, 5]:\n",
    "            return 'Spring'\n",
    "        elif month in [6, 7, 8]:\n",
    "            return 'Summer'\n",
    "        elif month in [9, 10, 11]:\n",
    "            return 'Autumn'\n",
    "        else:\n",
    "            return 'Winter'\n",
    "\n",
    "    # Áp dụng hàm season_group để tạo cột Season\n",
    "    df['season'] = df['month'].apply(season_group)\n",
    "\n",
    "    # Thiết lập các ngày nghỉ tại Đan Mạch cho nhiều năm\n",
    "    dk_holidays = holidays.Denmark(years=df['year'].unique())\n",
    "\n",
    "    # Tạo cột Holiday dựa trên ngày nghỉ\n",
    "    df['holiday'] = df['HourDK'].apply(lambda x: 1 if x in dk_holidays else 0)\n",
    "\n",
    "    # Đưa các cột thời gian mới tạo vào đúng vị trí bên phải cột HourDK\n",
    "    cols = list(df.columns)\n",
    "    hourdk_index = cols.index('HourDK')\n",
    "    new_cols = cols[:hourdk_index+1] + cols[-12:] + cols[hourdk_index+1:-12]\n",
    "    df = df[new_cols]\n",
    "    \n",
    "    return df"
   ]
  },
  {
   "cell_type": "code",
   "execution_count": 21,
   "id": "fea9e31f",
   "metadata": {
    "execution": {
     "iopub.execute_input": "2024-07-03T13:24:11.998538Z",
     "iopub.status.busy": "2024-07-03T13:24:11.998152Z",
     "iopub.status.idle": "2024-07-03T13:24:32.866937Z",
     "shell.execute_reply": "2024-07-03T13:24:32.865946Z"
    },
    "papermill": {
     "duration": 20.88122,
     "end_time": "2024-07-03T13:24:32.869455",
     "exception": false,
     "start_time": "2024-07-03T13:24:11.988235",
     "status": "completed"
    },
    "tags": []
   },
   "outputs": [
    {
     "name": "stdout",
     "output_type": "stream",
     "text": [
      "                     HourUTC              HourDK  DK3619Code  hour  \\\n",
      "3533983  2012-06-01T23:00:00 2012-06-02 01:00:00        M_MA     1   \n",
      "3533982  2012-06-01T23:00:00 2012-06-02 01:00:00  C_CE_CF_CD     1   \n",
      "3533978  2012-06-02T00:00:00 2012-06-02 02:00:00         R_R     2   \n",
      "3533979  2012-06-02T00:00:00 2012-06-02 02:00:00         S_S     2   \n",
      "3533949  2012-06-02T00:00:00 2012-06-02 02:00:00         A_A     2   \n",
      "\n",
      "         day_of_week weekday_name  quarter  month  year  day_of_year  \\\n",
      "3533983            5     Saturday        2      6  2012          154   \n",
      "3533982            5     Saturday        2      6  2012          154   \n",
      "3533978            5     Saturday        2      6  2012          154   \n",
      "3533979            5     Saturday        2      6  2012          154   \n",
      "3533949            5     Saturday        2      6  2012          154   \n",
      "\n",
      "         day_of_month  week_of_year  season  holiday  DK36Code  \\\n",
      "3533983             2            22  Summer        0        MA   \n",
      "3533982             2            22  Summer        0  CE_CF_CD   \n",
      "3533978             2            22  Summer        0         R   \n",
      "3533979             2            22  Summer        0         S   \n",
      "3533949             2            22  Summer        0         A   \n",
      "\n",
      "                                                 DK36Title DK19Code  \\\n",
      "3533983                                     Rådgivning mv.        M   \n",
      "3533982  Kemiskindustri, Olieraffinaderier og Medicinal...        C   \n",
      "3533978                                   Kultur og fritid        R   \n",
      "3533979                          Andre serviceydelser  mv.        S   \n",
      "3533949                      Landbrug, skovbrug og fiskeri        A   \n",
      "\n",
      "                             DK19Title  Consumption_MWh  \n",
      "3533983                   Videnservice         0.068992  \n",
      "3533982                       Industri         8.836999  \n",
      "3533978               Kultur og fritid         6.785315  \n",
      "3533979        Andre serviceydelser mv         4.623429  \n",
      "3533949  Landbrug, skovbrug og fiskeri        14.979990  \n",
      "<class 'pandas.core.frame.DataFrame'>\n",
      "Index: 3323747 entries, 3533983 to 0\n",
      "Data columns (total 19 columns):\n",
      " #   Column           Dtype         \n",
      "---  ------           -----         \n",
      " 0   HourUTC          object        \n",
      " 1   HourDK           datetime64[ns]\n",
      " 2   DK3619Code       object        \n",
      " 3   hour             int32         \n",
      " 4   day_of_week      int32         \n",
      " 5   weekday_name     object        \n",
      " 6   quarter          int32         \n",
      " 7   month            int32         \n",
      " 8   year             int32         \n",
      " 9   day_of_year      int32         \n",
      " 10  day_of_month     int32         \n",
      " 11  week_of_year     UInt32        \n",
      " 12  season           object        \n",
      " 13  holiday          int64         \n",
      " 14  DK36Code         object        \n",
      " 15  DK36Title        object        \n",
      " 16  DK19Code         object        \n",
      " 17  DK19Title        object        \n",
      " 18  Consumption_MWh  float64       \n",
      "dtypes: UInt32(1), datetime64[ns](1), float64(1), int32(7), int64(1), object(8)\n",
      "memory usage: 408.9+ MB\n",
      "None\n"
     ]
    }
   ],
   "source": [
    "# Sử dụng hàm process_df với DataFrame đầu vào của bạn\n",
    "df_processed_time = process_df(df)\n",
    "print(df_processed_time.head())\n",
    "print(df_processed_time.info())"
   ]
  },
  {
   "cell_type": "code",
   "execution_count": 22,
   "id": "4970d706",
   "metadata": {
    "execution": {
     "iopub.execute_input": "2024-07-03T13:24:32.889040Z",
     "iopub.status.busy": "2024-07-03T13:24:32.888689Z",
     "iopub.status.idle": "2024-07-03T13:24:32.894778Z",
     "shell.execute_reply": "2024-07-03T13:24:32.893807Z"
    },
    "papermill": {
     "duration": 0.018321,
     "end_time": "2024-07-03T13:24:32.896922",
     "exception": false,
     "start_time": "2024-07-03T13:24:32.878601",
     "status": "completed"
    },
    "tags": []
   },
   "outputs": [],
   "source": [
    "import pandas as pd\n",
    "\n",
    "def create_lag_columns(df):\n",
    "    # Sắp xếp lại dataframe theo cột HourDK nếu cần thiết\n",
    "    df['HourDK'] = pd.to_datetime(df['HourDK'])\n",
    "    df_sorted = df.sort_values(by='HourDK')\n",
    "\n",
    "    # Tạo các cột lag từ 24 đến 48 tiếng cho từng mã DK36Code\n",
    "    lag_columns = range(24, 49)\n",
    "    for lag in lag_columns:\n",
    "        lag_col = f'lag_{lag}'\n",
    "        df_sorted[lag_col] = df_sorted.groupby('DK36Code')['Consumption_MWh'].shift(lag)\n",
    "\n",
    "    return df_sorted"
   ]
  },
  {
   "cell_type": "code",
   "execution_count": 23,
   "id": "ca01fb48",
   "metadata": {
    "execution": {
     "iopub.execute_input": "2024-07-03T13:24:32.918386Z",
     "iopub.status.busy": "2024-07-03T13:24:32.917496Z",
     "iopub.status.idle": "2024-07-03T13:24:42.852543Z",
     "shell.execute_reply": "2024-07-03T13:24:42.851457Z"
    },
    "papermill": {
     "duration": 9.948565,
     "end_time": "2024-07-03T13:24:42.855141",
     "exception": false,
     "start_time": "2024-07-03T13:24:32.906576",
     "status": "completed"
    },
    "tags": []
   },
   "outputs": [
    {
     "name": "stdout",
     "output_type": "stream",
     "text": [
      "                     HourUTC              HourDK  DK3619Code  hour  \\\n",
      "3533983  2012-06-01T23:00:00 2012-06-02 01:00:00        M_MA     1   \n",
      "3533982  2012-06-01T23:00:00 2012-06-02 01:00:00  C_CE_CF_CD     1   \n",
      "3533963  2012-06-02T00:00:00 2012-06-02 02:00:00         G_G     2   \n",
      "3533976  2012-06-02T00:00:00 2012-06-02 02:00:00        Q_QA     2   \n",
      "3533975  2012-06-02T00:00:00 2012-06-02 02:00:00         P_P     2   \n",
      "\n",
      "         day_of_week weekday_name  quarter  month  year  day_of_year  ...  \\\n",
      "3533983            5     Saturday        2      6  2012          154  ...   \n",
      "3533982            5     Saturday        2      6  2012          154  ...   \n",
      "3533963            5     Saturday        2      6  2012          154  ...   \n",
      "3533976            5     Saturday        2      6  2012          154  ...   \n",
      "3533975            5     Saturday        2      6  2012          154  ...   \n",
      "\n",
      "         lag_39  lag_40 lag_41  lag_42 lag_43 lag_44 lag_45 lag_46  lag_47  \\\n",
      "3533983     NaN     NaN    NaN     NaN    NaN    NaN    NaN    NaN     NaN   \n",
      "3533982     NaN     NaN    NaN     NaN    NaN    NaN    NaN    NaN     NaN   \n",
      "3533963     NaN     NaN    NaN     NaN    NaN    NaN    NaN    NaN     NaN   \n",
      "3533976     NaN     NaN    NaN     NaN    NaN    NaN    NaN    NaN     NaN   \n",
      "3533975     NaN     NaN    NaN     NaN    NaN    NaN    NaN    NaN     NaN   \n",
      "\n",
      "         lag_48  \n",
      "3533983     NaN  \n",
      "3533982     NaN  \n",
      "3533963     NaN  \n",
      "3533976     NaN  \n",
      "3533975     NaN  \n",
      "\n",
      "[5 rows x 44 columns]\n",
      "<class 'pandas.core.frame.DataFrame'>\n",
      "Index: 3323747 entries, 3533983 to 0\n",
      "Data columns (total 44 columns):\n",
      " #   Column           Dtype         \n",
      "---  ------           -----         \n",
      " 0   HourUTC          object        \n",
      " 1   HourDK           datetime64[ns]\n",
      " 2   DK3619Code       object        \n",
      " 3   hour             int32         \n",
      " 4   day_of_week      int32         \n",
      " 5   weekday_name     object        \n",
      " 6   quarter          int32         \n",
      " 7   month            int32         \n",
      " 8   year             int32         \n",
      " 9   day_of_year      int32         \n",
      " 10  day_of_month     int32         \n",
      " 11  week_of_year     UInt32        \n",
      " 12  season           object        \n",
      " 13  holiday          int64         \n",
      " 14  DK36Code         object        \n",
      " 15  DK36Title        object        \n",
      " 16  DK19Code         object        \n",
      " 17  DK19Title        object        \n",
      " 18  Consumption_MWh  float64       \n",
      " 19  lag_24           float64       \n",
      " 20  lag_25           float64       \n",
      " 21  lag_26           float64       \n",
      " 22  lag_27           float64       \n",
      " 23  lag_28           float64       \n",
      " 24  lag_29           float64       \n",
      " 25  lag_30           float64       \n",
      " 26  lag_31           float64       \n",
      " 27  lag_32           float64       \n",
      " 28  lag_33           float64       \n",
      " 29  lag_34           float64       \n",
      " 30  lag_35           float64       \n",
      " 31  lag_36           float64       \n",
      " 32  lag_37           float64       \n",
      " 33  lag_38           float64       \n",
      " 34  lag_39           float64       \n",
      " 35  lag_40           float64       \n",
      " 36  lag_41           float64       \n",
      " 37  lag_42           float64       \n",
      " 38  lag_43           float64       \n",
      " 39  lag_44           float64       \n",
      " 40  lag_45           float64       \n",
      " 41  lag_46           float64       \n",
      " 42  lag_47           float64       \n",
      " 43  lag_48           float64       \n",
      "dtypes: UInt32(1), datetime64[ns](1), float64(26), int32(7), int64(1), object(8)\n",
      "memory usage: 1.0+ GB\n",
      "None\n"
     ]
    }
   ],
   "source": [
    "df_processed = create_lag_columns(df_processed_time)\n",
    "print(df_processed.head())\n",
    "print(df_processed.info())"
   ]
  },
  {
   "cell_type": "code",
   "execution_count": 24,
   "id": "f11a0eb1",
   "metadata": {
    "execution": {
     "iopub.execute_input": "2024-07-03T13:24:42.875452Z",
     "iopub.status.busy": "2024-07-03T13:24:42.874776Z",
     "iopub.status.idle": "2024-07-03T13:24:43.307443Z",
     "shell.execute_reply": "2024-07-03T13:24:43.305986Z"
    },
    "papermill": {
     "duration": 0.445785,
     "end_time": "2024-07-03T13:24:43.310069",
     "exception": false,
     "start_time": "2024-07-03T13:24:42.864284",
     "status": "completed"
    },
    "tags": []
   },
   "outputs": [
    {
     "data": {
      "text/html": [
       "<div>\n",
       "<style scoped>\n",
       "    .dataframe tbody tr th:only-of-type {\n",
       "        vertical-align: middle;\n",
       "    }\n",
       "\n",
       "    .dataframe tbody tr th {\n",
       "        vertical-align: top;\n",
       "    }\n",
       "\n",
       "    .dataframe thead th {\n",
       "        text-align: right;\n",
       "    }\n",
       "</style>\n",
       "<table border=\"1\" class=\"dataframe\">\n",
       "  <thead>\n",
       "    <tr style=\"text-align: right;\">\n",
       "      <th></th>\n",
       "      <th>HourDK</th>\n",
       "      <th>DK36Code</th>\n",
       "      <th>lag_24</th>\n",
       "      <th>lag_25</th>\n",
       "      <th>lag_26</th>\n",
       "    </tr>\n",
       "  </thead>\n",
       "  <tbody>\n",
       "    <tr>\n",
       "      <th>3533983</th>\n",
       "      <td>2012-06-02 01:00:00</td>\n",
       "      <td>MA</td>\n",
       "      <td>NaN</td>\n",
       "      <td>NaN</td>\n",
       "      <td>NaN</td>\n",
       "    </tr>\n",
       "    <tr>\n",
       "      <th>3533970</th>\n",
       "      <td>2012-06-02 02:00:00</td>\n",
       "      <td>MA</td>\n",
       "      <td>NaN</td>\n",
       "      <td>NaN</td>\n",
       "      <td>NaN</td>\n",
       "    </tr>\n",
       "    <tr>\n",
       "      <th>3533937</th>\n",
       "      <td>2012-06-02 03:00:00</td>\n",
       "      <td>MA</td>\n",
       "      <td>NaN</td>\n",
       "      <td>NaN</td>\n",
       "      <td>NaN</td>\n",
       "    </tr>\n",
       "    <tr>\n",
       "      <th>3533904</th>\n",
       "      <td>2012-06-02 04:00:00</td>\n",
       "      <td>MA</td>\n",
       "      <td>NaN</td>\n",
       "      <td>NaN</td>\n",
       "      <td>NaN</td>\n",
       "    </tr>\n",
       "    <tr>\n",
       "      <th>3533871</th>\n",
       "      <td>2012-06-02 05:00:00</td>\n",
       "      <td>MA</td>\n",
       "      <td>NaN</td>\n",
       "      <td>NaN</td>\n",
       "      <td>NaN</td>\n",
       "    </tr>\n",
       "    <tr>\n",
       "      <th>3533838</th>\n",
       "      <td>2012-06-02 06:00:00</td>\n",
       "      <td>MA</td>\n",
       "      <td>NaN</td>\n",
       "      <td>NaN</td>\n",
       "      <td>NaN</td>\n",
       "    </tr>\n",
       "    <tr>\n",
       "      <th>3533805</th>\n",
       "      <td>2012-06-02 07:00:00</td>\n",
       "      <td>MA</td>\n",
       "      <td>NaN</td>\n",
       "      <td>NaN</td>\n",
       "      <td>NaN</td>\n",
       "    </tr>\n",
       "    <tr>\n",
       "      <th>3533772</th>\n",
       "      <td>2012-06-02 08:00:00</td>\n",
       "      <td>MA</td>\n",
       "      <td>NaN</td>\n",
       "      <td>NaN</td>\n",
       "      <td>NaN</td>\n",
       "    </tr>\n",
       "    <tr>\n",
       "      <th>3533739</th>\n",
       "      <td>2012-06-02 09:00:00</td>\n",
       "      <td>MA</td>\n",
       "      <td>NaN</td>\n",
       "      <td>NaN</td>\n",
       "      <td>NaN</td>\n",
       "    </tr>\n",
       "    <tr>\n",
       "      <th>3533706</th>\n",
       "      <td>2012-06-02 10:00:00</td>\n",
       "      <td>MA</td>\n",
       "      <td>NaN</td>\n",
       "      <td>NaN</td>\n",
       "      <td>NaN</td>\n",
       "    </tr>\n",
       "    <tr>\n",
       "      <th>3533673</th>\n",
       "      <td>2012-06-02 11:00:00</td>\n",
       "      <td>MA</td>\n",
       "      <td>NaN</td>\n",
       "      <td>NaN</td>\n",
       "      <td>NaN</td>\n",
       "    </tr>\n",
       "    <tr>\n",
       "      <th>3533640</th>\n",
       "      <td>2012-06-02 12:00:00</td>\n",
       "      <td>MA</td>\n",
       "      <td>NaN</td>\n",
       "      <td>NaN</td>\n",
       "      <td>NaN</td>\n",
       "    </tr>\n",
       "    <tr>\n",
       "      <th>3533607</th>\n",
       "      <td>2012-06-02 13:00:00</td>\n",
       "      <td>MA</td>\n",
       "      <td>NaN</td>\n",
       "      <td>NaN</td>\n",
       "      <td>NaN</td>\n",
       "    </tr>\n",
       "    <tr>\n",
       "      <th>3533574</th>\n",
       "      <td>2012-06-02 14:00:00</td>\n",
       "      <td>MA</td>\n",
       "      <td>NaN</td>\n",
       "      <td>NaN</td>\n",
       "      <td>NaN</td>\n",
       "    </tr>\n",
       "    <tr>\n",
       "      <th>3533541</th>\n",
       "      <td>2012-06-02 15:00:00</td>\n",
       "      <td>MA</td>\n",
       "      <td>NaN</td>\n",
       "      <td>NaN</td>\n",
       "      <td>NaN</td>\n",
       "    </tr>\n",
       "    <tr>\n",
       "      <th>3533508</th>\n",
       "      <td>2012-06-02 16:00:00</td>\n",
       "      <td>MA</td>\n",
       "      <td>NaN</td>\n",
       "      <td>NaN</td>\n",
       "      <td>NaN</td>\n",
       "    </tr>\n",
       "    <tr>\n",
       "      <th>3533475</th>\n",
       "      <td>2012-06-02 17:00:00</td>\n",
       "      <td>MA</td>\n",
       "      <td>NaN</td>\n",
       "      <td>NaN</td>\n",
       "      <td>NaN</td>\n",
       "    </tr>\n",
       "    <tr>\n",
       "      <th>3533442</th>\n",
       "      <td>2012-06-02 18:00:00</td>\n",
       "      <td>MA</td>\n",
       "      <td>NaN</td>\n",
       "      <td>NaN</td>\n",
       "      <td>NaN</td>\n",
       "    </tr>\n",
       "    <tr>\n",
       "      <th>3533409</th>\n",
       "      <td>2012-06-02 19:00:00</td>\n",
       "      <td>MA</td>\n",
       "      <td>NaN</td>\n",
       "      <td>NaN</td>\n",
       "      <td>NaN</td>\n",
       "    </tr>\n",
       "    <tr>\n",
       "      <th>3533376</th>\n",
       "      <td>2012-06-02 20:00:00</td>\n",
       "      <td>MA</td>\n",
       "      <td>NaN</td>\n",
       "      <td>NaN</td>\n",
       "      <td>NaN</td>\n",
       "    </tr>\n",
       "    <tr>\n",
       "      <th>3533343</th>\n",
       "      <td>2012-06-02 21:00:00</td>\n",
       "      <td>MA</td>\n",
       "      <td>NaN</td>\n",
       "      <td>NaN</td>\n",
       "      <td>NaN</td>\n",
       "    </tr>\n",
       "    <tr>\n",
       "      <th>3533310</th>\n",
       "      <td>2012-06-02 22:00:00</td>\n",
       "      <td>MA</td>\n",
       "      <td>NaN</td>\n",
       "      <td>NaN</td>\n",
       "      <td>NaN</td>\n",
       "    </tr>\n",
       "    <tr>\n",
       "      <th>3533277</th>\n",
       "      <td>2012-06-02 23:00:00</td>\n",
       "      <td>MA</td>\n",
       "      <td>NaN</td>\n",
       "      <td>NaN</td>\n",
       "      <td>NaN</td>\n",
       "    </tr>\n",
       "    <tr>\n",
       "      <th>3533244</th>\n",
       "      <td>2012-06-03 00:00:00</td>\n",
       "      <td>MA</td>\n",
       "      <td>NaN</td>\n",
       "      <td>NaN</td>\n",
       "      <td>NaN</td>\n",
       "    </tr>\n",
       "    <tr>\n",
       "      <th>3533211</th>\n",
       "      <td>2012-06-03 01:00:00</td>\n",
       "      <td>MA</td>\n",
       "      <td>0.068992</td>\n",
       "      <td>NaN</td>\n",
       "      <td>NaN</td>\n",
       "    </tr>\n",
       "    <tr>\n",
       "      <th>3533178</th>\n",
       "      <td>2012-06-03 02:00:00</td>\n",
       "      <td>MA</td>\n",
       "      <td>11.898054</td>\n",
       "      <td>0.068992</td>\n",
       "      <td>NaN</td>\n",
       "    </tr>\n",
       "    <tr>\n",
       "      <th>3533145</th>\n",
       "      <td>2012-06-03 03:00:00</td>\n",
       "      <td>MA</td>\n",
       "      <td>12.189308</td>\n",
       "      <td>11.898054</td>\n",
       "      <td>0.068992</td>\n",
       "    </tr>\n",
       "    <tr>\n",
       "      <th>3533112</th>\n",
       "      <td>2012-06-03 04:00:00</td>\n",
       "      <td>MA</td>\n",
       "      <td>12.151106</td>\n",
       "      <td>12.189308</td>\n",
       "      <td>11.898054</td>\n",
       "    </tr>\n",
       "    <tr>\n",
       "      <th>3533079</th>\n",
       "      <td>2012-06-03 05:00:00</td>\n",
       "      <td>MA</td>\n",
       "      <td>12.042611</td>\n",
       "      <td>12.151106</td>\n",
       "      <td>12.189308</td>\n",
       "    </tr>\n",
       "    <tr>\n",
       "      <th>3533046</th>\n",
       "      <td>2012-06-03 06:00:00</td>\n",
       "      <td>MA</td>\n",
       "      <td>12.089538</td>\n",
       "      <td>12.042611</td>\n",
       "      <td>12.151106</td>\n",
       "    </tr>\n",
       "  </tbody>\n",
       "</table>\n",
       "</div>"
      ],
      "text/plain": [
       "                     HourDK DK36Code     lag_24     lag_25     lag_26\n",
       "3533983 2012-06-02 01:00:00       MA        NaN        NaN        NaN\n",
       "3533970 2012-06-02 02:00:00       MA        NaN        NaN        NaN\n",
       "3533937 2012-06-02 03:00:00       MA        NaN        NaN        NaN\n",
       "3533904 2012-06-02 04:00:00       MA        NaN        NaN        NaN\n",
       "3533871 2012-06-02 05:00:00       MA        NaN        NaN        NaN\n",
       "3533838 2012-06-02 06:00:00       MA        NaN        NaN        NaN\n",
       "3533805 2012-06-02 07:00:00       MA        NaN        NaN        NaN\n",
       "3533772 2012-06-02 08:00:00       MA        NaN        NaN        NaN\n",
       "3533739 2012-06-02 09:00:00       MA        NaN        NaN        NaN\n",
       "3533706 2012-06-02 10:00:00       MA        NaN        NaN        NaN\n",
       "3533673 2012-06-02 11:00:00       MA        NaN        NaN        NaN\n",
       "3533640 2012-06-02 12:00:00       MA        NaN        NaN        NaN\n",
       "3533607 2012-06-02 13:00:00       MA        NaN        NaN        NaN\n",
       "3533574 2012-06-02 14:00:00       MA        NaN        NaN        NaN\n",
       "3533541 2012-06-02 15:00:00       MA        NaN        NaN        NaN\n",
       "3533508 2012-06-02 16:00:00       MA        NaN        NaN        NaN\n",
       "3533475 2012-06-02 17:00:00       MA        NaN        NaN        NaN\n",
       "3533442 2012-06-02 18:00:00       MA        NaN        NaN        NaN\n",
       "3533409 2012-06-02 19:00:00       MA        NaN        NaN        NaN\n",
       "3533376 2012-06-02 20:00:00       MA        NaN        NaN        NaN\n",
       "3533343 2012-06-02 21:00:00       MA        NaN        NaN        NaN\n",
       "3533310 2012-06-02 22:00:00       MA        NaN        NaN        NaN\n",
       "3533277 2012-06-02 23:00:00       MA        NaN        NaN        NaN\n",
       "3533244 2012-06-03 00:00:00       MA        NaN        NaN        NaN\n",
       "3533211 2012-06-03 01:00:00       MA   0.068992        NaN        NaN\n",
       "3533178 2012-06-03 02:00:00       MA  11.898054   0.068992        NaN\n",
       "3533145 2012-06-03 03:00:00       MA  12.189308  11.898054   0.068992\n",
       "3533112 2012-06-03 04:00:00       MA  12.151106  12.189308  11.898054\n",
       "3533079 2012-06-03 05:00:00       MA  12.042611  12.151106  12.189308\n",
       "3533046 2012-06-03 06:00:00       MA  12.089538  12.042611  12.151106"
      ]
     },
     "execution_count": 24,
     "metadata": {},
     "output_type": "execute_result"
    }
   ],
   "source": [
    "df_processed[df_processed['DK36Code'] == 'MA'].head(30)[['HourDK', 'DK36Code', 'lag_24', 'lag_25', 'lag_26']]"
   ]
  },
  {
   "cell_type": "code",
   "execution_count": 25,
   "id": "19b3d4b2",
   "metadata": {
    "execution": {
     "iopub.execute_input": "2024-07-03T13:24:43.331692Z",
     "iopub.status.busy": "2024-07-03T13:24:43.330821Z",
     "iopub.status.idle": "2024-07-03T13:24:43.756505Z",
     "shell.execute_reply": "2024-07-03T13:24:43.755362Z"
    },
    "papermill": {
     "duration": 0.438872,
     "end_time": "2024-07-03T13:24:43.758760",
     "exception": false,
     "start_time": "2024-07-03T13:24:43.319888",
     "status": "completed"
    },
    "tags": []
   },
   "outputs": [
    {
     "data": {
      "text/html": [
       "<div>\n",
       "<style scoped>\n",
       "    .dataframe tbody tr th:only-of-type {\n",
       "        vertical-align: middle;\n",
       "    }\n",
       "\n",
       "    .dataframe tbody tr th {\n",
       "        vertical-align: top;\n",
       "    }\n",
       "\n",
       "    .dataframe thead th {\n",
       "        text-align: right;\n",
       "    }\n",
       "</style>\n",
       "<table border=\"1\" class=\"dataframe\">\n",
       "  <thead>\n",
       "    <tr style=\"text-align: right;\">\n",
       "      <th></th>\n",
       "      <th>HourDK</th>\n",
       "      <th>DK36Code</th>\n",
       "      <th>lag_24</th>\n",
       "      <th>lag_25</th>\n",
       "      <th>lag_26</th>\n",
       "    </tr>\n",
       "  </thead>\n",
       "  <tbody>\n",
       "    <tr>\n",
       "      <th>306</th>\n",
       "      <td>2024-06-21 14:00:00</td>\n",
       "      <td>A</td>\n",
       "      <td>168.793935</td>\n",
       "      <td>171.697648</td>\n",
       "      <td>166.379210</td>\n",
       "    </tr>\n",
       "    <tr>\n",
       "      <th>272</th>\n",
       "      <td>2024-06-21 15:00:00</td>\n",
       "      <td>A</td>\n",
       "      <td>165.697301</td>\n",
       "      <td>168.793935</td>\n",
       "      <td>171.697648</td>\n",
       "    </tr>\n",
       "    <tr>\n",
       "      <th>238</th>\n",
       "      <td>2024-06-21 16:00:00</td>\n",
       "      <td>A</td>\n",
       "      <td>167.568061</td>\n",
       "      <td>165.697301</td>\n",
       "      <td>168.793935</td>\n",
       "    </tr>\n",
       "    <tr>\n",
       "      <th>204</th>\n",
       "      <td>2024-06-21 17:00:00</td>\n",
       "      <td>A</td>\n",
       "      <td>171.357029</td>\n",
       "      <td>167.568061</td>\n",
       "      <td>165.697301</td>\n",
       "    </tr>\n",
       "    <tr>\n",
       "      <th>170</th>\n",
       "      <td>2024-06-21 18:00:00</td>\n",
       "      <td>A</td>\n",
       "      <td>169.617359</td>\n",
       "      <td>171.357029</td>\n",
       "      <td>167.568061</td>\n",
       "    </tr>\n",
       "    <tr>\n",
       "      <th>136</th>\n",
       "      <td>2024-06-21 19:00:00</td>\n",
       "      <td>A</td>\n",
       "      <td>164.658720</td>\n",
       "      <td>169.617359</td>\n",
       "      <td>171.357029</td>\n",
       "    </tr>\n",
       "    <tr>\n",
       "      <th>102</th>\n",
       "      <td>2024-06-21 20:00:00</td>\n",
       "      <td>A</td>\n",
       "      <td>162.319310</td>\n",
       "      <td>164.658720</td>\n",
       "      <td>169.617359</td>\n",
       "    </tr>\n",
       "    <tr>\n",
       "      <th>68</th>\n",
       "      <td>2024-06-21 21:00:00</td>\n",
       "      <td>A</td>\n",
       "      <td>158.676061</td>\n",
       "      <td>162.319310</td>\n",
       "      <td>164.658720</td>\n",
       "    </tr>\n",
       "    <tr>\n",
       "      <th>34</th>\n",
       "      <td>2024-06-21 22:00:00</td>\n",
       "      <td>A</td>\n",
       "      <td>154.584413</td>\n",
       "      <td>158.676061</td>\n",
       "      <td>162.319310</td>\n",
       "    </tr>\n",
       "    <tr>\n",
       "      <th>0</th>\n",
       "      <td>2024-06-21 23:00:00</td>\n",
       "      <td>A</td>\n",
       "      <td>147.836362</td>\n",
       "      <td>154.584413</td>\n",
       "      <td>158.676061</td>\n",
       "    </tr>\n",
       "  </tbody>\n",
       "</table>\n",
       "</div>"
      ],
      "text/plain": [
       "                 HourDK DK36Code      lag_24      lag_25      lag_26\n",
       "306 2024-06-21 14:00:00        A  168.793935  171.697648  166.379210\n",
       "272 2024-06-21 15:00:00        A  165.697301  168.793935  171.697648\n",
       "238 2024-06-21 16:00:00        A  167.568061  165.697301  168.793935\n",
       "204 2024-06-21 17:00:00        A  171.357029  167.568061  165.697301\n",
       "170 2024-06-21 18:00:00        A  169.617359  171.357029  167.568061\n",
       "136 2024-06-21 19:00:00        A  164.658720  169.617359  171.357029\n",
       "102 2024-06-21 20:00:00        A  162.319310  164.658720  169.617359\n",
       "68  2024-06-21 21:00:00        A  158.676061  162.319310  164.658720\n",
       "34  2024-06-21 22:00:00        A  154.584413  158.676061  162.319310\n",
       "0   2024-06-21 23:00:00        A  147.836362  154.584413  158.676061"
      ]
     },
     "execution_count": 25,
     "metadata": {},
     "output_type": "execute_result"
    }
   ],
   "source": [
    "df_processed[df_processed['DK36Code'] == 'A'].tail(10)[['HourDK', 'DK36Code', 'lag_24', 'lag_25', 'lag_26']]"
   ]
  },
  {
   "cell_type": "code",
   "execution_count": 26,
   "id": "991d2f69",
   "metadata": {
    "execution": {
     "iopub.execute_input": "2024-07-03T13:24:43.780262Z",
     "iopub.status.busy": "2024-07-03T13:24:43.779868Z",
     "iopub.status.idle": "2024-07-03T13:26:46.383312Z",
     "shell.execute_reply": "2024-07-03T13:26:46.382454Z"
    },
    "papermill": {
     "duration": 122.617365,
     "end_time": "2024-07-03T13:26:46.386061",
     "exception": false,
     "start_time": "2024-07-03T13:24:43.768696",
     "status": "completed"
    },
    "tags": []
   },
   "outputs": [],
   "source": [
    "# Xuất DataFrame count_stats thành file CSV\n",
    "df_processed.to_csv('/kaggle/working/dataset_dk3619_preprocessed_v1.csv', index=False)"
   ]
  },
  {
   "cell_type": "code",
   "execution_count": 27,
   "id": "a01e5378",
   "metadata": {
    "execution": {
     "iopub.execute_input": "2024-07-03T13:26:46.408489Z",
     "iopub.status.busy": "2024-07-03T13:26:46.407752Z",
     "iopub.status.idle": "2024-07-03T13:26:46.430634Z",
     "shell.execute_reply": "2024-07-03T13:26:46.429286Z"
    },
    "papermill": {
     "duration": 0.03612,
     "end_time": "2024-07-03T13:26:46.432752",
     "exception": false,
     "start_time": "2024-07-03T13:26:46.396632",
     "status": "completed"
    },
    "tags": []
   },
   "outputs": [
    {
     "name": "stdout",
     "output_type": "stream",
     "text": [
      "[2012 2013 2014 2015 2016 2017 2018 2019 2020 2021 2022 2023 2024]\n"
     ]
    }
   ],
   "source": [
    "print(df_processed['year'].unique())"
   ]
  },
  {
   "cell_type": "code",
   "execution_count": 28,
   "id": "04234b12",
   "metadata": {
    "execution": {
     "iopub.execute_input": "2024-07-03T13:26:46.454269Z",
     "iopub.status.busy": "2024-07-03T13:26:46.453431Z",
     "iopub.status.idle": "2024-07-03T13:26:47.031507Z",
     "shell.execute_reply": "2024-07-03T13:26:47.030204Z"
    },
    "papermill": {
     "duration": 0.591295,
     "end_time": "2024-07-03T13:26:47.033812",
     "exception": false,
     "start_time": "2024-07-03T13:26:46.442517",
     "status": "completed"
    },
    "tags": []
   },
   "outputs": [
    {
     "name": "stdout",
     "output_type": "stream",
     "text": [
      "['Rådgivning mv.' 'Kemiskindustri, Olieraffinaderier og Medicinalindustri'\n",
      " 'Handel' 'Sundhedsvæsen' 'Undervisning'\n",
      " 'Offentlig administration, forsvar og politi'\n",
      " 'Reklame og øvrig erhvervsservice' 'Forskning og udvikling'\n",
      " 'Sociale institutioner' 'Ejendomshandel og udlejning'\n",
      " 'Finansiering og forsikring'\n",
      " 'Telekommunikation &It - og informationstjenester' 'Forlag, tv og radio'\n",
      " 'Hoteller og restauranter' 'Transport' 'Fremst. af elektrisk udstyr'\n",
      " 'Rejsebureauer, rengøring og anden operationel service'\n",
      " 'Vandforsyning og renovation' 'Bygge og anlæg'\n",
      " 'Andre serviceydelser  mv.' 'Landbrug, skovbrug og fiskeri'\n",
      " 'Føde-, drikke- og tobaksvareindustri'\n",
      " 'Træ- og papirindustri, trykkerier' 'Plast-, glas- og betonindustri'\n",
      " 'Kultur og fritid' 'Elektronikindustri' 'Maskinindustri'\n",
      " 'Transportmiddelindustri'\n",
      " 'Tekstil - og læderindustri & Møbel og anden industri mv.'\n",
      " 'Energiforsyning' 'Metalindustri' 'Privat']\n",
      "['Videnservice' 'Industri' 'Handel' 'Sundhed og socialvæsen'\n",
      " 'Undervisning' 'Offentlig administration, forsvar og politi'\n",
      " 'Ejendomshandel og udlejning' 'Finansiering og forsikring'\n",
      " 'Information og kommunikation' 'Hoteller og restauranter' 'Transport'\n",
      " 'Rejsebureauer, rengøring og anden operationel service'\n",
      " 'Vandforsyning og renovation' 'Bygge og anlæg' 'Andre serviceydelser mv'\n",
      " 'Landbrug, skovbrug og fiskeri' 'Kultur og fritid' 'Energiforsyning'\n",
      " 'Privat']\n"
     ]
    }
   ],
   "source": [
    "dk36title = df_processed['DK36Title'].unique()\n",
    "dk19title = df_processed['DK19Title'].unique()\n",
    "print(dk36title)\n",
    "print(dk19title)"
   ]
  },
  {
   "cell_type": "code",
   "execution_count": 29,
   "id": "2dc4c600",
   "metadata": {
    "execution": {
     "iopub.execute_input": "2024-07-03T13:26:47.055711Z",
     "iopub.status.busy": "2024-07-03T13:26:47.055323Z",
     "iopub.status.idle": "2024-07-03T13:26:48.001294Z",
     "shell.execute_reply": "2024-07-03T13:26:48.000159Z"
    },
    "papermill": {
     "duration": 0.959838,
     "end_time": "2024-07-03T13:26:48.003886",
     "exception": false,
     "start_time": "2024-07-03T13:26:47.044048",
     "status": "completed"
    },
    "tags": []
   },
   "outputs": [
    {
     "name": "stdout",
     "output_type": "stream",
     "text": [
      "Các phần tử chỉ có trong dk36title_array mà không có trong dk19title_array:\n",
      "['Andre serviceydelser  mv.' 'Elektronikindustri' 'Forlag, tv og radio'\n",
      " 'Forskning og udvikling' 'Fremst. af elektrisk udstyr'\n",
      " 'Føde-, drikke- og tobaksvareindustri'\n",
      " 'Kemiskindustri, Olieraffinaderier og Medicinalindustri' 'Maskinindustri'\n",
      " 'Metalindustri' 'Plast-, glas- og betonindustri'\n",
      " 'Reklame og øvrig erhvervsservice' 'Rådgivning mv.'\n",
      " 'Sociale institutioner' 'Sundhedsvæsen'\n",
      " 'Tekstil - og læderindustri & Møbel og anden industri mv.'\n",
      " 'Telekommunikation &It - og informationstjenester'\n",
      " 'Transportmiddelindustri' 'Træ- og papirindustri, trykkerier']\n",
      "\n",
      "Các phần tử chỉ có trong dk19title_array mà không có trong dk36title_array:\n",
      "['Andre serviceydelser mv' 'Industri' 'Information og kommunikation'\n",
      " 'Sundhed og socialvæsen' 'Videnservice']\n"
     ]
    }
   ],
   "source": [
    "import numpy as np\n",
    "\n",
    "# Giả sử df_processed là DataFrame của bạn\n",
    "# Lấy các unique values của cột DK36Title và DK19Title, bỏ qua giá trị nan\n",
    "dk36title = df_processed['DK36Title'].dropna().unique()\n",
    "dk19title = df_processed['DK19Title'].dropna().unique()\n",
    "\n",
    "# Chuyển các unique values thành mảng numpy\n",
    "dk36title_array = np.array(dk36title)\n",
    "dk19title_array = np.array(dk19title)\n",
    "\n",
    "# Tìm các phần tử chỉ có trong dk36title_array mà không có trong dk19title_array\n",
    "unique_dk36title = np.setdiff1d(dk36title_array, dk19title_array)\n",
    "\n",
    "# Tìm các phần tử chỉ có trong dk19title_array mà không có trong dk36title_array\n",
    "unique_dk19title = np.setdiff1d(dk19title_array, dk36title_array)\n",
    "\n",
    "# Kết quả\n",
    "print(\"Các phần tử chỉ có trong dk36title_array mà không có trong dk19title_array:\")\n",
    "print(unique_dk36title)\n",
    "\n",
    "print(\"\\nCác phần tử chỉ có trong dk19title_array mà không có trong dk36title_array:\")\n",
    "print(unique_dk19title)\n"
   ]
  },
  {
   "cell_type": "code",
   "execution_count": 30,
   "id": "959d1c66",
   "metadata": {
    "execution": {
     "iopub.execute_input": "2024-07-03T13:26:48.026327Z",
     "iopub.status.busy": "2024-07-03T13:26:48.025686Z",
     "iopub.status.idle": "2024-07-03T13:26:48.756108Z",
     "shell.execute_reply": "2024-07-03T13:26:48.753776Z"
    },
    "papermill": {
     "duration": 0.744814,
     "end_time": "2024-07-03T13:26:48.759038",
     "exception": false,
     "start_time": "2024-07-03T13:26:48.014224",
     "status": "completed"
    },
    "tags": []
   },
   "outputs": [
    {
     "name": "stdout",
     "output_type": "stream",
     "text": [
      "df Statistics:\n",
      "    DK36Code DK19Code        mean        min          max         std  \\\n",
      "0          A        A  154.675343  11.824183   347.612299   69.081704   \n",
      "1         CA        C  180.123194  17.932318   337.977356   61.166571   \n",
      "2         CC        C   44.381744   3.616645    93.227791   18.754005   \n",
      "3   CE_CF_CD        C  157.103540   8.836999   223.284897   25.345416   \n",
      "4         CG        C  108.528431   8.873151   201.983307   43.667007   \n",
      "5         CH        C   84.540892   4.106684   194.267532   45.730394   \n",
      "6         CI        C    7.051252   0.548322    15.867881    2.963885   \n",
      "7         CJ        C    9.534243   0.078813    20.109194    3.954460   \n",
      "8         CK        C   46.835179   3.957120   111.185806   23.086160   \n",
      "9         CL        C    7.100673   0.368000    18.912756    3.632762   \n",
      "10     CM_CB        C   37.374338   2.573857    85.469142   17.032363   \n",
      "11         D        D  169.686098   4.632011  1609.591810  169.281546   \n",
      "12         E        E   68.202654   2.589077   185.352501   21.824398   \n",
      "13         F        F   24.406045   1.547291   134.114151   16.949665   \n",
      "14         G        G  249.085464  13.127446   519.155184  103.123010   \n",
      "15         H        H  109.545443  15.812085   224.978867   34.121906   \n",
      "16         I        I   59.792115   3.608642   162.836060   31.407341   \n",
      "17        JA        J    9.843995   0.063667    18.090263    2.407161   \n",
      "18     JB_JC        J   91.476405  20.809053   190.595477   47.139623   \n",
      "19         K        K   33.708942   1.082366    86.234314   14.203619   \n",
      "20         L        L  116.740715  10.620336   269.804870   50.846963   \n",
      "21        MA        M   33.378432   0.068992    77.873412   10.036837   \n",
      "22        MB        M   11.892492   0.058051    30.224340    3.879060   \n",
      "23        MC        M    3.129606   0.201527   106.910225    2.170465   \n",
      "24         N        N   19.501237   2.087493   456.611762    8.229456   \n",
      "25         O        O  160.901655   7.677019   377.306030   61.956851   \n",
      "26         P        P   50.855775   3.428349   135.611465   21.221564   \n",
      "27        PR       PR  997.599028  36.396748  2896.663873  337.153711   \n",
      "28        QA        Q    4.308554   0.201026    19.009698    3.910587   \n",
      "29        QB        Q    8.405422   0.466419    34.275887    4.141535   \n",
      "30         R        R   27.706656   1.248373    63.414211   10.949989   \n",
      "31         S        S   24.719812   1.935919   108.164001   13.907807   \n",
      "\n",
      "             sum  \n",
      "0   1.634454e+07  \n",
      "1   1.903362e+07  \n",
      "2   4.689819e+06  \n",
      "3   1.660129e+07  \n",
      "4   1.146820e+07  \n",
      "5   8.933436e+06  \n",
      "6   7.451058e+05  \n",
      "7   1.007483e+06  \n",
      "8   4.949073e+06  \n",
      "9   7.503281e+05  \n",
      "10  3.949346e+06  \n",
      "11  1.793073e+07  \n",
      "12  7.206974e+06  \n",
      "13  2.578987e+06  \n",
      "14  2.632086e+07  \n",
      "15  1.157567e+07  \n",
      "16  6.318233e+06  \n",
      "17  1.040215e+06  \n",
      "18  9.666312e+06  \n",
      "19  3.562024e+06  \n",
      "20  1.233599e+07  \n",
      "21  3.527132e+06  \n",
      "22  1.256680e+06  \n",
      "23  3.307055e+05  \n",
      "24  2.060696e+06  \n",
      "25  1.700248e+07  \n",
      "26  5.373930e+06  \n",
      "27  4.785981e+07  \n",
      "28  4.552849e+05  \n",
      "29  8.882009e+05  \n",
      "30  2.927762e+06  \n",
      "31  2.612143e+06  \n"
     ]
    }
   ],
   "source": [
    "col_processed = ['DK36Code', 'DK19Code']\n",
    "df_stats = df_processed.groupby(col_processed)['Consumption_MWh'].agg(['mean', 'min', 'max', 'std', 'sum']).reset_index()\n",
    "print(\"df Statistics:\")\n",
    "print(df_stats)"
   ]
  },
  {
   "cell_type": "code",
   "execution_count": 31,
   "id": "161421d9",
   "metadata": {
    "execution": {
     "iopub.execute_input": "2024-07-03T13:26:48.782427Z",
     "iopub.status.busy": "2024-07-03T13:26:48.782047Z",
     "iopub.status.idle": "2024-07-03T13:26:48.788164Z",
     "shell.execute_reply": "2024-07-03T13:26:48.787234Z"
    },
    "papermill": {
     "duration": 0.02064,
     "end_time": "2024-07-03T13:26:48.790525",
     "exception": false,
     "start_time": "2024-07-03T13:26:48.769885",
     "status": "completed"
    },
    "tags": []
   },
   "outputs": [
    {
     "name": "stdout",
     "output_type": "stream",
     "text": [
      "['A' 'CA' 'CC' 'CE_CF_CD' 'CG' 'CH' 'CI' 'CJ' 'CK' 'CL' 'CM_CB' 'D' 'E'\n",
      " 'F' 'G' 'H' 'I' 'JA' 'JB_JC' 'K' 'L' 'MA' 'MB' 'MC' 'N' 'O' 'P' 'PR' 'QA'\n",
      " 'QB' 'R' 'S']\n",
      "['A' 'C' 'D' 'E' 'F' 'G' 'H' 'I' 'J' 'K' 'L' 'M' 'N' 'O' 'P' 'PR' 'Q' 'R'\n",
      " 'S']\n"
     ]
    }
   ],
   "source": [
    "print(df_stats['DK36Code'].unique())\n",
    "print(df_stats['DK19Code'].unique())"
   ]
  },
  {
   "cell_type": "code",
   "execution_count": 32,
   "id": "7a80df9e",
   "metadata": {
    "execution": {
     "iopub.execute_input": "2024-07-03T13:26:48.812950Z",
     "iopub.status.busy": "2024-07-03T13:26:48.812591Z",
     "iopub.status.idle": "2024-07-03T13:26:49.309582Z",
     "shell.execute_reply": "2024-07-03T13:26:49.308592Z"
    },
    "papermill": {
     "duration": 0.511324,
     "end_time": "2024-07-03T13:26:49.312225",
     "exception": false,
     "start_time": "2024-07-03T13:26:48.800901",
     "status": "completed"
    },
    "tags": []
   },
   "outputs": [
    {
     "data": {
      "image/png": "[encoded data removed]",
      "text/plain": [
       "<Figure size 1400x800 with 1 Axes>"
      ]
     },
     "metadata": {},
     "output_type": "display_data"
    }
   ],
   "source": [
    "# Sort df_stats by 'mean' in descending order\n",
    "#df_stats_sorted = df_stats.sort_values(by='mean', ascending=False)\n",
    "\n",
    "plt.figure(figsize=(14, 8))\n",
    "# Create barplot with 95% CI error bars\n",
    "sns.barplot(x='DK36Code', y='mean', data=df_stats, palette='muted', order=df_stats['DK36Code'])\n",
    "plt.xlabel('DK36Code')\n",
    "plt.ylabel('Consumption_MWh')\n",
    "plt.title('Title')\n",
    "#plt.legend(title='ConsumerType', loc='center left', bbox_to_anchor=(1, 0.5))\n",
    "plt.xticks(rotation=45)  # Rotate x-axis labels for better readability if needed\n",
    "plt.show()"
   ]
  },
  {
   "cell_type": "code",
   "execution_count": 33,
   "id": "3294309c",
   "metadata": {
    "execution": {
     "iopub.execute_input": "2024-07-03T13:26:49.336139Z",
     "iopub.status.busy": "2024-07-03T13:26:49.335797Z",
     "iopub.status.idle": "2024-07-03T13:26:50.170551Z",
     "shell.execute_reply": "2024-07-03T13:26:50.169457Z"
    },
    "papermill": {
     "duration": 0.849459,
     "end_time": "2024-07-03T13:26:50.172801",
     "exception": false,
     "start_time": "2024-07-03T13:26:49.323342",
     "status": "completed"
    },
    "tags": []
   },
   "outputs": [
    {
     "name": "stdout",
     "output_type": "stream",
     "text": [
      "df Statistics:\n",
      "    DK36Code weekday_name        mean        min         max        std  \\\n",
      "0          A       Friday  155.807040  12.195354  347.612299  69.756938   \n",
      "1          A       Monday  156.350421  11.824183  337.785184  69.786493   \n",
      "2          A     Saturday  150.118301  11.949826  328.435014  66.784581   \n",
      "3          A       Sunday  148.806007  12.053446  322.002112  66.102274   \n",
      "4          A     Thursday  157.489421  12.199611  339.942157  70.660652   \n",
      "..       ...          ...         ...        ...         ...        ...   \n",
      "219        S     Saturday   21.131132   2.196148   76.967255  11.552586   \n",
      "220        S       Sunday   20.894048   4.123515   78.070992  11.859332   \n",
      "221        S     Thursday   26.708709   2.148136   85.312363  14.832852   \n",
      "222        S      Tuesday   26.556197   4.504835   74.462564  14.621384   \n",
      "223        S    Wednesday   26.626916   4.461285   72.788203  14.682229   \n",
      "\n",
      "              sum  \n",
      "0    2.352063e+06  \n",
      "1    2.360266e+06  \n",
      "2    2.265886e+06  \n",
      "3    2.246375e+06  \n",
      "4    2.377460e+06  \n",
      "..            ...  \n",
      "219  3.189533e+05  \n",
      "220  3.154166e+05  \n",
      "221  4.031947e+05  \n",
      "222  4.008924e+05  \n",
      "223  4.019599e+05  \n",
      "\n",
      "[224 rows x 7 columns]\n"
     ]
    }
   ],
   "source": [
    "col_processed = ['DK36Code', 'weekday_name']\n",
    "daily_stats = df_processed.groupby(col_processed)['Consumption_MWh'].agg(['mean', 'min', 'max', 'std', 'sum']).reset_index()\n",
    "print(\"df Statistics:\")\n",
    "print(daily_stats)"
   ]
  },
  {
   "cell_type": "code",
   "execution_count": 34,
   "id": "84517605",
   "metadata": {
    "execution": {
     "iopub.execute_input": "2024-07-03T13:26:50.196854Z",
     "iopub.status.busy": "2024-07-03T13:26:50.196485Z",
     "iopub.status.idle": "2024-07-03T13:26:50.203348Z",
     "shell.execute_reply": "2024-07-03T13:26:50.202291Z"
    },
    "papermill": {
     "duration": 0.021273,
     "end_time": "2024-07-03T13:26:50.205321",
     "exception": false,
     "start_time": "2024-07-03T13:26:50.184048",
     "status": "completed"
    },
    "tags": []
   },
   "outputs": [],
   "source": [
    "def plot_lineplot(stats_df, x_col, title, xlabel):\n",
    "    plt.figure(figsize=(14, 8))\n",
    "    \n",
    "    # Plot lines for each ConsumerType_DE35\n",
    "    for consumer_type in stats_df['DK36Code'].unique():\n",
    "        subset = stats_df[stats_df['DK36Code'] == consumer_type]\n",
    "        plt.plot(subset[x_col], subset['mean'], marker='o', label=f'ConsumerType_DE35 {consumer_type}')\n",
    "    \n",
    "    plt.xlabel(xlabel)\n",
    "    plt.ylabel('Consumption_MWh')\n",
    "    plt.title(title)\n",
    "    plt.legend(title='DK36Code', loc='center left', bbox_to_anchor=(1, 0.5))\n",
    "    plt.grid(True)\n",
    "    plt.show()"
   ]
  },
  {
   "cell_type": "code",
   "execution_count": 35,
   "id": "9f27bdd2",
   "metadata": {
    "execution": {
     "iopub.execute_input": "2024-07-03T13:26:50.230300Z",
     "iopub.status.busy": "2024-07-03T13:26:50.229454Z",
     "iopub.status.idle": "2024-07-03T13:26:51.776019Z",
     "shell.execute_reply": "2024-07-03T13:26:51.775083Z"
    },
    "papermill": {
     "duration": 1.564494,
     "end_time": "2024-07-03T13:26:51.781202",
     "exception": false,
     "start_time": "2024-07-03T13:26:50.216708",
     "status": "completed"
    },
    "tags": []
   },
   "outputs": [
    {
     "data": {
      "image/png": "[encoded data removed]",
      "text/plain": [
       "<Figure size 1400x800 with 1 Axes>"
      ]
     },
     "metadata": {},
     "output_type": "display_data"
    }
   ],
   "source": [
    "col_processed = ['DK36Code', 'weekday_name']\n",
    "daily_stats = df_processed.groupby(col_processed)['Consumption_MWh'].agg(['mean', 'min', 'max', 'std', 'sum']).reset_index()\n",
    "# Filter out ConsumerType_DE35 = 999\n",
    "daily_stats = daily_stats[daily_stats['DK36Code'] != 'PR']\n",
    "# Example usage\n",
    "# Assuming stats_df contains your grouped statistics DataFrame\n",
    "plot_lineplot(daily_stats, 'weekday_name', 'Consumption_MWh theo Ngày', 'Ngày')"
   ]
  }
 ],
 "metadata": {
  "kaggle": {
   "accelerator": "none",
   "dataSources": [
    {
     "datasetId": 5310739,
     "sourceId": 8826922,
     "sourceType": "datasetVersion"
    }
   ],
   "dockerImageVersionId": 30732,
   "isGpuEnabled": false,
   "isInternetEnabled": true,
   "language": "python",
   "sourceType": "notebook"
  },
  "kernelspec": {
   "display_name": "Python 3",
   "language": "python",
   "name": "python3"
  },
  "language_info": {
   "codemirror_mode": {
    "name": "ipython",
    "version": 3
   },
   "file_extension": ".py",
   "mimetype": "text/x-python",
   "name": "python",
   "nbconvert_exporter": "python",
   "pygments_lexer": "ipython3",
   "version": "3.10.13"
  },
  "papermill": {
   "default_parameters": {},
   "duration": 180.629164,
   "end_time": "2024-07-03T13:26:53.020606",
   "environment_variables": {},
   "exception": null,
   "input_path": "__notebook__.ipynb",
   "output_path": "__notebook__.ipynb",
   "parameters": {},
   "start_time": "2024-07-03T13:23:52.391442",
   "version": "2.4.0"
  }
 },
 "nbformat": 4,
 "nbformat_minor": 5
}
