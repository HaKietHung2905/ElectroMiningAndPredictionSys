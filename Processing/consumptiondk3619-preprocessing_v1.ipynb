{
 "cells": [
  {
   "cell_type": "code",
   "execution_count": 1,
   "id": "82817a4a",
   "metadata": {
    "execution": {
     "iopub.execute_input": "2024-07-08T04:03:50.009794Z",
     "iopub.status.busy": "2024-07-08T04:03:50.009475Z",
     "iopub.status.idle": "2024-07-08T04:03:53.240817Z",
     "shell.execute_reply": "2024-07-08T04:03:53.240046Z"
    },
    "papermill": {
     "duration": 3.245512,
     "end_time": "2024-07-08T04:03:53.243081",
     "exception": false,
     "start_time": "2024-07-08T04:03:49.997569",
     "status": "completed"
    },
    "tags": []
   },
   "outputs": [],
   "source": [
    "# import the libraries\n",
    "import pandas as pd\n",
    "import numpy as np\n",
    "import matplotlib.pyplot as plt\n",
    "import seaborn as sns"
   ]
  },
  {
   "cell_type": "markdown",
   "id": "daf06978",
   "metadata": {
    "papermill": {
     "duration": 0.009805,
     "end_time": "2024-07-08T04:03:53.263292",
     "exception": false,
     "start_time": "2024-07-08T04:03:53.253487",
     "status": "completed"
    },
    "tags": []
   },
   "source": [
    "## Get data ConsumptionDE35Hour full 2.994.932 rows"
   ]
  },
  {
   "cell_type": "code",
   "execution_count": 2,
   "id": "08b1f7f7",
   "metadata": {
    "execution": {
     "iopub.execute_input": "2024-07-08T04:03:53.284652Z",
     "iopub.status.busy": "2024-07-08T04:03:53.284250Z",
     "iopub.status.idle": "2024-07-08T04:03:53.288854Z",
     "shell.execute_reply": "2024-07-08T04:03:53.287932Z"
    },
    "papermill": {
     "duration": 0.017536,
     "end_time": "2024-07-08T04:03:53.290805",
     "exception": false,
     "start_time": "2024-07-08T04:03:53.273269",
     "status": "completed"
    },
    "tags": []
   },
   "outputs": [],
   "source": [
    "# import requests\n",
    "# import csv\n",
    "\n",
    "# # Fetch the data from the API\n",
    "# response = requests.get(\n",
    "#     url='https://api.energidataservice.dk/dataset/ConsumptionDE35Hour?limit=2994932'\n",
    "# )\n",
    "# result = response.json()\n",
    "\n",
    "# # Extract records from the response\n",
    "# records = result.get('records', [])\n",
    "\n",
    "# # Define the CSV file path\n",
    "# csv_file_path = '/kaggle/working/ConsumptionDE35Hour.csv'\n",
    "\n",
    "# # Write records to the CSV file\n",
    "# with open(csv_file_path, mode='w', newline='') as file:\n",
    "#     writer = csv.writer(file)\n",
    "    \n",
    "#     # Write the header\n",
    "#     if records:\n",
    "#         header = records[0].keys()\n",
    "#         writer.writerow(header)\n",
    "    \n",
    "#     # Write the data\n",
    "#     for record in records:\n",
    "#         writer.writerow(record.values())\n",
    "\n",
    "# print(f'Data has been written to {csv_file_path}')"
   ]
  },
  {
   "cell_type": "markdown",
   "id": "42d6009f",
   "metadata": {
    "papermill": {
     "duration": 0.009643,
     "end_time": "2024-07-08T04:03:53.310363",
     "exception": false,
     "start_time": "2024-07-08T04:03:53.300720",
     "status": "completed"
    },
    "tags": []
   },
   "source": [
    "## Get data ConsumptionDK3619codehour full 3.533.984 rows"
   ]
  },
  {
   "cell_type": "code",
   "execution_count": 3,
   "id": "3afb94bf",
   "metadata": {
    "execution": {
     "iopub.execute_input": "2024-07-08T04:03:53.331159Z",
     "iopub.status.busy": "2024-07-08T04:03:53.330893Z",
     "iopub.status.idle": "2024-07-08T04:03:53.335093Z",
     "shell.execute_reply": "2024-07-08T04:03:53.334285Z"
    },
    "papermill": {
     "duration": 0.016709,
     "end_time": "2024-07-08T04:03:53.337011",
     "exception": false,
     "start_time": "2024-07-08T04:03:53.320302",
     "status": "completed"
    },
    "tags": []
   },
   "outputs": [],
   "source": [
    "# import requests\n",
    "# import csv\n",
    "\n",
    "# # Fetch the data from the API\n",
    "# response = requests.get(\n",
    "#     url='https://api.energidataservice.dk/dataset/ConsumptionDK3619codehour?limit=3533984'\n",
    "# )\n",
    "# result = response.json()\n",
    "\n",
    "# # Extract records from the response\n",
    "# records = result.get('records', [])\n",
    "\n",
    "# # Define the CSV file path\n",
    "# csv_file_path = '/kaggle/working/ConsumptionDK3619codehour.csv'\n",
    "\n",
    "# # Write records to the CSV file\n",
    "# with open(csv_file_path, mode='w', newline='') as file:\n",
    "#     writer = csv.writer(file)\n",
    "    \n",
    "#     # Write the header\n",
    "#     if records:\n",
    "#         header = records[0].keys()\n",
    "#         writer.writerow(header)\n",
    "    \n",
    "#     # Write the data\n",
    "#     for record in records:\n",
    "#         writer.writerow(record.values())\n",
    "\n",
    "# print(f'Data has been written to {csv_file_path}')"
   ]
  },
  {
   "cell_type": "code",
   "execution_count": 4,
   "id": "17a138a9",
   "metadata": {
    "execution": {
     "iopub.execute_input": "2024-07-08T04:03:53.357863Z",
     "iopub.status.busy": "2024-07-08T04:03:53.357591Z",
     "iopub.status.idle": "2024-07-08T04:04:02.264404Z",
     "shell.execute_reply": "2024-07-08T04:04:02.263654Z"
    },
    "papermill": {
     "duration": 8.919623,
     "end_time": "2024-07-08T04:04:02.266587",
     "exception": false,
     "start_time": "2024-07-08T04:03:53.346964",
     "status": "completed"
    },
    "tags": []
   },
   "outputs": [],
   "source": [
    "# # load the data\n",
    "# filepath = '/kaggle/input/consumption-energy-denmark/Dataset_ConsumptionDE35Hour.csv'\n",
    "# df_full_de35 = pd.read_csv(filepath, delimiter=',')\n",
    "\n",
    "# load the data\n",
    "filepath = '/kaggle/input/consumption-energy-denmark/Dataset_ConsumptionDK3619codehour.csv'\n",
    "df_full_dk3619 = pd.read_csv(filepath, delimiter=',')"
   ]
  },
  {
   "cell_type": "code",
   "execution_count": 5,
   "id": "d18127b8",
   "metadata": {
    "execution": {
     "iopub.execute_input": "2024-07-08T04:04:02.289377Z",
     "iopub.status.busy": "2024-07-08T04:04:02.288791Z",
     "iopub.status.idle": "2024-07-08T04:04:02.293046Z",
     "shell.execute_reply": "2024-07-08T04:04:02.292208Z"
    },
    "papermill": {
     "duration": 0.01692,
     "end_time": "2024-07-08T04:04:02.294796",
     "exception": false,
     "start_time": "2024-07-08T04:04:02.277876",
     "status": "completed"
    },
    "tags": []
   },
   "outputs": [],
   "source": [
    "# import pandas as pd\n",
    "\n",
    "# # Kiểm tra dữ liệu trùng lặp\n",
    "# duplicates = df_full_de35[df_full_de35.duplicated()]\n",
    "# print(\"Duplicate rows:\")\n",
    "# print(duplicates)\n",
    "\n",
    "# # Kiểm tra các giá trị thiếu trong cột 'HourDK'\n",
    "# missing_hourdk = df_full_de35[df_full_de35['HourDK'].isnull()]\n",
    "# print(\"Rows with missing HourDK:\")\n",
    "# print(missing_hourdk)\n",
    "\n",
    "# # Kiểm tra các giá trị NaN trong toàn bộ DataFrame\n",
    "# nan_values = df_full_de35.isnull().sum()\n",
    "# print(\"Number of NaN values in each column:\")\n",
    "# print(nan_values)"
   ]
  },
  {
   "cell_type": "code",
   "execution_count": 6,
   "id": "66b2e68c",
   "metadata": {
    "execution": {
     "iopub.execute_input": "2024-07-08T04:04:02.315775Z",
     "iopub.status.busy": "2024-07-08T04:04:02.315488Z",
     "iopub.status.idle": "2024-07-08T04:04:04.344570Z",
     "shell.execute_reply": "2024-07-08T04:04:04.343662Z"
    },
    "papermill": {
     "duration": 2.042112,
     "end_time": "2024-07-08T04:04:04.346864",
     "exception": false,
     "start_time": "2024-07-08T04:04:02.304752",
     "status": "completed"
    },
    "tags": []
   },
   "outputs": [
    {
     "name": "stdout",
     "output_type": "stream",
     "text": [
      "                     HourUTC               HourDK  DK36Code  \\\n",
      "0        2024-06-21T21:00:00  2024-06-21T23:00:00         A   \n",
      "1        2024-06-21T21:00:00  2024-06-21T23:00:00         B   \n",
      "2        2024-06-21T21:00:00  2024-06-21T23:00:00        CA   \n",
      "3        2024-06-21T21:00:00  2024-06-21T23:00:00        CC   \n",
      "4        2024-06-21T21:00:00  2024-06-21T23:00:00  CE_CF_CD   \n",
      "...                      ...                  ...       ...   \n",
      "3533979  2012-06-02T00:00:00  2012-06-02T02:00:00         S   \n",
      "3533980  2012-06-02T00:00:00  2012-06-02T02:00:00         X   \n",
      "3533981  2012-06-01T23:00:00  2012-06-02T01:00:00       NaN   \n",
      "3533982  2012-06-01T23:00:00  2012-06-02T01:00:00  CE_CF_CD   \n",
      "3533983  2012-06-01T23:00:00  2012-06-02T01:00:00        MA   \n",
      "\n",
      "                                                 DK36Title DK19Code  \\\n",
      "0                            Landbrug, skovbrug og fiskeri        A   \n",
      "1                                         Råstofindvinding        B   \n",
      "2                     Føde-, drikke- og tobaksvareindustri        C   \n",
      "3                        Træ- og papirindustri, trykkerier        C   \n",
      "4        Kemiskindustri, Olieraffinaderier og Medicinal...        C   \n",
      "...                                                    ...      ...   \n",
      "3533979                          Andre serviceydelser  mv.        S   \n",
      "3533980                                  Uoplyst aktivitet        X   \n",
      "3533981                                                NaN      NaN   \n",
      "3533982  Kemiskindustri, Olieraffinaderier og Medicinal...        C   \n",
      "3533983                                     Rådgivning mv.        M   \n",
      "\n",
      "                             DK19Title  Consumption_MWh  \n",
      "0        Landbrug, skovbrug og fiskeri       145.018660  \n",
      "1                     Råstofindvinding         8.750818  \n",
      "2                             Industri       189.913841  \n",
      "3                             Industri        27.199219  \n",
      "4                             Industri       174.295128  \n",
      "...                                ...              ...  \n",
      "3533979        Andre serviceydelser mv         4.623429  \n",
      "3533980              Uoplyst aktivitet         0.068760  \n",
      "3533981                            NaN         0.002220  \n",
      "3533982                       Industri         8.836999  \n",
      "3533983                   Videnservice         0.068992  \n",
      "\n",
      "[3533984 rows x 7 columns]\n",
      "<class 'pandas.core.frame.DataFrame'>\n",
      "RangeIndex: 3533984 entries, 0 to 3533983\n",
      "Data columns (total 7 columns):\n",
      " #   Column           Non-Null Count    Dtype  \n",
      "---  ------           --------------    -----  \n",
      " 0   HourUTC          3533984 non-null  object \n",
      " 1   HourDK           3533984 non-null  object \n",
      " 2   DK36Code         3458744 non-null  object \n",
      " 3   DK36Title        3458744 non-null  object \n",
      " 4   DK19Code         3458744 non-null  object \n",
      " 5   DK19Title        3458744 non-null  object \n",
      " 6   Consumption_MWh  3533984 non-null  float64\n",
      "dtypes: float64(1), object(6)\n",
      "memory usage: 188.7+ MB\n",
      "None\n"
     ]
    }
   ],
   "source": [
    "# # Show the first few rows of the dataframe\n",
    "# print(df_full_de35.head())\n",
    "# # Display the dataframe info to confirm\n",
    "# print(df_full_de35.info())\n",
    "\n",
    "# Show the first few rows of the dataframe\n",
    "print(df_full_dk3619)\n",
    "# Display the dataframe info to confirm\n",
    "print(df_full_dk3619.info(show_counts = True))"
   ]
  },
  {
   "cell_type": "code",
   "execution_count": 7,
   "id": "496001b6",
   "metadata": {
    "execution": {
     "iopub.execute_input": "2024-07-08T04:04:04.369819Z",
     "iopub.status.busy": "2024-07-08T04:04:04.369485Z",
     "iopub.status.idle": "2024-07-08T04:04:04.373489Z",
     "shell.execute_reply": "2024-07-08T04:04:04.372696Z"
    },
    "papermill": {
     "duration": 0.017052,
     "end_time": "2024-07-08T04:04:04.375389",
     "exception": false,
     "start_time": "2024-07-08T04:04:04.358337",
     "status": "completed"
    },
    "tags": []
   },
   "outputs": [],
   "source": [
    "df = df_full_dk3619"
   ]
  },
  {
   "cell_type": "code",
   "execution_count": 8,
   "id": "6736dbdd",
   "metadata": {
    "execution": {
     "iopub.execute_input": "2024-07-08T04:04:04.396592Z",
     "iopub.status.busy": "2024-07-08T04:04:04.396330Z",
     "iopub.status.idle": "2024-07-08T04:04:07.003317Z",
     "shell.execute_reply": "2024-07-08T04:04:07.002554Z"
    },
    "papermill": {
     "duration": 2.620277,
     "end_time": "2024-07-08T04:04:07.005769",
     "exception": false,
     "start_time": "2024-07-08T04:04:04.385492",
     "status": "completed"
    },
    "tags": []
   },
   "outputs": [
    {
     "name": "stdout",
     "output_type": "stream",
     "text": [
      "<class 'pandas.core.frame.DataFrame'>\n",
      "Index: 3323747 entries, 0 to 3533983\n",
      "Data columns (total 7 columns):\n",
      " #   Column           Non-Null Count    Dtype  \n",
      "---  ------           --------------    -----  \n",
      " 0   HourUTC          3323747 non-null  object \n",
      " 1   HourDK           3323747 non-null  object \n",
      " 2   DK36Code         3323747 non-null  object \n",
      " 3   DK36Title        3323747 non-null  object \n",
      " 4   DK19Code         3323747 non-null  object \n",
      " 5   DK19Title        3323747 non-null  object \n",
      " 6   Consumption_MWh  3323747 non-null  float64\n",
      "dtypes: float64(1), object(6)\n",
      "memory usage: 202.9+ MB\n",
      "None\n"
     ]
    }
   ],
   "source": [
    "import pandas as pd\n",
    "\n",
    "# Giả sử df đã được tải và có sẵn trong biến df\n",
    "\n",
    "# Giá trị cần loại bỏ\n",
    "values_to_remove = ['X', 'B']\n",
    "\n",
    "# Xóa các hàng có giá trị ở cột DK36Code là 'X', 'B' hoặc NaN\n",
    "df_cleaned = df[~df['DK36Code'].isin(values_to_remove) & df['DK36Code'].notna()]\n",
    "\n",
    "# In ra 30 dòng đầu tiên để kiểm tra\n",
    "print(df_cleaned.info(show_counts = True))\n"
   ]
  },
  {
   "cell_type": "code",
   "execution_count": 9,
   "id": "f9020dc7",
   "metadata": {
    "execution": {
     "iopub.execute_input": "2024-07-08T04:04:07.030058Z",
     "iopub.status.busy": "2024-07-08T04:04:07.029737Z",
     "iopub.status.idle": "2024-07-08T04:04:07.033515Z",
     "shell.execute_reply": "2024-07-08T04:04:07.032698Z"
    },
    "papermill": {
     "duration": 0.01679,
     "end_time": "2024-07-08T04:04:07.035342",
     "exception": false,
     "start_time": "2024-07-08T04:04:07.018552",
     "status": "completed"
    },
    "tags": []
   },
   "outputs": [],
   "source": [
    "df = df_cleaned"
   ]
  },
  {
   "cell_type": "code",
   "execution_count": 10,
   "id": "51614bd8",
   "metadata": {
    "execution": {
     "iopub.execute_input": "2024-07-08T04:04:07.057286Z",
     "iopub.status.busy": "2024-07-08T04:04:07.057016Z",
     "iopub.status.idle": "2024-07-08T04:04:08.290306Z",
     "shell.execute_reply": "2024-07-08T04:04:08.289163Z"
    },
    "papermill": {
     "duration": 1.246334,
     "end_time": "2024-07-08T04:04:08.292270",
     "exception": false,
     "start_time": "2024-07-08T04:04:07.045936",
     "status": "completed"
    },
    "tags": []
   },
   "outputs": [
    {
     "name": "stderr",
     "output_type": "stream",
     "text": [
      "/tmp/ipykernel_25/4084715484.py:6: SettingWithCopyWarning: \n",
      "A value is trying to be set on a copy of a slice from a DataFrame.\n",
      "Try using .loc[row_indexer,col_indexer] = value instead\n",
      "\n",
      "See the caveats in the documentation: https://pandas.pydata.org/pandas-docs/stable/user_guide/indexing.html#returning-a-view-versus-a-copy\n",
      "  df['DK3619Code'] = df['DK19Code'].astype(str) + '_' + df['DK36Code'].astype(str)\n"
     ]
    },
    {
     "name": "stdout",
     "output_type": "stream",
     "text": [
      "['A_A' 'C_CA' 'C_CC' 'C_CE_CF_CD' 'C_CG' 'C_CH' 'C_CI' 'C_CJ' 'C_CK'\n",
      " 'C_CL' 'C_CM_CB' 'D_D' 'E_E' 'F_F' 'G_G' 'H_H' 'I_I' 'J_JA' 'J_JB_JC'\n",
      " 'K_K' 'L_L' 'M_MA' 'M_MB' 'M_MC' 'N_N' 'O_O' 'P_P' 'PR_PR' 'Q_QA' 'Q_QB'\n",
      " 'R_R' 'S_S']\n"
     ]
    }
   ],
   "source": [
    "import pandas as pd\n",
    "\n",
    "# Giả sử df đã được tải và có sẵn trong biến df\n",
    "\n",
    "# Tạo cột DK3619Code bằng cách gộp các giá trị từ các cột DK36Code và DK19Code với dấu gạch dưới '_'\n",
    "df['DK3619Code'] = df['DK19Code'].astype(str) + '_' + df['DK36Code'].astype(str)\n",
    "\n",
    "# In ra các giá trị duy nhất trong cột DK3619Code để kiểm tra\n",
    "print(df['DK3619Code'].unique())"
   ]
  },
  {
   "cell_type": "code",
   "execution_count": 11,
   "id": "f9705991",
   "metadata": {
    "execution": {
     "iopub.execute_input": "2024-07-08T04:04:08.315213Z",
     "iopub.status.busy": "2024-07-08T04:04:08.314951Z",
     "iopub.status.idle": "2024-07-08T04:04:10.433192Z",
     "shell.execute_reply": "2024-07-08T04:04:10.431817Z"
    },
    "papermill": {
     "duration": 2.132097,
     "end_time": "2024-07-08T04:04:10.435286",
     "exception": false,
     "start_time": "2024-07-08T04:04:08.303189",
     "status": "completed"
    },
    "tags": []
   },
   "outputs": [
    {
     "name": "stdout",
     "output_type": "stream",
     "text": [
      "<class 'pandas.core.frame.DataFrame'>\n",
      "Index: 3323747 entries, 0 to 3533983\n",
      "Data columns (total 8 columns):\n",
      " #   Column           Non-Null Count    Dtype  \n",
      "---  ------           --------------    -----  \n",
      " 0   HourUTC          3323747 non-null  object \n",
      " 1   HourDK           3323747 non-null  object \n",
      " 2   DK36Code         3323747 non-null  object \n",
      " 3   DK36Title        3323747 non-null  object \n",
      " 4   DK19Code         3323747 non-null  object \n",
      " 5   DK19Title        3323747 non-null  object \n",
      " 6   Consumption_MWh  3323747 non-null  float64\n",
      " 7   DK3619Code       3323747 non-null  object \n",
      "dtypes: float64(1), object(7)\n",
      "memory usage: 228.2+ MB\n",
      "None\n"
     ]
    }
   ],
   "source": [
    "print(df.info(show_counts = True))"
   ]
  },
  {
   "cell_type": "code",
   "execution_count": 12,
   "id": "a64b96ca",
   "metadata": {
    "execution": {
     "iopub.execute_input": "2024-07-08T04:04:10.457840Z",
     "iopub.status.busy": "2024-07-08T04:04:10.457473Z",
     "iopub.status.idle": "2024-07-08T04:04:10.461677Z",
     "shell.execute_reply": "2024-07-08T04:04:10.460829Z"
    },
    "papermill": {
     "duration": 0.017301,
     "end_time": "2024-07-08T04:04:10.463494",
     "exception": false,
     "start_time": "2024-07-08T04:04:10.446193",
     "status": "completed"
    },
    "tags": []
   },
   "outputs": [],
   "source": [
    "# import pandas as pd\n",
    "\n",
    "# # Giả sử df đã được tải và có sẵn trong biến df\n",
    "\n",
    "# # Đảm bảo cột HourDK đã được chuyển sang định dạng datetime\n",
    "# df['HourDK'] = pd.to_datetime(df['HourDK'])\n",
    "\n",
    "# # Định nghĩa khoảng thời gian cần lọc\n",
    "# start_date = '2020-12-31T00:00:00'\n",
    "# end_date = '2021-01-01T23:00:00'\n",
    "\n",
    "# # Lọc dữ liệu trong khoảng thời gian\n",
    "# filtered_df = df[(df['HourDK'] >= start_date) & (df['HourDK'] <= end_date)]\n",
    "\n",
    "# # Xuất dữ liệu đã lọc ra file CSV\n",
    "# filtered_df.to_csv('filtered_data.csv', index=False)\n",
    "\n",
    "# print(\"Dữ liệu đã được xuất ra file filtered_data.csv\")\n"
   ]
  },
  {
   "cell_type": "code",
   "execution_count": 13,
   "id": "1a2a000b",
   "metadata": {
    "execution": {
     "iopub.execute_input": "2024-07-08T04:04:10.485534Z",
     "iopub.status.busy": "2024-07-08T04:04:10.484957Z",
     "iopub.status.idle": "2024-07-08T04:04:10.488632Z",
     "shell.execute_reply": "2024-07-08T04:04:10.487909Z"
    },
    "papermill": {
     "duration": 0.016608,
     "end_time": "2024-07-08T04:04:10.490527",
     "exception": false,
     "start_time": "2024-07-08T04:04:10.473919",
     "status": "completed"
    },
    "tags": []
   },
   "outputs": [],
   "source": [
    "# # Đếm số lần xuất hiện của các giá trị trong cột find_null_data\n",
    "# value_counts = filtered_df['find_null_data'].value_counts()\n",
    "\n",
    "# # In kết quả\n",
    "# print(value_counts)"
   ]
  },
  {
   "cell_type": "code",
   "execution_count": 14,
   "id": "4b30c506",
   "metadata": {
    "execution": {
     "iopub.execute_input": "2024-07-08T04:04:10.512808Z",
     "iopub.status.busy": "2024-07-08T04:04:10.512088Z",
     "iopub.status.idle": "2024-07-08T04:04:10.516226Z",
     "shell.execute_reply": "2024-07-08T04:04:10.515602Z"
    },
    "papermill": {
     "duration": 0.017046,
     "end_time": "2024-07-08T04:04:10.517965",
     "exception": false,
     "start_time": "2024-07-08T04:04:10.500919",
     "status": "completed"
    },
    "tags": []
   },
   "outputs": [],
   "source": [
    "# # Các giá trị cụ thể cần lọc\n",
    "# values_to_filter = [\n",
    "#     #'X_Uoplyst aktivitet_X_Uoplyst aktivitet',\n",
    "#     #'B_Råstofindvinding_B_Råstofindvinding',\n",
    "#     'nan_nan_nan_nan'\n",
    "# ]\n",
    "\n",
    "# # Lọc các hàng có giá trị trong cột find_null_data thuộc danh sách values_to_filter\n",
    "# filtered_values_df = filtered_df[filtered_df['find_null_data'].isin(values_to_filter)]\n",
    "\n",
    "# # In ra các hàng đã lọc\n",
    "# print(filtered_values_df)"
   ]
  },
  {
   "cell_type": "code",
   "execution_count": 15,
   "id": "e33e0373",
   "metadata": {
    "execution": {
     "iopub.execute_input": "2024-07-08T04:04:10.539740Z",
     "iopub.status.busy": "2024-07-08T04:04:10.539454Z",
     "iopub.status.idle": "2024-07-08T04:04:10.543262Z",
     "shell.execute_reply": "2024-07-08T04:04:10.542481Z"
    },
    "papermill": {
     "duration": 0.016729,
     "end_time": "2024-07-08T04:04:10.545036",
     "exception": false,
     "start_time": "2024-07-08T04:04:10.528307",
     "status": "completed"
    },
    "tags": []
   },
   "outputs": [],
   "source": [
    "# # Các giá trị cụ thể cần lọc\n",
    "# values_to_filter = [\n",
    "#     'X_Uoplyst aktivitet_X_Uoplyst aktivitet',\n",
    "#     #'B_Råstofindvinding_B_Råstofindvinding',\n",
    "#     #'nan_nan_nan_nan'\n",
    "# ]\n",
    "\n",
    "# # Lọc các hàng có giá trị trong cột find_null_data thuộc danh sách values_to_filter\n",
    "# filtered_values_df = filtered_df[filtered_df['find_null_data'].isin(values_to_filter)]\n",
    "\n",
    "# filtered_values_df['Consumption_MWh'].describe()"
   ]
  },
  {
   "cell_type": "code",
   "execution_count": 16,
   "id": "458ba48e",
   "metadata": {
    "execution": {
     "iopub.execute_input": "2024-07-08T04:04:10.566971Z",
     "iopub.status.busy": "2024-07-08T04:04:10.566433Z",
     "iopub.status.idle": "2024-07-08T04:04:10.570234Z",
     "shell.execute_reply": "2024-07-08T04:04:10.569449Z"
    },
    "papermill": {
     "duration": 0.016774,
     "end_time": "2024-07-08T04:04:10.572217",
     "exception": false,
     "start_time": "2024-07-08T04:04:10.555443",
     "status": "completed"
    },
    "tags": []
   },
   "outputs": [],
   "source": [
    "# # Các giá trị cụ thể cần lọc\n",
    "# values_to_filter = [\n",
    "#     #'X_Uoplyst aktivitet_X_Uoplyst aktivitet',\n",
    "#     'B_Råstofindvinding_B_Råstofindvinding',\n",
    "#     #'nan_nan_nan_nan'\n",
    "# ]\n",
    "\n",
    "# # Lọc các hàng có giá trị trong cột find_null_data thuộc danh sách values_to_filter\n",
    "# filtered_values_df = filtered_df[filtered_df['find_null_data'].isin(values_to_filter)]\n",
    "\n",
    "# filtered_values_df['Consumption_MWh'].describe()"
   ]
  },
  {
   "cell_type": "code",
   "execution_count": 17,
   "id": "69f41cc7",
   "metadata": {
    "execution": {
     "iopub.execute_input": "2024-07-08T04:04:10.593910Z",
     "iopub.status.busy": "2024-07-08T04:04:10.593661Z",
     "iopub.status.idle": "2024-07-08T04:04:10.597234Z",
     "shell.execute_reply": "2024-07-08T04:04:10.596506Z"
    },
    "papermill": {
     "duration": 0.016432,
     "end_time": "2024-07-08T04:04:10.599095",
     "exception": false,
     "start_time": "2024-07-08T04:04:10.582663",
     "status": "completed"
    },
    "tags": []
   },
   "outputs": [],
   "source": [
    "# # Các giá trị cụ thể cần lọc\n",
    "# values_to_filter = [\n",
    "#     #'X_Uoplyst aktivitet_X_Uoplyst aktivitet',\n",
    "#     #'B_Råstofindvinding_B_Råstofindvinding',\n",
    "#     'nan_nan_nan_nan'\n",
    "# ]\n",
    "\n",
    "# # Lọc các hàng có giá trị trong cột find_null_data thuộc danh sách values_to_filter\n",
    "# filtered_values_df = filtered_df[filtered_df['find_null_data'].isin(values_to_filter)]\n",
    "\n",
    "# filtered_values_df['Consumption_MWh'].describe()"
   ]
  },
  {
   "cell_type": "code",
   "execution_count": 18,
   "id": "9a64d0e8",
   "metadata": {
    "execution": {
     "iopub.execute_input": "2024-07-08T04:04:10.620781Z",
     "iopub.status.busy": "2024-07-08T04:04:10.620323Z",
     "iopub.status.idle": "2024-07-08T04:04:11.179422Z",
     "shell.execute_reply": "2024-07-08T04:04:11.178511Z"
    },
    "papermill": {
     "duration": 0.57415,
     "end_time": "2024-07-08T04:04:11.183492",
     "exception": false,
     "start_time": "2024-07-08T04:04:10.609342",
     "status": "completed"
    },
    "tags": []
   },
   "outputs": [
    {
     "name": "stdout",
     "output_type": "stream",
     "text": [
      "                HourUTC              HourDK  DK36Code  \\\n",
      "0   2024-06-21T21:00:00 2024-06-21 23:00:00         A   \n",
      "2   2024-06-21T21:00:00 2024-06-21 23:00:00        CA   \n",
      "3   2024-06-21T21:00:00 2024-06-21 23:00:00        CC   \n",
      "4   2024-06-21T21:00:00 2024-06-21 23:00:00  CE_CF_CD   \n",
      "5   2024-06-21T21:00:00 2024-06-21 23:00:00        CG   \n",
      "6   2024-06-21T21:00:00 2024-06-21 23:00:00        CH   \n",
      "7   2024-06-21T21:00:00 2024-06-21 23:00:00        CI   \n",
      "8   2024-06-21T21:00:00 2024-06-21 23:00:00        CJ   \n",
      "9   2024-06-21T21:00:00 2024-06-21 23:00:00        CK   \n",
      "10  2024-06-21T21:00:00 2024-06-21 23:00:00        CL   \n",
      "11  2024-06-21T21:00:00 2024-06-21 23:00:00     CM_CB   \n",
      "12  2024-06-21T21:00:00 2024-06-21 23:00:00         D   \n",
      "13  2024-06-21T21:00:00 2024-06-21 23:00:00         E   \n",
      "14  2024-06-21T21:00:00 2024-06-21 23:00:00         F   \n",
      "15  2024-06-21T21:00:00 2024-06-21 23:00:00         G   \n",
      "16  2024-06-21T21:00:00 2024-06-21 23:00:00         H   \n",
      "17  2024-06-21T21:00:00 2024-06-21 23:00:00         I   \n",
      "18  2024-06-21T21:00:00 2024-06-21 23:00:00        JA   \n",
      "19  2024-06-21T21:00:00 2024-06-21 23:00:00     JB_JC   \n",
      "20  2024-06-21T21:00:00 2024-06-21 23:00:00         K   \n",
      "21  2024-06-21T21:00:00 2024-06-21 23:00:00         L   \n",
      "22  2024-06-21T21:00:00 2024-06-21 23:00:00        MA   \n",
      "23  2024-06-21T21:00:00 2024-06-21 23:00:00        MB   \n",
      "24  2024-06-21T21:00:00 2024-06-21 23:00:00        MC   \n",
      "25  2024-06-21T21:00:00 2024-06-21 23:00:00         N   \n",
      "26  2024-06-21T21:00:00 2024-06-21 23:00:00         O   \n",
      "27  2024-06-21T21:00:00 2024-06-21 23:00:00         P   \n",
      "28  2024-06-21T21:00:00 2024-06-21 23:00:00        PR   \n",
      "29  2024-06-21T21:00:00 2024-06-21 23:00:00        QA   \n",
      "30  2024-06-21T21:00:00 2024-06-21 23:00:00        QB   \n",
      "\n",
      "                                            DK36Title DK19Code  \\\n",
      "0                       Landbrug, skovbrug og fiskeri        A   \n",
      "2                Føde-, drikke- og tobaksvareindustri        C   \n",
      "3                   Træ- og papirindustri, trykkerier        C   \n",
      "4   Kemiskindustri, Olieraffinaderier og Medicinal...        C   \n",
      "5                      Plast-, glas- og betonindustri        C   \n",
      "6                                       Metalindustri        C   \n",
      "7                                  Elektronikindustri        C   \n",
      "8                         Fremst. af elektrisk udstyr        C   \n",
      "9                                      Maskinindustri        C   \n",
      "10                            Transportmiddelindustri        C   \n",
      "11  Tekstil - og læderindustri & Møbel og anden in...        C   \n",
      "12                                    Energiforsyning        D   \n",
      "13                        Vandforsyning og renovation        E   \n",
      "14                                     Bygge og anlæg        F   \n",
      "15                                             Handel        G   \n",
      "16                                          Transport        H   \n",
      "17                           Hoteller og restauranter        I   \n",
      "18                                Forlag, tv og radio        J   \n",
      "19   Telekommunikation &It - og informationstjenester        J   \n",
      "20                         Finansiering og forsikring        K   \n",
      "21                        Ejendomshandel og udlejning        L   \n",
      "22                                     Rådgivning mv.        M   \n",
      "23                             Forskning og udvikling        M   \n",
      "24                   Reklame og øvrig erhvervsservice        M   \n",
      "25  Rejsebureauer, rengøring og anden operationel ...        N   \n",
      "26        Offentlig administration, forsvar og politi        O   \n",
      "27                                       Undervisning        P   \n",
      "28                                             Privat       PR   \n",
      "29                                      Sundhedsvæsen        Q   \n",
      "30                              Sociale institutioner        Q   \n",
      "\n",
      "                                            DK19Title  Consumption_MWh  \\\n",
      "0                       Landbrug, skovbrug og fiskeri       145.018660   \n",
      "2                                            Industri       189.913841   \n",
      "3                                            Industri        27.199219   \n",
      "4                                            Industri       174.295128   \n",
      "5                                            Industri       105.906493   \n",
      "6                                            Industri        54.696651   \n",
      "7                                            Industri         5.950016   \n",
      "8                                            Industri         6.652805   \n",
      "9                                            Industri        27.469887   \n",
      "10                                           Industri         3.802867   \n",
      "11                                           Industri        26.984947   \n",
      "12                                    Energiforsyning       196.981111   \n",
      "13                        Vandforsyning og renovation        95.961225   \n",
      "14                                     Bygge og anlæg        25.122729   \n",
      "15                                             Handel       196.137504   \n",
      "16                                          Transport       134.489331   \n",
      "17                           Hoteller og restauranter        80.860320   \n",
      "18                       Information og kommunikation         8.850851   \n",
      "19                       Information og kommunikation       172.270295   \n",
      "20                         Finansiering og forsikring        20.722173   \n",
      "21                        Ejendomshandel og udlejning       123.985693   \n",
      "22                                       Videnservice        37.037083   \n",
      "23                                       Videnservice        11.415306   \n",
      "24                                       Videnservice         2.799181   \n",
      "25  Rejsebureauer, rengøring og anden operationel ...         9.971231   \n",
      "26        Offentlig administration, forsvar og politi       163.843177   \n",
      "27                                       Undervisning        41.087840   \n",
      "28                                             Privat       786.725304   \n",
      "29                             Sundhed og socialvæsen         3.822405   \n",
      "30                             Sundhed og socialvæsen         7.715693   \n",
      "\n",
      "    DK3619Code  \n",
      "0          A_A  \n",
      "2         C_CA  \n",
      "3         C_CC  \n",
      "4   C_CE_CF_CD  \n",
      "5         C_CG  \n",
      "6         C_CH  \n",
      "7         C_CI  \n",
      "8         C_CJ  \n",
      "9         C_CK  \n",
      "10        C_CL  \n",
      "11     C_CM_CB  \n",
      "12         D_D  \n",
      "13         E_E  \n",
      "14         F_F  \n",
      "15         G_G  \n",
      "16         H_H  \n",
      "17         I_I  \n",
      "18        J_JA  \n",
      "19     J_JB_JC  \n",
      "20         K_K  \n",
      "21         L_L  \n",
      "22        M_MA  \n",
      "23        M_MB  \n",
      "24        M_MC  \n",
      "25         N_N  \n",
      "26         O_O  \n",
      "27         P_P  \n",
      "28       PR_PR  \n",
      "29        Q_QA  \n",
      "30        Q_QB  \n"
     ]
    },
    {
     "name": "stderr",
     "output_type": "stream",
     "text": [
      "/tmp/ipykernel_25/2884679604.py:4: SettingWithCopyWarning: \n",
      "A value is trying to be set on a copy of a slice from a DataFrame.\n",
      "Try using .loc[row_indexer,col_indexer] = value instead\n",
      "\n",
      "See the caveats in the documentation: https://pandas.pydata.org/pandas-docs/stable/user_guide/indexing.html#returning-a-view-versus-a-copy\n",
      "  df['HourDK'] = pd.to_datetime(df['HourDK'])\n"
     ]
    }
   ],
   "source": [
    "import pandas as pd\n",
    "\n",
    "# Đảm bảo cột HourDK đã được chuyển sang định dạng datetime\n",
    "df['HourDK'] = pd.to_datetime(df['HourDK'])\n",
    "\n",
    "# # Sắp xếp dataframe ngược lại theo cột HourDK\n",
    "# df = df.sort_values(by='HourDK')\n",
    "\n",
    "# In ra 30 dòng đầu tiên để kiểm tra\n",
    "print(df.head(30))"
   ]
  },
  {
   "cell_type": "code",
   "execution_count": 19,
   "id": "e89b5f96",
   "metadata": {
    "execution": {
     "iopub.execute_input": "2024-07-08T04:04:11.206711Z",
     "iopub.status.busy": "2024-07-08T04:04:11.206411Z",
     "iopub.status.idle": "2024-07-08T04:04:11.576255Z",
     "shell.execute_reply": "2024-07-08T04:04:11.575319Z"
    },
    "papermill": {
     "duration": 0.383634,
     "end_time": "2024-07-08T04:04:11.578350",
     "exception": false,
     "start_time": "2024-07-08T04:04:11.194716",
     "status": "completed"
    },
    "tags": []
   },
   "outputs": [
    {
     "name": "stdout",
     "output_type": "stream",
     "text": [
      "(datetime.date(2024, 1, 1), 'Nytårsdag')\n",
      "(datetime.date(2024, 3, 28), 'Skærtorsdag')\n",
      "(datetime.date(2024, 3, 29), 'Langfredag')\n",
      "(datetime.date(2024, 3, 31), 'Påskedag')\n",
      "(datetime.date(2024, 4, 1), 'Anden påskedag')\n",
      "(datetime.date(2024, 5, 9), 'Kristi himmelfartsdag')\n",
      "(datetime.date(2024, 5, 19), 'Pinsedag')\n",
      "(datetime.date(2024, 5, 20), 'Anden pinsedag')\n",
      "(datetime.date(2024, 12, 25), 'Juledag')\n",
      "(datetime.date(2024, 12, 26), 'Anden juledag')\n"
     ]
    }
   ],
   "source": [
    "#Test holidays function\n",
    "from datetime import date \n",
    "import holidays \n",
    "  \n",
    "# Select country \n",
    "uk_holidays = holidays.Denmark() \n",
    "  \n",
    "# Print all the holidays in UnitedKingdom in year 2018 \n",
    "for ptr in holidays.Denmark(years = 2024).items(): \n",
    "    print(ptr) "
   ]
  },
  {
   "cell_type": "code",
   "execution_count": 20,
   "id": "1af473bd",
   "metadata": {
    "execution": {
     "iopub.execute_input": "2024-07-08T04:04:11.601978Z",
     "iopub.status.busy": "2024-07-08T04:04:11.601709Z",
     "iopub.status.idle": "2024-07-08T04:04:11.611851Z",
     "shell.execute_reply": "2024-07-08T04:04:11.611077Z"
    },
    "papermill": {
     "duration": 0.024052,
     "end_time": "2024-07-08T04:04:11.613717",
     "exception": false,
     "start_time": "2024-07-08T04:04:11.589665",
     "status": "completed"
    },
    "tags": []
   },
   "outputs": [],
   "source": [
    "import pandas as pd\n",
    "import holidays\n",
    "\n",
    "def process_df(df):\n",
    "    # Convert HourDK to datetime format\n",
    "    df['HourDK'] = pd.to_datetime(df['HourDK'])\n",
    "\n",
    "    # Thêm các biến thời gian\n",
    "    df['hour'] = df['HourDK'].dt.hour\n",
    "    df['day_of_week'] = df['HourDK'].dt.dayofweek\n",
    "    df['quarter'] = df['HourDK'].dt.quarter\n",
    "    df['month'] = df['HourDK'].dt.month\n",
    "    df['year'] = df['HourDK'].dt.year\n",
    "    df['day_of_year'] = df['HourDK'].dt.dayofyear\n",
    "    df['day_of_month'] = df['HourDK'].dt.day\n",
    "    df['week_of_year'] = df['HourDK'].dt.isocalendar().week\n",
    "\n",
    "    # Định nghĩa hàm để gom nhóm các tháng thành mùa\n",
    "    def season_group(month):\n",
    "        if month in [3, 4, 5]:\n",
    "            return 'Spring'\n",
    "        elif month in [6, 7, 8]:\n",
    "            return 'Summer'\n",
    "        elif month in [9, 10, 11]:\n",
    "            return 'Autumn'\n",
    "        else:\n",
    "            return 'Winter'\n",
    "\n",
    "    # Áp dụng hàm season_group để tạo cột Season\n",
    "    df['season'] = df['month'].apply(season_group)\n",
    "\n",
    "    # Thiết lập các ngày nghỉ tại Đan Mạch cho nhiều năm\n",
    "    dk_holidays = holidays.Denmark(years=df['year'].unique())\n",
    "\n",
    "    # Tạo cột Holiday dựa trên ngày nghỉ\n",
    "    df['holiday'] = df['HourDK'].apply(lambda x: 1 if x in dk_holidays else 0)\n",
    "\n",
    "    # Đưa các cột thời gian mới tạo vào đúng vị trí bên phải cột HourDK\n",
    "    cols = list(df.columns)\n",
    "    hourdk_index = cols.index('HourDK')\n",
    "    new_cols = cols[:hourdk_index+1] + cols[-12:] + cols[hourdk_index+1:-12]\n",
    "    df = df[new_cols]\n",
    "    \n",
    "    return df"
   ]
  },
  {
   "cell_type": "code",
   "execution_count": 21,
   "id": "13df5b0f",
   "metadata": {
    "execution": {
     "iopub.execute_input": "2024-07-08T04:04:11.636287Z",
     "iopub.status.busy": "2024-07-08T04:04:11.636034Z",
     "iopub.status.idle": "2024-07-08T04:04:38.587412Z",
     "shell.execute_reply": "2024-07-08T04:04:38.586338Z"
    },
    "papermill": {
     "duration": 26.965332,
     "end_time": "2024-07-08T04:04:38.589785",
     "exception": false,
     "start_time": "2024-07-08T04:04:11.624453",
     "status": "completed"
    },
    "tags": []
   },
   "outputs": [
    {
     "name": "stderr",
     "output_type": "stream",
     "text": [
      "/tmp/ipykernel_25/2672324209.py:6: SettingWithCopyWarning: \n",
      "A value is trying to be set on a copy of a slice from a DataFrame.\n",
      "Try using .loc[row_indexer,col_indexer] = value instead\n",
      "\n",
      "See the caveats in the documentation: https://pandas.pydata.org/pandas-docs/stable/user_guide/indexing.html#returning-a-view-versus-a-copy\n",
      "  df['HourDK'] = pd.to_datetime(df['HourDK'])\n",
      "/tmp/ipykernel_25/2672324209.py:9: SettingWithCopyWarning: \n",
      "A value is trying to be set on a copy of a slice from a DataFrame.\n",
      "Try using .loc[row_indexer,col_indexer] = value instead\n",
      "\n",
      "See the caveats in the documentation: https://pandas.pydata.org/pandas-docs/stable/user_guide/indexing.html#returning-a-view-versus-a-copy\n",
      "  df['hour'] = df['HourDK'].dt.hour\n",
      "/tmp/ipykernel_25/2672324209.py:10: SettingWithCopyWarning: \n",
      "A value is trying to be set on a copy of a slice from a DataFrame.\n",
      "Try using .loc[row_indexer,col_indexer] = value instead\n",
      "\n",
      "See the caveats in the documentation: https://pandas.pydata.org/pandas-docs/stable/user_guide/indexing.html#returning-a-view-versus-a-copy\n",
      "  df['day_of_week'] = df['HourDK'].dt.dayofweek\n",
      "/tmp/ipykernel_25/2672324209.py:11: SettingWithCopyWarning: \n",
      "A value is trying to be set on a copy of a slice from a DataFrame.\n",
      "Try using .loc[row_indexer,col_indexer] = value instead\n",
      "\n",
      "See the caveats in the documentation: https://pandas.pydata.org/pandas-docs/stable/user_guide/indexing.html#returning-a-view-versus-a-copy\n",
      "  df['quarter'] = df['HourDK'].dt.quarter\n",
      "/tmp/ipykernel_25/2672324209.py:12: SettingWithCopyWarning: \n",
      "A value is trying to be set on a copy of a slice from a DataFrame.\n",
      "Try using .loc[row_indexer,col_indexer] = value instead\n",
      "\n",
      "See the caveats in the documentation: https://pandas.pydata.org/pandas-docs/stable/user_guide/indexing.html#returning-a-view-versus-a-copy\n",
      "  df['month'] = df['HourDK'].dt.month\n",
      "/tmp/ipykernel_25/2672324209.py:13: SettingWithCopyWarning: \n",
      "A value is trying to be set on a copy of a slice from a DataFrame.\n",
      "Try using .loc[row_indexer,col_indexer] = value instead\n",
      "\n",
      "See the caveats in the documentation: https://pandas.pydata.org/pandas-docs/stable/user_guide/indexing.html#returning-a-view-versus-a-copy\n",
      "  df['year'] = df['HourDK'].dt.year\n",
      "/tmp/ipykernel_25/2672324209.py:14: SettingWithCopyWarning: \n",
      "A value is trying to be set on a copy of a slice from a DataFrame.\n",
      "Try using .loc[row_indexer,col_indexer] = value instead\n",
      "\n",
      "See the caveats in the documentation: https://pandas.pydata.org/pandas-docs/stable/user_guide/indexing.html#returning-a-view-versus-a-copy\n",
      "  df['day_of_year'] = df['HourDK'].dt.dayofyear\n",
      "/tmp/ipykernel_25/2672324209.py:15: SettingWithCopyWarning: \n",
      "A value is trying to be set on a copy of a slice from a DataFrame.\n",
      "Try using .loc[row_indexer,col_indexer] = value instead\n",
      "\n",
      "See the caveats in the documentation: https://pandas.pydata.org/pandas-docs/stable/user_guide/indexing.html#returning-a-view-versus-a-copy\n",
      "  df['day_of_month'] = df['HourDK'].dt.day\n",
      "/tmp/ipykernel_25/2672324209.py:16: SettingWithCopyWarning: \n",
      "A value is trying to be set on a copy of a slice from a DataFrame.\n",
      "Try using .loc[row_indexer,col_indexer] = value instead\n",
      "\n",
      "See the caveats in the documentation: https://pandas.pydata.org/pandas-docs/stable/user_guide/indexing.html#returning-a-view-versus-a-copy\n",
      "  df['week_of_year'] = df['HourDK'].dt.isocalendar().week\n",
      "/tmp/ipykernel_25/2672324209.py:30: SettingWithCopyWarning: \n",
      "A value is trying to be set on a copy of a slice from a DataFrame.\n",
      "Try using .loc[row_indexer,col_indexer] = value instead\n",
      "\n",
      "See the caveats in the documentation: https://pandas.pydata.org/pandas-docs/stable/user_guide/indexing.html#returning-a-view-versus-a-copy\n",
      "  df['season'] = df['month'].apply(season_group)\n",
      "/tmp/ipykernel_25/2672324209.py:36: SettingWithCopyWarning: \n",
      "A value is trying to be set on a copy of a slice from a DataFrame.\n",
      "Try using .loc[row_indexer,col_indexer] = value instead\n",
      "\n",
      "See the caveats in the documentation: https://pandas.pydata.org/pandas-docs/stable/user_guide/indexing.html#returning-a-view-versus-a-copy\n",
      "  df['holiday'] = df['HourDK'].apply(lambda x: 1 if x in dk_holidays else 0)\n"
     ]
    },
    {
     "name": "stdout",
     "output_type": "stream",
     "text": [
      "               HourUTC              HourDK  Consumption_MWh  DK3619Code  hour  \\\n",
      "0  2024-06-21T21:00:00 2024-06-21 23:00:00       145.018660         A_A    23   \n",
      "2  2024-06-21T21:00:00 2024-06-21 23:00:00       189.913841        C_CA    23   \n",
      "3  2024-06-21T21:00:00 2024-06-21 23:00:00        27.199219        C_CC    23   \n",
      "4  2024-06-21T21:00:00 2024-06-21 23:00:00       174.295128  C_CE_CF_CD    23   \n",
      "5  2024-06-21T21:00:00 2024-06-21 23:00:00       105.906493        C_CG    23   \n",
      "\n",
      "   day_of_week  quarter  month  year  day_of_year  day_of_month  week_of_year  \\\n",
      "0            4        2      6  2024          173            21            25   \n",
      "2            4        2      6  2024          173            21            25   \n",
      "3            4        2      6  2024          173            21            25   \n",
      "4            4        2      6  2024          173            21            25   \n",
      "5            4        2      6  2024          173            21            25   \n",
      "\n",
      "   season  holiday  DK36Code  \\\n",
      "0  Summer        0         A   \n",
      "2  Summer        0        CA   \n",
      "3  Summer        0        CC   \n",
      "4  Summer        0  CE_CF_CD   \n",
      "5  Summer        0        CG   \n",
      "\n",
      "                                           DK36Title DK19Code  \\\n",
      "0                      Landbrug, skovbrug og fiskeri        A   \n",
      "2               Føde-, drikke- og tobaksvareindustri        C   \n",
      "3                  Træ- og papirindustri, trykkerier        C   \n",
      "4  Kemiskindustri, Olieraffinaderier og Medicinal...        C   \n",
      "5                     Plast-, glas- og betonindustri        C   \n",
      "\n",
      "                       DK19Title  \n",
      "0  Landbrug, skovbrug og fiskeri  \n",
      "2                       Industri  \n",
      "3                       Industri  \n",
      "4                       Industri  \n",
      "5                       Industri  \n",
      "<class 'pandas.core.frame.DataFrame'>\n",
      "Index: 3323747 entries, 0 to 3533983\n",
      "Data columns (total 18 columns):\n",
      " #   Column           Dtype         \n",
      "---  ------           -----         \n",
      " 0   HourUTC          object        \n",
      " 1   HourDK           datetime64[ns]\n",
      " 2   Consumption_MWh  float64       \n",
      " 3   DK3619Code       object        \n",
      " 4   hour             int32         \n",
      " 5   day_of_week      int32         \n",
      " 6   quarter          int32         \n",
      " 7   month            int32         \n",
      " 8   year             int32         \n",
      " 9   day_of_year      int32         \n",
      " 10  day_of_month     int32         \n",
      " 11  week_of_year     UInt32        \n",
      " 12  season           object        \n",
      " 13  holiday          int64         \n",
      " 14  DK36Code         object        \n",
      " 15  DK36Title        object        \n",
      " 16  DK19Code         object        \n",
      " 17  DK19Title        object        \n",
      "dtypes: UInt32(1), datetime64[ns](1), float64(1), int32(7), int64(1), object(7)\n",
      "memory usage: 383.5+ MB\n",
      "None\n"
     ]
    }
   ],
   "source": [
    "# Sử dụng hàm process_df với DataFrame đầu vào của bạn\n",
    "df_processed_time = process_df(df)\n",
    "print(df_processed_time.head())\n",
    "print(df_processed_time.info())"
   ]
  },
  {
   "cell_type": "code",
   "execution_count": 22,
   "id": "4c33226c",
   "metadata": {
    "execution": {
     "iopub.execute_input": "2024-07-08T04:04:38.615078Z",
     "iopub.status.busy": "2024-07-08T04:04:38.614797Z",
     "iopub.status.idle": "2024-07-08T04:04:38.620148Z",
     "shell.execute_reply": "2024-07-08T04:04:38.619348Z"
    },
    "papermill": {
     "duration": 0.020217,
     "end_time": "2024-07-08T04:04:38.621968",
     "exception": false,
     "start_time": "2024-07-08T04:04:38.601751",
     "status": "completed"
    },
    "tags": []
   },
   "outputs": [],
   "source": [
    "import pandas as pd\n",
    "\n",
    "def create_lag_columns(df):\n",
    "    # Sắp xếp lại dataframe theo cột HourDK nếu cần thiết\n",
    "    df['HourDK'] = pd.to_datetime(df['HourDK'])\n",
    "#     df_sorted = df.sort_values(by='HourDK')\n",
    "\n",
    "    # Tạo các cột lag từ 24 đến 48 tiếng cho từng mã DK36Code\n",
    "    lag_columns = range(24, 49)\n",
    "    for lag in lag_columns:\n",
    "        lag_col = f'lag_{lag}'\n",
    "        df[lag_col] = df.groupby('DK36Code')['Consumption_MWh'].shift(lag)\n",
    "\n",
    "    return df"
   ]
  },
  {
   "cell_type": "code",
   "execution_count": 23,
   "id": "0a5a3619",
   "metadata": {
    "execution": {
     "iopub.execute_input": "2024-07-08T04:04:38.646984Z",
     "iopub.status.busy": "2024-07-08T04:04:38.646722Z",
     "iopub.status.idle": "2024-07-08T04:04:47.933725Z",
     "shell.execute_reply": "2024-07-08T04:04:47.932675Z"
    },
    "papermill": {
     "duration": 9.301763,
     "end_time": "2024-07-08T04:04:47.936083",
     "exception": false,
     "start_time": "2024-07-08T04:04:38.634320",
     "status": "completed"
    },
    "tags": []
   },
   "outputs": [
    {
     "name": "stdout",
     "output_type": "stream",
     "text": [
      "               HourUTC              HourDK  Consumption_MWh  DK3619Code  hour  \\\n",
      "0  2024-06-21T21:00:00 2024-06-21 23:00:00       145.018660         A_A    23   \n",
      "2  2024-06-21T21:00:00 2024-06-21 23:00:00       189.913841        C_CA    23   \n",
      "3  2024-06-21T21:00:00 2024-06-21 23:00:00        27.199219        C_CC    23   \n",
      "4  2024-06-21T21:00:00 2024-06-21 23:00:00       174.295128  C_CE_CF_CD    23   \n",
      "5  2024-06-21T21:00:00 2024-06-21 23:00:00       105.906493        C_CG    23   \n",
      "\n",
      "   day_of_week  quarter  month  year  day_of_year  ...  lag_39  lag_40 lag_41  \\\n",
      "0            4        2      6  2024          173  ...     NaN     NaN    NaN   \n",
      "2            4        2      6  2024          173  ...     NaN     NaN    NaN   \n",
      "3            4        2      6  2024          173  ...     NaN     NaN    NaN   \n",
      "4            4        2      6  2024          173  ...     NaN     NaN    NaN   \n",
      "5            4        2      6  2024          173  ...     NaN     NaN    NaN   \n",
      "\n",
      "   lag_42 lag_43 lag_44 lag_45 lag_46  lag_47  lag_48  \n",
      "0     NaN    NaN    NaN    NaN    NaN     NaN     NaN  \n",
      "2     NaN    NaN    NaN    NaN    NaN     NaN     NaN  \n",
      "3     NaN    NaN    NaN    NaN    NaN     NaN     NaN  \n",
      "4     NaN    NaN    NaN    NaN    NaN     NaN     NaN  \n",
      "5     NaN    NaN    NaN    NaN    NaN     NaN     NaN  \n",
      "\n",
      "[5 rows x 43 columns]\n",
      "<class 'pandas.core.frame.DataFrame'>\n",
      "Index: 3323747 entries, 0 to 3533983\n",
      "Data columns (total 43 columns):\n",
      " #   Column           Dtype         \n",
      "---  ------           -----         \n",
      " 0   HourUTC          object        \n",
      " 1   HourDK           datetime64[ns]\n",
      " 2   Consumption_MWh  float64       \n",
      " 3   DK3619Code       object        \n",
      " 4   hour             int32         \n",
      " 5   day_of_week      int32         \n",
      " 6   quarter          int32         \n",
      " 7   month            int32         \n",
      " 8   year             int32         \n",
      " 9   day_of_year      int32         \n",
      " 10  day_of_month     int32         \n",
      " 11  week_of_year     UInt32        \n",
      " 12  season           object        \n",
      " 13  holiday          int64         \n",
      " 14  DK36Code         object        \n",
      " 15  DK36Title        object        \n",
      " 16  DK19Code         object        \n",
      " 17  DK19Title        object        \n",
      " 18  lag_24           float64       \n",
      " 19  lag_25           float64       \n",
      " 20  lag_26           float64       \n",
      " 21  lag_27           float64       \n",
      " 22  lag_28           float64       \n",
      " 23  lag_29           float64       \n",
      " 24  lag_30           float64       \n",
      " 25  lag_31           float64       \n",
      " 26  lag_32           float64       \n",
      " 27  lag_33           float64       \n",
      " 28  lag_34           float64       \n",
      " 29  lag_35           float64       \n",
      " 30  lag_36           float64       \n",
      " 31  lag_37           float64       \n",
      " 32  lag_38           float64       \n",
      " 33  lag_39           float64       \n",
      " 34  lag_40           float64       \n",
      " 35  lag_41           float64       \n",
      " 36  lag_42           float64       \n",
      " 37  lag_43           float64       \n",
      " 38  lag_44           float64       \n",
      " 39  lag_45           float64       \n",
      " 40  lag_46           float64       \n",
      " 41  lag_47           float64       \n",
      " 42  lag_48           float64       \n",
      "dtypes: UInt32(1), datetime64[ns](1), float64(26), int32(7), int64(1), object(7)\n",
      "memory usage: 1017.5+ MB\n",
      "None\n"
     ]
    }
   ],
   "source": [
    "df_processed = create_lag_columns(df_processed_time)\n",
    "print(df_processed.head())\n",
    "print(df_processed.info())"
   ]
  },
  {
   "cell_type": "code",
   "execution_count": 24,
   "id": "9bf9e012",
   "metadata": {
    "execution": {
     "iopub.execute_input": "2024-07-08T04:04:47.961687Z",
     "iopub.status.busy": "2024-07-08T04:04:47.961177Z",
     "iopub.status.idle": "2024-07-08T04:04:48.632266Z",
     "shell.execute_reply": "2024-07-08T04:04:48.631362Z"
    },
    "papermill": {
     "duration": 0.686237,
     "end_time": "2024-07-08T04:04:48.634339",
     "exception": false,
     "start_time": "2024-07-08T04:04:47.948102",
     "status": "completed"
    },
    "tags": []
   },
   "outputs": [
    {
     "data": {
      "text/html": [
       "<div>\n",
       "<style scoped>\n",
       "    .dataframe tbody tr th:only-of-type {\n",
       "        vertical-align: middle;\n",
       "    }\n",
       "\n",
       "    .dataframe tbody tr th {\n",
       "        vertical-align: top;\n",
       "    }\n",
       "\n",
       "    .dataframe thead th {\n",
       "        text-align: right;\n",
       "    }\n",
       "</style>\n",
       "<table border=\"1\" class=\"dataframe\">\n",
       "  <thead>\n",
       "    <tr style=\"text-align: right;\">\n",
       "      <th></th>\n",
       "      <th>HourDK</th>\n",
       "      <th>DK36Code</th>\n",
       "      <th>lag_24</th>\n",
       "      <th>lag_25</th>\n",
       "      <th>lag_26</th>\n",
       "    </tr>\n",
       "  </thead>\n",
       "  <tbody>\n",
       "    <tr>\n",
       "      <th>22</th>\n",
       "      <td>2024-06-21 23:00:00</td>\n",
       "      <td>MA</td>\n",
       "      <td>NaN</td>\n",
       "      <td>NaN</td>\n",
       "      <td>NaN</td>\n",
       "    </tr>\n",
       "    <tr>\n",
       "      <th>56</th>\n",
       "      <td>2024-06-21 22:00:00</td>\n",
       "      <td>MA</td>\n",
       "      <td>NaN</td>\n",
       "      <td>NaN</td>\n",
       "      <td>NaN</td>\n",
       "    </tr>\n",
       "    <tr>\n",
       "      <th>90</th>\n",
       "      <td>2024-06-21 21:00:00</td>\n",
       "      <td>MA</td>\n",
       "      <td>NaN</td>\n",
       "      <td>NaN</td>\n",
       "      <td>NaN</td>\n",
       "    </tr>\n",
       "    <tr>\n",
       "      <th>124</th>\n",
       "      <td>2024-06-21 20:00:00</td>\n",
       "      <td>MA</td>\n",
       "      <td>NaN</td>\n",
       "      <td>NaN</td>\n",
       "      <td>NaN</td>\n",
       "    </tr>\n",
       "    <tr>\n",
       "      <th>158</th>\n",
       "      <td>2024-06-21 19:00:00</td>\n",
       "      <td>MA</td>\n",
       "      <td>NaN</td>\n",
       "      <td>NaN</td>\n",
       "      <td>NaN</td>\n",
       "    </tr>\n",
       "    <tr>\n",
       "      <th>192</th>\n",
       "      <td>2024-06-21 18:00:00</td>\n",
       "      <td>MA</td>\n",
       "      <td>NaN</td>\n",
       "      <td>NaN</td>\n",
       "      <td>NaN</td>\n",
       "    </tr>\n",
       "    <tr>\n",
       "      <th>226</th>\n",
       "      <td>2024-06-21 17:00:00</td>\n",
       "      <td>MA</td>\n",
       "      <td>NaN</td>\n",
       "      <td>NaN</td>\n",
       "      <td>NaN</td>\n",
       "    </tr>\n",
       "    <tr>\n",
       "      <th>260</th>\n",
       "      <td>2024-06-21 16:00:00</td>\n",
       "      <td>MA</td>\n",
       "      <td>NaN</td>\n",
       "      <td>NaN</td>\n",
       "      <td>NaN</td>\n",
       "    </tr>\n",
       "    <tr>\n",
       "      <th>294</th>\n",
       "      <td>2024-06-21 15:00:00</td>\n",
       "      <td>MA</td>\n",
       "      <td>NaN</td>\n",
       "      <td>NaN</td>\n",
       "      <td>NaN</td>\n",
       "    </tr>\n",
       "    <tr>\n",
       "      <th>328</th>\n",
       "      <td>2024-06-21 14:00:00</td>\n",
       "      <td>MA</td>\n",
       "      <td>NaN</td>\n",
       "      <td>NaN</td>\n",
       "      <td>NaN</td>\n",
       "    </tr>\n",
       "    <tr>\n",
       "      <th>362</th>\n",
       "      <td>2024-06-21 13:00:00</td>\n",
       "      <td>MA</td>\n",
       "      <td>NaN</td>\n",
       "      <td>NaN</td>\n",
       "      <td>NaN</td>\n",
       "    </tr>\n",
       "    <tr>\n",
       "      <th>396</th>\n",
       "      <td>2024-06-21 12:00:00</td>\n",
       "      <td>MA</td>\n",
       "      <td>NaN</td>\n",
       "      <td>NaN</td>\n",
       "      <td>NaN</td>\n",
       "    </tr>\n",
       "    <tr>\n",
       "      <th>430</th>\n",
       "      <td>2024-06-21 11:00:00</td>\n",
       "      <td>MA</td>\n",
       "      <td>NaN</td>\n",
       "      <td>NaN</td>\n",
       "      <td>NaN</td>\n",
       "    </tr>\n",
       "    <tr>\n",
       "      <th>464</th>\n",
       "      <td>2024-06-21 10:00:00</td>\n",
       "      <td>MA</td>\n",
       "      <td>NaN</td>\n",
       "      <td>NaN</td>\n",
       "      <td>NaN</td>\n",
       "    </tr>\n",
       "    <tr>\n",
       "      <th>498</th>\n",
       "      <td>2024-06-21 09:00:00</td>\n",
       "      <td>MA</td>\n",
       "      <td>NaN</td>\n",
       "      <td>NaN</td>\n",
       "      <td>NaN</td>\n",
       "    </tr>\n",
       "    <tr>\n",
       "      <th>532</th>\n",
       "      <td>2024-06-21 08:00:00</td>\n",
       "      <td>MA</td>\n",
       "      <td>NaN</td>\n",
       "      <td>NaN</td>\n",
       "      <td>NaN</td>\n",
       "    </tr>\n",
       "    <tr>\n",
       "      <th>566</th>\n",
       "      <td>2024-06-21 07:00:00</td>\n",
       "      <td>MA</td>\n",
       "      <td>NaN</td>\n",
       "      <td>NaN</td>\n",
       "      <td>NaN</td>\n",
       "    </tr>\n",
       "    <tr>\n",
       "      <th>600</th>\n",
       "      <td>2024-06-21 06:00:00</td>\n",
       "      <td>MA</td>\n",
       "      <td>NaN</td>\n",
       "      <td>NaN</td>\n",
       "      <td>NaN</td>\n",
       "    </tr>\n",
       "    <tr>\n",
       "      <th>634</th>\n",
       "      <td>2024-06-21 05:00:00</td>\n",
       "      <td>MA</td>\n",
       "      <td>NaN</td>\n",
       "      <td>NaN</td>\n",
       "      <td>NaN</td>\n",
       "    </tr>\n",
       "    <tr>\n",
       "      <th>668</th>\n",
       "      <td>2024-06-21 04:00:00</td>\n",
       "      <td>MA</td>\n",
       "      <td>NaN</td>\n",
       "      <td>NaN</td>\n",
       "      <td>NaN</td>\n",
       "    </tr>\n",
       "    <tr>\n",
       "      <th>702</th>\n",
       "      <td>2024-06-21 03:00:00</td>\n",
       "      <td>MA</td>\n",
       "      <td>NaN</td>\n",
       "      <td>NaN</td>\n",
       "      <td>NaN</td>\n",
       "    </tr>\n",
       "    <tr>\n",
       "      <th>736</th>\n",
       "      <td>2024-06-21 02:00:00</td>\n",
       "      <td>MA</td>\n",
       "      <td>NaN</td>\n",
       "      <td>NaN</td>\n",
       "      <td>NaN</td>\n",
       "    </tr>\n",
       "    <tr>\n",
       "      <th>770</th>\n",
       "      <td>2024-06-21 01:00:00</td>\n",
       "      <td>MA</td>\n",
       "      <td>NaN</td>\n",
       "      <td>NaN</td>\n",
       "      <td>NaN</td>\n",
       "    </tr>\n",
       "    <tr>\n",
       "      <th>804</th>\n",
       "      <td>2024-06-21 00:00:00</td>\n",
       "      <td>MA</td>\n",
       "      <td>NaN</td>\n",
       "      <td>NaN</td>\n",
       "      <td>NaN</td>\n",
       "    </tr>\n",
       "    <tr>\n",
       "      <th>838</th>\n",
       "      <td>2024-06-20 23:00:00</td>\n",
       "      <td>MA</td>\n",
       "      <td>37.037083</td>\n",
       "      <td>NaN</td>\n",
       "      <td>NaN</td>\n",
       "    </tr>\n",
       "    <tr>\n",
       "      <th>872</th>\n",
       "      <td>2024-06-20 22:00:00</td>\n",
       "      <td>MA</td>\n",
       "      <td>33.655045</td>\n",
       "      <td>37.037083</td>\n",
       "      <td>NaN</td>\n",
       "    </tr>\n",
       "    <tr>\n",
       "      <th>906</th>\n",
       "      <td>2024-06-20 21:00:00</td>\n",
       "      <td>MA</td>\n",
       "      <td>31.823854</td>\n",
       "      <td>33.655045</td>\n",
       "      <td>37.037083</td>\n",
       "    </tr>\n",
       "    <tr>\n",
       "      <th>940</th>\n",
       "      <td>2024-06-20 20:00:00</td>\n",
       "      <td>MA</td>\n",
       "      <td>31.752531</td>\n",
       "      <td>31.823854</td>\n",
       "      <td>33.655045</td>\n",
       "    </tr>\n",
       "    <tr>\n",
       "      <th>974</th>\n",
       "      <td>2024-06-20 19:00:00</td>\n",
       "      <td>MA</td>\n",
       "      <td>32.715910</td>\n",
       "      <td>31.752531</td>\n",
       "      <td>31.823854</td>\n",
       "    </tr>\n",
       "    <tr>\n",
       "      <th>1008</th>\n",
       "      <td>2024-06-20 18:00:00</td>\n",
       "      <td>MA</td>\n",
       "      <td>34.313333</td>\n",
       "      <td>32.715910</td>\n",
       "      <td>31.752531</td>\n",
       "    </tr>\n",
       "  </tbody>\n",
       "</table>\n",
       "</div>"
      ],
      "text/plain": [
       "                  HourDK DK36Code     lag_24     lag_25     lag_26\n",
       "22   2024-06-21 23:00:00       MA        NaN        NaN        NaN\n",
       "56   2024-06-21 22:00:00       MA        NaN        NaN        NaN\n",
       "90   2024-06-21 21:00:00       MA        NaN        NaN        NaN\n",
       "124  2024-06-21 20:00:00       MA        NaN        NaN        NaN\n",
       "158  2024-06-21 19:00:00       MA        NaN        NaN        NaN\n",
       "192  2024-06-21 18:00:00       MA        NaN        NaN        NaN\n",
       "226  2024-06-21 17:00:00       MA        NaN        NaN        NaN\n",
       "260  2024-06-21 16:00:00       MA        NaN        NaN        NaN\n",
       "294  2024-06-21 15:00:00       MA        NaN        NaN        NaN\n",
       "328  2024-06-21 14:00:00       MA        NaN        NaN        NaN\n",
       "362  2024-06-21 13:00:00       MA        NaN        NaN        NaN\n",
       "396  2024-06-21 12:00:00       MA        NaN        NaN        NaN\n",
       "430  2024-06-21 11:00:00       MA        NaN        NaN        NaN\n",
       "464  2024-06-21 10:00:00       MA        NaN        NaN        NaN\n",
       "498  2024-06-21 09:00:00       MA        NaN        NaN        NaN\n",
       "532  2024-06-21 08:00:00       MA        NaN        NaN        NaN\n",
       "566  2024-06-21 07:00:00       MA        NaN        NaN        NaN\n",
       "600  2024-06-21 06:00:00       MA        NaN        NaN        NaN\n",
       "634  2024-06-21 05:00:00       MA        NaN        NaN        NaN\n",
       "668  2024-06-21 04:00:00       MA        NaN        NaN        NaN\n",
       "702  2024-06-21 03:00:00       MA        NaN        NaN        NaN\n",
       "736  2024-06-21 02:00:00       MA        NaN        NaN        NaN\n",
       "770  2024-06-21 01:00:00       MA        NaN        NaN        NaN\n",
       "804  2024-06-21 00:00:00       MA        NaN        NaN        NaN\n",
       "838  2024-06-20 23:00:00       MA  37.037083        NaN        NaN\n",
       "872  2024-06-20 22:00:00       MA  33.655045  37.037083        NaN\n",
       "906  2024-06-20 21:00:00       MA  31.823854  33.655045  37.037083\n",
       "940  2024-06-20 20:00:00       MA  31.752531  31.823854  33.655045\n",
       "974  2024-06-20 19:00:00       MA  32.715910  31.752531  31.823854\n",
       "1008 2024-06-20 18:00:00       MA  34.313333  32.715910  31.752531"
      ]
     },
     "execution_count": 24,
     "metadata": {},
     "output_type": "execute_result"
    }
   ],
   "source": [
    "df_processed[df_processed['DK36Code'] == 'MA'].head(30)[['HourDK', 'DK36Code', 'lag_24', 'lag_25', 'lag_26']]"
   ]
  },
  {
   "cell_type": "code",
   "execution_count": 25,
   "id": "78e4e6ac",
   "metadata": {
    "execution": {
     "iopub.execute_input": "2024-07-08T04:04:48.660394Z",
     "iopub.status.busy": "2024-07-08T04:04:48.659895Z",
     "iopub.status.idle": "2024-07-08T04:04:49.299538Z",
     "shell.execute_reply": "2024-07-08T04:04:49.298603Z"
    },
    "papermill": {
     "duration": 0.654526,
     "end_time": "2024-07-08T04:04:49.301414",
     "exception": false,
     "start_time": "2024-07-08T04:04:48.646888",
     "status": "completed"
    },
    "tags": []
   },
   "outputs": [
    {
     "data": {
      "text/html": [
       "<div>\n",
       "<style scoped>\n",
       "    .dataframe tbody tr th:only-of-type {\n",
       "        vertical-align: middle;\n",
       "    }\n",
       "\n",
       "    .dataframe tbody tr th {\n",
       "        vertical-align: top;\n",
       "    }\n",
       "\n",
       "    .dataframe thead th {\n",
       "        text-align: right;\n",
       "    }\n",
       "</style>\n",
       "<table border=\"1\" class=\"dataframe\">\n",
       "  <thead>\n",
       "    <tr style=\"text-align: right;\">\n",
       "      <th></th>\n",
       "      <th>HourDK</th>\n",
       "      <th>DK36Code</th>\n",
       "      <th>lag_24</th>\n",
       "      <th>lag_25</th>\n",
       "      <th>lag_26</th>\n",
       "    </tr>\n",
       "  </thead>\n",
       "  <tbody>\n",
       "    <tr>\n",
       "      <th>3533652</th>\n",
       "      <td>2012-06-02 11:00:00</td>\n",
       "      <td>A</td>\n",
       "      <td>19.490219</td>\n",
       "      <td>19.696089</td>\n",
       "      <td>19.673477</td>\n",
       "    </tr>\n",
       "    <tr>\n",
       "      <th>3533685</th>\n",
       "      <td>2012-06-02 10:00:00</td>\n",
       "      <td>A</td>\n",
       "      <td>19.120760</td>\n",
       "      <td>19.490219</td>\n",
       "      <td>19.696089</td>\n",
       "    </tr>\n",
       "    <tr>\n",
       "      <th>3533718</th>\n",
       "      <td>2012-06-02 09:00:00</td>\n",
       "      <td>A</td>\n",
       "      <td>19.888653</td>\n",
       "      <td>19.120760</td>\n",
       "      <td>19.490219</td>\n",
       "    </tr>\n",
       "    <tr>\n",
       "      <th>3533751</th>\n",
       "      <td>2012-06-02 08:00:00</td>\n",
       "      <td>A</td>\n",
       "      <td>19.645775</td>\n",
       "      <td>19.888653</td>\n",
       "      <td>19.120760</td>\n",
       "    </tr>\n",
       "    <tr>\n",
       "      <th>3533784</th>\n",
       "      <td>2012-06-02 07:00:00</td>\n",
       "      <td>A</td>\n",
       "      <td>17.110626</td>\n",
       "      <td>19.645775</td>\n",
       "      <td>19.888653</td>\n",
       "    </tr>\n",
       "    <tr>\n",
       "      <th>3533817</th>\n",
       "      <td>2012-06-02 06:00:00</td>\n",
       "      <td>A</td>\n",
       "      <td>16.658733</td>\n",
       "      <td>17.110626</td>\n",
       "      <td>19.645775</td>\n",
       "    </tr>\n",
       "    <tr>\n",
       "      <th>3533850</th>\n",
       "      <td>2012-06-02 05:00:00</td>\n",
       "      <td>A</td>\n",
       "      <td>18.451464</td>\n",
       "      <td>16.658733</td>\n",
       "      <td>17.110626</td>\n",
       "    </tr>\n",
       "    <tr>\n",
       "      <th>3533883</th>\n",
       "      <td>2012-06-02 04:00:00</td>\n",
       "      <td>A</td>\n",
       "      <td>18.337446</td>\n",
       "      <td>18.451464</td>\n",
       "      <td>16.658733</td>\n",
       "    </tr>\n",
       "    <tr>\n",
       "      <th>3533916</th>\n",
       "      <td>2012-06-02 03:00:00</td>\n",
       "      <td>A</td>\n",
       "      <td>16.863892</td>\n",
       "      <td>18.337446</td>\n",
       "      <td>18.451464</td>\n",
       "    </tr>\n",
       "    <tr>\n",
       "      <th>3533949</th>\n",
       "      <td>2012-06-02 02:00:00</td>\n",
       "      <td>A</td>\n",
       "      <td>15.520031</td>\n",
       "      <td>16.863892</td>\n",
       "      <td>18.337446</td>\n",
       "    </tr>\n",
       "  </tbody>\n",
       "</table>\n",
       "</div>"
      ],
      "text/plain": [
       "                     HourDK DK36Code     lag_24     lag_25     lag_26\n",
       "3533652 2012-06-02 11:00:00        A  19.490219  19.696089  19.673477\n",
       "3533685 2012-06-02 10:00:00        A  19.120760  19.490219  19.696089\n",
       "3533718 2012-06-02 09:00:00        A  19.888653  19.120760  19.490219\n",
       "3533751 2012-06-02 08:00:00        A  19.645775  19.888653  19.120760\n",
       "3533784 2012-06-02 07:00:00        A  17.110626  19.645775  19.888653\n",
       "3533817 2012-06-02 06:00:00        A  16.658733  17.110626  19.645775\n",
       "3533850 2012-06-02 05:00:00        A  18.451464  16.658733  17.110626\n",
       "3533883 2012-06-02 04:00:00        A  18.337446  18.451464  16.658733\n",
       "3533916 2012-06-02 03:00:00        A  16.863892  18.337446  18.451464\n",
       "3533949 2012-06-02 02:00:00        A  15.520031  16.863892  18.337446"
      ]
     },
     "execution_count": 25,
     "metadata": {},
     "output_type": "execute_result"
    }
   ],
   "source": [
    "df_processed[df_processed['DK36Code'] == 'A'].tail(10)[['HourDK', 'DK36Code', 'lag_24', 'lag_25', 'lag_26']]"
   ]
  },
  {
   "cell_type": "code",
   "execution_count": 26,
   "id": "25e8a506",
   "metadata": {
    "execution": {
     "iopub.execute_input": "2024-07-08T04:04:49.327572Z",
     "iopub.status.busy": "2024-07-08T04:04:49.327303Z",
     "iopub.status.idle": "2024-07-08T04:07:15.012282Z",
     "shell.execute_reply": "2024-07-08T04:07:15.011316Z"
    },
    "papermill": {
     "duration": 145.700738,
     "end_time": "2024-07-08T04:07:15.014720",
     "exception": false,
     "start_time": "2024-07-08T04:04:49.313982",
     "status": "completed"
    },
    "tags": []
   },
   "outputs": [],
   "source": [
    "# Xuất DataFrame count_stats thành file CSV\n",
    "df_processed.to_csv('/kaggle/working/dataset_dk3619_preprocessed_v1.csv', index=False)"
   ]
  },
  {
   "cell_type": "code",
   "execution_count": 27,
   "id": "af75da8b",
   "metadata": {
    "execution": {
     "iopub.execute_input": "2024-07-08T04:07:15.041760Z",
     "iopub.status.busy": "2024-07-08T04:07:15.041195Z",
     "iopub.status.idle": "2024-07-08T04:07:15.060313Z",
     "shell.execute_reply": "2024-07-08T04:07:15.059073Z"
    },
    "papermill": {
     "duration": 0.03434,
     "end_time": "2024-07-08T04:07:15.062249",
     "exception": false,
     "start_time": "2024-07-08T04:07:15.027909",
     "status": "completed"
    },
    "tags": []
   },
   "outputs": [
    {
     "name": "stdout",
     "output_type": "stream",
     "text": [
      "[2024 2023 2022 2021 2020 2019 2018 2017 2016 2015 2014 2013 2012]\n"
     ]
    }
   ],
   "source": [
    "print(df_processed['year'].unique())"
   ]
  },
  {
   "cell_type": "code",
   "execution_count": 28,
   "id": "7b706d00",
   "metadata": {
    "execution": {
     "iopub.execute_input": "2024-07-08T04:07:15.088016Z",
     "iopub.status.busy": "2024-07-08T04:07:15.087748Z",
     "iopub.status.idle": "2024-07-08T04:07:15.710241Z",
     "shell.execute_reply": "2024-07-08T04:07:15.709071Z"
    },
    "papermill": {
     "duration": 0.637736,
     "end_time": "2024-07-08T04:07:15.712462",
     "exception": false,
     "start_time": "2024-07-08T04:07:15.074726",
     "status": "completed"
    },
    "tags": []
   },
   "outputs": [
    {
     "name": "stdout",
     "output_type": "stream",
     "text": [
      "['Landbrug, skovbrug og fiskeri' 'Føde-, drikke- og tobaksvareindustri'\n",
      " 'Træ- og papirindustri, trykkerier'\n",
      " 'Kemiskindustri, Olieraffinaderier og Medicinalindustri'\n",
      " 'Plast-, glas- og betonindustri' 'Metalindustri' 'Elektronikindustri'\n",
      " 'Fremst. af elektrisk udstyr' 'Maskinindustri' 'Transportmiddelindustri'\n",
      " 'Tekstil - og læderindustri & Møbel og anden industri mv.'\n",
      " 'Energiforsyning' 'Vandforsyning og renovation' 'Bygge og anlæg' 'Handel'\n",
      " 'Transport' 'Hoteller og restauranter' 'Forlag, tv og radio'\n",
      " 'Telekommunikation &It - og informationstjenester'\n",
      " 'Finansiering og forsikring' 'Ejendomshandel og udlejning'\n",
      " 'Rådgivning mv.' 'Forskning og udvikling'\n",
      " 'Reklame og øvrig erhvervsservice'\n",
      " 'Rejsebureauer, rengøring og anden operationel service'\n",
      " 'Offentlig administration, forsvar og politi' 'Undervisning' 'Privat'\n",
      " 'Sundhedsvæsen' 'Sociale institutioner' 'Kultur og fritid'\n",
      " 'Andre serviceydelser  mv.']\n",
      "['Landbrug, skovbrug og fiskeri' 'Industri' 'Energiforsyning'\n",
      " 'Vandforsyning og renovation' 'Bygge og anlæg' 'Handel' 'Transport'\n",
      " 'Hoteller og restauranter' 'Information og kommunikation'\n",
      " 'Finansiering og forsikring' 'Ejendomshandel og udlejning' 'Videnservice'\n",
      " 'Rejsebureauer, rengøring og anden operationel service'\n",
      " 'Offentlig administration, forsvar og politi' 'Undervisning' 'Privat'\n",
      " 'Sundhed og socialvæsen' 'Kultur og fritid' 'Andre serviceydelser mv']\n"
     ]
    }
   ],
   "source": [
    "dk36title = df_processed['DK36Title'].unique()\n",
    "dk19title = df_processed['DK19Title'].unique()\n",
    "print(dk36title)\n",
    "print(dk19title)"
   ]
  },
  {
   "cell_type": "code",
   "execution_count": 29,
   "id": "e15a6252",
   "metadata": {
    "execution": {
     "iopub.execute_input": "2024-07-08T04:07:15.739118Z",
     "iopub.status.busy": "2024-07-08T04:07:15.738831Z",
     "iopub.status.idle": "2024-07-08T04:07:17.009207Z",
     "shell.execute_reply": "2024-07-08T04:07:17.008217Z"
    },
    "papermill": {
     "duration": 1.286209,
     "end_time": "2024-07-08T04:07:17.011560",
     "exception": false,
     "start_time": "2024-07-08T04:07:15.725351",
     "status": "completed"
    },
    "tags": []
   },
   "outputs": [
    {
     "name": "stdout",
     "output_type": "stream",
     "text": [
      "Các phần tử chỉ có trong dk36title_array mà không có trong dk19title_array:\n",
      "['Andre serviceydelser  mv.' 'Elektronikindustri' 'Forlag, tv og radio'\n",
      " 'Forskning og udvikling' 'Fremst. af elektrisk udstyr'\n",
      " 'Føde-, drikke- og tobaksvareindustri'\n",
      " 'Kemiskindustri, Olieraffinaderier og Medicinalindustri' 'Maskinindustri'\n",
      " 'Metalindustri' 'Plast-, glas- og betonindustri'\n",
      " 'Reklame og øvrig erhvervsservice' 'Rådgivning mv.'\n",
      " 'Sociale institutioner' 'Sundhedsvæsen'\n",
      " 'Tekstil - og læderindustri & Møbel og anden industri mv.'\n",
      " 'Telekommunikation &It - og informationstjenester'\n",
      " 'Transportmiddelindustri' 'Træ- og papirindustri, trykkerier']\n",
      "\n",
      "Các phần tử chỉ có trong dk19title_array mà không có trong dk36title_array:\n",
      "['Andre serviceydelser mv' 'Industri' 'Information og kommunikation'\n",
      " 'Sundhed og socialvæsen' 'Videnservice']\n"
     ]
    }
   ],
   "source": [
    "import numpy as np\n",
    "\n",
    "# Giả sử df_processed là DataFrame của bạn\n",
    "# Lấy các unique values của cột DK36Title và DK19Title, bỏ qua giá trị nan\n",
    "dk36title = df_processed['DK36Title'].dropna().unique()\n",
    "dk19title = df_processed['DK19Title'].dropna().unique()\n",
    "\n",
    "# Chuyển các unique values thành mảng numpy\n",
    "dk36title_array = np.array(dk36title)\n",
    "dk19title_array = np.array(dk19title)\n",
    "\n",
    "# Tìm các phần tử chỉ có trong dk36title_array mà không có trong dk19title_array\n",
    "unique_dk36title = np.setdiff1d(dk36title_array, dk19title_array)\n",
    "\n",
    "# Tìm các phần tử chỉ có trong dk19title_array mà không có trong dk36title_array\n",
    "unique_dk19title = np.setdiff1d(dk19title_array, dk36title_array)\n",
    "\n",
    "# Kết quả\n",
    "print(\"Các phần tử chỉ có trong dk36title_array mà không có trong dk19title_array:\")\n",
    "print(unique_dk36title)\n",
    "\n",
    "print(\"\\nCác phần tử chỉ có trong dk19title_array mà không có trong dk36title_array:\")\n",
    "print(unique_dk19title)\n"
   ]
  },
  {
   "cell_type": "code",
   "execution_count": 30,
   "id": "15441b0b",
   "metadata": {
    "execution": {
     "iopub.execute_input": "2024-07-08T04:07:17.039001Z",
     "iopub.status.busy": "2024-07-08T04:07:17.038731Z",
     "iopub.status.idle": "2024-07-08T04:07:17.803258Z",
     "shell.execute_reply": "2024-07-08T04:07:17.802292Z"
    },
    "papermill": {
     "duration": 0.780387,
     "end_time": "2024-07-08T04:07:17.805536",
     "exception": false,
     "start_time": "2024-07-08T04:07:17.025149",
     "status": "completed"
    },
    "tags": []
   },
   "outputs": [
    {
     "name": "stdout",
     "output_type": "stream",
     "text": [
      "df Statistics:\n",
      "    DK36Code DK19Code        mean        min          max         std  \\\n",
      "0          A        A  154.675343  11.824183   347.612299   69.081704   \n",
      "1         CA        C  180.123194  17.932318   337.977356   61.166571   \n",
      "2         CC        C   44.381744   3.616645    93.227791   18.754005   \n",
      "3   CE_CF_CD        C  157.103540   8.836999   223.284897   25.345416   \n",
      "4         CG        C  108.528431   8.873151   201.983307   43.667007   \n",
      "5         CH        C   84.540892   4.106684   194.267532   45.730394   \n",
      "6         CI        C    7.051252   0.548322    15.867881    2.963885   \n",
      "7         CJ        C    9.534243   0.078813    20.109194    3.954460   \n",
      "8         CK        C   46.835179   3.957120   111.185806   23.086160   \n",
      "9         CL        C    7.100673   0.368000    18.912756    3.632762   \n",
      "10     CM_CB        C   37.374338   2.573857    85.469142   17.032363   \n",
      "11         D        D  169.686098   4.632011  1609.591810  169.281546   \n",
      "12         E        E   68.202654   2.589077   185.352501   21.824398   \n",
      "13         F        F   24.406045   1.547291   134.114151   16.949665   \n",
      "14         G        G  249.085464  13.127446   519.155184  103.123010   \n",
      "15         H        H  109.545443  15.812085   224.978867   34.121906   \n",
      "16         I        I   59.792115   3.608642   162.836060   31.407341   \n",
      "17        JA        J    9.843995   0.063667    18.090263    2.407161   \n",
      "18     JB_JC        J   91.476405  20.809053   190.595477   47.139623   \n",
      "19         K        K   33.708942   1.082366    86.234314   14.203619   \n",
      "20         L        L  116.740715  10.620336   269.804870   50.846963   \n",
      "21        MA        M   33.378432   0.068992    77.873412   10.036837   \n",
      "22        MB        M   11.892492   0.058051    30.224340    3.879060   \n",
      "23        MC        M    3.129606   0.201527   106.910225    2.170465   \n",
      "24         N        N   19.501237   2.087493   456.611762    8.229456   \n",
      "25         O        O  160.901655   7.677019   377.306030   61.956851   \n",
      "26         P        P   50.855775   3.428349   135.611465   21.221564   \n",
      "27        PR       PR  997.599028  36.396748  2896.663873  337.153711   \n",
      "28        QA        Q    4.308554   0.201026    19.009698    3.910587   \n",
      "29        QB        Q    8.405422   0.466419    34.275887    4.141535   \n",
      "30         R        R   27.706656   1.248373    63.414211   10.949989   \n",
      "31         S        S   24.719812   1.935919   108.164001   13.907807   \n",
      "\n",
      "             sum  \n",
      "0   1.634454e+07  \n",
      "1   1.903362e+07  \n",
      "2   4.689819e+06  \n",
      "3   1.660129e+07  \n",
      "4   1.146820e+07  \n",
      "5   8.933436e+06  \n",
      "6   7.451058e+05  \n",
      "7   1.007483e+06  \n",
      "8   4.949073e+06  \n",
      "9   7.503281e+05  \n",
      "10  3.949346e+06  \n",
      "11  1.793073e+07  \n",
      "12  7.206974e+06  \n",
      "13  2.578987e+06  \n",
      "14  2.632086e+07  \n",
      "15  1.157567e+07  \n",
      "16  6.318233e+06  \n",
      "17  1.040215e+06  \n",
      "18  9.666312e+06  \n",
      "19  3.562024e+06  \n",
      "20  1.233599e+07  \n",
      "21  3.527132e+06  \n",
      "22  1.256680e+06  \n",
      "23  3.307055e+05  \n",
      "24  2.060696e+06  \n",
      "25  1.700248e+07  \n",
      "26  5.373930e+06  \n",
      "27  4.785981e+07  \n",
      "28  4.552849e+05  \n",
      "29  8.882009e+05  \n",
      "30  2.927762e+06  \n",
      "31  2.612143e+06  \n"
     ]
    }
   ],
   "source": [
    "col_processed = ['DK36Code', 'DK19Code']\n",
    "df_stats = df_processed.groupby(col_processed)['Consumption_MWh'].agg(['mean', 'min', 'max', 'std', 'sum']).reset_index()\n",
    "print(\"df Statistics:\")\n",
    "print(df_stats)"
   ]
  },
  {
   "cell_type": "code",
   "execution_count": 31,
   "id": "88e464f3",
   "metadata": {
    "execution": {
     "iopub.execute_input": "2024-07-08T04:07:17.833310Z",
     "iopub.status.busy": "2024-07-08T04:07:17.832814Z",
     "iopub.status.idle": "2024-07-08T04:07:17.837876Z",
     "shell.execute_reply": "2024-07-08T04:07:17.837065Z"
    },
    "papermill": {
     "duration": 0.02128,
     "end_time": "2024-07-08T04:07:17.840094",
     "exception": false,
     "start_time": "2024-07-08T04:07:17.818814",
     "status": "completed"
    },
    "tags": []
   },
   "outputs": [
    {
     "name": "stdout",
     "output_type": "stream",
     "text": [
      "['A' 'CA' 'CC' 'CE_CF_CD' 'CG' 'CH' 'CI' 'CJ' 'CK' 'CL' 'CM_CB' 'D' 'E'\n",
      " 'F' 'G' 'H' 'I' 'JA' 'JB_JC' 'K' 'L' 'MA' 'MB' 'MC' 'N' 'O' 'P' 'PR' 'QA'\n",
      " 'QB' 'R' 'S']\n",
      "['A' 'C' 'D' 'E' 'F' 'G' 'H' 'I' 'J' 'K' 'L' 'M' 'N' 'O' 'P' 'PR' 'Q' 'R'\n",
      " 'S']\n"
     ]
    }
   ],
   "source": [
    "print(df_stats['DK36Code'].unique())\n",
    "print(df_stats['DK19Code'].unique())"
   ]
  },
  {
   "cell_type": "code",
   "execution_count": 32,
   "id": "395da07a",
   "metadata": {
    "execution": {
     "iopub.execute_input": "2024-07-08T04:07:17.866514Z",
     "iopub.status.busy": "2024-07-08T04:07:17.866251Z",
     "iopub.status.idle": "2024-07-08T04:07:18.405952Z",
     "shell.execute_reply": "2024-07-08T04:07:18.405038Z"
    },
    "papermill": {
     "duration": 0.555032,
     "end_time": "2024-07-08T04:07:18.407901",
     "exception": false,
     "start_time": "2024-07-08T04:07:17.852869",
     "status": "completed"
    },
    "tags": []
   },
   "outputs": [
    {
     "data": {
      "image/png": "[encoded data removed]",
      "text/plain": [
       "<Figure size 1400x800 with 1 Axes>"
      ]
     },
     "metadata": {},
     "output_type": "display_data"
    }
   ],
   "source": [
    "# Sort df_stats by 'mean' in descending order\n",
    "#df_stats_sorted = df_stats.sort_values(by='mean', ascending=False)\n",
    "\n",
    "plt.figure(figsize=(14, 8))\n",
    "# Create barplot with 95% CI error bars\n",
    "sns.barplot(x='DK36Code', y='mean', data=df_stats, palette='muted', order=df_stats['DK36Code'])\n",
    "plt.xlabel('DK36Code')\n",
    "plt.ylabel('Consumption_MWh')\n",
    "plt.title('Title')\n",
    "#plt.legend(title='ConsumerType', loc='center left', bbox_to_anchor=(1, 0.5))\n",
    "plt.xticks(rotation=45)  # Rotate x-axis labels for better readability if needed\n",
    "plt.show()"
   ]
  },
  {
   "cell_type": "code",
   "execution_count": 33,
   "id": "2cd1afe4",
   "metadata": {
    "execution": {
     "iopub.execute_input": "2024-07-08T04:07:18.437303Z",
     "iopub.status.busy": "2024-07-08T04:07:18.436824Z",
     "iopub.status.idle": "2024-07-08T04:07:18.948575Z",
     "shell.execute_reply": "2024-07-08T04:07:18.947690Z"
    },
    "papermill": {
     "duration": 0.529036,
     "end_time": "2024-07-08T04:07:18.950996",
     "exception": false,
     "start_time": "2024-07-08T04:07:18.421960",
     "status": "completed"
    },
    "tags": []
   },
   "outputs": [
    {
     "name": "stdout",
     "output_type": "stream",
     "text": [
      "df Statistics:\n",
      "    DK36Code  day_of_week        mean        min         max        std  \\\n",
      "0          A            0  156.350421  11.824183  337.785184  69.786493   \n",
      "1          A            1  157.043279  12.163652  333.215037  69.848011   \n",
      "2          A            2  157.112326  12.141220  337.673420  69.939332   \n",
      "3          A            3  157.489421  12.199611  339.942157  70.660652   \n",
      "4          A            4  155.807040  12.195354  347.612299  69.756938   \n",
      "..       ...          ...         ...        ...         ...        ...   \n",
      "219        S            2   26.626916   4.461285   72.788203  14.682229   \n",
      "220        S            3   26.708709   2.148136   85.312363  14.832852   \n",
      "221        S            4   25.689319   1.935919  108.164001  14.208942   \n",
      "222        S            5   21.131132   2.196148   76.967255  11.552586   \n",
      "223        S            6   20.894048   4.123515   78.070992  11.859332   \n",
      "\n",
      "              sum  \n",
      "0    2.360266e+06  \n",
      "1    2.370725e+06  \n",
      "2    2.371768e+06  \n",
      "3    2.377460e+06  \n",
      "4    2.352063e+06  \n",
      "..            ...  \n",
      "219  4.019599e+05  \n",
      "220  4.031947e+05  \n",
      "221  3.878060e+05  \n",
      "222  3.189533e+05  \n",
      "223  3.154166e+05  \n",
      "\n",
      "[224 rows x 7 columns]\n"
     ]
    }
   ],
   "source": [
    "col_processed = ['DK36Code', 'day_of_week']\n",
    "daily_stats = df_processed.groupby(col_processed)['Consumption_MWh'].agg(['mean', 'min', 'max', 'std', 'sum']).reset_index()\n",
    "print(\"df Statistics:\")\n",
    "print(daily_stats)"
   ]
  },
  {
   "cell_type": "code",
   "execution_count": 34,
   "id": "ce2a8aa5",
   "metadata": {
    "execution": {
     "iopub.execute_input": "2024-07-08T04:07:18.979929Z",
     "iopub.status.busy": "2024-07-08T04:07:18.979579Z",
     "iopub.status.idle": "2024-07-08T04:07:18.986189Z",
     "shell.execute_reply": "2024-07-08T04:07:18.985362Z"
    },
    "papermill": {
     "duration": 0.023144,
     "end_time": "2024-07-08T04:07:18.988108",
     "exception": false,
     "start_time": "2024-07-08T04:07:18.964964",
     "status": "completed"
    },
    "tags": []
   },
   "outputs": [],
   "source": [
    "def plot_lineplot(stats_df, x_col, title, xlabel):\n",
    "    plt.figure(figsize=(14, 8))\n",
    "    \n",
    "    # Plot lines for each ConsumerType_DE35\n",
    "    for consumer_type in stats_df['DK36Code'].unique():\n",
    "        subset = stats_df[stats_df['DK36Code'] == consumer_type]\n",
    "        plt.plot(subset[x_col], subset['mean'], marker='o', label=f'ConsumerType_DE35 {consumer_type}')\n",
    "    \n",
    "    plt.xlabel(xlabel)\n",
    "    plt.ylabel('Consumption_MWh')\n",
    "    plt.title(title)\n",
    "    plt.legend(title='DK36Code', loc='center left', bbox_to_anchor=(1, 0.5))\n",
    "    plt.grid(True)\n",
    "    plt.show()"
   ]
  },
  {
   "cell_type": "code",
   "execution_count": 35,
   "id": "e35b08f2",
   "metadata": {
    "execution": {
     "iopub.execute_input": "2024-07-08T04:07:19.016214Z",
     "iopub.status.busy": "2024-07-08T04:07:19.015947Z",
     "iopub.status.idle": "2024-07-08T04:07:20.165370Z",
     "shell.execute_reply": "2024-07-08T04:07:20.164473Z"
    },
    "papermill": {
     "duration": 1.167337,
     "end_time": "2024-07-08T04:07:20.169008",
     "exception": false,
     "start_time": "2024-07-08T04:07:19.001671",
     "status": "completed"
    },
    "tags": []
   },
   "outputs": [
    {
     "data": {
      "image/png": "[encoded data removed]",
      "text/plain": [
       "<Figure size 1400x800 with 1 Axes>"
      ]
     },
     "metadata": {},
     "output_type": "display_data"
    }
   ],
   "source": [
    "col_processed = ['DK36Code', 'day_of_week']\n",
    "daily_stats = df_processed.groupby(col_processed)['Consumption_MWh'].agg(['mean', 'min', 'max', 'std', 'sum']).reset_index()\n",
    "# Filter out ConsumerType_DE35 = 999\n",
    "daily_stats = daily_stats[daily_stats['DK36Code'] != 'PR']\n",
    "# Example usage\n",
    "# Assuming stats_df contains your grouped statistics DataFrame\n",
    "plot_lineplot(daily_stats, 'day_of_week', 'Consumption_MWh theo Ngày', 'Ngày')"
   ]
  },
  {
   "cell_type": "code",
   "execution_count": null,
   "id": "9e23c09d",
   "metadata": {
    "papermill": {
     "duration": 0.01687,
     "end_time": "2024-07-08T04:07:20.203544",
     "exception": false,
     "start_time": "2024-07-08T04:07:20.186674",
     "status": "completed"
    },
    "tags": []
   },
   "outputs": [],
   "source": []
  }
 ],
 "metadata": {
  "kaggle": {
   "accelerator": "nvidiaTeslaT4",
   "dataSources": [
    {
     "datasetId": 5310739,
     "sourceId": 8826922,
     "sourceType": "datasetVersion"
    }
   ],
   "dockerImageVersionId": 30732,
   "isGpuEnabled": true,
   "isInternetEnabled": true,
   "language": "python",
   "sourceType": "notebook"
  },
  "kernelspec": {
   "display_name": "Python 3",
   "language": "python",
   "name": "python3"
  },
  "language_info": {
   "codemirror_mode": {
    "name": "ipython",
    "version": 3
   },
   "file_extension": ".py",
   "mimetype": "text/x-python",
   "name": "python",
   "nbconvert_exporter": "python",
   "pygments_lexer": "ipython3",
   "version": "3.10.13"
  },
  "papermill": {
   "default_parameters": {},
   "duration": 215.034174,
   "end_time": "2024-07-08T04:07:21.041587",
   "environment_variables": {},
   "exception": null,
   "input_path": "__notebook__.ipynb",
   "output_path": "__notebook__.ipynb",
   "parameters": {},
   "start_time": "2024-07-08T04:03:46.007413",
   "version": "2.4.0"
  }
 },
 "nbformat": 4,
 "nbformat_minor": 5
}
