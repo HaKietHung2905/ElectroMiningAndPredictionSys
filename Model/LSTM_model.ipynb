{
  "cells": [
    {
      "cell_type": "code",
      "execution_count": 1,
      "metadata": {
        "id": "aloIcj_0KzZl"
      },
      "outputs": [],
      "source": [
        "# Import packages and modules\n",
        "import pandas as pd\n",
        "import numpy as np\n",
        "from sklearn.ensemble import RandomForestRegressor\n",
        "from sklearn.model_selection import train_test_split\n",
        "from sklearn.metrics import mean_absolute_error, mean_squared_error, r2_score\n",
        "import matplotlib.pyplot as plt\n",
        "import seaborn as sns"
      ]
    },
    {
      "cell_type": "code",
      "execution_count": 2,
      "metadata": {
        "id": "9gHROikIKzZm"
      },
      "outputs": [],
      "source": [
        "df  = pd.read_csv(\"../Data/dataset_dk3619_preprocessed_v2_dropnan.csv\")"
      ]
    },
    {
      "cell_type": "code",
      "execution_count": 3,
      "metadata": {
        "colab": {
          "base_uri": "https://localhost:8080/",
          "height": 429
        },
        "id": "TEzRrgirR21X",
        "outputId": "8d0fccb8-38b3-4319-d602-a4741fcea1d5"
      },
      "outputs": [
        {
          "data": {
            "text/plain": [
              "0    144.276350\n",
              "1    231.498108\n",
              "2     48.562569\n",
              "3    169.283123\n",
              "4    131.341630\n",
              "Name: Consumption_MWh, dtype: float64"
            ]
          },
          "execution_count": 3,
          "metadata": {},
          "output_type": "execute_result"
        }
      ],
      "source": [
        "df['Consumption_MWh'].head()"
      ]
    },
    {
      "cell_type": "code",
      "execution_count": 10,
      "metadata": {},
      "outputs": [],
      "source": [
        " # Boolean indexing\n",
        "data = df[\n",
        "            (df['year'] == 2024) & \n",
        "            (df['month'] == 5) &  \n",
        "            (df['day_of_month'] == 30) & \n",
        "            (df['DK3619Code'] == 'C_CC')\n",
        "]\n"
      ]
    },
    {
      "cell_type": "code",
      "execution_count": 8,
      "metadata": {},
      "outputs": [],
      "source": [
        "data.to_csv(\"../Data/test.csv\", index=False)"
      ]
    },
    {
      "cell_type": "code",
      "execution_count": 4,
      "metadata": {
        "colab": {
          "base_uri": "https://localhost:8080/"
        },
        "id": "U4-swQrHQIwV",
        "outputId": "67583145-dccf-47ed-fb36-663d054feb86"
      },
      "outputs": [
        {
          "name": "stdout",
          "output_type": "stream",
          "text": [
            "0                 A_A\n",
            "1                C_CA\n",
            "2                C_CC\n",
            "3          C_CE_CF_CD\n",
            "4                C_CG\n",
            "              ...    \n",
            "3322206          Q_QB\n",
            "3322207           R_R\n",
            "3322208           S_S\n",
            "3322209    C_CE_CF_CD\n",
            "3322210          M_MA\n",
            "Name: DK3619Code, Length: 3322211, dtype: object\n",
            "{'A_A': 0, 'C_CA': 1, 'C_CC': 2, 'C_CE_CF_CD': 3, 'C_CG': 4, 'C_CH': 5, 'C_CI': 6, 'C_CJ': 7, 'C_CK': 8, 'C_CL': 9, 'C_CM_CB': 10, 'D_D': 11, 'E_E': 12, 'F_F': 13, 'G_G': 14, 'H_H': 15, 'I_I': 16, 'J_JA': 17, 'J_JB_JC': 18, 'K_K': 19, 'L_L': 20, 'M_MA': 21, 'M_MB': 22, 'M_MC': 23, 'N_N': 24, 'O_O': 25, 'PR_PR': 26, 'P_P': 27, 'Q_QA': 28, 'Q_QB': 29, 'R_R': 30, 'S_S': 31}\n"
          ]
        }
      ],
      "source": [
        "print(df['DK3619Code'])\n",
        "dkcode_list = list(set(df['DK3619Code'].to_list()))\n",
        "dkcode_list.sort()\n",
        "id2dkcode = enumerate(dkcode_list)\n",
        "id2dkcode = dict(id2dkcode)\n",
        "\n",
        "dkcode2id = {}\n",
        "for i in id2dkcode.items():\n",
        "    dkcode2id[i[1]] = i[0]\n",
        "\n",
        "\n",
        "print(dict(dkcode2id))\n",
        "\n",
        "### Mapping data to numberic\n",
        "# df['DK3619Code'] = df['DK3619Code'].map(dkcode2id)"
      ]
    },
    {
      "cell_type": "code",
      "execution_count": 22,
      "metadata": {},
      "outputs": [],
      "source": [
        "# Export the dkcode_list to a CSV file\n",
        "dkcode_df = pd.DataFrame(dkcode_list, columns=['DK3619Code'])\n",
        "dkcode_df.to_csv('dkcode_list.csv', index=False)"
      ]
    },
    {
      "cell_type": "markdown",
      "metadata": {
        "id": "cM5V7GE-KzZm"
      },
      "source": [
        "### Choose Feauture will use for Model"
      ]
    },
    {
      "cell_type": "code",
      "execution_count": 5,
      "metadata": {
        "id": "Jxs0IoICKzZn"
      },
      "outputs": [],
      "source": [
        "columns = ['HourUTC', 'HourDK', 'hour', 'day_of_week',\n",
        "              'weekday_name', 'quarter', 'month', 'year', 'day_of_year',\n",
        "              'day_of_month', 'week_of_year', 'season', 'holiday', 'Consumption_MWh']\n"
      ]
    },
    {
      "cell_type": "code",
      "execution_count": 6,
      "metadata": {
        "colab": {
          "base_uri": "https://localhost:8080/"
        },
        "id": "cRZ555mIKzZn",
        "outputId": "06e365c1-6768-472d-df22-326f0d763716"
      },
      "outputs": [
        {
          "data": {
            "text/plain": [
              "Index(['HourUTC', 'HourDK', 'DK3619Code', 'hour', 'day_of_week',\n",
              "       'weekday_name', 'quarter', 'month', 'year', 'day_of_year',\n",
              "       'day_of_month', 'week_of_year', 'season', 'holiday', 'DK36Code',\n",
              "       'DK36Title', 'DK19Code', 'DK19Title', 'Consumption_MWh', 'lag_24',\n",
              "       'lag_25', 'lag_26', 'lag_27', 'lag_28', 'lag_29', 'lag_30', 'lag_31',\n",
              "       'lag_32', 'lag_33', 'lag_34', 'lag_35', 'lag_36', 'lag_37', 'lag_38',\n",
              "       'lag_39', 'lag_40', 'lag_41', 'lag_42', 'lag_43', 'lag_44', 'lag_45',\n",
              "       'lag_46', 'lag_47', 'lag_48'],\n",
              "      dtype='object')"
            ]
          },
          "execution_count": 6,
          "metadata": {},
          "output_type": "execute_result"
        }
      ],
      "source": [
        "df.columns"
      ]
    },
    {
      "cell_type": "code",
      "execution_count": 8,
      "metadata": {
        "id": "okUyekmXLwn1"
      },
      "outputs": [],
      "source": [
        "# print(df['weekday_name'])\n",
        "# weekday_list = list(set(df['weekday_name'].to_list()))\n",
        "# weekday_list.sort()\n",
        "# id2day = enumerate(weekday_list)\n",
        "# id2day = dict(id2day)\n",
        "\n",
        "# day2id = {}\n",
        "# for i in id2day.items():\n",
        "#     day2id[i[1]] = i[0]\n",
        "# print(dict(day2id))\n",
        "\n",
        "### Mapping data to numberic\n",
        "# df['weekday_name'] = df['weekday_name'].map(day2id)"
      ]
    },
    {
      "cell_type": "code",
      "execution_count": 7,
      "metadata": {
        "id": "o9TgP3b7gKa6"
      },
      "outputs": [],
      "source": [
        "weekday_mapping = {\n",
        "    'Monday': 0,\n",
        "    'Tuesday': 1,\n",
        "    'Wednesday': 2,\n",
        "    'Thursday': 3,\n",
        "    'Friday': 4,\n",
        "    'Saturday': 5,\n",
        "    'Sunday': 6\n",
        "}\n",
        "### Mapping data to numberic\n",
        "df['weekday_name'] = df['weekday_name'].map(weekday_mapping)"
      ]
    },
    {
      "cell_type": "code",
      "execution_count": 9,
      "metadata": {
        "id": "BWm2XBZSOAuh"
      },
      "outputs": [],
      "source": []
    },
    {
      "cell_type": "code",
      "execution_count": 10,
      "metadata": {
        "id": "C-vvay5POZCq"
      },
      "outputs": [],
      "source": [
        "# print(df['season'])\n",
        "# season_list = list(set(df['season'].to_list()))\n",
        "# season_list.sort()\n",
        "# id2season = enumerate(season_list)\n",
        "# id2season = dict(id2season)\n",
        "\n",
        "# season2id = {}\n",
        "# for i in id2season.items():\n",
        "#     season2id[i[1]] = i[0]\n",
        "# print(dict(season2id))\n",
        "\n",
        "### Season mapping\n",
        "# df['season'] = df['season'].map(season2id)\n"
      ]
    },
    {
      "cell_type": "code",
      "execution_count": 8,
      "metadata": {
        "id": "qJUgNLfaKzZo"
      },
      "outputs": [],
      "source": [
        "\n",
        "### Season mapping\n",
        "\n",
        "seasons_mapping = {\n",
        "    'Spring': 0,\n",
        "    'Summer': 1,\n",
        "    'Autumn': 2,\n",
        "    'Winter': 3\n",
        "}\n",
        "\n",
        "df['season'] = df['season'].map(seasons_mapping)"
      ]
    },
    {
      "cell_type": "code",
      "execution_count": 9,
      "metadata": {
        "colab": {
          "base_uri": "https://localhost:8080/",
          "height": 206
        },
        "id": "N6srmMDKzRE8",
        "outputId": "589b5937-54ff-48e6-d7a0-14908c2f7175"
      },
      "outputs": [
        {
          "data": {
            "text/html": [
              "<div>\n",
              "<style scoped>\n",
              "    .dataframe tbody tr th:only-of-type {\n",
              "        vertical-align: middle;\n",
              "    }\n",
              "\n",
              "    .dataframe tbody tr th {\n",
              "        vertical-align: top;\n",
              "    }\n",
              "\n",
              "    .dataframe thead th {\n",
              "        text-align: right;\n",
              "    }\n",
              "</style>\n",
              "<table border=\"1\" class=\"dataframe\">\n",
              "  <thead>\n",
              "    <tr style=\"text-align: right;\">\n",
              "      <th></th>\n",
              "      <th>HourUTC</th>\n",
              "      <th>HourDK</th>\n",
              "      <th>hour</th>\n",
              "      <th>day_of_week</th>\n",
              "      <th>weekday_name</th>\n",
              "      <th>quarter</th>\n",
              "      <th>month</th>\n",
              "      <th>year</th>\n",
              "      <th>day_of_year</th>\n",
              "      <th>day_of_month</th>\n",
              "      <th>week_of_year</th>\n",
              "      <th>season</th>\n",
              "      <th>holiday</th>\n",
              "      <th>Consumption_MWh</th>\n",
              "    </tr>\n",
              "  </thead>\n",
              "  <tbody>\n",
              "    <tr>\n",
              "      <th>0</th>\n",
              "      <td>2012-06-01T23:00:00</td>\n",
              "      <td>2012-06-02 01:00:00</td>\n",
              "      <td>1</td>\n",
              "      <td>5</td>\n",
              "      <td>5</td>\n",
              "      <td>2</td>\n",
              "      <td>6</td>\n",
              "      <td>2012</td>\n",
              "      <td>154</td>\n",
              "      <td>2</td>\n",
              "      <td>22</td>\n",
              "      <td>1</td>\n",
              "      <td>0</td>\n",
              "      <td>0.068992</td>\n",
              "    </tr>\n",
              "    <tr>\n",
              "      <th>1</th>\n",
              "      <td>2012-06-01T23:00:00</td>\n",
              "      <td>2012-06-02 01:00:00</td>\n",
              "      <td>1</td>\n",
              "      <td>5</td>\n",
              "      <td>5</td>\n",
              "      <td>2</td>\n",
              "      <td>6</td>\n",
              "      <td>2012</td>\n",
              "      <td>154</td>\n",
              "      <td>2</td>\n",
              "      <td>22</td>\n",
              "      <td>1</td>\n",
              "      <td>0</td>\n",
              "      <td>8.836999</td>\n",
              "    </tr>\n",
              "    <tr>\n",
              "      <th>2</th>\n",
              "      <td>2012-06-02T00:00:00</td>\n",
              "      <td>2012-06-02 02:00:00</td>\n",
              "      <td>2</td>\n",
              "      <td>5</td>\n",
              "      <td>5</td>\n",
              "      <td>2</td>\n",
              "      <td>6</td>\n",
              "      <td>2012</td>\n",
              "      <td>154</td>\n",
              "      <td>2</td>\n",
              "      <td>22</td>\n",
              "      <td>1</td>\n",
              "      <td>0</td>\n",
              "      <td>74.687279</td>\n",
              "    </tr>\n",
              "    <tr>\n",
              "      <th>3</th>\n",
              "      <td>2012-06-02T00:00:00</td>\n",
              "      <td>2012-06-02 02:00:00</td>\n",
              "      <td>2</td>\n",
              "      <td>5</td>\n",
              "      <td>5</td>\n",
              "      <td>2</td>\n",
              "      <td>6</td>\n",
              "      <td>2012</td>\n",
              "      <td>154</td>\n",
              "      <td>2</td>\n",
              "      <td>22</td>\n",
              "      <td>1</td>\n",
              "      <td>0</td>\n",
              "      <td>0.565844</td>\n",
              "    </tr>\n",
              "    <tr>\n",
              "      <th>4</th>\n",
              "      <td>2012-06-02T00:00:00</td>\n",
              "      <td>2012-06-02 02:00:00</td>\n",
              "      <td>2</td>\n",
              "      <td>5</td>\n",
              "      <td>5</td>\n",
              "      <td>2</td>\n",
              "      <td>6</td>\n",
              "      <td>2012</td>\n",
              "      <td>154</td>\n",
              "      <td>2</td>\n",
              "      <td>22</td>\n",
              "      <td>1</td>\n",
              "      <td>0</td>\n",
              "      <td>22.456516</td>\n",
              "    </tr>\n",
              "  </tbody>\n",
              "</table>\n",
              "</div>"
            ],
            "text/plain": [
              "               HourUTC               HourDK  hour  day_of_week  weekday_name  \\\n",
              "0  2012-06-01T23:00:00  2012-06-02 01:00:00     1            5             5   \n",
              "1  2012-06-01T23:00:00  2012-06-02 01:00:00     1            5             5   \n",
              "2  2012-06-02T00:00:00  2012-06-02 02:00:00     2            5             5   \n",
              "3  2012-06-02T00:00:00  2012-06-02 02:00:00     2            5             5   \n",
              "4  2012-06-02T00:00:00  2012-06-02 02:00:00     2            5             5   \n",
              "\n",
              "   quarter  month  year  day_of_year  day_of_month  week_of_year  season  \\\n",
              "0        2      6  2012          154             2            22       1   \n",
              "1        2      6  2012          154             2            22       1   \n",
              "2        2      6  2012          154             2            22       1   \n",
              "3        2      6  2012          154             2            22       1   \n",
              "4        2      6  2012          154             2            22       1   \n",
              "\n",
              "   holiday  Consumption_MWh  \n",
              "0        0         0.068992  \n",
              "1        0         8.836999  \n",
              "2        0        74.687279  \n",
              "3        0         0.565844  \n",
              "4        0        22.456516  "
            ]
          },
          "execution_count": 9,
          "metadata": {},
          "output_type": "execute_result"
        }
      ],
      "source": [
        "df_corr = df[columns]\n",
        "df_corr.head()"
      ]
    },
    {
      "cell_type": "code",
      "execution_count": 13,
      "metadata": {
        "colab": {
          "base_uri": "https://localhost:8080/",
          "height": 429
        },
        "id": "XI00LfRLUcPR",
        "outputId": "6807da05-c965-4632-fd04-bf047c56f111"
      },
      "outputs": [
        {
          "data": {
            "application/vnd.google.colaboratory.intrinsic+json": {
              "type": "dataframe",
              "variable_name": "df"
            },
            "text/html": [
              "\n",
              "  <div id=\"df-9b23767b-683e-4a94-ad63-3a41a2aa22a9\" class=\"colab-df-container\">\n",
              "    <div>\n",
              "<style scoped>\n",
              "    .dataframe tbody tr th:only-of-type {\n",
              "        vertical-align: middle;\n",
              "    }\n",
              "\n",
              "    .dataframe tbody tr th {\n",
              "        vertical-align: top;\n",
              "    }\n",
              "\n",
              "    .dataframe thead th {\n",
              "        text-align: right;\n",
              "    }\n",
              "</style>\n",
              "<table border=\"1\" class=\"dataframe\">\n",
              "  <thead>\n",
              "    <tr style=\"text-align: right;\">\n",
              "      <th></th>\n",
              "      <th>HourUTC</th>\n",
              "      <th>HourDK</th>\n",
              "      <th>DK3619Code</th>\n",
              "      <th>hour</th>\n",
              "      <th>day_of_week</th>\n",
              "      <th>weekday_name</th>\n",
              "      <th>quarter</th>\n",
              "      <th>month</th>\n",
              "      <th>year</th>\n",
              "      <th>day_of_year</th>\n",
              "      <th>...</th>\n",
              "      <th>lag_39</th>\n",
              "      <th>lag_40</th>\n",
              "      <th>lag_41</th>\n",
              "      <th>lag_42</th>\n",
              "      <th>lag_43</th>\n",
              "      <th>lag_44</th>\n",
              "      <th>lag_45</th>\n",
              "      <th>lag_46</th>\n",
              "      <th>lag_47</th>\n",
              "      <th>lag_48</th>\n",
              "    </tr>\n",
              "  </thead>\n",
              "  <tbody>\n",
              "    <tr>\n",
              "      <th>0</th>\n",
              "      <td>2020-01-01T00:00:00</td>\n",
              "      <td>2020-01-01 01:00:00</td>\n",
              "      <td>R_R</td>\n",
              "      <td>1</td>\n",
              "      <td>2</td>\n",
              "      <td>2</td>\n",
              "      <td>1</td>\n",
              "      <td>1</td>\n",
              "      <td>2020</td>\n",
              "      <td>1</td>\n",
              "      <td>...</td>\n",
              "      <td>39.452003</td>\n",
              "      <td>37.029076</td>\n",
              "      <td>34.272778</td>\n",
              "      <td>30.867796</td>\n",
              "      <td>27.691839</td>\n",
              "      <td>24.262220</td>\n",
              "      <td>21.446964</td>\n",
              "      <td>20.692560</td>\n",
              "      <td>20.760229</td>\n",
              "      <td>21.076712</td>\n",
              "    </tr>\n",
              "    <tr>\n",
              "      <th>1</th>\n",
              "      <td>2020-01-01T00:00:00</td>\n",
              "      <td>2020-01-01 01:00:00</td>\n",
              "      <td>Q_QB</td>\n",
              "      <td>1</td>\n",
              "      <td>2</td>\n",
              "      <td>2</td>\n",
              "      <td>1</td>\n",
              "      <td>1</td>\n",
              "      <td>2020</td>\n",
              "      <td>1</td>\n",
              "      <td>...</td>\n",
              "      <td>13.973817</td>\n",
              "      <td>13.383460</td>\n",
              "      <td>12.440164</td>\n",
              "      <td>11.175482</td>\n",
              "      <td>9.128553</td>\n",
              "      <td>7.690116</td>\n",
              "      <td>7.325366</td>\n",
              "      <td>7.297887</td>\n",
              "      <td>7.436323</td>\n",
              "      <td>7.600429</td>\n",
              "    </tr>\n",
              "    <tr>\n",
              "      <th>2</th>\n",
              "      <td>2020-01-01T00:00:00</td>\n",
              "      <td>2020-01-01 01:00:00</td>\n",
              "      <td>Q_QA</td>\n",
              "      <td>1</td>\n",
              "      <td>2</td>\n",
              "      <td>2</td>\n",
              "      <td>1</td>\n",
              "      <td>1</td>\n",
              "      <td>2020</td>\n",
              "      <td>1</td>\n",
              "      <td>...</td>\n",
              "      <td>9.143302</td>\n",
              "      <td>8.965540</td>\n",
              "      <td>8.633377</td>\n",
              "      <td>6.069151</td>\n",
              "      <td>3.955089</td>\n",
              "      <td>3.400593</td>\n",
              "      <td>3.144497</td>\n",
              "      <td>3.085907</td>\n",
              "      <td>3.090541</td>\n",
              "      <td>3.118976</td>\n",
              "    </tr>\n",
              "    <tr>\n",
              "      <th>3</th>\n",
              "      <td>2020-01-01T00:00:00</td>\n",
              "      <td>2020-01-01 01:00:00</td>\n",
              "      <td>PR_PR</td>\n",
              "      <td>1</td>\n",
              "      <td>2</td>\n",
              "      <td>2</td>\n",
              "      <td>1</td>\n",
              "      <td>1</td>\n",
              "      <td>2020</td>\n",
              "      <td>1</td>\n",
              "      <td>...</td>\n",
              "      <td>1208.678223</td>\n",
              "      <td>1180.071045</td>\n",
              "      <td>1051.362549</td>\n",
              "      <td>880.705933</td>\n",
              "      <td>789.150513</td>\n",
              "      <td>721.568359</td>\n",
              "      <td>703.513916</td>\n",
              "      <td>712.612061</td>\n",
              "      <td>736.379395</td>\n",
              "      <td>784.044617</td>\n",
              "    </tr>\n",
              "    <tr>\n",
              "      <th>4</th>\n",
              "      <td>2020-01-01T00:00:00</td>\n",
              "      <td>2020-01-01 01:00:00</td>\n",
              "      <td>P_P</td>\n",
              "      <td>1</td>\n",
              "      <td>2</td>\n",
              "      <td>2</td>\n",
              "      <td>1</td>\n",
              "      <td>1</td>\n",
              "      <td>2020</td>\n",
              "      <td>1</td>\n",
              "      <td>...</td>\n",
              "      <td>53.242626</td>\n",
              "      <td>53.199566</td>\n",
              "      <td>53.141167</td>\n",
              "      <td>50.922737</td>\n",
              "      <td>46.150143</td>\n",
              "      <td>42.539543</td>\n",
              "      <td>41.061405</td>\n",
              "      <td>40.467297</td>\n",
              "      <td>40.414558</td>\n",
              "      <td>40.375416</td>\n",
              "    </tr>\n",
              "  </tbody>\n",
              "</table>\n",
              "<p>5 rows × 44 columns</p>\n",
              "</div>\n",
              "    <div class=\"colab-df-buttons\">\n",
              "\n",
              "  <div class=\"colab-df-container\">\n",
              "    <button class=\"colab-df-convert\" onclick=\"convertToInteractive('df-9b23767b-683e-4a94-ad63-3a41a2aa22a9')\"\n",
              "            title=\"Convert this dataframe to an interactive table.\"\n",
              "            style=\"display:none;\">\n",
              "\n",
              "  <svg xmlns=\"http://www.w3.org/2000/svg\" height=\"24px\" viewBox=\"0 -960 960 960\">\n",
              "    <path d=\"M120-120v-720h720v720H120Zm60-500h600v-160H180v160Zm220 220h160v-160H400v160Zm0 220h160v-160H400v160ZM180-400h160v-160H180v160Zm440 0h160v-160H620v160ZM180-180h160v-160H180v160Zm440 0h160v-160H620v160Z\"/>\n",
              "  </svg>\n",
              "    </button>\n",
              "\n",
              "  <style>\n",
              "    .colab-df-container {\n",
              "      display:flex;\n",
              "      gap: 12px;\n",
              "    }\n",
              "\n",
              "    .colab-df-convert {\n",
              "      background-color: #E8F0FE;\n",
              "      border: none;\n",
              "      border-radius: 50%;\n",
              "      cursor: pointer;\n",
              "      display: none;\n",
              "      fill: #1967D2;\n",
              "      height: 32px;\n",
              "      padding: 0 0 0 0;\n",
              "      width: 32px;\n",
              "    }\n",
              "\n",
              "    .colab-df-convert:hover {\n",
              "      background-color: #E2EBFA;\n",
              "      box-shadow: 0px 1px 2px rgba(60, 64, 67, 0.3), 0px 1px 3px 1px rgba(60, 64, 67, 0.15);\n",
              "      fill: #174EA6;\n",
              "    }\n",
              "\n",
              "    .colab-df-buttons div {\n",
              "      margin-bottom: 4px;\n",
              "    }\n",
              "\n",
              "    [theme=dark] .colab-df-convert {\n",
              "      background-color: #3B4455;\n",
              "      fill: #D2E3FC;\n",
              "    }\n",
              "\n",
              "    [theme=dark] .colab-df-convert:hover {\n",
              "      background-color: #434B5C;\n",
              "      box-shadow: 0px 1px 3px 1px rgba(0, 0, 0, 0.15);\n",
              "      filter: drop-shadow(0px 1px 2px rgba(0, 0, 0, 0.3));\n",
              "      fill: #FFFFFF;\n",
              "    }\n",
              "  </style>\n",
              "\n",
              "    <script>\n",
              "      const buttonEl =\n",
              "        document.querySelector('#df-9b23767b-683e-4a94-ad63-3a41a2aa22a9 button.colab-df-convert');\n",
              "      buttonEl.style.display =\n",
              "        google.colab.kernel.accessAllowed ? 'block' : 'none';\n",
              "\n",
              "      async function convertToInteractive(key) {\n",
              "        const element = document.querySelector('#df-9b23767b-683e-4a94-ad63-3a41a2aa22a9');\n",
              "        const dataTable =\n",
              "          await google.colab.kernel.invokeFunction('convertToInteractive',\n",
              "                                                    [key], {});\n",
              "        if (!dataTable) return;\n",
              "\n",
              "        const docLinkHtml = 'Like what you see? Visit the ' +\n",
              "          '<a target=\"_blank\" href=https://colab.research.google.com/notebooks/data_table.ipynb>data table notebook</a>'\n",
              "          + ' to learn more about interactive tables.';\n",
              "        element.innerHTML = '';\n",
              "        dataTable['output_type'] = 'display_data';\n",
              "        await google.colab.output.renderOutput(dataTable, element);\n",
              "        const docLink = document.createElement('div');\n",
              "        docLink.innerHTML = docLinkHtml;\n",
              "        element.appendChild(docLink);\n",
              "      }\n",
              "    </script>\n",
              "  </div>\n",
              "\n",
              "\n",
              "<div id=\"df-9607b31b-0aa2-4f59-bc7a-78ef76a7a481\">\n",
              "  <button class=\"colab-df-quickchart\" onclick=\"quickchart('df-9607b31b-0aa2-4f59-bc7a-78ef76a7a481')\"\n",
              "            title=\"Suggest charts\"\n",
              "            style=\"display:none;\">\n",
              "\n",
              "<svg xmlns=\"http://www.w3.org/2000/svg\" height=\"24px\"viewBox=\"0 0 24 24\"\n",
              "     width=\"24px\">\n",
              "    <g>\n",
              "        <path d=\"M19 3H5c-1.1 0-2 .9-2 2v14c0 1.1.9 2 2 2h14c1.1 0 2-.9 2-2V5c0-1.1-.9-2-2-2zM9 17H7v-7h2v7zm4 0h-2V7h2v10zm4 0h-2v-4h2v4z\"/>\n",
              "    </g>\n",
              "</svg>\n",
              "  </button>\n",
              "\n",
              "<style>\n",
              "  .colab-df-quickchart {\n",
              "      --bg-color: #E8F0FE;\n",
              "      --fill-color: #1967D2;\n",
              "      --hover-bg-color: #E2EBFA;\n",
              "      --hover-fill-color: #174EA6;\n",
              "      --disabled-fill-color: #AAA;\n",
              "      --disabled-bg-color: #DDD;\n",
              "  }\n",
              "\n",
              "  [theme=dark] .colab-df-quickchart {\n",
              "      --bg-color: #3B4455;\n",
              "      --fill-color: #D2E3FC;\n",
              "      --hover-bg-color: #434B5C;\n",
              "      --hover-fill-color: #FFFFFF;\n",
              "      --disabled-bg-color: #3B4455;\n",
              "      --disabled-fill-color: #666;\n",
              "  }\n",
              "\n",
              "  .colab-df-quickchart {\n",
              "    background-color: var(--bg-color);\n",
              "    border: none;\n",
              "    border-radius: 50%;\n",
              "    cursor: pointer;\n",
              "    display: none;\n",
              "    fill: var(--fill-color);\n",
              "    height: 32px;\n",
              "    padding: 0;\n",
              "    width: 32px;\n",
              "  }\n",
              "\n",
              "  .colab-df-quickchart:hover {\n",
              "    background-color: var(--hover-bg-color);\n",
              "    box-shadow: 0 1px 2px rgba(60, 64, 67, 0.3), 0 1px 3px 1px rgba(60, 64, 67, 0.15);\n",
              "    fill: var(--button-hover-fill-color);\n",
              "  }\n",
              "\n",
              "  .colab-df-quickchart-complete:disabled,\n",
              "  .colab-df-quickchart-complete:disabled:hover {\n",
              "    background-color: var(--disabled-bg-color);\n",
              "    fill: var(--disabled-fill-color);\n",
              "    box-shadow: none;\n",
              "  }\n",
              "\n",
              "  .colab-df-spinner {\n",
              "    border: 2px solid var(--fill-color);\n",
              "    border-color: transparent;\n",
              "    border-bottom-color: var(--fill-color);\n",
              "    animation:\n",
              "      spin 1s steps(1) infinite;\n",
              "  }\n",
              "\n",
              "  @keyframes spin {\n",
              "    0% {\n",
              "      border-color: transparent;\n",
              "      border-bottom-color: var(--fill-color);\n",
              "      border-left-color: var(--fill-color);\n",
              "    }\n",
              "    20% {\n",
              "      border-color: transparent;\n",
              "      border-left-color: var(--fill-color);\n",
              "      border-top-color: var(--fill-color);\n",
              "    }\n",
              "    30% {\n",
              "      border-color: transparent;\n",
              "      border-left-color: var(--fill-color);\n",
              "      border-top-color: var(--fill-color);\n",
              "      border-right-color: var(--fill-color);\n",
              "    }\n",
              "    40% {\n",
              "      border-color: transparent;\n",
              "      border-right-color: var(--fill-color);\n",
              "      border-top-color: var(--fill-color);\n",
              "    }\n",
              "    60% {\n",
              "      border-color: transparent;\n",
              "      border-right-color: var(--fill-color);\n",
              "    }\n",
              "    80% {\n",
              "      border-color: transparent;\n",
              "      border-right-color: var(--fill-color);\n",
              "      border-bottom-color: var(--fill-color);\n",
              "    }\n",
              "    90% {\n",
              "      border-color: transparent;\n",
              "      border-bottom-color: var(--fill-color);\n",
              "    }\n",
              "  }\n",
              "</style>\n",
              "\n",
              "  <script>\n",
              "    async function quickchart(key) {\n",
              "      const quickchartButtonEl =\n",
              "        document.querySelector('#' + key + ' button');\n",
              "      quickchartButtonEl.disabled = true;  // To prevent multiple clicks.\n",
              "      quickchartButtonEl.classList.add('colab-df-spinner');\n",
              "      try {\n",
              "        const charts = await google.colab.kernel.invokeFunction(\n",
              "            'suggestCharts', [key], {});\n",
              "      } catch (error) {\n",
              "        console.error('Error during call to suggestCharts:', error);\n",
              "      }\n",
              "      quickchartButtonEl.classList.remove('colab-df-spinner');\n",
              "      quickchartButtonEl.classList.add('colab-df-quickchart-complete');\n",
              "    }\n",
              "    (() => {\n",
              "      let quickchartButtonEl =\n",
              "        document.querySelector('#df-9607b31b-0aa2-4f59-bc7a-78ef76a7a481 button');\n",
              "      quickchartButtonEl.style.display =\n",
              "        google.colab.kernel.accessAllowed ? 'block' : 'none';\n",
              "    })();\n",
              "  </script>\n",
              "</div>\n",
              "\n",
              "    </div>\n",
              "  </div>\n"
            ],
            "text/plain": [
              "               HourUTC               HourDK DK3619Code  hour  day_of_week  \\\n",
              "0  2020-01-01T00:00:00  2020-01-01 01:00:00        R_R     1            2   \n",
              "1  2020-01-01T00:00:00  2020-01-01 01:00:00       Q_QB     1            2   \n",
              "2  2020-01-01T00:00:00  2020-01-01 01:00:00       Q_QA     1            2   \n",
              "3  2020-01-01T00:00:00  2020-01-01 01:00:00      PR_PR     1            2   \n",
              "4  2020-01-01T00:00:00  2020-01-01 01:00:00        P_P     1            2   \n",
              "\n",
              "   weekday_name  quarter  month  year  day_of_year  ...       lag_39  \\\n",
              "0             2        1      1  2020            1  ...    39.452003   \n",
              "1             2        1      1  2020            1  ...    13.973817   \n",
              "2             2        1      1  2020            1  ...     9.143302   \n",
              "3             2        1      1  2020            1  ...  1208.678223   \n",
              "4             2        1      1  2020            1  ...    53.242626   \n",
              "\n",
              "        lag_40       lag_41      lag_42      lag_43      lag_44      lag_45  \\\n",
              "0    37.029076    34.272778   30.867796   27.691839   24.262220   21.446964   \n",
              "1    13.383460    12.440164   11.175482    9.128553    7.690116    7.325366   \n",
              "2     8.965540     8.633377    6.069151    3.955089    3.400593    3.144497   \n",
              "3  1180.071045  1051.362549  880.705933  789.150513  721.568359  703.513916   \n",
              "4    53.199566    53.141167   50.922737   46.150143   42.539543   41.061405   \n",
              "\n",
              "       lag_46      lag_47      lag_48  \n",
              "0   20.692560   20.760229   21.076712  \n",
              "1    7.297887    7.436323    7.600429  \n",
              "2    3.085907    3.090541    3.118976  \n",
              "3  712.612061  736.379395  784.044617  \n",
              "4   40.467297   40.414558   40.375416  \n",
              "\n",
              "[5 rows x 44 columns]"
            ]
          },
          "execution_count": 13,
          "metadata": {},
          "output_type": "execute_result"
        }
      ],
      "source": [
        "df.head()"
      ]
    },
    {
      "cell_type": "markdown",
      "metadata": {
        "id": "kdTOtQYEKzZp"
      },
      "source": [
        "### Split data"
      ]
    },
    {
      "cell_type": "code",
      "execution_count": 10,
      "metadata": {
        "id": "uOy_vLB9KzZp"
      },
      "outputs": [],
      "source": [
        "import pandas as pd\n",
        "import numpy as np\n",
        "import seaborn as sns\n",
        "import matplotlib.pyplot as plt\n",
        "from pandas.plotting import lag_plot\n",
        "from pandas.plotting import autocorrelation_plot\n",
        "from sklearn.preprocessing import MinMaxScaler\n",
        "from sklearn.model_selection import train_test_split\n",
        "import tensorflow as tf\n",
        "from tensorflow.keras.models import Sequential\n",
        "from tensorflow.keras.layers import LSTM,GRU, Dense, Bidirectional\n",
        "from tensorflow.keras.layers import SimpleRNN, Dense\n",
        "from tensorflow.keras.layers import TimeDistributed, Flatten, Dropout\n",
        "from tensorflow.keras.callbacks import EarlyStopping, ReduceLROnPlateau\n",
        "from sklearn.metrics import r2_score, mean_absolute_error, mean_squared_error\n",
        "from sklearn.model_selection import TimeSeriesSplit\n",
        "\n",
        "import os.path\n"
      ]
    },
    {
      "cell_type": "code",
      "execution_count": 11,
      "metadata": {
        "colab": {
          "base_uri": "https://localhost:8080/"
        },
        "id": "YzdMvEnkD6us",
        "outputId": "6e0483e9-3e27-4c7f-d5b3-7e5c6c18b259"
      },
      "outputs": [
        {
          "name": "stdout",
          "output_type": "stream",
          "text": [
            "2.13.0\n",
            "2.13.1\n"
          ]
        }
      ],
      "source": [
        "print(tf.__version__)\n",
        "import keras\n",
        "print(keras.__version__)"
      ]
    },
    {
      "cell_type": "code",
      "execution_count": 12,
      "metadata": {
        "id": "GPLXrBNpKzZq"
      },
      "outputs": [],
      "source": [
        "# Create sequences\n",
        "def create_sequences(df, seq_length):\n",
        "    sequences = []\n",
        "    labels = []\n",
        "    for i in range(len(df) - seq_length):\n",
        "        seq = df.iloc[i:i+seq_length].values\n",
        "        label = df['Consumption_MWh'].iloc[i+seq_length]\n",
        "        sequences.append(seq)\n",
        "        labels.append(label)\n",
        "    return np.array(sequences), np.array(labels)"
      ]
    },
    {
      "cell_type": "code",
      "execution_count": 14,
      "metadata": {},
      "outputs": [
        {
          "name": "stderr",
          "output_type": "stream",
          "text": [
            "/var/folders/82/s1cgdl3s5hn10rsmff2gt35r0000gn/T/ipykernel_4593/758837340.py:4: SettingWithCopyWarning: \n",
            "A value is trying to be set on a copy of a slice from a DataFrame.\n",
            "Try using .loc[row_indexer,col_indexer] = value instead\n",
            "\n",
            "See the caveats in the documentation: https://pandas.pydata.org/pandas-docs/stable/user_guide/indexing.html#returning-a-view-versus-a-copy\n",
            "  df_corr['HourUTC'] = pd.to_datetime(df_corr['HourUTC'])\n",
            "/var/folders/82/s1cgdl3s5hn10rsmff2gt35r0000gn/T/ipykernel_4593/758837340.py:5: SettingWithCopyWarning: \n",
            "A value is trying to be set on a copy of a slice from a DataFrame.\n",
            "Try using .loc[row_indexer,col_indexer] = value instead\n",
            "\n",
            "See the caveats in the documentation: https://pandas.pydata.org/pandas-docs/stable/user_guide/indexing.html#returning-a-view-versus-a-copy\n",
            "  df_corr['HourDK'] = pd.to_datetime(df_corr['HourDK'])\n"
          ]
        }
      ],
      "source": [
        "df_filter = df[df['DK3619Code'] == 'A_A']\n",
        "df_corr = df_filter[columns]\n",
        "\n",
        "df_corr['HourUTC'] = pd.to_datetime(df_corr['HourUTC'])\n",
        "df_corr['HourDK'] = pd.to_datetime(df_corr['HourDK'])\n",
        "\n",
        "df_corr = df_corr.drop(['HourUTC', 'HourDK'], axis=1)"
      ]
    },
    {
      "cell_type": "code",
      "execution_count": 15,
      "metadata": {},
      "outputs": [
        {
          "data": {
            "text/html": [
              "<div>\n",
              "<style scoped>\n",
              "    .dataframe tbody tr th:only-of-type {\n",
              "        vertical-align: middle;\n",
              "    }\n",
              "\n",
              "    .dataframe tbody tr th {\n",
              "        vertical-align: top;\n",
              "    }\n",
              "\n",
              "    .dataframe thead th {\n",
              "        text-align: right;\n",
              "    }\n",
              "</style>\n",
              "<table border=\"1\" class=\"dataframe\">\n",
              "  <thead>\n",
              "    <tr style=\"text-align: right;\">\n",
              "      <th></th>\n",
              "      <th>hour</th>\n",
              "      <th>day_of_week</th>\n",
              "      <th>weekday_name</th>\n",
              "      <th>quarter</th>\n",
              "      <th>month</th>\n",
              "      <th>year</th>\n",
              "      <th>day_of_year</th>\n",
              "      <th>day_of_month</th>\n",
              "      <th>week_of_year</th>\n",
              "      <th>season</th>\n",
              "      <th>holiday</th>\n",
              "      <th>Consumption_MWh</th>\n",
              "    </tr>\n",
              "  </thead>\n",
              "  <tbody>\n",
              "    <tr>\n",
              "      <th>21</th>\n",
              "      <td>2</td>\n",
              "      <td>5</td>\n",
              "      <td>5</td>\n",
              "      <td>2</td>\n",
              "      <td>6</td>\n",
              "      <td>2012</td>\n",
              "      <td>154</td>\n",
              "      <td>2</td>\n",
              "      <td>22</td>\n",
              "      <td>1</td>\n",
              "      <td>0</td>\n",
              "      <td>14.979990</td>\n",
              "    </tr>\n",
              "    <tr>\n",
              "      <th>60</th>\n",
              "      <td>3</td>\n",
              "      <td>5</td>\n",
              "      <td>5</td>\n",
              "      <td>2</td>\n",
              "      <td>6</td>\n",
              "      <td>2012</td>\n",
              "      <td>154</td>\n",
              "      <td>2</td>\n",
              "      <td>22</td>\n",
              "      <td>1</td>\n",
              "      <td>0</td>\n",
              "      <td>16.318953</td>\n",
              "    </tr>\n",
              "    <tr>\n",
              "      <th>81</th>\n",
              "      <td>4</td>\n",
              "      <td>5</td>\n",
              "      <td>5</td>\n",
              "      <td>2</td>\n",
              "      <td>6</td>\n",
              "      <td>2012</td>\n",
              "      <td>154</td>\n",
              "      <td>2</td>\n",
              "      <td>22</td>\n",
              "      <td>1</td>\n",
              "      <td>0</td>\n",
              "      <td>17.724710</td>\n",
              "    </tr>\n",
              "    <tr>\n",
              "      <th>123</th>\n",
              "      <td>5</td>\n",
              "      <td>5</td>\n",
              "      <td>5</td>\n",
              "      <td>2</td>\n",
              "      <td>6</td>\n",
              "      <td>2012</td>\n",
              "      <td>154</td>\n",
              "      <td>2</td>\n",
              "      <td>22</td>\n",
              "      <td>1</td>\n",
              "      <td>0</td>\n",
              "      <td>18.121771</td>\n",
              "    </tr>\n",
              "    <tr>\n",
              "      <th>153</th>\n",
              "      <td>6</td>\n",
              "      <td>5</td>\n",
              "      <td>5</td>\n",
              "      <td>2</td>\n",
              "      <td>6</td>\n",
              "      <td>2012</td>\n",
              "      <td>154</td>\n",
              "      <td>2</td>\n",
              "      <td>22</td>\n",
              "      <td>1</td>\n",
              "      <td>0</td>\n",
              "      <td>16.771591</td>\n",
              "    </tr>\n",
              "    <tr>\n",
              "      <th>...</th>\n",
              "      <td>...</td>\n",
              "      <td>...</td>\n",
              "      <td>...</td>\n",
              "      <td>...</td>\n",
              "      <td>...</td>\n",
              "      <td>...</td>\n",
              "      <td>...</td>\n",
              "      <td>...</td>\n",
              "      <td>...</td>\n",
              "      <td>...</td>\n",
              "      <td>...</td>\n",
              "      <td>...</td>\n",
              "    </tr>\n",
              "    <tr>\n",
              "      <th>3323616</th>\n",
              "      <td>19</td>\n",
              "      <td>4</td>\n",
              "      <td>4</td>\n",
              "      <td>2</td>\n",
              "      <td>6</td>\n",
              "      <td>2024</td>\n",
              "      <td>173</td>\n",
              "      <td>21</td>\n",
              "      <td>25</td>\n",
              "      <td>1</td>\n",
              "      <td>0</td>\n",
              "      <td>173.246406</td>\n",
              "    </tr>\n",
              "    <tr>\n",
              "      <th>3323642</th>\n",
              "      <td>20</td>\n",
              "      <td>4</td>\n",
              "      <td>4</td>\n",
              "      <td>2</td>\n",
              "      <td>6</td>\n",
              "      <td>2024</td>\n",
              "      <td>173</td>\n",
              "      <td>21</td>\n",
              "      <td>25</td>\n",
              "      <td>1</td>\n",
              "      <td>0</td>\n",
              "      <td>168.106920</td>\n",
              "    </tr>\n",
              "    <tr>\n",
              "      <th>3323679</th>\n",
              "      <td>21</td>\n",
              "      <td>4</td>\n",
              "      <td>4</td>\n",
              "      <td>2</td>\n",
              "      <td>6</td>\n",
              "      <td>2024</td>\n",
              "      <td>173</td>\n",
              "      <td>21</td>\n",
              "      <td>25</td>\n",
              "      <td>1</td>\n",
              "      <td>0</td>\n",
              "      <td>161.731316</td>\n",
              "    </tr>\n",
              "    <tr>\n",
              "      <th>3323714</th>\n",
              "      <td>22</td>\n",
              "      <td>4</td>\n",
              "      <td>4</td>\n",
              "      <td>2</td>\n",
              "      <td>6</td>\n",
              "      <td>2024</td>\n",
              "      <td>173</td>\n",
              "      <td>21</td>\n",
              "      <td>25</td>\n",
              "      <td>1</td>\n",
              "      <td>0</td>\n",
              "      <td>153.871964</td>\n",
              "    </tr>\n",
              "    <tr>\n",
              "      <th>3323746</th>\n",
              "      <td>23</td>\n",
              "      <td>4</td>\n",
              "      <td>4</td>\n",
              "      <td>2</td>\n",
              "      <td>6</td>\n",
              "      <td>2024</td>\n",
              "      <td>173</td>\n",
              "      <td>21</td>\n",
              "      <td>25</td>\n",
              "      <td>1</td>\n",
              "      <td>0</td>\n",
              "      <td>145.018660</td>\n",
              "    </tr>\n",
              "  </tbody>\n",
              "</table>\n",
              "<p>105670 rows × 12 columns</p>\n",
              "</div>"
            ],
            "text/plain": [
              "         hour  day_of_week  weekday_name  quarter  month  year  day_of_year  \\\n",
              "21          2            5             5        2      6  2012          154   \n",
              "60          3            5             5        2      6  2012          154   \n",
              "81          4            5             5        2      6  2012          154   \n",
              "123         5            5             5        2      6  2012          154   \n",
              "153         6            5             5        2      6  2012          154   \n",
              "...       ...          ...           ...      ...    ...   ...          ...   \n",
              "3323616    19            4             4        2      6  2024          173   \n",
              "3323642    20            4             4        2      6  2024          173   \n",
              "3323679    21            4             4        2      6  2024          173   \n",
              "3323714    22            4             4        2      6  2024          173   \n",
              "3323746    23            4             4        2      6  2024          173   \n",
              "\n",
              "         day_of_month  week_of_year  season  holiday  Consumption_MWh  \n",
              "21                  2            22       1        0        14.979990  \n",
              "60                  2            22       1        0        16.318953  \n",
              "81                  2            22       1        0        17.724710  \n",
              "123                 2            22       1        0        18.121771  \n",
              "153                 2            22       1        0        16.771591  \n",
              "...               ...           ...     ...      ...              ...  \n",
              "3323616            21            25       1        0       173.246406  \n",
              "3323642            21            25       1        0       168.106920  \n",
              "3323679            21            25       1        0       161.731316  \n",
              "3323714            21            25       1        0       153.871964  \n",
              "3323746            21            25       1        0       145.018660  \n",
              "\n",
              "[105670 rows x 12 columns]"
            ]
          },
          "execution_count": 15,
          "metadata": {},
          "output_type": "execute_result"
        }
      ],
      "source": [
        "df_corr"
      ]
    },
    {
      "cell_type": "code",
      "execution_count": 16,
      "metadata": {},
      "outputs": [
        {
          "data": {
            "text/html": [
              "<div>\n",
              "<style scoped>\n",
              "    .dataframe tbody tr th:only-of-type {\n",
              "        vertical-align: middle;\n",
              "    }\n",
              "\n",
              "    .dataframe tbody tr th {\n",
              "        vertical-align: top;\n",
              "    }\n",
              "\n",
              "    .dataframe thead th {\n",
              "        text-align: right;\n",
              "    }\n",
              "</style>\n",
              "<table border=\"1\" class=\"dataframe\">\n",
              "  <thead>\n",
              "    <tr style=\"text-align: right;\">\n",
              "      <th></th>\n",
              "      <th>season</th>\n",
              "      <th>year</th>\n",
              "      <th>month</th>\n",
              "      <th>day_of_month</th>\n",
              "      <th>hour</th>\n",
              "      <th>Consumption_MWh</th>\n",
              "    </tr>\n",
              "  </thead>\n",
              "  <tbody>\n",
              "    <tr>\n",
              "      <th>21</th>\n",
              "      <td>1</td>\n",
              "      <td>2012</td>\n",
              "      <td>6</td>\n",
              "      <td>2</td>\n",
              "      <td>2</td>\n",
              "      <td>14.979990</td>\n",
              "    </tr>\n",
              "    <tr>\n",
              "      <th>60</th>\n",
              "      <td>1</td>\n",
              "      <td>2012</td>\n",
              "      <td>6</td>\n",
              "      <td>2</td>\n",
              "      <td>3</td>\n",
              "      <td>16.318953</td>\n",
              "    </tr>\n",
              "    <tr>\n",
              "      <th>81</th>\n",
              "      <td>1</td>\n",
              "      <td>2012</td>\n",
              "      <td>6</td>\n",
              "      <td>2</td>\n",
              "      <td>4</td>\n",
              "      <td>17.724710</td>\n",
              "    </tr>\n",
              "    <tr>\n",
              "      <th>123</th>\n",
              "      <td>1</td>\n",
              "      <td>2012</td>\n",
              "      <td>6</td>\n",
              "      <td>2</td>\n",
              "      <td>5</td>\n",
              "      <td>18.121771</td>\n",
              "    </tr>\n",
              "    <tr>\n",
              "      <th>153</th>\n",
              "      <td>1</td>\n",
              "      <td>2012</td>\n",
              "      <td>6</td>\n",
              "      <td>2</td>\n",
              "      <td>6</td>\n",
              "      <td>16.771591</td>\n",
              "    </tr>\n",
              "    <tr>\n",
              "      <th>...</th>\n",
              "      <td>...</td>\n",
              "      <td>...</td>\n",
              "      <td>...</td>\n",
              "      <td>...</td>\n",
              "      <td>...</td>\n",
              "      <td>...</td>\n",
              "    </tr>\n",
              "    <tr>\n",
              "      <th>3323616</th>\n",
              "      <td>1</td>\n",
              "      <td>2024</td>\n",
              "      <td>6</td>\n",
              "      <td>21</td>\n",
              "      <td>19</td>\n",
              "      <td>173.246406</td>\n",
              "    </tr>\n",
              "    <tr>\n",
              "      <th>3323642</th>\n",
              "      <td>1</td>\n",
              "      <td>2024</td>\n",
              "      <td>6</td>\n",
              "      <td>21</td>\n",
              "      <td>20</td>\n",
              "      <td>168.106920</td>\n",
              "    </tr>\n",
              "    <tr>\n",
              "      <th>3323679</th>\n",
              "      <td>1</td>\n",
              "      <td>2024</td>\n",
              "      <td>6</td>\n",
              "      <td>21</td>\n",
              "      <td>21</td>\n",
              "      <td>161.731316</td>\n",
              "    </tr>\n",
              "    <tr>\n",
              "      <th>3323714</th>\n",
              "      <td>1</td>\n",
              "      <td>2024</td>\n",
              "      <td>6</td>\n",
              "      <td>21</td>\n",
              "      <td>22</td>\n",
              "      <td>153.871964</td>\n",
              "    </tr>\n",
              "    <tr>\n",
              "      <th>3323746</th>\n",
              "      <td>1</td>\n",
              "      <td>2024</td>\n",
              "      <td>6</td>\n",
              "      <td>21</td>\n",
              "      <td>23</td>\n",
              "      <td>145.018660</td>\n",
              "    </tr>\n",
              "  </tbody>\n",
              "</table>\n",
              "<p>105670 rows × 6 columns</p>\n",
              "</div>"
            ],
            "text/plain": [
              "         season  year  month  day_of_month  hour  Consumption_MWh\n",
              "21            1  2012      6             2     2        14.979990\n",
              "60            1  2012      6             2     3        16.318953\n",
              "81            1  2012      6             2     4        17.724710\n",
              "123           1  2012      6             2     5        18.121771\n",
              "153           1  2012      6             2     6        16.771591\n",
              "...         ...   ...    ...           ...   ...              ...\n",
              "3323616       1  2024      6            21    19       173.246406\n",
              "3323642       1  2024      6            21    20       168.106920\n",
              "3323679       1  2024      6            21    21       161.731316\n",
              "3323714       1  2024      6            21    22       153.871964\n",
              "3323746       1  2024      6            21    23       145.018660\n",
              "\n",
              "[105670 rows x 6 columns]"
            ]
          },
          "execution_count": 16,
          "metadata": {},
          "output_type": "execute_result"
        }
      ],
      "source": [
        "df_corr[['season', 'year', 'month', 'day_of_month', 'hour', 'Consumption_MWh']]"
      ]
    },
    {
      "cell_type": "code",
      "execution_count": 17,
      "metadata": {},
      "outputs": [],
      "source": [
        "# Assuming df_corr is your DataFrame\n",
        "df_corr[['season', 'year', 'month', 'day_of_month', 'hour', 'Consumption_MWh']].to_csv('output.csv', index=False)\n"
      ]
    },
    {
      "cell_type": "code",
      "execution_count": 20,
      "metadata": {
        "colab": {
          "base_uri": "https://localhost:8080/"
        },
        "id": "IPbR6VDRVh02",
        "outputId": "c3d9f350-1f8c-462e-c422-3f29e9282b04"
      },
      "outputs": [
        {
          "name": "stdout",
          "output_type": "stream",
          "text": [
            "Training LSTM model with DKCode:  C_CG\n"
          ]
        },
        {
          "name": "stderr",
          "output_type": "stream",
          "text": [
            "<ipython-input-20-c435cd77fc11>:12: SettingWithCopyWarning: \n",
            "A value is trying to be set on a copy of a slice from a DataFrame.\n",
            "Try using .loc[row_indexer,col_indexer] = value instead\n",
            "\n",
            "See the caveats in the documentation: https://pandas.pydata.org/pandas-docs/stable/user_guide/indexing.html#returning-a-view-versus-a-copy\n",
            "  df_corr['HourUTC'] = pd.to_datetime(df_corr['HourUTC'])\n",
            "<ipython-input-20-c435cd77fc11>:13: SettingWithCopyWarning: \n",
            "A value is trying to be set on a copy of a slice from a DataFrame.\n",
            "Try using .loc[row_indexer,col_indexer] = value instead\n",
            "\n",
            "See the caveats in the documentation: https://pandas.pydata.org/pandas-docs/stable/user_guide/indexing.html#returning-a-view-versus-a-copy\n",
            "  df_corr['HourDK'] = pd.to_datetime(df_corr['HourDK'])\n"
          ]
        },
        {
          "name": "stdout",
          "output_type": "stream",
          "text": [
            "Epoch 1/10\n",
            "1568/1568 [==============================] - 20s 10ms/step - loss: 0.0077 - val_loss: 0.0021 - lr: 0.0010\n",
            "Epoch 2/10\n",
            "1568/1568 [==============================] - 13s 8ms/step - loss: 0.0032 - val_loss: 0.0015 - lr: 0.0010\n",
            "Epoch 3/10\n",
            "1568/1568 [==============================] - 14s 9ms/step - loss: 0.0021 - val_loss: 0.0012 - lr: 0.0010\n",
            "Epoch 4/10\n",
            "1568/1568 [==============================] - 13s 8ms/step - loss: 0.0015 - val_loss: 8.5394e-04 - lr: 0.0010\n",
            "Epoch 5/10\n",
            "1568/1568 [==============================] - 13s 8ms/step - loss: 0.0011 - val_loss: 5.2561e-04 - lr: 0.0010\n",
            "Epoch 6/10\n",
            "1568/1568 [==============================] - 13s 8ms/step - loss: 8.3841e-04 - val_loss: 4.2800e-04 - lr: 0.0010\n",
            "Epoch 7/10\n",
            "1568/1568 [==============================] - 14s 9ms/step - loss: 7.6925e-04 - val_loss: 4.7338e-04 - lr: 0.0010\n",
            "Epoch 8/10\n",
            "1568/1568 [==============================] - 14s 9ms/step - loss: 7.2223e-04 - val_loss: 3.8312e-04 - lr: 0.0010\n",
            "Epoch 9/10\n",
            "1568/1568 [==============================] - 13s 9ms/step - loss: 6.7214e-04 - val_loss: 4.0512e-04 - lr: 0.0010\n",
            "Epoch 10/10\n",
            "1568/1568 [==============================] - 13s 8ms/step - loss: 6.4951e-04 - val_loss: 4.6481e-04 - lr: 0.0010\n"
          ]
        },
        {
          "name": "stderr",
          "output_type": "stream",
          "text": [
            "/usr/local/lib/python3.10/dist-packages/keras/src/engine/training.py:3103: UserWarning: You are saving your model as an HDF5 file via `model.save()`. This file format is considered legacy. We recommend using instead the native Keras format, e.g. `model.save('my_model.keras')`.\n",
            "  saving_api.save_model(\n"
          ]
        },
        {
          "name": "stdout",
          "output_type": "stream",
          "text": [
            "245/245 [==============================] - 1s 3ms/step\n",
            "R² Score: 0.9815306466597061\n",
            "Mean Absolute Error (MAE): 0.018321539687174145\n",
            "Mean Squared Error (MSE): 0.0004896690900374253\n",
            "Root Mean Squared Error (RMSE): 0.022128467864663052\n",
            "Training LSTM model with DKCode:  C_CH\n"
          ]
        },
        {
          "name": "stderr",
          "output_type": "stream",
          "text": [
            "<ipython-input-20-c435cd77fc11>:12: SettingWithCopyWarning: \n",
            "A value is trying to be set on a copy of a slice from a DataFrame.\n",
            "Try using .loc[row_indexer,col_indexer] = value instead\n",
            "\n",
            "See the caveats in the documentation: https://pandas.pydata.org/pandas-docs/stable/user_guide/indexing.html#returning-a-view-versus-a-copy\n",
            "  df_corr['HourUTC'] = pd.to_datetime(df_corr['HourUTC'])\n",
            "<ipython-input-20-c435cd77fc11>:13: SettingWithCopyWarning: \n",
            "A value is trying to be set on a copy of a slice from a DataFrame.\n",
            "Try using .loc[row_indexer,col_indexer] = value instead\n",
            "\n",
            "See the caveats in the documentation: https://pandas.pydata.org/pandas-docs/stable/user_guide/indexing.html#returning-a-view-versus-a-copy\n",
            "  df_corr['HourDK'] = pd.to_datetime(df_corr['HourDK'])\n"
          ]
        },
        {
          "name": "stdout",
          "output_type": "stream",
          "text": [
            "Epoch 1/10\n",
            "1568/1568 [==============================] - 19s 10ms/step - loss: 0.0094 - val_loss: 0.0030 - lr: 0.0010\n",
            "Epoch 2/10\n",
            "1568/1568 [==============================] - 14s 9ms/step - loss: 0.0039 - val_loss: 0.0019 - lr: 0.0010\n",
            "Epoch 3/10\n",
            "1568/1568 [==============================] - 13s 8ms/step - loss: 0.0028 - val_loss: 0.0014 - lr: 0.0010\n",
            "Epoch 4/10\n",
            "1568/1568 [==============================] - 13s 8ms/step - loss: 0.0021 - val_loss: 0.0011 - lr: 0.0010\n",
            "Epoch 5/10\n",
            "1568/1568 [==============================] - 13s 8ms/step - loss: 0.0018 - val_loss: 0.0010 - lr: 0.0010\n",
            "Epoch 6/10\n",
            "1568/1568 [==============================] - 13s 8ms/step - loss: 0.0017 - val_loss: 0.0012 - lr: 0.0010\n",
            "Epoch 7/10\n",
            "1568/1568 [==============================] - 13s 8ms/step - loss: 0.0016 - val_loss: 0.0010 - lr: 0.0010\n",
            "Epoch 8/10\n",
            "1568/1568 [==============================] - 13s 8ms/step - loss: 0.0014 - val_loss: 9.3338e-04 - lr: 0.0010\n",
            "Epoch 9/10\n",
            "1568/1568 [==============================] - 13s 8ms/step - loss: 0.0014 - val_loss: 9.3944e-04 - lr: 0.0010\n",
            "Epoch 10/10\n",
            "1568/1568 [==============================] - 13s 8ms/step - loss: 0.0013 - val_loss: 7.2104e-04 - lr: 0.0010\n"
          ]
        },
        {
          "name": "stderr",
          "output_type": "stream",
          "text": [
            "/usr/local/lib/python3.10/dist-packages/keras/src/engine/training.py:3103: UserWarning: You are saving your model as an HDF5 file via `model.save()`. This file format is considered legacy. We recommend using instead the native Keras format, e.g. `model.save('my_model.keras')`.\n",
            "  saving_api.save_model(\n"
          ]
        },
        {
          "name": "stdout",
          "output_type": "stream",
          "text": [
            "245/245 [==============================] - 2s 4ms/step\n",
            "R² Score: 0.9883106819389079\n",
            "Mean Absolute Error (MAE): 0.020058830003528334\n",
            "Mean Squared Error (MSE): 0.0007100645753869123\n",
            "Root Mean Squared Error (RMSE): 0.026647036896940573\n",
            "Training LSTM model with DKCode:  C_CI\n"
          ]
        },
        {
          "name": "stderr",
          "output_type": "stream",
          "text": [
            "<ipython-input-20-c435cd77fc11>:12: SettingWithCopyWarning: \n",
            "A value is trying to be set on a copy of a slice from a DataFrame.\n",
            "Try using .loc[row_indexer,col_indexer] = value instead\n",
            "\n",
            "See the caveats in the documentation: https://pandas.pydata.org/pandas-docs/stable/user_guide/indexing.html#returning-a-view-versus-a-copy\n",
            "  df_corr['HourUTC'] = pd.to_datetime(df_corr['HourUTC'])\n",
            "<ipython-input-20-c435cd77fc11>:13: SettingWithCopyWarning: \n",
            "A value is trying to be set on a copy of a slice from a DataFrame.\n",
            "Try using .loc[row_indexer,col_indexer] = value instead\n",
            "\n",
            "See the caveats in the documentation: https://pandas.pydata.org/pandas-docs/stable/user_guide/indexing.html#returning-a-view-versus-a-copy\n",
            "  df_corr['HourDK'] = pd.to_datetime(df_corr['HourDK'])\n"
          ]
        },
        {
          "name": "stdout",
          "output_type": "stream",
          "text": [
            "Epoch 1/10\n",
            "1568/1568 [==============================] - 17s 9ms/step - loss: 0.0087 - val_loss: 0.0022 - lr: 0.0010\n",
            "Epoch 2/10\n",
            "1568/1568 [==============================] - 13s 8ms/step - loss: 0.0033 - val_loss: 0.0013 - lr: 0.0010\n",
            "Epoch 3/10\n",
            "1568/1568 [==============================] - 13s 8ms/step - loss: 0.0020 - val_loss: 7.7550e-04 - lr: 0.0010\n",
            "Epoch 4/10\n",
            "1568/1568 [==============================] - 14s 9ms/step - loss: 0.0012 - val_loss: 4.7274e-04 - lr: 0.0010\n",
            "Epoch 5/10\n",
            "1568/1568 [==============================] - 14s 9ms/step - loss: 0.0010 - val_loss: 4.4339e-04 - lr: 0.0010\n",
            "Epoch 6/10\n",
            "1568/1568 [==============================] - 14s 9ms/step - loss: 8.5780e-04 - val_loss: 5.0424e-04 - lr: 0.0010\n",
            "Epoch 7/10\n",
            "1568/1568 [==============================] - 13s 8ms/step - loss: 7.7406e-04 - val_loss: 2.5518e-04 - lr: 0.0010\n",
            "Epoch 8/10\n",
            "1568/1568 [==============================] - 14s 9ms/step - loss: 7.1555e-04 - val_loss: 2.6315e-04 - lr: 0.0010\n",
            "Epoch 9/10\n",
            "1568/1568 [==============================] - 14s 9ms/step - loss: 6.6059e-04 - val_loss: 2.0713e-04 - lr: 0.0010\n",
            "Epoch 10/10\n",
            "1568/1568 [==============================] - 14s 9ms/step - loss: 6.4090e-04 - val_loss: 2.3341e-04 - lr: 0.0010\n"
          ]
        },
        {
          "name": "stderr",
          "output_type": "stream",
          "text": [
            "/usr/local/lib/python3.10/dist-packages/keras/src/engine/training.py:3103: UserWarning: You are saving your model as an HDF5 file via `model.save()`. This file format is considered legacy. We recommend using instead the native Keras format, e.g. `model.save('my_model.keras')`.\n",
            "  saving_api.save_model(\n"
          ]
        },
        {
          "name": "stdout",
          "output_type": "stream",
          "text": [
            "245/245 [==============================] - 1s 3ms/step\n",
            "R² Score: 0.992870519047055\n",
            "Mean Absolute Error (MAE): 0.012662071492211149\n",
            "Mean Squared Error (MSE): 0.00027400922035216\n",
            "Root Mean Squared Error (RMSE): 0.016553223865826257\n",
            "Training LSTM model with DKCode:  C_CJ\n"
          ]
        },
        {
          "name": "stderr",
          "output_type": "stream",
          "text": [
            "<ipython-input-20-c435cd77fc11>:12: SettingWithCopyWarning: \n",
            "A value is trying to be set on a copy of a slice from a DataFrame.\n",
            "Try using .loc[row_indexer,col_indexer] = value instead\n",
            "\n",
            "See the caveats in the documentation: https://pandas.pydata.org/pandas-docs/stable/user_guide/indexing.html#returning-a-view-versus-a-copy\n",
            "  df_corr['HourUTC'] = pd.to_datetime(df_corr['HourUTC'])\n",
            "<ipython-input-20-c435cd77fc11>:13: SettingWithCopyWarning: \n",
            "A value is trying to be set on a copy of a slice from a DataFrame.\n",
            "Try using .loc[row_indexer,col_indexer] = value instead\n",
            "\n",
            "See the caveats in the documentation: https://pandas.pydata.org/pandas-docs/stable/user_guide/indexing.html#returning-a-view-versus-a-copy\n",
            "  df_corr['HourDK'] = pd.to_datetime(df_corr['HourDK'])\n"
          ]
        },
        {
          "name": "stdout",
          "output_type": "stream",
          "text": [
            "Epoch 1/10\n",
            "1568/1568 [==============================] - 19s 9ms/step - loss: 0.0091 - val_loss: 0.0029 - lr: 0.0010\n",
            "Epoch 2/10\n",
            "1568/1568 [==============================] - 12s 8ms/step - loss: 0.0035 - val_loss: 0.0018 - lr: 0.0010\n",
            "Epoch 3/10\n",
            "1568/1568 [==============================] - 12s 8ms/step - loss: 0.0024 - val_loss: 0.0017 - lr: 0.0010\n",
            "Epoch 4/10\n",
            "1568/1568 [==============================] - 13s 8ms/step - loss: 0.0017 - val_loss: 8.3775e-04 - lr: 0.0010\n",
            "Epoch 5/10\n",
            "1568/1568 [==============================] - 13s 8ms/step - loss: 0.0013 - val_loss: 6.7799e-04 - lr: 0.0010\n",
            "Epoch 6/10\n",
            "1568/1568 [==============================] - 13s 8ms/step - loss: 0.0011 - val_loss: 4.8501e-04 - lr: 0.0010\n",
            "Epoch 7/10\n",
            "1568/1568 [==============================] - 13s 8ms/step - loss: 9.8345e-04 - val_loss: 5.6375e-04 - lr: 0.0010\n",
            "Epoch 8/10\n",
            "1568/1568 [==============================] - 13s 8ms/step - loss: 9.3536e-04 - val_loss: 3.9585e-04 - lr: 0.0010\n",
            "Epoch 9/10\n",
            "1568/1568 [==============================] - 13s 8ms/step - loss: 8.5698e-04 - val_loss: 4.2892e-04 - lr: 0.0010\n",
            "Epoch 10/10\n",
            "1568/1568 [==============================] - 14s 9ms/step - loss: 8.1675e-04 - val_loss: 3.4603e-04 - lr: 0.0010\n"
          ]
        },
        {
          "name": "stderr",
          "output_type": "stream",
          "text": [
            "/usr/local/lib/python3.10/dist-packages/keras/src/engine/training.py:3103: UserWarning: You are saving your model as an HDF5 file via `model.save()`. This file format is considered legacy. We recommend using instead the native Keras format, e.g. `model.save('my_model.keras')`.\n",
            "  saving_api.save_model(\n"
          ]
        },
        {
          "name": "stdout",
          "output_type": "stream",
          "text": [
            "245/245 [==============================] - 2s 3ms/step\n",
            "R² Score: 0.9923266767513717\n",
            "Mean Absolute Error (MAE): 0.013334615852094832\n",
            "Mean Squared Error (MSE): 0.0003628760414072379\n",
            "Root Mean Squared Error (RMSE): 0.01904930553608813\n",
            "Training LSTM model with DKCode:  C_CK\n"
          ]
        },
        {
          "name": "stderr",
          "output_type": "stream",
          "text": [
            "<ipython-input-20-c435cd77fc11>:12: SettingWithCopyWarning: \n",
            "A value is trying to be set on a copy of a slice from a DataFrame.\n",
            "Try using .loc[row_indexer,col_indexer] = value instead\n",
            "\n",
            "See the caveats in the documentation: https://pandas.pydata.org/pandas-docs/stable/user_guide/indexing.html#returning-a-view-versus-a-copy\n",
            "  df_corr['HourUTC'] = pd.to_datetime(df_corr['HourUTC'])\n",
            "<ipython-input-20-c435cd77fc11>:13: SettingWithCopyWarning: \n",
            "A value is trying to be set on a copy of a slice from a DataFrame.\n",
            "Try using .loc[row_indexer,col_indexer] = value instead\n",
            "\n",
            "See the caveats in the documentation: https://pandas.pydata.org/pandas-docs/stable/user_guide/indexing.html#returning-a-view-versus-a-copy\n",
            "  df_corr['HourDK'] = pd.to_datetime(df_corr['HourDK'])\n"
          ]
        },
        {
          "name": "stdout",
          "output_type": "stream",
          "text": [
            "Epoch 1/10\n",
            "1568/1568 [==============================] - 17s 9ms/step - loss: 0.0101 - val_loss: 0.0026 - lr: 0.0010\n",
            "Epoch 2/10\n",
            "1568/1568 [==============================] - 13s 8ms/step - loss: 0.0037 - val_loss: 0.0020 - lr: 0.0010\n",
            "Epoch 3/10\n",
            "1568/1568 [==============================] - 13s 8ms/step - loss: 0.0022 - val_loss: 8.3932e-04 - lr: 0.0010\n",
            "Epoch 4/10\n",
            "1568/1568 [==============================] - 13s 8ms/step - loss: 0.0016 - val_loss: 7.9404e-04 - lr: 0.0010\n",
            "Epoch 5/10\n",
            "1568/1568 [==============================] - 13s 8ms/step - loss: 0.0014 - val_loss: 6.2337e-04 - lr: 0.0010\n",
            "Epoch 6/10\n",
            "1568/1568 [==============================] - 13s 9ms/step - loss: 0.0012 - val_loss: 6.1334e-04 - lr: 0.0010\n",
            "Epoch 7/10\n",
            "1568/1568 [==============================] - 14s 9ms/step - loss: 0.0010 - val_loss: 5.0277e-04 - lr: 0.0010\n",
            "Epoch 8/10\n",
            "1568/1568 [==============================] - 13s 9ms/step - loss: 9.6319e-04 - val_loss: 4.8618e-04 - lr: 0.0010\n",
            "Epoch 9/10\n",
            "1568/1568 [==============================] - 14s 9ms/step - loss: 8.8170e-04 - val_loss: 2.7544e-04 - lr: 0.0010\n",
            "Epoch 10/10\n",
            "1568/1568 [==============================] - 13s 8ms/step - loss: 8.4650e-04 - val_loss: 2.6679e-04 - lr: 0.0010\n"
          ]
        },
        {
          "name": "stderr",
          "output_type": "stream",
          "text": [
            "/usr/local/lib/python3.10/dist-packages/keras/src/engine/training.py:3103: UserWarning: You are saving your model as an HDF5 file via `model.save()`. This file format is considered legacy. We recommend using instead the native Keras format, e.g. `model.save('my_model.keras')`.\n",
            "  saving_api.save_model(\n"
          ]
        },
        {
          "name": "stdout",
          "output_type": "stream",
          "text": [
            "245/245 [==============================] - 1s 3ms/step\n",
            "R² Score: 0.9738963837594671\n",
            "Mean Absolute Error (MAE): 0.023017569661185247\n",
            "Mean Squared Error (MSE): 0.001540269307961543\n",
            "Root Mean Squared Error (RMSE): 0.03924626489185363\n",
            "Training LSTM model with DKCode:  C_CL\n"
          ]
        },
        {
          "name": "stderr",
          "output_type": "stream",
          "text": [
            "<ipython-input-20-c435cd77fc11>:12: SettingWithCopyWarning: \n",
            "A value is trying to be set on a copy of a slice from a DataFrame.\n",
            "Try using .loc[row_indexer,col_indexer] = value instead\n",
            "\n",
            "See the caveats in the documentation: https://pandas.pydata.org/pandas-docs/stable/user_guide/indexing.html#returning-a-view-versus-a-copy\n",
            "  df_corr['HourUTC'] = pd.to_datetime(df_corr['HourUTC'])\n",
            "<ipython-input-20-c435cd77fc11>:13: SettingWithCopyWarning: \n",
            "A value is trying to be set on a copy of a slice from a DataFrame.\n",
            "Try using .loc[row_indexer,col_indexer] = value instead\n",
            "\n",
            "See the caveats in the documentation: https://pandas.pydata.org/pandas-docs/stable/user_guide/indexing.html#returning-a-view-versus-a-copy\n",
            "  df_corr['HourDK'] = pd.to_datetime(df_corr['HourDK'])\n"
          ]
        },
        {
          "name": "stdout",
          "output_type": "stream",
          "text": [
            "Epoch 1/10\n",
            "1568/1568 [==============================] - 17s 9ms/step - loss: 0.0072 - val_loss: 0.0017 - lr: 0.0010\n",
            "Epoch 2/10\n",
            "1568/1568 [==============================] - 13s 9ms/step - loss: 0.0028 - val_loss: 0.0018 - lr: 0.0010\n",
            "Epoch 3/10\n",
            "1568/1568 [==============================] - 14s 9ms/step - loss: 0.0022 - val_loss: 0.0019 - lr: 0.0010\n",
            "Epoch 4/10\n",
            "1568/1568 [==============================] - 14s 9ms/step - loss: 0.0016 - val_loss: 9.0554e-04 - lr: 0.0010\n",
            "Epoch 5/10\n",
            "1568/1568 [==============================] - 14s 9ms/step - loss: 0.0012 - val_loss: 7.2273e-04 - lr: 0.0010\n",
            "Epoch 6/10\n",
            "1568/1568 [==============================] - 13s 9ms/step - loss: 0.0011 - val_loss: 6.1077e-04 - lr: 0.0010\n",
            "Epoch 7/10\n",
            "1568/1568 [==============================] - 13s 9ms/step - loss: 9.9770e-04 - val_loss: 5.3930e-04 - lr: 0.0010\n",
            "Epoch 8/10\n",
            "1568/1568 [==============================] - 14s 9ms/step - loss: 9.2179e-04 - val_loss: 5.2621e-04 - lr: 0.0010\n",
            "Epoch 9/10\n",
            "1568/1568 [==============================] - 14s 9ms/step - loss: 8.7444e-04 - val_loss: 4.6080e-04 - lr: 0.0010\n",
            "Epoch 10/10\n",
            "1568/1568 [==============================] - 13s 8ms/step - loss: 8.6896e-04 - val_loss: 5.0666e-04 - lr: 0.0010\n"
          ]
        },
        {
          "name": "stderr",
          "output_type": "stream",
          "text": [
            "/usr/local/lib/python3.10/dist-packages/keras/src/engine/training.py:3103: UserWarning: You are saving your model as an HDF5 file via `model.save()`. This file format is considered legacy. We recommend using instead the native Keras format, e.g. `model.save('my_model.keras')`.\n",
            "  saving_api.save_model(\n"
          ]
        },
        {
          "name": "stdout",
          "output_type": "stream",
          "text": [
            "245/245 [==============================] - 1s 3ms/step\n",
            "R² Score: 0.9860948131938257\n",
            "Mean Absolute Error (MAE): 0.01981091042651661\n",
            "Mean Squared Error (MSE): 0.0007055536828895343\n",
            "Root Mean Squared Error (RMSE): 0.02656226050037034\n",
            "Training LSTM model with DKCode:  C_CM_CB\n"
          ]
        },
        {
          "name": "stderr",
          "output_type": "stream",
          "text": [
            "<ipython-input-20-c435cd77fc11>:12: SettingWithCopyWarning: \n",
            "A value is trying to be set on a copy of a slice from a DataFrame.\n",
            "Try using .loc[row_indexer,col_indexer] = value instead\n",
            "\n",
            "See the caveats in the documentation: https://pandas.pydata.org/pandas-docs/stable/user_guide/indexing.html#returning-a-view-versus-a-copy\n",
            "  df_corr['HourUTC'] = pd.to_datetime(df_corr['HourUTC'])\n",
            "<ipython-input-20-c435cd77fc11>:13: SettingWithCopyWarning: \n",
            "A value is trying to be set on a copy of a slice from a DataFrame.\n",
            "Try using .loc[row_indexer,col_indexer] = value instead\n",
            "\n",
            "See the caveats in the documentation: https://pandas.pydata.org/pandas-docs/stable/user_guide/indexing.html#returning-a-view-versus-a-copy\n",
            "  df_corr['HourDK'] = pd.to_datetime(df_corr['HourDK'])\n"
          ]
        },
        {
          "name": "stdout",
          "output_type": "stream",
          "text": [
            "Epoch 1/10\n",
            "1568/1568 [==============================] - 17s 9ms/step - loss: 0.0097 - val_loss: 0.0052 - lr: 0.0010\n",
            "Epoch 2/10\n",
            "1568/1568 [==============================] - 13s 9ms/step - loss: 0.0044 - val_loss: 0.0030 - lr: 0.0010\n",
            "Epoch 3/10\n",
            "1568/1568 [==============================] - 13s 8ms/step - loss: 0.0029 - val_loss: 0.0024 - lr: 0.0010\n",
            "Epoch 4/10\n",
            "1568/1568 [==============================] - 13s 8ms/step - loss: 0.0020 - val_loss: 0.0014 - lr: 0.0010\n",
            "Epoch 5/10\n",
            "1568/1568 [==============================] - 13s 8ms/step - loss: 0.0015 - val_loss: 8.9943e-04 - lr: 0.0010\n",
            "Epoch 6/10\n",
            "1568/1568 [==============================] - 14s 9ms/step - loss: 0.0012 - val_loss: 5.6645e-04 - lr: 0.0010\n",
            "Epoch 7/10\n",
            "1568/1568 [==============================] - 14s 9ms/step - loss: 0.0010 - val_loss: 5.0674e-04 - lr: 0.0010\n",
            "Epoch 8/10\n",
            "1568/1568 [==============================] - 13s 8ms/step - loss: 9.1563e-04 - val_loss: 4.1549e-04 - lr: 0.0010\n",
            "Epoch 9/10\n",
            "1568/1568 [==============================] - 14s 9ms/step - loss: 8.2545e-04 - val_loss: 4.4638e-04 - lr: 0.0010\n",
            "Epoch 10/10\n",
            "1568/1568 [==============================] - 14s 9ms/step - loss: 8.0513e-04 - val_loss: 3.4651e-04 - lr: 0.0010\n"
          ]
        },
        {
          "name": "stderr",
          "output_type": "stream",
          "text": [
            "/usr/local/lib/python3.10/dist-packages/keras/src/engine/training.py:3103: UserWarning: You are saving your model as an HDF5 file via `model.save()`. This file format is considered legacy. We recommend using instead the native Keras format, e.g. `model.save('my_model.keras')`.\n",
            "  saving_api.save_model(\n"
          ]
        },
        {
          "name": "stdout",
          "output_type": "stream",
          "text": [
            "245/245 [==============================] - 1s 3ms/step\n",
            "R² Score: 0.9935286564139946\n",
            "Mean Absolute Error (MAE): 0.012333598521548632\n",
            "Mean Squared Error (MSE): 0.0003248397997389168\n",
            "Root Mean Squared Error (RMSE): 0.01802331267383765\n",
            "Training LSTM model with DKCode:  D_D\n"
          ]
        },
        {
          "name": "stderr",
          "output_type": "stream",
          "text": [
            "<ipython-input-20-c435cd77fc11>:12: SettingWithCopyWarning: \n",
            "A value is trying to be set on a copy of a slice from a DataFrame.\n",
            "Try using .loc[row_indexer,col_indexer] = value instead\n",
            "\n",
            "See the caveats in the documentation: https://pandas.pydata.org/pandas-docs/stable/user_guide/indexing.html#returning-a-view-versus-a-copy\n",
            "  df_corr['HourUTC'] = pd.to_datetime(df_corr['HourUTC'])\n",
            "<ipython-input-20-c435cd77fc11>:13: SettingWithCopyWarning: \n",
            "A value is trying to be set on a copy of a slice from a DataFrame.\n",
            "Try using .loc[row_indexer,col_indexer] = value instead\n",
            "\n",
            "See the caveats in the documentation: https://pandas.pydata.org/pandas-docs/stable/user_guide/indexing.html#returning-a-view-versus-a-copy\n",
            "  df_corr['HourDK'] = pd.to_datetime(df_corr['HourDK'])\n"
          ]
        },
        {
          "name": "stdout",
          "output_type": "stream",
          "text": [
            "Epoch 1/10\n",
            "1568/1568 [==============================] - 17s 9ms/step - loss: 0.0030 - val_loss: 0.0052 - lr: 0.0010\n",
            "Epoch 2/10\n",
            "1568/1568 [==============================] - 14s 9ms/step - loss: 0.0015 - val_loss: 0.0039 - lr: 0.0010\n",
            "Epoch 3/10\n",
            "1568/1568 [==============================] - 14s 9ms/step - loss: 0.0013 - val_loss: 0.0044 - lr: 0.0010\n",
            "Epoch 4/10\n",
            "1568/1568 [==============================] - 14s 9ms/step - loss: 0.0013 - val_loss: 0.0041 - lr: 0.0010\n",
            "Epoch 5/10\n",
            "1568/1568 [==============================] - 13s 8ms/step - loss: 0.0012 - val_loss: 0.0040 - lr: 0.0010\n",
            "Epoch 6/10\n",
            "1568/1568 [==============================] - 13s 8ms/step - loss: 0.0012 - val_loss: 0.0044 - lr: 0.0010\n",
            "Epoch 7/10\n",
            "1568/1568 [==============================] - 13s 8ms/step - loss: 0.0012 - val_loss: 0.0039 - lr: 0.0010\n",
            "Epoch 8/10\n",
            "1568/1568 [==============================] - 13s 8ms/step - loss: 0.0011 - val_loss: 0.0039 - lr: 5.0000e-04\n",
            "Epoch 9/10\n",
            "1568/1568 [==============================] - 13s 8ms/step - loss: 0.0012 - val_loss: 0.0040 - lr: 5.0000e-04\n",
            "Epoch 10/10\n",
            "1568/1568 [==============================] - 12s 8ms/step - loss: 0.0012 - val_loss: 0.0038 - lr: 5.0000e-04\n"
          ]
        },
        {
          "name": "stderr",
          "output_type": "stream",
          "text": [
            "/usr/local/lib/python3.10/dist-packages/keras/src/engine/training.py:3103: UserWarning: You are saving your model as an HDF5 file via `model.save()`. This file format is considered legacy. We recommend using instead the native Keras format, e.g. `model.save('my_model.keras')`.\n",
            "  saving_api.save_model(\n"
          ]
        },
        {
          "name": "stdout",
          "output_type": "stream",
          "text": [
            "245/245 [==============================] - 2s 4ms/step\n",
            "R² Score: 0.9084061483291667\n",
            "Mean Absolute Error (MAE): 0.035662156357942974\n",
            "Mean Squared Error (MSE): 0.0028863593317144335\n",
            "Root Mean Squared Error (RMSE): 0.053724848363810515\n",
            "Training LSTM model with DKCode:  E_E\n"
          ]
        },
        {
          "name": "stderr",
          "output_type": "stream",
          "text": [
            "<ipython-input-20-c435cd77fc11>:12: SettingWithCopyWarning: \n",
            "A value is trying to be set on a copy of a slice from a DataFrame.\n",
            "Try using .loc[row_indexer,col_indexer] = value instead\n",
            "\n",
            "See the caveats in the documentation: https://pandas.pydata.org/pandas-docs/stable/user_guide/indexing.html#returning-a-view-versus-a-copy\n",
            "  df_corr['HourUTC'] = pd.to_datetime(df_corr['HourUTC'])\n",
            "<ipython-input-20-c435cd77fc11>:13: SettingWithCopyWarning: \n",
            "A value is trying to be set on a copy of a slice from a DataFrame.\n",
            "Try using .loc[row_indexer,col_indexer] = value instead\n",
            "\n",
            "See the caveats in the documentation: https://pandas.pydata.org/pandas-docs/stable/user_guide/indexing.html#returning-a-view-versus-a-copy\n",
            "  df_corr['HourDK'] = pd.to_datetime(df_corr['HourDK'])\n"
          ]
        },
        {
          "name": "stdout",
          "output_type": "stream",
          "text": [
            "Epoch 1/10\n",
            "1568/1568 [==============================] - 17s 9ms/step - loss: 0.0033 - val_loss: 0.0033 - lr: 0.0010\n",
            "Epoch 2/10\n",
            "1568/1568 [==============================] - 13s 8ms/step - loss: 0.0013 - val_loss: 0.0021 - lr: 0.0010\n",
            "Epoch 3/10\n",
            "1568/1568 [==============================] - 13s 8ms/step - loss: 7.8533e-04 - val_loss: 0.0015 - lr: 0.0010\n",
            "Epoch 4/10\n",
            "1568/1568 [==============================] - 14s 9ms/step - loss: 5.7461e-04 - val_loss: 0.0014 - lr: 0.0010\n",
            "Epoch 5/10\n",
            "1568/1568 [==============================] - 13s 8ms/step - loss: 4.4517e-04 - val_loss: 0.0013 - lr: 0.0010\n",
            "Epoch 6/10\n",
            "1568/1568 [==============================] - 12s 8ms/step - loss: 3.8522e-04 - val_loss: 0.0014 - lr: 0.0010\n",
            "Epoch 7/10\n",
            "1568/1568 [==============================] - 12s 8ms/step - loss: 3.5308e-04 - val_loss: 0.0013 - lr: 0.0010\n",
            "Epoch 8/10\n",
            "1568/1568 [==============================] - 13s 8ms/step - loss: 3.3431e-04 - val_loss: 0.0012 - lr: 0.0010\n",
            "Epoch 9/10\n",
            "1568/1568 [==============================] - 13s 8ms/step - loss: 3.2031e-04 - val_loss: 0.0011 - lr: 0.0010\n",
            "Epoch 10/10\n",
            "1568/1568 [==============================] - 13s 8ms/step - loss: 3.0627e-04 - val_loss: 0.0012 - lr: 0.0010\n"
          ]
        },
        {
          "name": "stderr",
          "output_type": "stream",
          "text": [
            "/usr/local/lib/python3.10/dist-packages/keras/src/engine/training.py:3103: UserWarning: You are saving your model as an HDF5 file via `model.save()`. This file format is considered legacy. We recommend using instead the native Keras format, e.g. `model.save('my_model.keras')`.\n",
            "  saving_api.save_model(\n"
          ]
        },
        {
          "name": "stdout",
          "output_type": "stream",
          "text": [
            "245/245 [==============================] - 1s 3ms/step\n",
            "R² Score: 0.8968075571646188\n",
            "Mean Absolute Error (MAE): 0.02297194798031554\n",
            "Mean Squared Error (MSE): 0.001512732231942133\n",
            "Root Mean Squared Error (RMSE): 0.038893858537590906\n",
            "Training LSTM model with DKCode:  F_F\n"
          ]
        },
        {
          "name": "stderr",
          "output_type": "stream",
          "text": [
            "<ipython-input-20-c435cd77fc11>:12: SettingWithCopyWarning: \n",
            "A value is trying to be set on a copy of a slice from a DataFrame.\n",
            "Try using .loc[row_indexer,col_indexer] = value instead\n",
            "\n",
            "See the caveats in the documentation: https://pandas.pydata.org/pandas-docs/stable/user_guide/indexing.html#returning-a-view-versus-a-copy\n",
            "  df_corr['HourUTC'] = pd.to_datetime(df_corr['HourUTC'])\n",
            "<ipython-input-20-c435cd77fc11>:13: SettingWithCopyWarning: \n",
            "A value is trying to be set on a copy of a slice from a DataFrame.\n",
            "Try using .loc[row_indexer,col_indexer] = value instead\n",
            "\n",
            "See the caveats in the documentation: https://pandas.pydata.org/pandas-docs/stable/user_guide/indexing.html#returning-a-view-versus-a-copy\n",
            "  df_corr['HourDK'] = pd.to_datetime(df_corr['HourDK'])\n"
          ]
        },
        {
          "name": "stdout",
          "output_type": "stream",
          "text": [
            "Epoch 1/10\n",
            "1568/1568 [==============================] - 19s 9ms/step - loss: 0.0051 - val_loss: 0.0022 - lr: 0.0010\n",
            "Epoch 2/10\n",
            "1568/1568 [==============================] - 13s 8ms/step - loss: 0.0023 - val_loss: 0.0015 - lr: 0.0010\n",
            "Epoch 3/10\n",
            "1568/1568 [==============================] - 12s 8ms/step - loss: 0.0016 - val_loss: 9.1043e-04 - lr: 0.0010\n",
            "Epoch 4/10\n",
            "1568/1568 [==============================] - 12s 8ms/step - loss: 0.0011 - val_loss: 6.4891e-04 - lr: 0.0010\n",
            "Epoch 5/10\n",
            "1568/1568 [==============================] - 13s 8ms/step - loss: 0.0010 - val_loss: 5.9361e-04 - lr: 0.0010\n",
            "Epoch 6/10\n",
            "1568/1568 [==============================] - 13s 8ms/step - loss: 9.2920e-04 - val_loss: 8.4889e-04 - lr: 0.0010\n",
            "Epoch 7/10\n",
            "1568/1568 [==============================] - 13s 8ms/step - loss: 8.5488e-04 - val_loss: 6.8291e-04 - lr: 0.0010\n",
            "Epoch 8/10\n",
            "1568/1568 [==============================] - 13s 8ms/step - loss: 7.8170e-04 - val_loss: 4.6211e-04 - lr: 0.0010\n",
            "Epoch 9/10\n",
            "1568/1568 [==============================] - 13s 8ms/step - loss: 7.5407e-04 - val_loss: 3.9229e-04 - lr: 0.0010\n",
            "Epoch 10/10\n",
            "1568/1568 [==============================] - 13s 8ms/step - loss: 7.1950e-04 - val_loss: 4.0718e-04 - lr: 0.0010\n"
          ]
        },
        {
          "name": "stderr",
          "output_type": "stream",
          "text": [
            "/usr/local/lib/python3.10/dist-packages/keras/src/engine/training.py:3103: UserWarning: You are saving your model as an HDF5 file via `model.save()`. This file format is considered legacy. We recommend using instead the native Keras format, e.g. `model.save('my_model.keras')`.\n",
            "  saving_api.save_model(\n"
          ]
        },
        {
          "name": "stdout",
          "output_type": "stream",
          "text": [
            "245/245 [==============================] - 1s 3ms/step\n",
            "R² Score: 0.9879595146112857\n",
            "Mean Absolute Error (MAE): 0.014869347041925605\n",
            "Mean Squared Error (MSE): 0.0004400541019938972\n",
            "Root Mean Squared Error (RMSE): 0.020977466529442903\n",
            "Training LSTM model with DKCode:  G_G\n"
          ]
        },
        {
          "name": "stderr",
          "output_type": "stream",
          "text": [
            "<ipython-input-20-c435cd77fc11>:12: SettingWithCopyWarning: \n",
            "A value is trying to be set on a copy of a slice from a DataFrame.\n",
            "Try using .loc[row_indexer,col_indexer] = value instead\n",
            "\n",
            "See the caveats in the documentation: https://pandas.pydata.org/pandas-docs/stable/user_guide/indexing.html#returning-a-view-versus-a-copy\n",
            "  df_corr['HourUTC'] = pd.to_datetime(df_corr['HourUTC'])\n",
            "<ipython-input-20-c435cd77fc11>:13: SettingWithCopyWarning: \n",
            "A value is trying to be set on a copy of a slice from a DataFrame.\n",
            "Try using .loc[row_indexer,col_indexer] = value instead\n",
            "\n",
            "See the caveats in the documentation: https://pandas.pydata.org/pandas-docs/stable/user_guide/indexing.html#returning-a-view-versus-a-copy\n",
            "  df_corr['HourDK'] = pd.to_datetime(df_corr['HourDK'])\n"
          ]
        },
        {
          "name": "stdout",
          "output_type": "stream",
          "text": [
            "Epoch 1/10\n",
            "1568/1568 [==============================] - 17s 9ms/step - loss: 0.0085 - val_loss: 0.0023 - lr: 0.0010\n",
            "Epoch 2/10\n",
            "1568/1568 [==============================] - 13s 8ms/step - loss: 0.0030 - val_loss: 0.0017 - lr: 0.0010\n",
            "Epoch 3/10\n",
            "1568/1568 [==============================] - 13s 8ms/step - loss: 0.0018 - val_loss: 8.8479e-04 - lr: 0.0010\n",
            "Epoch 4/10\n",
            "1568/1568 [==============================] - 13s 8ms/step - loss: 0.0012 - val_loss: 9.2928e-04 - lr: 0.0010\n",
            "Epoch 5/10\n",
            "1568/1568 [==============================] - 13s 8ms/step - loss: 9.3381e-04 - val_loss: 4.8769e-04 - lr: 0.0010\n",
            "Epoch 6/10\n",
            "1568/1568 [==============================] - 14s 9ms/step - loss: 7.8529e-04 - val_loss: 3.9945e-04 - lr: 0.0010\n",
            "Epoch 7/10\n",
            "1568/1568 [==============================] - 13s 8ms/step - loss: 7.1068e-04 - val_loss: 2.5525e-04 - lr: 0.0010\n",
            "Epoch 8/10\n",
            "1568/1568 [==============================] - 13s 8ms/step - loss: 6.3108e-04 - val_loss: 2.7704e-04 - lr: 0.0010\n",
            "Epoch 9/10\n",
            "1568/1568 [==============================] - 12s 8ms/step - loss: 6.0066e-04 - val_loss: 2.5409e-04 - lr: 0.0010\n",
            "Epoch 10/10\n",
            "1568/1568 [==============================] - 12s 8ms/step - loss: 5.6227e-04 - val_loss: 1.3277e-04 - lr: 0.0010\n"
          ]
        },
        {
          "name": "stderr",
          "output_type": "stream",
          "text": [
            "/usr/local/lib/python3.10/dist-packages/keras/src/engine/training.py:3103: UserWarning: You are saving your model as an HDF5 file via `model.save()`. This file format is considered legacy. We recommend using instead the native Keras format, e.g. `model.save('my_model.keras')`.\n",
            "  saving_api.save_model(\n"
          ]
        },
        {
          "name": "stdout",
          "output_type": "stream",
          "text": [
            "245/245 [==============================] - 2s 4ms/step\n",
            "R² Score: 0.9964069563445466\n",
            "Mean Absolute Error (MAE): 0.00956308919356663\n",
            "Mean Squared Error (MSE): 0.0001545144334125611\n",
            "Root Mean Squared Error (RMSE): 0.012430383478097572\n",
            "Training LSTM model with DKCode:  H_H\n"
          ]
        },
        {
          "name": "stderr",
          "output_type": "stream",
          "text": [
            "<ipython-input-20-c435cd77fc11>:12: SettingWithCopyWarning: \n",
            "A value is trying to be set on a copy of a slice from a DataFrame.\n",
            "Try using .loc[row_indexer,col_indexer] = value instead\n",
            "\n",
            "See the caveats in the documentation: https://pandas.pydata.org/pandas-docs/stable/user_guide/indexing.html#returning-a-view-versus-a-copy\n",
            "  df_corr['HourUTC'] = pd.to_datetime(df_corr['HourUTC'])\n",
            "<ipython-input-20-c435cd77fc11>:13: SettingWithCopyWarning: \n",
            "A value is trying to be set on a copy of a slice from a DataFrame.\n",
            "Try using .loc[row_indexer,col_indexer] = value instead\n",
            "\n",
            "See the caveats in the documentation: https://pandas.pydata.org/pandas-docs/stable/user_guide/indexing.html#returning-a-view-versus-a-copy\n",
            "  df_corr['HourDK'] = pd.to_datetime(df_corr['HourDK'])\n"
          ]
        },
        {
          "name": "stdout",
          "output_type": "stream",
          "text": [
            "Epoch 1/10\n",
            "1568/1568 [==============================] - 17s 9ms/step - loss: 0.0055 - val_loss: 0.0026 - lr: 0.0010\n",
            "Epoch 2/10\n",
            "1568/1568 [==============================] - 13s 9ms/step - loss: 0.0022 - val_loss: 0.0011 - lr: 0.0010\n",
            "Epoch 3/10\n",
            "1568/1568 [==============================] - 13s 8ms/step - loss: 0.0012 - val_loss: 0.0011 - lr: 0.0010\n",
            "Epoch 4/10\n",
            "1568/1568 [==============================] - 13s 8ms/step - loss: 8.9660e-04 - val_loss: 6.3895e-04 - lr: 0.0010\n",
            "Epoch 5/10\n",
            "1568/1568 [==============================] - 13s 8ms/step - loss: 7.5541e-04 - val_loss: 6.9512e-04 - lr: 0.0010\n",
            "Epoch 6/10\n",
            "1568/1568 [==============================] - 13s 8ms/step - loss: 6.6834e-04 - val_loss: 5.7544e-04 - lr: 0.0010\n",
            "Epoch 7/10\n",
            "1568/1568 [==============================] - 12s 8ms/step - loss: 6.4235e-04 - val_loss: 5.5631e-04 - lr: 0.0010\n",
            "Epoch 8/10\n",
            "1568/1568 [==============================] - 13s 8ms/step - loss: 5.9709e-04 - val_loss: 5.1784e-04 - lr: 0.0010\n",
            "Epoch 9/10\n",
            "1568/1568 [==============================] - 13s 8ms/step - loss: 5.9195e-04 - val_loss: 5.3525e-04 - lr: 0.0010\n",
            "Epoch 10/10\n",
            "1568/1568 [==============================] - 13s 8ms/step - loss: 5.6669e-04 - val_loss: 4.5665e-04 - lr: 0.0010\n"
          ]
        },
        {
          "name": "stderr",
          "output_type": "stream",
          "text": [
            "/usr/local/lib/python3.10/dist-packages/keras/src/engine/training.py:3103: UserWarning: You are saving your model as an HDF5 file via `model.save()`. This file format is considered legacy. We recommend using instead the native Keras format, e.g. `model.save('my_model.keras')`.\n",
            "  saving_api.save_model(\n"
          ]
        },
        {
          "name": "stdout",
          "output_type": "stream",
          "text": [
            "245/245 [==============================] - 1s 3ms/step\n",
            "R² Score: 0.9781957674161829\n",
            "Mean Absolute Error (MAE): 0.017126824823426357\n",
            "Mean Squared Error (MSE): 0.0004973876201118435\n",
            "Root Mean Squared Error (RMSE): 0.022302188684338663\n",
            "Training LSTM model with DKCode:  I_I\n"
          ]
        },
        {
          "name": "stderr",
          "output_type": "stream",
          "text": [
            "<ipython-input-20-c435cd77fc11>:12: SettingWithCopyWarning: \n",
            "A value is trying to be set on a copy of a slice from a DataFrame.\n",
            "Try using .loc[row_indexer,col_indexer] = value instead\n",
            "\n",
            "See the caveats in the documentation: https://pandas.pydata.org/pandas-docs/stable/user_guide/indexing.html#returning-a-view-versus-a-copy\n",
            "  df_corr['HourUTC'] = pd.to_datetime(df_corr['HourUTC'])\n",
            "<ipython-input-20-c435cd77fc11>:13: SettingWithCopyWarning: \n",
            "A value is trying to be set on a copy of a slice from a DataFrame.\n",
            "Try using .loc[row_indexer,col_indexer] = value instead\n",
            "\n",
            "See the caveats in the documentation: https://pandas.pydata.org/pandas-docs/stable/user_guide/indexing.html#returning-a-view-versus-a-copy\n",
            "  df_corr['HourDK'] = pd.to_datetime(df_corr['HourDK'])\n"
          ]
        },
        {
          "name": "stdout",
          "output_type": "stream",
          "text": [
            "Epoch 1/10\n",
            "1568/1568 [==============================] - 18s 9ms/step - loss: 0.0067 - val_loss: 0.0029 - lr: 0.0010\n",
            "Epoch 2/10\n",
            "1568/1568 [==============================] - 12s 8ms/step - loss: 0.0022 - val_loss: 9.6667e-04 - lr: 0.0010\n",
            "Epoch 3/10\n",
            "1568/1568 [==============================] - 12s 8ms/step - loss: 0.0013 - val_loss: 8.8565e-04 - lr: 0.0010\n",
            "Epoch 4/10\n",
            "1568/1568 [==============================] - 13s 8ms/step - loss: 0.0010 - val_loss: 7.9462e-04 - lr: 0.0010\n",
            "Epoch 5/10\n",
            "1568/1568 [==============================] - 13s 8ms/step - loss: 8.7116e-04 - val_loss: 4.4490e-04 - lr: 0.0010\n",
            "Epoch 6/10\n",
            "1568/1568 [==============================] - 13s 8ms/step - loss: 7.2835e-04 - val_loss: 3.2245e-04 - lr: 0.0010\n",
            "Epoch 7/10\n",
            "1568/1568 [==============================] - 13s 8ms/step - loss: 6.5223e-04 - val_loss: 3.2534e-04 - lr: 0.0010\n",
            "Epoch 8/10\n",
            "1568/1568 [==============================] - 13s 8ms/step - loss: 5.8097e-04 - val_loss: 2.0039e-04 - lr: 0.0010\n",
            "Epoch 9/10\n",
            "1568/1568 [==============================] - 13s 8ms/step - loss: 5.4291e-04 - val_loss: 4.4180e-04 - lr: 0.0010\n",
            "Epoch 10/10\n",
            "1568/1568 [==============================] - 13s 9ms/step - loss: 4.9234e-04 - val_loss: 3.1005e-04 - lr: 0.0010\n"
          ]
        },
        {
          "name": "stderr",
          "output_type": "stream",
          "text": [
            "/usr/local/lib/python3.10/dist-packages/keras/src/engine/training.py:3103: UserWarning: You are saving your model as an HDF5 file via `model.save()`. This file format is considered legacy. We recommend using instead the native Keras format, e.g. `model.save('my_model.keras')`.\n",
            "  saving_api.save_model(\n"
          ]
        },
        {
          "name": "stdout",
          "output_type": "stream",
          "text": [
            "245/245 [==============================] - 1s 3ms/step\n",
            "R² Score: 0.991903952182602\n",
            "Mean Absolute Error (MAE): 0.013595693264751907\n",
            "Mean Squared Error (MSE): 0.00028945976079692806\n",
            "Root Mean Squared Error (RMSE): 0.01701351700257557\n",
            "Training LSTM model with DKCode:  J_JA\n"
          ]
        },
        {
          "name": "stderr",
          "output_type": "stream",
          "text": [
            "<ipython-input-20-c435cd77fc11>:12: SettingWithCopyWarning: \n",
            "A value is trying to be set on a copy of a slice from a DataFrame.\n",
            "Try using .loc[row_indexer,col_indexer] = value instead\n",
            "\n",
            "See the caveats in the documentation: https://pandas.pydata.org/pandas-docs/stable/user_guide/indexing.html#returning-a-view-versus-a-copy\n",
            "  df_corr['HourUTC'] = pd.to_datetime(df_corr['HourUTC'])\n",
            "<ipython-input-20-c435cd77fc11>:13: SettingWithCopyWarning: \n",
            "A value is trying to be set on a copy of a slice from a DataFrame.\n",
            "Try using .loc[row_indexer,col_indexer] = value instead\n",
            "\n",
            "See the caveats in the documentation: https://pandas.pydata.org/pandas-docs/stable/user_guide/indexing.html#returning-a-view-versus-a-copy\n",
            "  df_corr['HourDK'] = pd.to_datetime(df_corr['HourDK'])\n"
          ]
        },
        {
          "name": "stdout",
          "output_type": "stream",
          "text": [
            "Epoch 1/10\n",
            "1568/1568 [==============================] - 18s 9ms/step - loss: 0.0068 - val_loss: 0.0018 - lr: 0.0010\n",
            "Epoch 2/10\n",
            "1568/1568 [==============================] - 13s 8ms/step - loss: 0.0025 - val_loss: 9.9832e-04 - lr: 0.0010\n",
            "Epoch 3/10\n",
            "1568/1568 [==============================] - 13s 8ms/step - loss: 0.0015 - val_loss: 7.7462e-04 - lr: 0.0010\n",
            "Epoch 4/10\n",
            "1568/1568 [==============================] - 13s 8ms/step - loss: 0.0011 - val_loss: 9.0744e-04 - lr: 0.0010\n",
            "Epoch 5/10\n",
            "1568/1568 [==============================] - 13s 8ms/step - loss: 8.5239e-04 - val_loss: 4.3768e-04 - lr: 0.0010\n",
            "Epoch 6/10\n",
            "1568/1568 [==============================] - 13s 8ms/step - loss: 7.6411e-04 - val_loss: 4.1336e-04 - lr: 0.0010\n",
            "Epoch 7/10\n",
            "1568/1568 [==============================] - 14s 9ms/step - loss: 7.0236e-04 - val_loss: 3.9650e-04 - lr: 0.0010\n",
            "Epoch 8/10\n",
            "1568/1568 [==============================] - 13s 8ms/step - loss: 6.6147e-04 - val_loss: 4.8483e-04 - lr: 0.0010\n",
            "Epoch 9/10\n",
            "1568/1568 [==============================] - 14s 9ms/step - loss: 6.2723e-04 - val_loss: 3.5784e-04 - lr: 0.0010\n",
            "Epoch 10/10\n",
            "1568/1568 [==============================] - 14s 9ms/step - loss: 6.0221e-04 - val_loss: 3.3079e-04 - lr: 0.0010\n"
          ]
        },
        {
          "name": "stderr",
          "output_type": "stream",
          "text": [
            "/usr/local/lib/python3.10/dist-packages/keras/src/engine/training.py:3103: UserWarning: You are saving your model as an HDF5 file via `model.save()`. This file format is considered legacy. We recommend using instead the native Keras format, e.g. `model.save('my_model.keras')`.\n",
            "  saving_api.save_model(\n"
          ]
        },
        {
          "name": "stdout",
          "output_type": "stream",
          "text": [
            "245/245 [==============================] - 1s 3ms/step\n",
            "R² Score: 0.9871268161454079\n",
            "Mean Absolute Error (MAE): 0.01390528167114591\n",
            "Mean Squared Error (MSE): 0.00033896368159677236\n",
            "Root Mean Squared Error (RMSE): 0.018410966340656112\n",
            "Training LSTM model with DKCode:  J_JB_JC\n"
          ]
        },
        {
          "name": "stderr",
          "output_type": "stream",
          "text": [
            "<ipython-input-20-c435cd77fc11>:12: SettingWithCopyWarning: \n",
            "A value is trying to be set on a copy of a slice from a DataFrame.\n",
            "Try using .loc[row_indexer,col_indexer] = value instead\n",
            "\n",
            "See the caveats in the documentation: https://pandas.pydata.org/pandas-docs/stable/user_guide/indexing.html#returning-a-view-versus-a-copy\n",
            "  df_corr['HourUTC'] = pd.to_datetime(df_corr['HourUTC'])\n",
            "<ipython-input-20-c435cd77fc11>:13: SettingWithCopyWarning: \n",
            "A value is trying to be set on a copy of a slice from a DataFrame.\n",
            "Try using .loc[row_indexer,col_indexer] = value instead\n",
            "\n",
            "See the caveats in the documentation: https://pandas.pydata.org/pandas-docs/stable/user_guide/indexing.html#returning-a-view-versus-a-copy\n",
            "  df_corr['HourDK'] = pd.to_datetime(df_corr['HourDK'])\n"
          ]
        },
        {
          "name": "stdout",
          "output_type": "stream",
          "text": [
            "Epoch 1/10\n",
            "1568/1568 [==============================] - 17s 9ms/step - loss: 0.0053 - val_loss: 0.0031 - lr: 0.0010\n",
            "Epoch 2/10\n",
            "1568/1568 [==============================] - 13s 8ms/step - loss: 0.0021 - val_loss: 7.0598e-04 - lr: 0.0010\n",
            "Epoch 3/10\n",
            "1568/1568 [==============================] - 13s 8ms/step - loss: 0.0012 - val_loss: 9.6170e-04 - lr: 0.0010\n",
            "Epoch 4/10\n",
            "1568/1568 [==============================] - 13s 8ms/step - loss: 6.6967e-04 - val_loss: 4.0755e-04 - lr: 0.0010\n",
            "Epoch 5/10\n",
            "1568/1568 [==============================] - 13s 8ms/step - loss: 4.7490e-04 - val_loss: 2.3841e-04 - lr: 0.0010\n",
            "Epoch 6/10\n",
            "1568/1568 [==============================] - 13s 8ms/step - loss: 3.3393e-04 - val_loss: 1.6307e-04 - lr: 0.0010\n",
            "Epoch 7/10\n",
            "1568/1568 [==============================] - 14s 9ms/step - loss: 2.7948e-04 - val_loss: 2.0227e-04 - lr: 0.0010\n",
            "Epoch 8/10\n",
            "1568/1568 [==============================] - 14s 9ms/step - loss: 2.4840e-04 - val_loss: 1.4997e-04 - lr: 0.0010\n",
            "Epoch 9/10\n",
            "1568/1568 [==============================] - 13s 8ms/step - loss: 2.4778e-04 - val_loss: 1.2210e-04 - lr: 0.0010\n",
            "Epoch 10/10\n",
            "1568/1568 [==============================] - 12s 8ms/step - loss: 2.0589e-04 - val_loss: 9.4258e-05 - lr: 0.0010\n"
          ]
        },
        {
          "name": "stderr",
          "output_type": "stream",
          "text": [
            "/usr/local/lib/python3.10/dist-packages/keras/src/engine/training.py:3103: UserWarning: You are saving your model as an HDF5 file via `model.save()`. This file format is considered legacy. We recommend using instead the native Keras format, e.g. `model.save('my_model.keras')`.\n",
            "  saving_api.save_model(\n"
          ]
        },
        {
          "name": "stdout",
          "output_type": "stream",
          "text": [
            "245/245 [==============================] - 2s 4ms/step\n",
            "R² Score: 0.9244145313496893\n",
            "Mean Absolute Error (MAE): 0.01078603565266881\n",
            "Mean Squared Error (MSE): 0.00020981705612959064\n",
            "Root Mean Squared Error (RMSE): 0.014485063207649135\n",
            "Training LSTM model with DKCode:  K_K\n"
          ]
        },
        {
          "name": "stderr",
          "output_type": "stream",
          "text": [
            "<ipython-input-20-c435cd77fc11>:12: SettingWithCopyWarning: \n",
            "A value is trying to be set on a copy of a slice from a DataFrame.\n",
            "Try using .loc[row_indexer,col_indexer] = value instead\n",
            "\n",
            "See the caveats in the documentation: https://pandas.pydata.org/pandas-docs/stable/user_guide/indexing.html#returning-a-view-versus-a-copy\n",
            "  df_corr['HourUTC'] = pd.to_datetime(df_corr['HourUTC'])\n",
            "<ipython-input-20-c435cd77fc11>:13: SettingWithCopyWarning: \n",
            "A value is trying to be set on a copy of a slice from a DataFrame.\n",
            "Try using .loc[row_indexer,col_indexer] = value instead\n",
            "\n",
            "See the caveats in the documentation: https://pandas.pydata.org/pandas-docs/stable/user_guide/indexing.html#returning-a-view-versus-a-copy\n",
            "  df_corr['HourDK'] = pd.to_datetime(df_corr['HourDK'])\n"
          ]
        },
        {
          "name": "stdout",
          "output_type": "stream",
          "text": [
            "Epoch 1/10\n",
            "1568/1568 [==============================] - 17s 9ms/step - loss: 0.0069 - val_loss: 0.0024 - lr: 0.0010\n",
            "Epoch 2/10\n",
            "1568/1568 [==============================] - 13s 8ms/step - loss: 0.0025 - val_loss: 9.7287e-04 - lr: 0.0010\n",
            "Epoch 3/10\n",
            "1568/1568 [==============================] - 14s 9ms/step - loss: 0.0013 - val_loss: 5.3731e-04 - lr: 0.0010\n",
            "Epoch 4/10\n",
            "1568/1568 [==============================] - 14s 9ms/step - loss: 8.2866e-04 - val_loss: 7.2728e-04 - lr: 0.0010\n",
            "Epoch 5/10\n",
            "1568/1568 [==============================] - 14s 9ms/step - loss: 6.0087e-04 - val_loss: 2.3736e-04 - lr: 0.0010\n",
            "Epoch 6/10\n",
            "1568/1568 [==============================] - 14s 9ms/step - loss: 5.1648e-04 - val_loss: 1.5472e-04 - lr: 0.0010\n",
            "Epoch 7/10\n",
            "1568/1568 [==============================] - 14s 9ms/step - loss: 4.5078e-04 - val_loss: 1.3083e-04 - lr: 0.0010\n",
            "Epoch 8/10\n",
            "1568/1568 [==============================] - 14s 9ms/step - loss: 4.1711e-04 - val_loss: 1.9064e-04 - lr: 0.0010\n",
            "Epoch 9/10\n",
            "1568/1568 [==============================] - 14s 9ms/step - loss: 3.9282e-04 - val_loss: 3.1834e-04 - lr: 0.0010\n",
            "Epoch 10/10\n",
            "1568/1568 [==============================] - 13s 9ms/step - loss: 3.7869e-04 - val_loss: 2.4074e-04 - lr: 0.0010\n"
          ]
        },
        {
          "name": "stderr",
          "output_type": "stream",
          "text": [
            "/usr/local/lib/python3.10/dist-packages/keras/src/engine/training.py:3103: UserWarning: You are saving your model as an HDF5 file via `model.save()`. This file format is considered legacy. We recommend using instead the native Keras format, e.g. `model.save('my_model.keras')`.\n",
            "  saving_api.save_model(\n"
          ]
        },
        {
          "name": "stdout",
          "output_type": "stream",
          "text": [
            "245/245 [==============================] - 1s 3ms/step\n",
            "R² Score: 0.9902805387617845\n",
            "Mean Absolute Error (MAE): 0.012557159551420989\n",
            "Mean Squared Error (MSE): 0.00024815159971119434\n",
            "Root Mean Squared Error (RMSE): 0.01575282830831322\n",
            "Training LSTM model with DKCode:  L_L\n"
          ]
        },
        {
          "name": "stderr",
          "output_type": "stream",
          "text": [
            "<ipython-input-20-c435cd77fc11>:12: SettingWithCopyWarning: \n",
            "A value is trying to be set on a copy of a slice from a DataFrame.\n",
            "Try using .loc[row_indexer,col_indexer] = value instead\n",
            "\n",
            "See the caveats in the documentation: https://pandas.pydata.org/pandas-docs/stable/user_guide/indexing.html#returning-a-view-versus-a-copy\n",
            "  df_corr['HourUTC'] = pd.to_datetime(df_corr['HourUTC'])\n",
            "<ipython-input-20-c435cd77fc11>:13: SettingWithCopyWarning: \n",
            "A value is trying to be set on a copy of a slice from a DataFrame.\n",
            "Try using .loc[row_indexer,col_indexer] = value instead\n",
            "\n",
            "See the caveats in the documentation: https://pandas.pydata.org/pandas-docs/stable/user_guide/indexing.html#returning-a-view-versus-a-copy\n",
            "  df_corr['HourDK'] = pd.to_datetime(df_corr['HourDK'])\n"
          ]
        },
        {
          "name": "stdout",
          "output_type": "stream",
          "text": [
            "Epoch 1/10\n",
            "1568/1568 [==============================] - 17s 9ms/step - loss: 0.0082 - val_loss: 0.0024 - lr: 0.0010\n",
            "Epoch 2/10\n",
            "1568/1568 [==============================] - 13s 8ms/step - loss: 0.0029 - val_loss: 0.0010 - lr: 0.0010\n",
            "Epoch 3/10\n",
            "1568/1568 [==============================] - 13s 8ms/step - loss: 0.0016 - val_loss: 7.5074e-04 - lr: 0.0010\n",
            "Epoch 4/10\n",
            "1568/1568 [==============================] - 13s 8ms/step - loss: 0.0011 - val_loss: 5.7585e-04 - lr: 0.0010\n",
            "Epoch 5/10\n",
            "1568/1568 [==============================] - 13s 8ms/step - loss: 8.6763e-04 - val_loss: 4.3900e-04 - lr: 0.0010\n",
            "Epoch 6/10\n",
            "1568/1568 [==============================] - 13s 8ms/step - loss: 7.2565e-04 - val_loss: 3.4523e-04 - lr: 0.0010\n",
            "Epoch 7/10\n",
            "1568/1568 [==============================] - 14s 9ms/step - loss: 6.5973e-04 - val_loss: 3.7108e-04 - lr: 0.0010\n",
            "Epoch 8/10\n",
            "1568/1568 [==============================] - 14s 9ms/step - loss: 6.0825e-04 - val_loss: 2.8257e-04 - lr: 0.0010\n",
            "Epoch 9/10\n",
            "1568/1568 [==============================] - 12s 8ms/step - loss: 5.7114e-04 - val_loss: 2.9893e-04 - lr: 0.0010\n",
            "Epoch 10/10\n",
            "1568/1568 [==============================] - 14s 9ms/step - loss: 5.4086e-04 - val_loss: 2.2867e-04 - lr: 0.0010\n"
          ]
        },
        {
          "name": "stderr",
          "output_type": "stream",
          "text": [
            "/usr/local/lib/python3.10/dist-packages/keras/src/engine/training.py:3103: UserWarning: You are saving your model as an HDF5 file via `model.save()`. This file format is considered legacy. We recommend using instead the native Keras format, e.g. `model.save('my_model.keras')`.\n",
            "  saving_api.save_model(\n"
          ]
        },
        {
          "name": "stdout",
          "output_type": "stream",
          "text": [
            "245/245 [==============================] - 1s 3ms/step\n",
            "R² Score: 0.9879524088889412\n",
            "Mean Absolute Error (MAE): 0.013431309766768545\n",
            "Mean Squared Error (MSE): 0.00032542449961969625\n",
            "Root Mean Squared Error (RMSE): 0.018039526036448303\n",
            "Training LSTM model with DKCode:  M_MA\n"
          ]
        },
        {
          "name": "stderr",
          "output_type": "stream",
          "text": [
            "<ipython-input-20-c435cd77fc11>:12: SettingWithCopyWarning: \n",
            "A value is trying to be set on a copy of a slice from a DataFrame.\n",
            "Try using .loc[row_indexer,col_indexer] = value instead\n",
            "\n",
            "See the caveats in the documentation: https://pandas.pydata.org/pandas-docs/stable/user_guide/indexing.html#returning-a-view-versus-a-copy\n",
            "  df_corr['HourUTC'] = pd.to_datetime(df_corr['HourUTC'])\n",
            "<ipython-input-20-c435cd77fc11>:13: SettingWithCopyWarning: \n",
            "A value is trying to be set on a copy of a slice from a DataFrame.\n",
            "Try using .loc[row_indexer,col_indexer] = value instead\n",
            "\n",
            "See the caveats in the documentation: https://pandas.pydata.org/pandas-docs/stable/user_guide/indexing.html#returning-a-view-versus-a-copy\n",
            "  df_corr['HourDK'] = pd.to_datetime(df_corr['HourDK'])\n"
          ]
        },
        {
          "name": "stdout",
          "output_type": "stream",
          "text": [
            "Epoch 1/10\n",
            "1568/1568 [==============================] - 17s 9ms/step - loss: 0.0048 - val_loss: 0.0032 - lr: 0.0010\n",
            "Epoch 2/10\n",
            "1568/1568 [==============================] - 13s 8ms/step - loss: 0.0017 - val_loss: 0.0025 - lr: 0.0010\n",
            "Epoch 3/10\n",
            "1568/1568 [==============================] - 13s 8ms/step - loss: 0.0010 - val_loss: 0.0019 - lr: 0.0010\n",
            "Epoch 4/10\n",
            "1568/1568 [==============================] - 13s 8ms/step - loss: 7.6622e-04 - val_loss: 0.0020 - lr: 0.0010\n",
            "Epoch 5/10\n",
            "1568/1568 [==============================] - 13s 8ms/step - loss: 6.3960e-04 - val_loss: 0.0019 - lr: 0.0010\n",
            "Epoch 6/10\n",
            "1568/1568 [==============================] - 13s 9ms/step - loss: 5.9865e-04 - val_loss: 0.0019 - lr: 0.0010\n",
            "Epoch 7/10\n",
            "1568/1568 [==============================] - 14s 9ms/step - loss: 5.5628e-04 - val_loss: 0.0017 - lr: 0.0010\n",
            "Epoch 8/10\n",
            "1568/1568 [==============================] - 12s 8ms/step - loss: 5.3386e-04 - val_loss: 0.0017 - lr: 0.0010\n",
            "Epoch 9/10\n",
            "1568/1568 [==============================] - 14s 9ms/step - loss: 5.1715e-04 - val_loss: 0.0017 - lr: 0.0010\n",
            "Epoch 10/10\n",
            "1568/1568 [==============================] - 12s 8ms/step - loss: 4.9635e-04 - val_loss: 0.0017 - lr: 0.0010\n"
          ]
        },
        {
          "name": "stderr",
          "output_type": "stream",
          "text": [
            "/usr/local/lib/python3.10/dist-packages/keras/src/engine/training.py:3103: UserWarning: You are saving your model as an HDF5 file via `model.save()`. This file format is considered legacy. We recommend using instead the native Keras format, e.g. `model.save('my_model.keras')`.\n",
            "  saving_api.save_model(\n"
          ]
        },
        {
          "name": "stdout",
          "output_type": "stream",
          "text": [
            "245/245 [==============================] - 2s 4ms/step\n",
            "R² Score: 0.868839712809043\n",
            "Mean Absolute Error (MAE): 0.037141210547669376\n",
            "Mean Squared Error (MSE): 0.004353117433497738\n",
            "Root Mean Squared Error (RMSE): 0.0659781587610456\n",
            "Training LSTM model with DKCode:  M_MB\n"
          ]
        },
        {
          "name": "stderr",
          "output_type": "stream",
          "text": [
            "<ipython-input-20-c435cd77fc11>:12: SettingWithCopyWarning: \n",
            "A value is trying to be set on a copy of a slice from a DataFrame.\n",
            "Try using .loc[row_indexer,col_indexer] = value instead\n",
            "\n",
            "See the caveats in the documentation: https://pandas.pydata.org/pandas-docs/stable/user_guide/indexing.html#returning-a-view-versus-a-copy\n",
            "  df_corr['HourUTC'] = pd.to_datetime(df_corr['HourUTC'])\n",
            "<ipython-input-20-c435cd77fc11>:13: SettingWithCopyWarning: \n",
            "A value is trying to be set on a copy of a slice from a DataFrame.\n",
            "Try using .loc[row_indexer,col_indexer] = value instead\n",
            "\n",
            "See the caveats in the documentation: https://pandas.pydata.org/pandas-docs/stable/user_guide/indexing.html#returning-a-view-versus-a-copy\n",
            "  df_corr['HourDK'] = pd.to_datetime(df_corr['HourDK'])\n"
          ]
        },
        {
          "name": "stdout",
          "output_type": "stream",
          "text": [
            "Epoch 1/10\n",
            "1568/1568 [==============================] - 17s 9ms/step - loss: 0.0055 - val_loss: 0.0040 - lr: 0.0010\n",
            "Epoch 2/10\n",
            "1568/1568 [==============================] - 13s 8ms/step - loss: 0.0019 - val_loss: 0.0022 - lr: 0.0010\n",
            "Epoch 3/10\n",
            "1568/1568 [==============================] - 13s 8ms/step - loss: 0.0012 - val_loss: 0.0014 - lr: 0.0010\n",
            "Epoch 4/10\n",
            "1568/1568 [==============================] - 13s 8ms/step - loss: 8.2454e-04 - val_loss: 0.0010 - lr: 0.0010\n",
            "Epoch 5/10\n",
            "1568/1568 [==============================] - 12s 8ms/step - loss: 6.4352e-04 - val_loss: 9.2684e-04 - lr: 0.0010\n",
            "Epoch 6/10\n",
            "1568/1568 [==============================] - 12s 8ms/step - loss: 5.7628e-04 - val_loss: 8.5215e-04 - lr: 0.0010\n",
            "Epoch 7/10\n",
            "1568/1568 [==============================] - 13s 8ms/step - loss: 5.2122e-04 - val_loss: 7.6397e-04 - lr: 0.0010\n",
            "Epoch 8/10\n",
            "1568/1568 [==============================] - 13s 8ms/step - loss: 4.9548e-04 - val_loss: 8.5424e-04 - lr: 0.0010\n",
            "Epoch 9/10\n",
            "1568/1568 [==============================] - 13s 8ms/step - loss: 4.8588e-04 - val_loss: 8.1290e-04 - lr: 0.0010\n",
            "Epoch 10/10\n",
            "1568/1568 [==============================] - 13s 8ms/step - loss: 4.8345e-04 - val_loss: 8.2116e-04 - lr: 0.0010\n"
          ]
        },
        {
          "name": "stderr",
          "output_type": "stream",
          "text": [
            "/usr/local/lib/python3.10/dist-packages/keras/src/engine/training.py:3103: UserWarning: You are saving your model as an HDF5 file via `model.save()`. This file format is considered legacy. We recommend using instead the native Keras format, e.g. `model.save('my_model.keras')`.\n",
            "  saving_api.save_model(\n"
          ]
        },
        {
          "name": "stdout",
          "output_type": "stream",
          "text": [
            "245/245 [==============================] - 2s 3ms/step\n",
            "R² Score: 0.9618345141223864\n",
            "Mean Absolute Error (MAE): 0.020489036684254117\n",
            "Mean Squared Error (MSE): 0.0009414856558158277\n",
            "Root Mean Squared Error (RMSE): 0.030683638242813182\n",
            "Training LSTM model with DKCode:  M_MC\n"
          ]
        },
        {
          "name": "stderr",
          "output_type": "stream",
          "text": [
            "<ipython-input-20-c435cd77fc11>:12: SettingWithCopyWarning: \n",
            "A value is trying to be set on a copy of a slice from a DataFrame.\n",
            "Try using .loc[row_indexer,col_indexer] = value instead\n",
            "\n",
            "See the caveats in the documentation: https://pandas.pydata.org/pandas-docs/stable/user_guide/indexing.html#returning-a-view-versus-a-copy\n",
            "  df_corr['HourUTC'] = pd.to_datetime(df_corr['HourUTC'])\n",
            "<ipython-input-20-c435cd77fc11>:13: SettingWithCopyWarning: \n",
            "A value is trying to be set on a copy of a slice from a DataFrame.\n",
            "Try using .loc[row_indexer,col_indexer] = value instead\n",
            "\n",
            "See the caveats in the documentation: https://pandas.pydata.org/pandas-docs/stable/user_guide/indexing.html#returning-a-view-versus-a-copy\n",
            "  df_corr['HourDK'] = pd.to_datetime(df_corr['HourDK'])\n"
          ]
        },
        {
          "name": "stdout",
          "output_type": "stream",
          "text": [
            "Epoch 1/10\n",
            "1568/1568 [==============================] - 18s 9ms/step - loss: 0.0075 - val_loss: 0.0021 - lr: 0.0010\n",
            "Epoch 2/10\n",
            "1568/1568 [==============================] - 14s 9ms/step - loss: 0.0027 - val_loss: 0.0011 - lr: 0.0010\n",
            "Epoch 3/10\n",
            "1568/1568 [==============================] - 13s 9ms/step - loss: 0.0015 - val_loss: 5.8425e-04 - lr: 0.0010\n",
            "Epoch 4/10\n",
            "1568/1568 [==============================] - 13s 8ms/step - loss: 9.9783e-04 - val_loss: 4.9671e-04 - lr: 0.0010\n",
            "Epoch 5/10\n",
            "1568/1568 [==============================] - 12s 8ms/step - loss: 8.0995e-04 - val_loss: 2.7560e-04 - lr: 0.0010\n",
            "Epoch 6/10\n",
            "1568/1568 [==============================] - 12s 8ms/step - loss: 7.1488e-04 - val_loss: 1.7172e-04 - lr: 0.0010\n",
            "Epoch 7/10\n",
            "1568/1568 [==============================] - 13s 8ms/step - loss: 6.3526e-04 - val_loss: 4.6609e-04 - lr: 0.0010\n",
            "Epoch 8/10\n",
            "1568/1568 [==============================] - 13s 8ms/step - loss: 5.9449e-04 - val_loss: 1.6255e-04 - lr: 0.0010\n",
            "Epoch 9/10\n",
            "1568/1568 [==============================] - 13s 8ms/step - loss: 5.5764e-04 - val_loss: 2.4718e-04 - lr: 0.0010\n",
            "Epoch 10/10\n",
            "1568/1568 [==============================] - 13s 8ms/step - loss: 5.5022e-04 - val_loss: 1.5669e-04 - lr: 0.0010\n"
          ]
        },
        {
          "name": "stderr",
          "output_type": "stream",
          "text": [
            "/usr/local/lib/python3.10/dist-packages/keras/src/engine/training.py:3103: UserWarning: You are saving your model as an HDF5 file via `model.save()`. This file format is considered legacy. We recommend using instead the native Keras format, e.g. `model.save('my_model.keras')`.\n",
            "  saving_api.save_model(\n"
          ]
        },
        {
          "name": "stdout",
          "output_type": "stream",
          "text": [
            "245/245 [==============================] - 1s 3ms/step\n",
            "R² Score: 0.9952651443890473\n",
            "Mean Absolute Error (MAE): 0.010519880024152398\n",
            "Mean Squared Error (MSE): 0.0001956614989813837\n",
            "Root Mean Squared Error (RMSE): 0.013987905453690474\n",
            "Training LSTM model with DKCode:  N_N\n"
          ]
        },
        {
          "name": "stderr",
          "output_type": "stream",
          "text": [
            "<ipython-input-20-c435cd77fc11>:12: SettingWithCopyWarning: \n",
            "A value is trying to be set on a copy of a slice from a DataFrame.\n",
            "Try using .loc[row_indexer,col_indexer] = value instead\n",
            "\n",
            "See the caveats in the documentation: https://pandas.pydata.org/pandas-docs/stable/user_guide/indexing.html#returning-a-view-versus-a-copy\n",
            "  df_corr['HourUTC'] = pd.to_datetime(df_corr['HourUTC'])\n",
            "<ipython-input-20-c435cd77fc11>:13: SettingWithCopyWarning: \n",
            "A value is trying to be set on a copy of a slice from a DataFrame.\n",
            "Try using .loc[row_indexer,col_indexer] = value instead\n",
            "\n",
            "See the caveats in the documentation: https://pandas.pydata.org/pandas-docs/stable/user_guide/indexing.html#returning-a-view-versus-a-copy\n",
            "  df_corr['HourDK'] = pd.to_datetime(df_corr['HourDK'])\n"
          ]
        },
        {
          "name": "stdout",
          "output_type": "stream",
          "text": [
            "Epoch 1/10\n",
            "1568/1568 [==============================] - 18s 9ms/step - loss: 1.7034e-04 - val_loss: 1.2479e-04 - lr: 0.0010\n",
            "Epoch 2/10\n",
            "1568/1568 [==============================] - 13s 9ms/step - loss: 5.2275e-05 - val_loss: 6.9861e-05 - lr: 0.0010\n",
            "Epoch 3/10\n",
            "1568/1568 [==============================] - 13s 9ms/step - loss: 3.3734e-05 - val_loss: 4.4282e-05 - lr: 0.0010\n",
            "Epoch 4/10\n",
            "1568/1568 [==============================] - 12s 8ms/step - loss: 2.2507e-05 - val_loss: 3.6451e-05 - lr: 0.0010\n",
            "Epoch 5/10\n",
            "1568/1568 [==============================] - 12s 8ms/step - loss: 1.5850e-05 - val_loss: 2.0577e-05 - lr: 0.0010\n",
            "Epoch 6/10\n",
            "1568/1568 [==============================] - 13s 8ms/step - loss: 1.3003e-05 - val_loss: 1.1660e-05 - lr: 0.0010\n",
            "Epoch 7/10\n",
            "1568/1568 [==============================] - 13s 8ms/step - loss: 1.0245e-05 - val_loss: 8.1494e-06 - lr: 0.0010\n",
            "Epoch 8/10\n",
            "1568/1568 [==============================] - 13s 8ms/step - loss: 9.0498e-06 - val_loss: 7.7725e-06 - lr: 0.0010\n",
            "Epoch 9/10\n",
            "1568/1568 [==============================] - 13s 8ms/step - loss: 8.2797e-06 - val_loss: 6.9338e-06 - lr: 0.0010\n",
            "Epoch 10/10\n",
            "1568/1568 [==============================] - 13s 8ms/step - loss: 7.8586e-06 - val_loss: 5.6762e-06 - lr: 0.0010\n"
          ]
        },
        {
          "name": "stderr",
          "output_type": "stream",
          "text": [
            "/usr/local/lib/python3.10/dist-packages/keras/src/engine/training.py:3103: UserWarning: You are saving your model as an HDF5 file via `model.save()`. This file format is considered legacy. We recommend using instead the native Keras format, e.g. `model.save('my_model.keras')`.\n",
            "  saving_api.save_model(\n"
          ]
        },
        {
          "name": "stdout",
          "output_type": "stream",
          "text": [
            "245/245 [==============================] - 1s 3ms/step\n",
            "R² Score: 0.5387682270452032\n",
            "Mean Absolute Error (MAE): 0.002185584115361306\n",
            "Mean Squared Error (MSE): 0.00015877047865960102\n",
            "Root Mean Squared Error (RMSE): 0.012600415812964309\n",
            "Training LSTM model with DKCode:  O_O\n"
          ]
        },
        {
          "name": "stderr",
          "output_type": "stream",
          "text": [
            "<ipython-input-20-c435cd77fc11>:12: SettingWithCopyWarning: \n",
            "A value is trying to be set on a copy of a slice from a DataFrame.\n",
            "Try using .loc[row_indexer,col_indexer] = value instead\n",
            "\n",
            "See the caveats in the documentation: https://pandas.pydata.org/pandas-docs/stable/user_guide/indexing.html#returning-a-view-versus-a-copy\n",
            "  df_corr['HourUTC'] = pd.to_datetime(df_corr['HourUTC'])\n",
            "<ipython-input-20-c435cd77fc11>:13: SettingWithCopyWarning: \n",
            "A value is trying to be set on a copy of a slice from a DataFrame.\n",
            "Try using .loc[row_indexer,col_indexer] = value instead\n",
            "\n",
            "See the caveats in the documentation: https://pandas.pydata.org/pandas-docs/stable/user_guide/indexing.html#returning-a-view-versus-a-copy\n",
            "  df_corr['HourDK'] = pd.to_datetime(df_corr['HourDK'])\n"
          ]
        },
        {
          "name": "stdout",
          "output_type": "stream",
          "text": [
            "Epoch 1/10\n",
            "1568/1568 [==============================] - 16s 9ms/step - loss: 0.0097 - val_loss: 0.0029 - lr: 0.0010\n",
            "Epoch 2/10\n",
            "1568/1568 [==============================] - 13s 8ms/step - loss: 0.0035 - val_loss: 0.0014 - lr: 0.0010\n",
            "Epoch 3/10\n",
            "1568/1568 [==============================] - 13s 8ms/step - loss: 0.0022 - val_loss: 0.0011 - lr: 0.0010\n",
            "Epoch 4/10\n",
            "1568/1568 [==============================] - 13s 8ms/step - loss: 0.0017 - val_loss: 0.0010 - lr: 0.0010\n",
            "Epoch 5/10\n",
            "1568/1568 [==============================] - 13s 8ms/step - loss: 0.0014 - val_loss: 9.6571e-04 - lr: 0.0010\n",
            "Epoch 6/10\n",
            "1568/1568 [==============================] - 13s 8ms/step - loss: 0.0012 - val_loss: 6.5114e-04 - lr: 0.0010\n",
            "Epoch 7/10\n",
            "1568/1568 [==============================] - 13s 8ms/step - loss: 0.0012 - val_loss: 7.8723e-04 - lr: 0.0010\n",
            "Epoch 8/10\n",
            "1568/1568 [==============================] - 14s 9ms/step - loss: 0.0011 - val_loss: 6.8691e-04 - lr: 0.0010\n",
            "Epoch 9/10\n",
            "1568/1568 [==============================] - 12s 8ms/step - loss: 0.0010 - val_loss: 5.8783e-04 - lr: 0.0010\n",
            "Epoch 10/10\n",
            "1568/1568 [==============================] - 13s 8ms/step - loss: 9.7644e-04 - val_loss: 8.3928e-04 - lr: 0.0010\n"
          ]
        },
        {
          "name": "stderr",
          "output_type": "stream",
          "text": [
            "/usr/local/lib/python3.10/dist-packages/keras/src/engine/training.py:3103: UserWarning: You are saving your model as an HDF5 file via `model.save()`. This file format is considered legacy. We recommend using instead the native Keras format, e.g. `model.save('my_model.keras')`.\n",
            "  saving_api.save_model(\n"
          ]
        },
        {
          "name": "stdout",
          "output_type": "stream",
          "text": [
            "245/245 [==============================] - 2s 5ms/step\n",
            "R² Score: 0.9702455245448214\n",
            "Mean Absolute Error (MAE): 0.021891538049332505\n",
            "Mean Squared Error (MSE): 0.000869292892846847\n",
            "Root Mean Squared Error (RMSE): 0.029483773382096925\n",
            "Training LSTM model with DKCode:  PR_PR\n"
          ]
        },
        {
          "name": "stderr",
          "output_type": "stream",
          "text": [
            "<ipython-input-20-c435cd77fc11>:12: SettingWithCopyWarning: \n",
            "A value is trying to be set on a copy of a slice from a DataFrame.\n",
            "Try using .loc[row_indexer,col_indexer] = value instead\n",
            "\n",
            "See the caveats in the documentation: https://pandas.pydata.org/pandas-docs/stable/user_guide/indexing.html#returning-a-view-versus-a-copy\n",
            "  df_corr['HourUTC'] = pd.to_datetime(df_corr['HourUTC'])\n",
            "<ipython-input-20-c435cd77fc11>:13: SettingWithCopyWarning: \n",
            "A value is trying to be set on a copy of a slice from a DataFrame.\n",
            "Try using .loc[row_indexer,col_indexer] = value instead\n",
            "\n",
            "See the caveats in the documentation: https://pandas.pydata.org/pandas-docs/stable/user_guide/indexing.html#returning-a-view-versus-a-copy\n",
            "  df_corr['HourDK'] = pd.to_datetime(df_corr['HourDK'])\n"
          ]
        },
        {
          "name": "stdout",
          "output_type": "stream",
          "text": [
            "Epoch 1/10\n",
            "1568/1568 [==============================] - 17s 9ms/step - loss: 0.0049 - val_loss: 0.0018 - lr: 0.0010\n",
            "Epoch 2/10\n",
            "1568/1568 [==============================] - 13s 8ms/step - loss: 0.0018 - val_loss: 0.0016 - lr: 0.0010\n",
            "Epoch 3/10\n",
            "1568/1568 [==============================] - 13s 8ms/step - loss: 0.0012 - val_loss: 0.0011 - lr: 0.0010\n",
            "Epoch 4/10\n",
            "1568/1568 [==============================] - 13s 8ms/step - loss: 8.9405e-04 - val_loss: 5.4450e-04 - lr: 0.0010\n",
            "Epoch 5/10\n",
            "1568/1568 [==============================] - 13s 8ms/step - loss: 6.7443e-04 - val_loss: 4.0028e-04 - lr: 0.0010\n",
            "Epoch 6/10\n",
            "1568/1568 [==============================] - 13s 8ms/step - loss: 5.5943e-04 - val_loss: 3.3686e-04 - lr: 0.0010\n",
            "Epoch 7/10\n",
            "1568/1568 [==============================] - 13s 9ms/step - loss: 5.0043e-04 - val_loss: 2.6192e-04 - lr: 0.0010\n",
            "Epoch 8/10\n",
            "1568/1568 [==============================] - 14s 9ms/step - loss: 4.6352e-04 - val_loss: 4.9120e-04 - lr: 0.0010\n",
            "Epoch 9/10\n",
            "1568/1568 [==============================] - 14s 9ms/step - loss: 4.4707e-04 - val_loss: 2.8315e-04 - lr: 0.0010\n",
            "Epoch 10/10\n",
            "1568/1568 [==============================] - 14s 9ms/step - loss: 4.0790e-04 - val_loss: 2.3137e-04 - lr: 0.0010\n"
          ]
        },
        {
          "name": "stderr",
          "output_type": "stream",
          "text": [
            "/usr/local/lib/python3.10/dist-packages/keras/src/engine/training.py:3103: UserWarning: You are saving your model as an HDF5 file via `model.save()`. This file format is considered legacy. We recommend using instead the native Keras format, e.g. `model.save('my_model.keras')`.\n",
            "  saving_api.save_model(\n"
          ]
        },
        {
          "name": "stdout",
          "output_type": "stream",
          "text": [
            "245/245 [==============================] - 2s 4ms/step\n",
            "R² Score: 0.9782892257911724\n",
            "Mean Absolute Error (MAE): 0.014244386736127313\n",
            "Mean Squared Error (MSE): 0.00039193503389781326\n",
            "Root Mean Squared Error (RMSE): 0.019797349163406027\n",
            "Training LSTM model with DKCode:  P_P\n"
          ]
        },
        {
          "name": "stderr",
          "output_type": "stream",
          "text": [
            "<ipython-input-20-c435cd77fc11>:12: SettingWithCopyWarning: \n",
            "A value is trying to be set on a copy of a slice from a DataFrame.\n",
            "Try using .loc[row_indexer,col_indexer] = value instead\n",
            "\n",
            "See the caveats in the documentation: https://pandas.pydata.org/pandas-docs/stable/user_guide/indexing.html#returning-a-view-versus-a-copy\n",
            "  df_corr['HourUTC'] = pd.to_datetime(df_corr['HourUTC'])\n",
            "<ipython-input-20-c435cd77fc11>:13: SettingWithCopyWarning: \n",
            "A value is trying to be set on a copy of a slice from a DataFrame.\n",
            "Try using .loc[row_indexer,col_indexer] = value instead\n",
            "\n",
            "See the caveats in the documentation: https://pandas.pydata.org/pandas-docs/stable/user_guide/indexing.html#returning-a-view-versus-a-copy\n",
            "  df_corr['HourDK'] = pd.to_datetime(df_corr['HourDK'])\n"
          ]
        },
        {
          "name": "stdout",
          "output_type": "stream",
          "text": [
            "Epoch 1/10\n",
            "1568/1568 [==============================] - 17s 9ms/step - loss: 0.0071 - val_loss: 0.0019 - lr: 0.0010\n",
            "Epoch 2/10\n",
            "1568/1568 [==============================] - 13s 8ms/step - loss: 0.0023 - val_loss: 8.9553e-04 - lr: 0.0010\n",
            "Epoch 3/10\n",
            "1568/1568 [==============================] - 12s 8ms/step - loss: 0.0013 - val_loss: 5.4065e-04 - lr: 0.0010\n",
            "Epoch 4/10\n",
            "1568/1568 [==============================] - 13s 9ms/step - loss: 9.3488e-04 - val_loss: 3.5854e-04 - lr: 0.0010\n",
            "Epoch 5/10\n",
            "1568/1568 [==============================] - 13s 9ms/step - loss: 7.4651e-04 - val_loss: 2.9557e-04 - lr: 0.0010\n",
            "Epoch 6/10\n",
            "1568/1568 [==============================] - 14s 9ms/step - loss: 6.5004e-04 - val_loss: 3.4122e-04 - lr: 0.0010\n",
            "Epoch 7/10\n",
            "1568/1568 [==============================] - 14s 9ms/step - loss: 5.6708e-04 - val_loss: 2.5528e-04 - lr: 0.0010\n",
            "Epoch 8/10\n",
            "1568/1568 [==============================] - 12s 8ms/step - loss: 5.2640e-04 - val_loss: 1.6334e-04 - lr: 0.0010\n",
            "Epoch 9/10\n",
            "1568/1568 [==============================] - 12s 8ms/step - loss: 4.8989e-04 - val_loss: 1.9712e-04 - lr: 0.0010\n",
            "Epoch 10/10\n",
            "1568/1568 [==============================] - 13s 8ms/step - loss: 4.8300e-04 - val_loss: 1.4481e-04 - lr: 0.0010\n"
          ]
        },
        {
          "name": "stderr",
          "output_type": "stream",
          "text": [
            "/usr/local/lib/python3.10/dist-packages/keras/src/engine/training.py:3103: UserWarning: You are saving your model as an HDF5 file via `model.save()`. This file format is considered legacy. We recommend using instead the native Keras format, e.g. `model.save('my_model.keras')`.\n",
            "  saving_api.save_model(\n"
          ]
        },
        {
          "name": "stdout",
          "output_type": "stream",
          "text": [
            "245/245 [==============================] - 1s 3ms/step\n",
            "R² Score: 0.9954003894476599\n",
            "Mean Absolute Error (MAE): 0.009597312819820398\n",
            "Mean Squared Error (MSE): 0.00016892606074732158\n",
            "Root Mean Squared Error (RMSE): 0.012997155871471327\n",
            "Training LSTM model with DKCode:  Q_QA\n"
          ]
        },
        {
          "name": "stderr",
          "output_type": "stream",
          "text": [
            "<ipython-input-20-c435cd77fc11>:12: SettingWithCopyWarning: \n",
            "A value is trying to be set on a copy of a slice from a DataFrame.\n",
            "Try using .loc[row_indexer,col_indexer] = value instead\n",
            "\n",
            "See the caveats in the documentation: https://pandas.pydata.org/pandas-docs/stable/user_guide/indexing.html#returning-a-view-versus-a-copy\n",
            "  df_corr['HourUTC'] = pd.to_datetime(df_corr['HourUTC'])\n",
            "<ipython-input-20-c435cd77fc11>:13: SettingWithCopyWarning: \n",
            "A value is trying to be set on a copy of a slice from a DataFrame.\n",
            "Try using .loc[row_indexer,col_indexer] = value instead\n",
            "\n",
            "See the caveats in the documentation: https://pandas.pydata.org/pandas-docs/stable/user_guide/indexing.html#returning-a-view-versus-a-copy\n",
            "  df_corr['HourDK'] = pd.to_datetime(df_corr['HourDK'])\n"
          ]
        },
        {
          "name": "stdout",
          "output_type": "stream",
          "text": [
            "Epoch 1/10\n",
            "1568/1568 [==============================] - 17s 8ms/step - loss: 0.0095 - val_loss: 0.0036 - lr: 0.0010\n",
            "Epoch 2/10\n",
            "1568/1568 [==============================] - 12s 8ms/step - loss: 0.0032 - val_loss: 0.0019 - lr: 0.0010\n",
            "Epoch 3/10\n",
            "1568/1568 [==============================] - 12s 7ms/step - loss: 0.0020 - val_loss: 7.8136e-04 - lr: 0.0010\n",
            "Epoch 4/10\n",
            "1568/1568 [==============================] - 12s 8ms/step - loss: 0.0014 - val_loss: 8.6036e-04 - lr: 0.0010\n",
            "Epoch 5/10\n",
            "1568/1568 [==============================] - 13s 8ms/step - loss: 0.0012 - val_loss: 4.3830e-04 - lr: 0.0010\n",
            "Epoch 6/10\n",
            "1568/1568 [==============================] - 13s 8ms/step - loss: 0.0011 - val_loss: 4.7702e-04 - lr: 0.0010\n",
            "Epoch 7/10\n",
            "1568/1568 [==============================] - 13s 8ms/step - loss: 9.4496e-04 - val_loss: 2.9930e-04 - lr: 0.0010\n",
            "Epoch 8/10\n",
            "1568/1568 [==============================] - 13s 8ms/step - loss: 8.6545e-04 - val_loss: 2.7004e-04 - lr: 0.0010\n",
            "Epoch 9/10\n",
            "1568/1568 [==============================] - 13s 8ms/step - loss: 8.1242e-04 - val_loss: 5.4394e-04 - lr: 0.0010\n",
            "Epoch 10/10\n",
            "1568/1568 [==============================] - 13s 8ms/step - loss: 7.7875e-04 - val_loss: 3.4947e-04 - lr: 0.0010\n"
          ]
        },
        {
          "name": "stderr",
          "output_type": "stream",
          "text": [
            "/usr/local/lib/python3.10/dist-packages/keras/src/engine/training.py:3103: UserWarning: You are saving your model as an HDF5 file via `model.save()`. This file format is considered legacy. We recommend using instead the native Keras format, e.g. `model.save('my_model.keras')`.\n",
            "  saving_api.save_model(\n"
          ]
        },
        {
          "name": "stdout",
          "output_type": "stream",
          "text": [
            "245/245 [==============================] - 1s 3ms/step\n",
            "R² Score: 0.9940797328336191\n",
            "Mean Absolute Error (MAE): 0.012559631826843281\n",
            "Mean Squared Error (MSE): 0.00035748459928112796\n",
            "Root Mean Squared Error (RMSE): 0.018907263135661066\n",
            "Training LSTM model with DKCode:  Q_QB\n"
          ]
        },
        {
          "name": "stderr",
          "output_type": "stream",
          "text": [
            "<ipython-input-20-c435cd77fc11>:12: SettingWithCopyWarning: \n",
            "A value is trying to be set on a copy of a slice from a DataFrame.\n",
            "Try using .loc[row_indexer,col_indexer] = value instead\n",
            "\n",
            "See the caveats in the documentation: https://pandas.pydata.org/pandas-docs/stable/user_guide/indexing.html#returning-a-view-versus-a-copy\n",
            "  df_corr['HourUTC'] = pd.to_datetime(df_corr['HourUTC'])\n",
            "<ipython-input-20-c435cd77fc11>:13: SettingWithCopyWarning: \n",
            "A value is trying to be set on a copy of a slice from a DataFrame.\n",
            "Try using .loc[row_indexer,col_indexer] = value instead\n",
            "\n",
            "See the caveats in the documentation: https://pandas.pydata.org/pandas-docs/stable/user_guide/indexing.html#returning-a-view-versus-a-copy\n",
            "  df_corr['HourDK'] = pd.to_datetime(df_corr['HourDK'])\n"
          ]
        },
        {
          "name": "stdout",
          "output_type": "stream",
          "text": [
            "Epoch 1/10\n",
            "1568/1568 [==============================] - 18s 9ms/step - loss: 0.0053 - val_loss: 0.0017 - lr: 0.0010\n",
            "Epoch 2/10\n",
            "1568/1568 [==============================] - 12s 8ms/step - loss: 0.0018 - val_loss: 7.1161e-04 - lr: 0.0010\n",
            "Epoch 3/10\n",
            "1568/1568 [==============================] - 12s 8ms/step - loss: 0.0011 - val_loss: 4.6587e-04 - lr: 0.0010\n",
            "Epoch 4/10\n",
            "1568/1568 [==============================] - 13s 8ms/step - loss: 8.2489e-04 - val_loss: 3.6242e-04 - lr: 0.0010\n",
            "Epoch 5/10\n",
            "1568/1568 [==============================] - 13s 8ms/step - loss: 6.5446e-04 - val_loss: 2.5103e-04 - lr: 0.0010\n",
            "Epoch 6/10\n",
            "1568/1568 [==============================] - 13s 8ms/step - loss: 5.5368e-04 - val_loss: 2.3433e-04 - lr: 0.0010\n",
            "Epoch 7/10\n",
            "1568/1568 [==============================] - 13s 8ms/step - loss: 4.8644e-04 - val_loss: 1.8668e-04 - lr: 0.0010\n",
            "Epoch 8/10\n",
            "1568/1568 [==============================] - 13s 8ms/step - loss: 4.5573e-04 - val_loss: 3.1875e-04 - lr: 0.0010\n",
            "Epoch 9/10\n",
            "1568/1568 [==============================] - 13s 8ms/step - loss: 4.3198e-04 - val_loss: 1.7529e-04 - lr: 0.0010\n",
            "Epoch 10/10\n",
            "1568/1568 [==============================] - 13s 8ms/step - loss: 4.1472e-04 - val_loss: 3.0919e-04 - lr: 0.0010\n"
          ]
        },
        {
          "name": "stderr",
          "output_type": "stream",
          "text": [
            "/usr/local/lib/python3.10/dist-packages/keras/src/engine/training.py:3103: UserWarning: You are saving your model as an HDF5 file via `model.save()`. This file format is considered legacy. We recommend using instead the native Keras format, e.g. `model.save('my_model.keras')`.\n",
            "  saving_api.save_model(\n"
          ]
        },
        {
          "name": "stdout",
          "output_type": "stream",
          "text": [
            "245/245 [==============================] - 1s 3ms/step\n",
            "R² Score: 0.9827720142465212\n",
            "Mean Absolute Error (MAE): 0.017548888715166792\n",
            "Mean Squared Error (MSE): 0.0004980027461149487\n",
            "Root Mean Squared Error (RMSE): 0.022315975132513224\n",
            "Training LSTM model with DKCode:  R_R\n"
          ]
        },
        {
          "name": "stderr",
          "output_type": "stream",
          "text": [
            "<ipython-input-20-c435cd77fc11>:12: SettingWithCopyWarning: \n",
            "A value is trying to be set on a copy of a slice from a DataFrame.\n",
            "Try using .loc[row_indexer,col_indexer] = value instead\n",
            "\n",
            "See the caveats in the documentation: https://pandas.pydata.org/pandas-docs/stable/user_guide/indexing.html#returning-a-view-versus-a-copy\n",
            "  df_corr['HourUTC'] = pd.to_datetime(df_corr['HourUTC'])\n",
            "<ipython-input-20-c435cd77fc11>:13: SettingWithCopyWarning: \n",
            "A value is trying to be set on a copy of a slice from a DataFrame.\n",
            "Try using .loc[row_indexer,col_indexer] = value instead\n",
            "\n",
            "See the caveats in the documentation: https://pandas.pydata.org/pandas-docs/stable/user_guide/indexing.html#returning-a-view-versus-a-copy\n",
            "  df_corr['HourDK'] = pd.to_datetime(df_corr['HourDK'])\n"
          ]
        },
        {
          "name": "stdout",
          "output_type": "stream",
          "text": [
            "Epoch 1/10\n",
            "1568/1568 [==============================] - 17s 9ms/step - loss: 0.0084 - val_loss: 0.0029 - lr: 0.0010\n",
            "Epoch 2/10\n",
            "1568/1568 [==============================] - 13s 8ms/step - loss: 0.0030 - val_loss: 0.0012 - lr: 0.0010\n",
            "Epoch 3/10\n",
            "1568/1568 [==============================] - 13s 8ms/step - loss: 0.0015 - val_loss: 6.4762e-04 - lr: 0.0010\n",
            "Epoch 4/10\n",
            "1568/1568 [==============================] - 13s 8ms/step - loss: 9.5822e-04 - val_loss: 4.7504e-04 - lr: 0.0010\n",
            "Epoch 5/10\n",
            "1568/1568 [==============================] - 13s 8ms/step - loss: 7.9565e-04 - val_loss: 3.5429e-04 - lr: 0.0010\n",
            "Epoch 6/10\n",
            "1568/1568 [==============================] - 13s 8ms/step - loss: 6.9104e-04 - val_loss: 3.3072e-04 - lr: 0.0010\n",
            "Epoch 7/10\n",
            "1568/1568 [==============================] - 13s 9ms/step - loss: 6.4990e-04 - val_loss: 2.6937e-04 - lr: 0.0010\n",
            "Epoch 8/10\n",
            "1568/1568 [==============================] - 13s 9ms/step - loss: 6.1061e-04 - val_loss: 2.6852e-04 - lr: 0.0010\n",
            "Epoch 9/10\n",
            "1568/1568 [==============================] - 13s 8ms/step - loss: 5.8953e-04 - val_loss: 2.4430e-04 - lr: 0.0010\n",
            "Epoch 10/10\n",
            "1568/1568 [==============================] - 12s 8ms/step - loss: 5.5744e-04 - val_loss: 2.2095e-04 - lr: 0.0010\n"
          ]
        },
        {
          "name": "stderr",
          "output_type": "stream",
          "text": [
            "/usr/local/lib/python3.10/dist-packages/keras/src/engine/training.py:3103: UserWarning: You are saving your model as an HDF5 file via `model.save()`. This file format is considered legacy. We recommend using instead the native Keras format, e.g. `model.save('my_model.keras')`.\n",
            "  saving_api.save_model(\n"
          ]
        },
        {
          "name": "stdout",
          "output_type": "stream",
          "text": [
            "245/245 [==============================] - 2s 4ms/step\n",
            "R² Score: 0.9917566069023023\n",
            "Mean Absolute Error (MAE): 0.012984516054329038\n",
            "Mean Squared Error (MSE): 0.0002724623923336379\n",
            "Root Mean Squared Error (RMSE): 0.016506434876545507\n",
            "Training LSTM model with DKCode:  S_S\n"
          ]
        },
        {
          "name": "stderr",
          "output_type": "stream",
          "text": [
            "<ipython-input-20-c435cd77fc11>:12: SettingWithCopyWarning: \n",
            "A value is trying to be set on a copy of a slice from a DataFrame.\n",
            "Try using .loc[row_indexer,col_indexer] = value instead\n",
            "\n",
            "See the caveats in the documentation: https://pandas.pydata.org/pandas-docs/stable/user_guide/indexing.html#returning-a-view-versus-a-copy\n",
            "  df_corr['HourUTC'] = pd.to_datetime(df_corr['HourUTC'])\n",
            "<ipython-input-20-c435cd77fc11>:13: SettingWithCopyWarning: \n",
            "A value is trying to be set on a copy of a slice from a DataFrame.\n",
            "Try using .loc[row_indexer,col_indexer] = value instead\n",
            "\n",
            "See the caveats in the documentation: https://pandas.pydata.org/pandas-docs/stable/user_guide/indexing.html#returning-a-view-versus-a-copy\n",
            "  df_corr['HourDK'] = pd.to_datetime(df_corr['HourDK'])\n"
          ]
        },
        {
          "name": "stdout",
          "output_type": "stream",
          "text": [
            "Epoch 1/10\n",
            "1568/1568 [==============================] - 17s 9ms/step - loss: 0.0046 - val_loss: 0.0018 - lr: 0.0010\n",
            "Epoch 2/10\n",
            "1568/1568 [==============================] - 13s 8ms/step - loss: 0.0016 - val_loss: 5.3211e-04 - lr: 0.0010\n",
            "Epoch 3/10\n",
            "1568/1568 [==============================] - 13s 8ms/step - loss: 8.8999e-04 - val_loss: 3.2804e-04 - lr: 0.0010\n",
            "Epoch 4/10\n",
            "1568/1568 [==============================] - 13s 8ms/step - loss: 6.5110e-04 - val_loss: 2.7387e-04 - lr: 0.0010\n",
            "Epoch 5/10\n",
            "1568/1568 [==============================] - 12s 8ms/step - loss: 5.4985e-04 - val_loss: 2.7681e-04 - lr: 0.0010\n",
            "Epoch 6/10\n",
            "1568/1568 [==============================] - 12s 8ms/step - loss: 4.7916e-04 - val_loss: 2.1781e-04 - lr: 0.0010\n",
            "Epoch 7/10\n",
            "1568/1568 [==============================] - 13s 8ms/step - loss: 4.5441e-04 - val_loss: 1.5422e-04 - lr: 0.0010\n",
            "Epoch 8/10\n",
            "1568/1568 [==============================] - 13s 8ms/step - loss: 4.1652e-04 - val_loss: 1.7092e-04 - lr: 0.0010\n",
            "Epoch 9/10\n",
            "1568/1568 [==============================] - 13s 8ms/step - loss: 4.1547e-04 - val_loss: 1.7306e-04 - lr: 0.0010\n",
            "Epoch 10/10\n",
            "1568/1568 [==============================] - 13s 8ms/step - loss: 3.9802e-04 - val_loss: 1.5105e-04 - lr: 0.0010\n"
          ]
        },
        {
          "name": "stderr",
          "output_type": "stream",
          "text": [
            "/usr/local/lib/python3.10/dist-packages/keras/src/engine/training.py:3103: UserWarning: You are saving your model as an HDF5 file via `model.save()`. This file format is considered legacy. We recommend using instead the native Keras format, e.g. `model.save('my_model.keras')`.\n",
            "  saving_api.save_model(\n"
          ]
        },
        {
          "name": "stdout",
          "output_type": "stream",
          "text": [
            "245/245 [==============================] - 1s 3ms/step\n",
            "R² Score: 0.9920413399551986\n",
            "Mean Absolute Error (MAE): 0.010684802334196363\n",
            "Mean Squared Error (MSE): 0.00018080916031186929\n",
            "Root Mean Squared Error (RMSE): 0.013446529675416973\n"
          ]
        }
      ],
      "source": [
        "#all_dkcode_trainings\n",
        "if not os.path.exists(\"../Checkpoints/\"):\n",
        "    os.makedirs(\"../Checkpoints/\")\n",
        "\n",
        "for i in dkcode_list:\n",
        "    if os.path.exists(\"../Checkpoints/\" + i + \"_LSTMmodel.h5\"):\n",
        "        continue\n",
        "    print('Training LSTM model with DKCode: ', i)\n",
        "    df_filter = df[df['DK3619Code'] == i]\n",
        "    df_corr = df_filter[columns]\n",
        "\n",
        "    df_corr['HourUTC'] = pd.to_datetime(df_corr['HourUTC'])\n",
        "    df_corr['HourDK'] = pd.to_datetime(df_corr['HourDK'])\n",
        "\n",
        "    df_corr = df_corr.drop(['HourUTC', 'HourDK'], axis=1)\n",
        "\n",
        "    # Normalize the data\n",
        "    scaler = MinMaxScaler()\n",
        "    scaled_df = scaler.fit_transform(df_corr[['season', 'year', 'month', 'day_of_month', 'hour', 'Consumption_MWh']])\n",
        "\n",
        "    scaled_df = pd.DataFrame(scaled_df, columns=['season', 'year', 'month', 'day_of_month', 'hour', 'Consumption_MWh'])\n",
        "\n",
        "    #create sequence for training\n",
        "    SEQ_LENGTH = 24  # for 24 hours sequence\n",
        "    sequences, labels = create_sequences(scaled_df, SEQ_LENGTH)\n",
        "\n",
        "    # Split the data into training (60%), validation (20%), and test (20%) sets\n",
        "    # Train-Test Split\n",
        "    X_train, X_test, y_train, y_test = train_test_split(sequences, labels, test_size=0.2, shuffle=False)\n",
        "\n",
        "    #LSTM modeling\n",
        "    #SEQ_LENGTH=24 and  X_train.shape[2] = 6\n",
        "    model = Sequential([\n",
        "    LSTM(50, return_sequences=True, input_shape=(SEQ_LENGTH, X_train.shape[2])),\n",
        "    Dropout(0.2),\n",
        "    LSTM(50),\n",
        "    Dropout(0.2),\n",
        "    Dense(1)\n",
        "])\n",
        "\n",
        "    model.compile(optimizer='adam', loss='mean_squared_error')\n",
        "\n",
        "    # Callbacks for early stopping and learning rate reduction\n",
        "    early_stopping = EarlyStopping(monitor='val_loss', patience=10, restore_best_weights=True)\n",
        "    reduce_lr = ReduceLROnPlateau(monitor='val_loss', factor=0.5, patience=5)\n",
        "\n",
        "    # Model Training\n",
        "    history = model.fit(X_train, y_train, epochs=10, batch_size=16, validation_split=0.2, callbacks=[early_stopping, reduce_lr])\n",
        "\n",
        "    model.save(\"../Checkpoints/\" + i + \"_LSTMmodel.h5\")\n",
        "    model = tf.keras.models.load_model(\"../Checkpoints/\" + i + \"_LSTMmodel.h5\")\n",
        "\n",
        "\n",
        "    # Model Evaluation\n",
        "    predictions = model.predict(X_test)\n",
        "\n",
        "    # Calculate evaluation metrics\n",
        "    r2 = r2_score(y_test, predictions)\n",
        "    mae = mean_absolute_error(y_test, predictions)\n",
        "    mse = mean_squared_error(y_test, predictions)\n",
        "    rmse = np.sqrt(mse)\n",
        "\n",
        "    print(f'R² Score: {r2}')\n",
        "    print(f'Mean Absolute Error (MAE): {mae}')\n",
        "    print(f'Mean Squared Error (MSE): {mse}')\n",
        "    print(f'Root Mean Squared Error (RMSE): {rmse}')"
      ]
    },
    {
      "cell_type": "code",
      "execution_count": 17,
      "metadata": {
        "id": "EO_GVguLW2Eq"
      },
      "outputs": [],
      "source": []
    }
  ],
  "metadata": {
    "accelerator": "GPU",
    "colab": {
      "gpuType": "T4",
      "provenance": []
    },
    "kernelspec": {
      "display_name": "Python 3",
      "name": "python3"
    },
    "language_info": {
      "codemirror_mode": {
        "name": "ipython",
        "version": 3
      },
      "file_extension": ".py",
      "mimetype": "text/x-python",
      "name": "python",
      "nbconvert_exporter": "python",
      "pygments_lexer": "ipython3",
      "version": "3.9.19"
    }
  },
  "nbformat": 4,
  "nbformat_minor": 0
}
